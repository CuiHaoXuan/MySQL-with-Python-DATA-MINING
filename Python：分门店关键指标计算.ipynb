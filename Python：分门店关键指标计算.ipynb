{
 "cells": [
  {
   "cell_type": "markdown",
   "metadata": {},
   "source": [
    "**作业题：**\n",
    "1.\t计算2017年4月不同门店的销售额、客流量、客单价\n",
    "2.\t计算2017年4月不同门店的的同比销售额、客流量、客单价\n",
    "3.\t计算2017年4月不同门店的的环比销售额、客流量、客单价"
   ]
  },
  {
   "cell_type": "markdown",
   "metadata": {},
   "source": [
    "**题目说明：**\n",
    "- 销售额 = 售价 乘 销量 = [\"Price\"] 乘 [\"Qty\"]\n",
    "- 客流量 = 订单量（客流量用订单量代替）\n",
    "- 客单价 = 销售额/客流量\n",
    "\n",
    "**业务背景：**\n",
    "- 通过第一节我们已经判断出了17年4月各指标发展情况的好坏，作为数据分析师，不管业务出现好或者坏，都要去追寻为什么？在追寻为什么的时候，就可以结合业务具体去看是因为哪方面的变化，引起了某一段时间内整体指标的变化。\n",
    "\n",
    "- 这一节选择分门店维度去看一下17年4月各指标的变化情况。\n",
    "\n",
    "\n",
    "**计算逻辑说明：**\n",
    "1.\t先把不同门店的数据筛选出来，然后计算不同门店在不同时间的指标情况。"
   ]
  },
  {
   "cell_type": "markdown",
   "metadata": {},
   "source": [
    "# 导入相关库"
   ]
  },
  {
   "cell_type": "code",
   "execution_count": 1,
   "metadata": {
    "ExecuteTime": {
     "end_time": "2019-07-17T13:26:13.580084Z",
     "start_time": "2019-07-17T13:26:10.531150Z"
    }
   },
   "outputs": [],
   "source": [
    "%matplotlib inline\n",
    "import pandas as pd\n",
    "import numpy as np\n",
    "import matplotlib.pyplot as plt\n",
    "from dateutil.parser import parse\n",
    "plt.rcParams[\"font.sans-serif\"]='SimHei'#解决中文乱码\n",
    "plt.rcParams['axes.unicode_minus'] = False#解决负号无法正常显示的问题"
   ]
  },
  {
   "cell_type": "markdown",
   "metadata": {},
   "source": [
    "# 导入数据 "
   ]
  },
  {
   "cell_type": "code",
   "execution_count": 2,
   "metadata": {
    "ExecuteTime": {
     "end_time": "2019-07-17T13:27:24.219271Z",
     "start_time": "2019-07-17T13:27:20.907516Z"
    }
   },
   "outputs": [
    {
     "data": {
      "text/html": [
       "<div>\n",
       "<style scoped>\n",
       "    .dataframe tbody tr th:only-of-type {\n",
       "        vertical-align: middle;\n",
       "    }\n",
       "\n",
       "    .dataframe tbody tr th {\n",
       "        vertical-align: top;\n",
       "    }\n",
       "\n",
       "    .dataframe thead th {\n",
       "        text-align: right;\n",
       "    }\n",
       "</style>\n",
       "<table border=\"1\" class=\"dataframe\">\n",
       "  <thead>\n",
       "    <tr style=\"text-align: right;\">\n",
       "      <th></th>\n",
       "      <th>GoodsID</th>\n",
       "      <th>CateID</th>\n",
       "      <th>Cost</th>\n",
       "      <th>Price</th>\n",
       "      <th>Qty</th>\n",
       "      <th>shopID</th>\n",
       "      <th>SDate</th>\n",
       "      <th>STime</th>\n",
       "      <th>SheetID</th>\n",
       "      <th>CashValue</th>\n",
       "    </tr>\n",
       "  </thead>\n",
       "  <tbody>\n",
       "    <tr>\n",
       "      <th>0</th>\n",
       "      <td>30006206</td>\n",
       "      <td>915000003</td>\n",
       "      <td>20.673643</td>\n",
       "      <td>25.23</td>\n",
       "      <td>0.328</td>\n",
       "      <td>CDLG</td>\n",
       "      <td>20170103</td>\n",
       "      <td>2017-01-03 09:56:55</td>\n",
       "      <td>20170103CDLG000210052759</td>\n",
       "      <td>56.453</td>\n",
       "    </tr>\n",
       "    <tr>\n",
       "      <th>1</th>\n",
       "      <td>30163281</td>\n",
       "      <td>914010000</td>\n",
       "      <td>1.724210</td>\n",
       "      <td>2.00</td>\n",
       "      <td>2.000</td>\n",
       "      <td>CDLG</td>\n",
       "      <td>20170103</td>\n",
       "      <td>2017-01-03 09:56:55</td>\n",
       "      <td>20170103CDLG000210052759</td>\n",
       "      <td>56.453</td>\n",
       "    </tr>\n",
       "    <tr>\n",
       "      <th>2</th>\n",
       "      <td>30200518</td>\n",
       "      <td>922000000</td>\n",
       "      <td>16.344857</td>\n",
       "      <td>19.62</td>\n",
       "      <td>0.230</td>\n",
       "      <td>CDLG</td>\n",
       "      <td>20170103</td>\n",
       "      <td>2017-01-03 09:56:55</td>\n",
       "      <td>20170103CDLG000210052759</td>\n",
       "      <td>56.453</td>\n",
       "    </tr>\n",
       "    <tr>\n",
       "      <th>3</th>\n",
       "      <td>29989105</td>\n",
       "      <td>922000000</td>\n",
       "      <td>1.971475</td>\n",
       "      <td>2.80</td>\n",
       "      <td>2.044</td>\n",
       "      <td>CDLG</td>\n",
       "      <td>20170103</td>\n",
       "      <td>2017-01-03 09:56:55</td>\n",
       "      <td>20170103CDLG000210052759</td>\n",
       "      <td>56.453</td>\n",
       "    </tr>\n",
       "    <tr>\n",
       "      <th>4</th>\n",
       "      <td>30179558</td>\n",
       "      <td>915000100</td>\n",
       "      <td>34.219740</td>\n",
       "      <td>47.41</td>\n",
       "      <td>0.226</td>\n",
       "      <td>CDLG</td>\n",
       "      <td>20170103</td>\n",
       "      <td>2017-01-03 09:56:55</td>\n",
       "      <td>20170103CDLG000210052759</td>\n",
       "      <td>56.453</td>\n",
       "    </tr>\n",
       "  </tbody>\n",
       "</table>\n",
       "</div>"
      ],
      "text/plain": [
       "    GoodsID     CateID       Cost  Price    Qty shopID     SDate  \\\n",
       "0  30006206  915000003  20.673643  25.23  0.328   CDLG  20170103   \n",
       "1  30163281  914010000   1.724210   2.00  2.000   CDLG  20170103   \n",
       "2  30200518  922000000  16.344857  19.62  0.230   CDLG  20170103   \n",
       "3  29989105  922000000   1.971475   2.80  2.044   CDLG  20170103   \n",
       "4  30179558  915000100  34.219740  47.41  0.226   CDLG  20170103   \n",
       "\n",
       "                STime                   SheetID  CashValue  \n",
       "0 2017-01-03 09:56:55  20170103CDLG000210052759     56.453  \n",
       "1 2017-01-03 09:56:55  20170103CDLG000210052759     56.453  \n",
       "2 2017-01-03 09:56:55  20170103CDLG000210052759     56.453  \n",
       "3 2017-01-03 09:56:55  20170103CDLG000210052759     56.453  \n",
       "4 2017-01-03 09:56:55  20170103CDLG000210052759     56.453  "
      ]
     },
     "execution_count": 2,
     "metadata": {},
     "output_type": "execute_result"
    }
   ],
   "source": [
    "data_2017 = pd.read_csv(r\"2017年1月&2017年4月数据.csv\",parse_dates = [\"STime\"])\n",
    "data_2017.head()"
   ]
  },
  {
   "cell_type": "code",
   "execution_count": 3,
   "metadata": {
    "ExecuteTime": {
     "end_time": "2019-07-17T13:27:57.536119Z",
     "start_time": "2019-07-17T13:27:57.083056Z"
    }
   },
   "outputs": [
    {
     "name": "stdout",
     "output_type": "stream",
     "text": [
      "<class 'pandas.core.frame.DataFrame'>\n",
      "RangeIndex: 897232 entries, 0 to 897231\n",
      "Data columns (total 10 columns):\n",
      "GoodsID      897232 non-null int64\n",
      "CateID       897232 non-null int64\n",
      "Cost         896550 non-null float64\n",
      "Price        897232 non-null float64\n",
      "Qty          897232 non-null float64\n",
      "shopID       897232 non-null object\n",
      "SDate        897232 non-null int64\n",
      "STime        897232 non-null datetime64[ns]\n",
      "SheetID      897232 non-null object\n",
      "CashValue    897232 non-null float64\n",
      "dtypes: datetime64[ns](1), float64(4), int64(3), object(2)\n",
      "memory usage: 68.5+ MB\n"
     ]
    }
   ],
   "source": [
    "data_2017.info()"
   ]
  },
  {
   "cell_type": "code",
   "execution_count": 4,
   "metadata": {
    "ExecuteTime": {
     "end_time": "2019-07-17T13:28:24.313794Z",
     "start_time": "2019-07-17T13:28:20.052939Z"
    }
   },
   "outputs": [
    {
     "data": {
      "text/html": [
       "<div>\n",
       "<style scoped>\n",
       "    .dataframe tbody tr th:only-of-type {\n",
       "        vertical-align: middle;\n",
       "    }\n",
       "\n",
       "    .dataframe tbody tr th {\n",
       "        vertical-align: top;\n",
       "    }\n",
       "\n",
       "    .dataframe thead th {\n",
       "        text-align: right;\n",
       "    }\n",
       "</style>\n",
       "<table border=\"1\" class=\"dataframe\">\n",
       "  <thead>\n",
       "    <tr style=\"text-align: right;\">\n",
       "      <th></th>\n",
       "      <th>GoodsID</th>\n",
       "      <th>CateID</th>\n",
       "      <th>Cost</th>\n",
       "      <th>Price</th>\n",
       "      <th>Qty</th>\n",
       "      <th>shopID</th>\n",
       "      <th>SDate</th>\n",
       "      <th>STime</th>\n",
       "      <th>SheetID</th>\n",
       "      <th>CashValue</th>\n",
       "    </tr>\n",
       "  </thead>\n",
       "  <tbody>\n",
       "    <tr>\n",
       "      <th>0</th>\n",
       "      <td>29989301</td>\n",
       "      <td>925090000</td>\n",
       "      <td>17.048322</td>\n",
       "      <td>17.59</td>\n",
       "      <td>0.522</td>\n",
       "      <td>CDLG</td>\n",
       "      <td>20160101</td>\n",
       "      <td>2016-01-01 07:02:01</td>\n",
       "      <td>20160101CDLGP00110000001</td>\n",
       "      <td>44.321</td>\n",
       "    </tr>\n",
       "    <tr>\n",
       "      <th>1</th>\n",
       "      <td>29989287</td>\n",
       "      <td>925090000</td>\n",
       "      <td>0.000000</td>\n",
       "      <td>28.02</td>\n",
       "      <td>0.809</td>\n",
       "      <td>CDLG</td>\n",
       "      <td>20160101</td>\n",
       "      <td>2016-01-01 07:02:01</td>\n",
       "      <td>20160101CDLGP00110000001</td>\n",
       "      <td>44.321</td>\n",
       "    </tr>\n",
       "    <tr>\n",
       "      <th>2</th>\n",
       "      <td>29989302</td>\n",
       "      <td>925090000</td>\n",
       "      <td>26.800070</td>\n",
       "      <td>27.65</td>\n",
       "      <td>0.451</td>\n",
       "      <td>CDLG</td>\n",
       "      <td>20160101</td>\n",
       "      <td>2016-01-01 07:02:01</td>\n",
       "      <td>20160101CDLGP00110000001</td>\n",
       "      <td>44.321</td>\n",
       "    </tr>\n",
       "    <tr>\n",
       "      <th>3</th>\n",
       "      <td>30144186</td>\n",
       "      <td>912060303</td>\n",
       "      <td>49.620000</td>\n",
       "      <td>49.62</td>\n",
       "      <td>0.318</td>\n",
       "      <td>CDLG</td>\n",
       "      <td>20160101</td>\n",
       "      <td>2016-01-01 07:03:14</td>\n",
       "      <td>20160101CDLGP00110000002</td>\n",
       "      <td>15.779</td>\n",
       "    </tr>\n",
       "    <tr>\n",
       "      <th>4</th>\n",
       "      <td>29989073</td>\n",
       "      <td>922000201</td>\n",
       "      <td>2.314974</td>\n",
       "      <td>3.61</td>\n",
       "      <td>0.326</td>\n",
       "      <td>CDLG</td>\n",
       "      <td>20160101</td>\n",
       "      <td>2016-01-01 07:04:05</td>\n",
       "      <td>20160101CDLGP00110000003</td>\n",
       "      <td>4.715</td>\n",
       "    </tr>\n",
       "  </tbody>\n",
       "</table>\n",
       "</div>"
      ],
      "text/plain": [
       "    GoodsID     CateID       Cost  Price    Qty shopID     SDate  \\\n",
       "0  29989301  925090000  17.048322  17.59  0.522   CDLG  20160101   \n",
       "1  29989287  925090000   0.000000  28.02  0.809   CDLG  20160101   \n",
       "2  29989302  925090000  26.800070  27.65  0.451   CDLG  20160101   \n",
       "3  30144186  912060303  49.620000  49.62  0.318   CDLG  20160101   \n",
       "4  29989073  922000201   2.314974   3.61  0.326   CDLG  20160101   \n",
       "\n",
       "                STime                   SheetID  CashValue  \n",
       "0 2016-01-01 07:02:01  20160101CDLGP00110000001     44.321  \n",
       "1 2016-01-01 07:02:01  20160101CDLGP00110000001     44.321  \n",
       "2 2016-01-01 07:02:01  20160101CDLGP00110000001     44.321  \n",
       "3 2016-01-01 07:03:14  20160101CDLGP00110000002     15.779  \n",
       "4 2016-01-01 07:04:05  20160101CDLGP00110000003      4.715  "
      ]
     },
     "execution_count": 4,
     "metadata": {},
     "output_type": "execute_result"
    }
   ],
   "source": [
    "data_2016 = pd.read_csv(r\"2016年1月&20164月数据.csv\",parse_dates = [\"STime\"])\n",
    "data_2016.head()"
   ]
  },
  {
   "cell_type": "code",
   "execution_count": 5,
   "metadata": {
    "ExecuteTime": {
     "end_time": "2019-07-17T13:28:27.154650Z",
     "start_time": "2019-07-17T13:28:26.666296Z"
    }
   },
   "outputs": [
    {
     "name": "stdout",
     "output_type": "stream",
     "text": [
      "<class 'pandas.core.frame.DataFrame'>\n",
      "RangeIndex: 1116447 entries, 0 to 1116446\n",
      "Data columns (total 10 columns):\n",
      "GoodsID      1116447 non-null int64\n",
      "CateID       1116447 non-null int64\n",
      "Cost         1114288 non-null float64\n",
      "Price        1116447 non-null float64\n",
      "Qty          1116447 non-null float64\n",
      "shopID       1116447 non-null object\n",
      "SDate        1116447 non-null int64\n",
      "STime        1116447 non-null datetime64[ns]\n",
      "SheetID      1116447 non-null object\n",
      "CashValue    1116447 non-null float64\n",
      "dtypes: datetime64[ns](1), float64(4), int64(3), object(2)\n",
      "memory usage: 85.2+ MB\n"
     ]
    }
   ],
   "source": [
    "data_2016.info()"
   ]
  },
  {
   "cell_type": "code",
   "execution_count": 6,
   "metadata": {
    "ExecuteTime": {
     "end_time": "2019-07-17T13:28:28.607383Z",
     "start_time": "2019-07-17T13:28:27.248359Z"
    }
   },
   "outputs": [
    {
     "data": {
      "text/plain": [
       "(1067302, 10)"
      ]
     },
     "execution_count": 6,
     "metadata": {},
     "output_type": "execute_result"
    }
   ],
   "source": [
    "data_2016.drop_duplicates().shape"
   ]
  },
  {
   "cell_type": "code",
   "execution_count": 7,
   "metadata": {
    "ExecuteTime": {
     "end_time": "2019-07-17T13:28:29.821883Z",
     "start_time": "2019-07-17T13:28:28.692071Z"
    }
   },
   "outputs": [
    {
     "data": {
      "text/plain": [
       "(855620, 10)"
      ]
     },
     "execution_count": 7,
     "metadata": {},
     "output_type": "execute_result"
    }
   ],
   "source": [
    "data_2017.drop_duplicates().shape"
   ]
  },
  {
   "cell_type": "code",
   "execution_count": 8,
   "metadata": {
    "ExecuteTime": {
     "end_time": "2019-07-17T13:28:32.165174Z",
     "start_time": "2019-07-17T13:28:29.900031Z"
    }
   },
   "outputs": [],
   "source": [
    "data_2016 = data_2016.drop_duplicates()\n",
    "data_2017 = data_2017.drop_duplicates()"
   ]
  },
  {
   "cell_type": "code",
   "execution_count": 9,
   "metadata": {
    "ExecuteTime": {
     "end_time": "2019-07-17T13:28:32.258812Z",
     "start_time": "2019-07-17T13:28:32.243235Z"
    }
   },
   "outputs": [
    {
     "data": {
      "text/plain": [
       "(1067302, 10)"
      ]
     },
     "execution_count": 9,
     "metadata": {},
     "output_type": "execute_result"
    }
   ],
   "source": [
    "data_2016.shape"
   ]
  },
  {
   "cell_type": "code",
   "execution_count": 10,
   "metadata": {
    "ExecuteTime": {
     "end_time": "2019-07-17T13:28:32.368167Z",
     "start_time": "2019-07-17T13:28:32.336919Z"
    }
   },
   "outputs": [
    {
     "data": {
      "text/plain": [
       "(855620, 10)"
      ]
     },
     "execution_count": 10,
     "metadata": {},
     "output_type": "execute_result"
    }
   ],
   "source": [
    "data_2017.shape"
   ]
  },
  {
   "cell_type": "markdown",
   "metadata": {},
   "source": [
    "# 数据预处理"
   ]
  },
  {
   "cell_type": "code",
   "execution_count": 11,
   "metadata": {
    "ExecuteTime": {
     "end_time": "2019-07-17T13:30:24.139765Z",
     "start_time": "2019-07-17T13:28:32.977397Z"
    }
   },
   "outputs": [],
   "source": [
    "data_2016[\"date\"] = [parse(str(time)) for time in data_2016[\"SDate\"]]\n",
    "data_2017[\"date\"] = [parse(str(time)) for time in data_2017[\"SDate\"]]"
   ]
  },
  {
   "cell_type": "code",
   "execution_count": 12,
   "metadata": {
    "ExecuteTime": {
     "end_time": "2019-07-17T13:30:31.572942Z",
     "start_time": "2019-07-17T13:30:24.233453Z"
    }
   },
   "outputs": [],
   "source": [
    "data_2016[\"月份\"] = [time.month for time in data_2016[\"date\"]]\n",
    "data_2017[\"月份\"] = [time.month for time in data_2017[\"date\"]]"
   ]
  },
  {
   "cell_type": "code",
   "execution_count": 13,
   "metadata": {
    "ExecuteTime": {
     "end_time": "2019-07-17T13:30:31.713530Z",
     "start_time": "2019-07-17T13:30:31.666670Z"
    }
   },
   "outputs": [
    {
     "data": {
      "text/plain": [
       "array([1, 4], dtype=int64)"
      ]
     },
     "execution_count": 13,
     "metadata": {},
     "output_type": "execute_result"
    }
   ],
   "source": [
    "data_2017[\"月份\"].unique()"
   ]
  },
  {
   "cell_type": "code",
   "execution_count": 14,
   "metadata": {
    "ExecuteTime": {
     "end_time": "2019-07-17T13:30:31.838502Z",
     "start_time": "2019-07-17T13:30:31.807259Z"
    }
   },
   "outputs": [
    {
     "data": {
      "text/plain": [
       "array([1, 4], dtype=int64)"
      ]
     },
     "execution_count": 14,
     "metadata": {},
     "output_type": "execute_result"
    }
   ],
   "source": [
    "data_2016[\"月份\"].unique()"
   ]
  },
  {
   "cell_type": "markdown",
   "metadata": {},
   "source": [
    "# 报表制作"
   ]
  },
  {
   "cell_type": "code",
   "execution_count": 15,
   "metadata": {
    "ExecuteTime": {
     "end_time": "2019-07-17T13:30:32.041580Z",
     "start_time": "2019-07-17T13:30:31.932236Z"
    }
   },
   "outputs": [],
   "source": [
    "data_2017[\"sale_sum\"] = data_2017[\"Price\"] * data_2017[\"Qty\"]\n",
    "data_2016[\"sale_sum\"] = data_2016[\"Price\"] * data_2016[\"Qty\"]"
   ]
  },
  {
   "cell_type": "markdown",
   "metadata": {},
   "source": [
    "## 本月累计数据计算 "
   ]
  },
  {
   "cell_type": "code",
   "execution_count": 16,
   "metadata": {
    "ExecuteTime": {
     "end_time": "2019-07-17T13:30:32.385249Z",
     "start_time": "2019-07-17T13:30:32.150927Z"
    }
   },
   "outputs": [
    {
     "data": {
      "text/html": [
       "<div>\n",
       "<style scoped>\n",
       "    .dataframe tbody tr th:only-of-type {\n",
       "        vertical-align: middle;\n",
       "    }\n",
       "\n",
       "    .dataframe tbody tr th {\n",
       "        vertical-align: top;\n",
       "    }\n",
       "\n",
       "    .dataframe thead th {\n",
       "        text-align: right;\n",
       "    }\n",
       "</style>\n",
       "<table border=\"1\" class=\"dataframe\">\n",
       "  <thead>\n",
       "    <tr style=\"text-align: right;\">\n",
       "      <th></th>\n",
       "      <th>GoodsID</th>\n",
       "      <th>CateID</th>\n",
       "      <th>Cost</th>\n",
       "      <th>Price</th>\n",
       "      <th>Qty</th>\n",
       "      <th>shopID</th>\n",
       "      <th>SDate</th>\n",
       "      <th>STime</th>\n",
       "      <th>SheetID</th>\n",
       "      <th>CashValue</th>\n",
       "      <th>date</th>\n",
       "      <th>月份</th>\n",
       "      <th>sale_sum</th>\n",
       "    </tr>\n",
       "  </thead>\n",
       "  <tbody>\n",
       "    <tr>\n",
       "      <th>493644</th>\n",
       "      <td>30089347</td>\n",
       "      <td>910030000</td>\n",
       "      <td>2.370000</td>\n",
       "      <td>2.62</td>\n",
       "      <td>7.000</td>\n",
       "      <td>CDLG</td>\n",
       "      <td>20170405</td>\n",
       "      <td>2017-04-05 18:20:35</td>\n",
       "      <td>20170405CDLG000310112461</td>\n",
       "      <td>18.340</td>\n",
       "      <td>2017-04-05</td>\n",
       "      <td>4</td>\n",
       "      <td>18.34000</td>\n",
       "    </tr>\n",
       "    <tr>\n",
       "      <th>493645</th>\n",
       "      <td>30020269</td>\n",
       "      <td>923000101</td>\n",
       "      <td>7.636254</td>\n",
       "      <td>10.80</td>\n",
       "      <td>1.064</td>\n",
       "      <td>CDLG</td>\n",
       "      <td>20170405</td>\n",
       "      <td>2017-04-05 18:20:57</td>\n",
       "      <td>20170405CDLG000310112462</td>\n",
       "      <td>11.496</td>\n",
       "      <td>2017-04-05</td>\n",
       "      <td>4</td>\n",
       "      <td>11.49120</td>\n",
       "    </tr>\n",
       "    <tr>\n",
       "      <th>493646</th>\n",
       "      <td>30006266</td>\n",
       "      <td>914100000</td>\n",
       "      <td>9.020000</td>\n",
       "      <td>9.12</td>\n",
       "      <td>1.000</td>\n",
       "      <td>CDLG</td>\n",
       "      <td>20170405</td>\n",
       "      <td>2017-04-05 18:21:43</td>\n",
       "      <td>20170405CDLG000310112463</td>\n",
       "      <td>35.200</td>\n",
       "      <td>2017-04-05</td>\n",
       "      <td>4</td>\n",
       "      <td>9.12000</td>\n",
       "    </tr>\n",
       "    <tr>\n",
       "      <th>493647</th>\n",
       "      <td>30166320</td>\n",
       "      <td>936010000</td>\n",
       "      <td>5.208750</td>\n",
       "      <td>6.52</td>\n",
       "      <td>1.000</td>\n",
       "      <td>CDLG</td>\n",
       "      <td>20170405</td>\n",
       "      <td>2017-04-05 18:21:43</td>\n",
       "      <td>20170405CDLG000310112463</td>\n",
       "      <td>35.200</td>\n",
       "      <td>2017-04-05</td>\n",
       "      <td>4</td>\n",
       "      <td>6.52000</td>\n",
       "    </tr>\n",
       "    <tr>\n",
       "      <th>493651</th>\n",
       "      <td>29989058</td>\n",
       "      <td>922000001</td>\n",
       "      <td>0.525031</td>\n",
       "      <td>0.58</td>\n",
       "      <td>2.414</td>\n",
       "      <td>CDLG</td>\n",
       "      <td>20170405</td>\n",
       "      <td>2017-04-05 18:22:22</td>\n",
       "      <td>20170405CDLG000310112464</td>\n",
       "      <td>47.322</td>\n",
       "      <td>2017-04-05</td>\n",
       "      <td>4</td>\n",
       "      <td>1.40012</td>\n",
       "    </tr>\n",
       "  </tbody>\n",
       "</table>\n",
       "</div>"
      ],
      "text/plain": [
       "         GoodsID     CateID      Cost  Price    Qty shopID     SDate  \\\n",
       "493644  30089347  910030000  2.370000   2.62  7.000   CDLG  20170405   \n",
       "493645  30020269  923000101  7.636254  10.80  1.064   CDLG  20170405   \n",
       "493646  30006266  914100000  9.020000   9.12  1.000   CDLG  20170405   \n",
       "493647  30166320  936010000  5.208750   6.52  1.000   CDLG  20170405   \n",
       "493651  29989058  922000001  0.525031   0.58  2.414   CDLG  20170405   \n",
       "\n",
       "                     STime                   SheetID  CashValue       date  \\\n",
       "493644 2017-04-05 18:20:35  20170405CDLG000310112461     18.340 2017-04-05   \n",
       "493645 2017-04-05 18:20:57  20170405CDLG000310112462     11.496 2017-04-05   \n",
       "493646 2017-04-05 18:21:43  20170405CDLG000310112463     35.200 2017-04-05   \n",
       "493647 2017-04-05 18:21:43  20170405CDLG000310112463     35.200 2017-04-05   \n",
       "493651 2017-04-05 18:22:22  20170405CDLG000310112464     47.322 2017-04-05   \n",
       "\n",
       "        月份  sale_sum  \n",
       "493644   4  18.34000  \n",
       "493645   4  11.49120  \n",
       "493646   4   9.12000  \n",
       "493647   4   6.52000  \n",
       "493651   4   1.40012  "
      ]
     },
     "execution_count": 16,
     "metadata": {},
     "output_type": "execute_result"
    }
   ],
   "source": [
    "April_data = data_2017[data_2017[\"date\"]>=parse(\"2017-04-01\")]\n",
    "April_data.head()"
   ]
  },
  {
   "cell_type": "code",
   "execution_count": 24,
   "metadata": {
    "ExecuteTime": {
     "end_time": "2019-07-17T13:31:37.893178Z",
     "start_time": "2019-07-17T13:31:37.824126Z"
    }
   },
   "outputs": [
    {
     "data": {
      "text/plain": [
       "shopID\n",
       "CDLG    1.310529e+06\n",
       "WDGC    1.730667e+06\n",
       "Name: sale_sum, dtype: float64"
      ]
     },
     "execution_count": 24,
     "metadata": {},
     "output_type": "execute_result"
    }
   ],
   "source": [
    "#四月分门店累计销售额\n",
    "sale_sum = April_data.groupby([\"shopID\"])[\"sale_sum\"].sum()\n",
    "sale_sum"
   ]
  },
  {
   "cell_type": "code",
   "execution_count": 25,
   "metadata": {
    "ExecuteTime": {
     "end_time": "2019-07-17T13:31:38.513693Z",
     "start_time": "2019-07-17T13:31:38.413459Z"
    }
   },
   "outputs": [
    {
     "data": {
      "text/plain": [
       "shopID\n",
       "CDLG    162087\n",
       "WDGC    223868\n",
       "Name: SheetID, dtype: int64"
      ]
     },
     "execution_count": 25,
     "metadata": {},
     "output_type": "execute_result"
    }
   ],
   "source": [
    "#四月分门店累计客流\n",
    "traffic_sum = April_data.groupby([\"shopID\"])[\"SheetID\"].count()\n",
    "traffic_sum"
   ]
  },
  {
   "cell_type": "code",
   "execution_count": 26,
   "metadata": {
    "ExecuteTime": {
     "end_time": "2019-07-17T13:31:39.147018Z",
     "start_time": "2019-07-17T13:31:38.931047Z"
    }
   },
   "outputs": [
    {
     "data": {
      "text/plain": [
       "shopID\n",
       "CDLG    8.085341\n",
       "WDGC    7.730746\n",
       "dtype: float64"
      ]
     },
     "execution_count": 26,
     "metadata": {},
     "output_type": "execute_result"
    }
   ],
   "source": [
    "#四月分门店累计客单价\n",
    "Customer_price = sale_sum/traffic_sum\n",
    "Customer_price"
   ]
  },
  {
   "cell_type": "markdown",
   "metadata": {},
   "source": [
    "## 上月同期计算"
   ]
  },
  {
   "cell_type": "code",
   "execution_count": 27,
   "metadata": {
    "ExecuteTime": {
     "end_time": "2019-07-17T13:31:41.771045Z",
     "start_time": "2019-07-17T13:31:41.639565Z"
    }
   },
   "outputs": [
    {
     "data": {
      "text/html": [
       "<div>\n",
       "<style scoped>\n",
       "    .dataframe tbody tr th:only-of-type {\n",
       "        vertical-align: middle;\n",
       "    }\n",
       "\n",
       "    .dataframe tbody tr th {\n",
       "        vertical-align: top;\n",
       "    }\n",
       "\n",
       "    .dataframe thead th {\n",
       "        text-align: right;\n",
       "    }\n",
       "</style>\n",
       "<table border=\"1\" class=\"dataframe\">\n",
       "  <thead>\n",
       "    <tr style=\"text-align: right;\">\n",
       "      <th></th>\n",
       "      <th>GoodsID</th>\n",
       "      <th>CateID</th>\n",
       "      <th>Cost</th>\n",
       "      <th>Price</th>\n",
       "      <th>Qty</th>\n",
       "      <th>shopID</th>\n",
       "      <th>SDate</th>\n",
       "      <th>STime</th>\n",
       "      <th>SheetID</th>\n",
       "      <th>CashValue</th>\n",
       "      <th>date</th>\n",
       "      <th>月份</th>\n",
       "      <th>sale_sum</th>\n",
       "    </tr>\n",
       "  </thead>\n",
       "  <tbody>\n",
       "    <tr>\n",
       "      <th>0</th>\n",
       "      <td>30006206</td>\n",
       "      <td>915000003</td>\n",
       "      <td>20.673643</td>\n",
       "      <td>25.23</td>\n",
       "      <td>0.328</td>\n",
       "      <td>CDLG</td>\n",
       "      <td>20170103</td>\n",
       "      <td>2017-01-03 09:56:55</td>\n",
       "      <td>20170103CDLG000210052759</td>\n",
       "      <td>56.453</td>\n",
       "      <td>2017-01-03</td>\n",
       "      <td>1</td>\n",
       "      <td>8.27544</td>\n",
       "    </tr>\n",
       "    <tr>\n",
       "      <th>1</th>\n",
       "      <td>30163281</td>\n",
       "      <td>914010000</td>\n",
       "      <td>1.724210</td>\n",
       "      <td>2.00</td>\n",
       "      <td>2.000</td>\n",
       "      <td>CDLG</td>\n",
       "      <td>20170103</td>\n",
       "      <td>2017-01-03 09:56:55</td>\n",
       "      <td>20170103CDLG000210052759</td>\n",
       "      <td>56.453</td>\n",
       "      <td>2017-01-03</td>\n",
       "      <td>1</td>\n",
       "      <td>4.00000</td>\n",
       "    </tr>\n",
       "    <tr>\n",
       "      <th>2</th>\n",
       "      <td>30200518</td>\n",
       "      <td>922000000</td>\n",
       "      <td>16.344857</td>\n",
       "      <td>19.62</td>\n",
       "      <td>0.230</td>\n",
       "      <td>CDLG</td>\n",
       "      <td>20170103</td>\n",
       "      <td>2017-01-03 09:56:55</td>\n",
       "      <td>20170103CDLG000210052759</td>\n",
       "      <td>56.453</td>\n",
       "      <td>2017-01-03</td>\n",
       "      <td>1</td>\n",
       "      <td>4.51260</td>\n",
       "    </tr>\n",
       "    <tr>\n",
       "      <th>3</th>\n",
       "      <td>29989105</td>\n",
       "      <td>922000000</td>\n",
       "      <td>1.971475</td>\n",
       "      <td>2.80</td>\n",
       "      <td>2.044</td>\n",
       "      <td>CDLG</td>\n",
       "      <td>20170103</td>\n",
       "      <td>2017-01-03 09:56:55</td>\n",
       "      <td>20170103CDLG000210052759</td>\n",
       "      <td>56.453</td>\n",
       "      <td>2017-01-03</td>\n",
       "      <td>1</td>\n",
       "      <td>5.72320</td>\n",
       "    </tr>\n",
       "    <tr>\n",
       "      <th>4</th>\n",
       "      <td>30179558</td>\n",
       "      <td>915000100</td>\n",
       "      <td>34.219740</td>\n",
       "      <td>47.41</td>\n",
       "      <td>0.226</td>\n",
       "      <td>CDLG</td>\n",
       "      <td>20170103</td>\n",
       "      <td>2017-01-03 09:56:55</td>\n",
       "      <td>20170103CDLG000210052759</td>\n",
       "      <td>56.453</td>\n",
       "      <td>2017-01-03</td>\n",
       "      <td>1</td>\n",
       "      <td>10.71466</td>\n",
       "    </tr>\n",
       "  </tbody>\n",
       "</table>\n",
       "</div>"
      ],
      "text/plain": [
       "    GoodsID     CateID       Cost  Price    Qty shopID     SDate  \\\n",
       "0  30006206  915000003  20.673643  25.23  0.328   CDLG  20170103   \n",
       "1  30163281  914010000   1.724210   2.00  2.000   CDLG  20170103   \n",
       "2  30200518  922000000  16.344857  19.62  0.230   CDLG  20170103   \n",
       "3  29989105  922000000   1.971475   2.80  2.044   CDLG  20170103   \n",
       "4  30179558  915000100  34.219740  47.41  0.226   CDLG  20170103   \n",
       "\n",
       "                STime                   SheetID  CashValue       date  月份  \\\n",
       "0 2017-01-03 09:56:55  20170103CDLG000210052759     56.453 2017-01-03   1   \n",
       "1 2017-01-03 09:56:55  20170103CDLG000210052759     56.453 2017-01-03   1   \n",
       "2 2017-01-03 09:56:55  20170103CDLG000210052759     56.453 2017-01-03   1   \n",
       "3 2017-01-03 09:56:55  20170103CDLG000210052759     56.453 2017-01-03   1   \n",
       "4 2017-01-03 09:56:55  20170103CDLG000210052759     56.453 2017-01-03   1   \n",
       "\n",
       "   sale_sum  \n",
       "0   8.27544  \n",
       "1   4.00000  \n",
       "2   4.51260  \n",
       "3   5.72320  \n",
       "4  10.71466  "
      ]
     },
     "execution_count": 27,
     "metadata": {},
     "output_type": "execute_result"
    }
   ],
   "source": [
    "March_data = data_2017[(data_2017[\"date\"]>=parse(\"2017-01-01\"))&(data_2017[\"date\"]<=parse(\"2017-01-31\"))]\n",
    "March_data.head()"
   ]
  },
  {
   "cell_type": "code",
   "execution_count": 28,
   "metadata": {
    "ExecuteTime": {
     "end_time": "2019-07-17T13:31:42.425648Z",
     "start_time": "2019-07-17T13:31:42.341045Z"
    }
   },
   "outputs": [
    {
     "data": {
      "text/plain": [
       "shopID\n",
       "CDLG    1.874604e+06\n",
       "WDGC    2.800292e+06\n",
       "Name: sale_sum, dtype: float64"
      ]
     },
     "execution_count": 28,
     "metadata": {},
     "output_type": "execute_result"
    }
   ],
   "source": [
    "#一月分门店累计销售额\n",
    "sale_sum_1 = March_data.groupby([\"shopID\"])[\"sale_sum\"].sum()\n",
    "sale_sum_1"
   ]
  },
  {
   "cell_type": "code",
   "execution_count": 29,
   "metadata": {
    "ExecuteTime": {
     "end_time": "2019-07-17T13:31:42.895410Z",
     "start_time": "2019-07-17T13:31:42.795112Z"
    }
   },
   "outputs": [
    {
     "data": {
      "text/plain": [
       "shopID\n",
       "CDLG    192636\n",
       "WDGC    277029\n",
       "Name: SheetID, dtype: int64"
      ]
     },
     "execution_count": 29,
     "metadata": {},
     "output_type": "execute_result"
    }
   ],
   "source": [
    "#一月分门店累计客流用订单量代替\n",
    "traffic_sum_1 = March_data.groupby([\"shopID\"])[\"SheetID\"].count()\n",
    "traffic_sum_1"
   ]
  },
  {
   "cell_type": "code",
   "execution_count": 30,
   "metadata": {
    "ExecuteTime": {
     "end_time": "2019-07-17T13:31:43.496426Z",
     "start_time": "2019-07-17T13:31:43.474288Z"
    }
   },
   "outputs": [
    {
     "data": {
      "text/plain": [
       "shopID\n",
       "CDLG     9.731327\n",
       "WDGC    10.108299\n",
       "dtype: float64"
      ]
     },
     "execution_count": 30,
     "metadata": {},
     "output_type": "execute_result"
    }
   ],
   "source": [
    "#一月分门店累计客单价\n",
    "Customer_price_1 = sale_sum_1/traffic_sum_1\n",
    "Customer_price_1"
   ]
  },
  {
   "cell_type": "markdown",
   "metadata": {},
   "source": [
    "## 去年同期计算 "
   ]
  },
  {
   "cell_type": "code",
   "execution_count": 31,
   "metadata": {
    "ExecuteTime": {
     "end_time": "2019-07-17T13:31:45.061912Z",
     "start_time": "2019-07-17T13:31:44.776676Z"
    }
   },
   "outputs": [
    {
     "data": {
      "text/html": [
       "<div>\n",
       "<style scoped>\n",
       "    .dataframe tbody tr th:only-of-type {\n",
       "        vertical-align: middle;\n",
       "    }\n",
       "\n",
       "    .dataframe tbody tr th {\n",
       "        vertical-align: top;\n",
       "    }\n",
       "\n",
       "    .dataframe thead th {\n",
       "        text-align: right;\n",
       "    }\n",
       "</style>\n",
       "<table border=\"1\" class=\"dataframe\">\n",
       "  <thead>\n",
       "    <tr style=\"text-align: right;\">\n",
       "      <th></th>\n",
       "      <th>GoodsID</th>\n",
       "      <th>CateID</th>\n",
       "      <th>Cost</th>\n",
       "      <th>Price</th>\n",
       "      <th>Qty</th>\n",
       "      <th>shopID</th>\n",
       "      <th>SDate</th>\n",
       "      <th>STime</th>\n",
       "      <th>SheetID</th>\n",
       "      <th>CashValue</th>\n",
       "      <th>date</th>\n",
       "      <th>月份</th>\n",
       "      <th>sale_sum</th>\n",
       "    </tr>\n",
       "  </thead>\n",
       "  <tbody>\n",
       "    <tr>\n",
       "      <th>470587</th>\n",
       "      <td>29989076</td>\n",
       "      <td>922000201</td>\n",
       "      <td>5.071292</td>\n",
       "      <td>5.61</td>\n",
       "      <td>0.551</td>\n",
       "      <td>CDLG</td>\n",
       "      <td>20160401</td>\n",
       "      <td>2016-04-01 07:27:53</td>\n",
       "      <td>20160401CDLGP00110000001</td>\n",
       "      <td>39.249</td>\n",
       "      <td>2016-04-01</td>\n",
       "      <td>4</td>\n",
       "      <td>3.09111</td>\n",
       "    </tr>\n",
       "    <tr>\n",
       "      <th>470588</th>\n",
       "      <td>29989099</td>\n",
       "      <td>922000201</td>\n",
       "      <td>5.020101</td>\n",
       "      <td>6.21</td>\n",
       "      <td>0.334</td>\n",
       "      <td>CDLG</td>\n",
       "      <td>20160401</td>\n",
       "      <td>2016-04-01 07:27:53</td>\n",
       "      <td>20160401CDLGP00110000001</td>\n",
       "      <td>39.249</td>\n",
       "      <td>2016-04-01</td>\n",
       "      <td>4</td>\n",
       "      <td>2.07414</td>\n",
       "    </tr>\n",
       "    <tr>\n",
       "      <th>470589</th>\n",
       "      <td>29989058</td>\n",
       "      <td>922000201</td>\n",
       "      <td>2.706399</td>\n",
       "      <td>3.60</td>\n",
       "      <td>1.256</td>\n",
       "      <td>CDLG</td>\n",
       "      <td>20160401</td>\n",
       "      <td>2016-04-01 07:27:53</td>\n",
       "      <td>20160401CDLGP00110000001</td>\n",
       "      <td>39.249</td>\n",
       "      <td>2016-04-01</td>\n",
       "      <td>4</td>\n",
       "      <td>4.52160</td>\n",
       "    </tr>\n",
       "    <tr>\n",
       "      <th>470590</th>\n",
       "      <td>30023041</td>\n",
       "      <td>923000006</td>\n",
       "      <td>3.322512</td>\n",
       "      <td>3.60</td>\n",
       "      <td>1.306</td>\n",
       "      <td>CDLG</td>\n",
       "      <td>20160401</td>\n",
       "      <td>2016-04-01 07:27:53</td>\n",
       "      <td>20160401CDLGP00110000001</td>\n",
       "      <td>39.249</td>\n",
       "      <td>2016-04-01</td>\n",
       "      <td>4</td>\n",
       "      <td>4.70160</td>\n",
       "    </tr>\n",
       "    <tr>\n",
       "      <th>470591</th>\n",
       "      <td>30151329</td>\n",
       "      <td>924000000</td>\n",
       "      <td>0.960027</td>\n",
       "      <td>1.00</td>\n",
       "      <td>14.600</td>\n",
       "      <td>CDLG</td>\n",
       "      <td>20160401</td>\n",
       "      <td>2016-04-01 07:27:53</td>\n",
       "      <td>20160401CDLGP00110000001</td>\n",
       "      <td>39.249</td>\n",
       "      <td>2016-04-01</td>\n",
       "      <td>4</td>\n",
       "      <td>14.60000</td>\n",
       "    </tr>\n",
       "  </tbody>\n",
       "</table>\n",
       "</div>"
      ],
      "text/plain": [
       "         GoodsID     CateID      Cost  Price     Qty shopID     SDate  \\\n",
       "470587  29989076  922000201  5.071292   5.61   0.551   CDLG  20160401   \n",
       "470588  29989099  922000201  5.020101   6.21   0.334   CDLG  20160401   \n",
       "470589  29989058  922000201  2.706399   3.60   1.256   CDLG  20160401   \n",
       "470590  30023041  923000006  3.322512   3.60   1.306   CDLG  20160401   \n",
       "470591  30151329  924000000  0.960027   1.00  14.600   CDLG  20160401   \n",
       "\n",
       "                     STime                   SheetID  CashValue       date  \\\n",
       "470587 2016-04-01 07:27:53  20160401CDLGP00110000001     39.249 2016-04-01   \n",
       "470588 2016-04-01 07:27:53  20160401CDLGP00110000001     39.249 2016-04-01   \n",
       "470589 2016-04-01 07:27:53  20160401CDLGP00110000001     39.249 2016-04-01   \n",
       "470590 2016-04-01 07:27:53  20160401CDLGP00110000001     39.249 2016-04-01   \n",
       "470591 2016-04-01 07:27:53  20160401CDLGP00110000001     39.249 2016-04-01   \n",
       "\n",
       "        月份  sale_sum  \n",
       "470587   4   3.09111  \n",
       "470588   4   2.07414  \n",
       "470589   4   4.52160  \n",
       "470590   4   4.70160  \n",
       "470591   4  14.60000  "
      ]
     },
     "execution_count": 31,
     "metadata": {},
     "output_type": "execute_result"
    }
   ],
   "source": [
    "last_April = data_2016[(data_2016[\"date\"]>=parse(\"2016-04-01\"))]\n",
    "last_April.head()"
   ]
  },
  {
   "cell_type": "code",
   "execution_count": 32,
   "metadata": {
    "ExecuteTime": {
     "end_time": "2019-07-17T13:31:47.184823Z",
     "start_time": "2019-07-17T13:31:47.106669Z"
    }
   },
   "outputs": [
    {
     "data": {
      "text/plain": [
       "shopID\n",
       "CDLG    1.635524e+06\n",
       "WDGC    2.232196e+06\n",
       "Name: sale_sum, dtype: float64"
      ]
     },
     "execution_count": 32,
     "metadata": {},
     "output_type": "execute_result"
    }
   ],
   "source": [
    "#去年同期分门店累计销售额\n",
    "sale_sum_last = last_April.groupby([\"shopID\"])[\"sale_sum\"].sum()\n",
    "sale_sum_last"
   ]
  },
  {
   "cell_type": "code",
   "execution_count": 33,
   "metadata": {
    "ExecuteTime": {
     "end_time": "2019-07-17T13:31:47.653456Z",
     "start_time": "2019-07-17T13:31:47.544096Z"
    }
   },
   "outputs": [
    {
     "data": {
      "text/plain": [
       "shopID\n",
       "CDLG    194923\n",
       "WDGC    280614\n",
       "Name: SheetID, dtype: int64"
      ]
     },
     "execution_count": 33,
     "metadata": {},
     "output_type": "execute_result"
    }
   ],
   "source": [
    "#去年同期分门店累计客流用订单量代替\n",
    "traffic_sum_last = last_April.groupby([\"shopID\"])[\"SheetID\"].count()\n",
    "traffic_sum_last"
   ]
  },
  {
   "cell_type": "code",
   "execution_count": 34,
   "metadata": {
    "ExecuteTime": {
     "end_time": "2019-07-17T13:31:48.229749Z",
     "start_time": "2019-07-17T13:31:48.198481Z"
    }
   },
   "outputs": [
    {
     "data": {
      "text/plain": [
       "shopID\n",
       "CDLG    8.390615\n",
       "WDGC    7.954686\n",
       "dtype: float64"
      ]
     },
     "execution_count": 34,
     "metadata": {},
     "output_type": "execute_result"
    }
   ],
   "source": [
    "#去年同期分门店客单价\n",
    "Customer_price_last = sale_sum_last/traffic_sum_last\n",
    "Customer_price_last"
   ]
  },
  {
   "cell_type": "code",
   "execution_count": null,
   "metadata": {},
   "outputs": [],
   "source": []
  },
  {
   "cell_type": "code",
   "execution_count": null,
   "metadata": {},
   "outputs": [],
   "source": []
  },
  {
   "cell_type": "code",
   "execution_count": null,
   "metadata": {},
   "outputs": [],
   "source": []
  }
 ],
 "metadata": {
  "kernelspec": {
   "display_name": "Python 3",
   "language": "python",
   "name": "python3"
  },
  "language_info": {
   "codemirror_mode": {
    "name": "ipython",
    "version": 3
   },
   "file_extension": ".py",
   "mimetype": "text/x-python",
   "name": "python",
   "nbconvert_exporter": "python",
   "pygments_lexer": "ipython3",
   "version": "3.6.4"
  },
  "toc": {
   "base_numbering": 1,
   "nav_menu": {},
   "number_sections": true,
   "sideBar": true,
   "skip_h1_title": false,
   "title_cell": "Table of Contents",
   "title_sidebar": "Contents",
   "toc_cell": false,
   "toc_position": {},
   "toc_section_display": true,
   "toc_window_display": false
  },
  "varInspector": {
   "cols": {
    "lenName": 16,
    "lenType": 16,
    "lenVar": 40
   },
   "kernels_config": {
    "python": {
     "delete_cmd_postfix": "",
     "delete_cmd_prefix": "del ",
     "library": "var_list.py",
     "varRefreshCmd": "print(var_dic_list())"
    },
    "r": {
     "delete_cmd_postfix": ") ",
     "delete_cmd_prefix": "rm(",
     "library": "var_list.r",
     "varRefreshCmd": "cat(var_dic_list()) "
    }
   },
   "types_to_exclude": [
    "module",
    "function",
    "builtin_function_or_method",
    "instance",
    "_Feature"
   ],
   "window_display": false
  }
 },
 "nbformat": 4,
 "nbformat_minor": 2
}
