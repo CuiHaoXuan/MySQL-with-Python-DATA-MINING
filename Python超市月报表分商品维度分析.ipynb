{
 "cells": [
  {
   "cell_type": "markdown",
   "metadata": {},
   "source": [
    "**作业题：**\n",
    "1. 计算2017年4月销量Top10的商品以及商品类别。\n",
    "2. 计算2017年4月销量Top10的商品以及商品类别在2017年1月的销量情况。\n",
    "3. 计算2017年4月销量Top10的商品以及商品类别在2016年4月的销量情况。"
   ]
  },
  {
   "cell_type": "markdown",
   "metadata": {},
   "source": [
    "**题目说明：**\n",
    "- 销量 = Qty\n",
    "\n",
    "\n",
    "**业务背景：**\n",
    "- 一般影响整体业绩的往往会是一些头部商品，如果发现总体指标变动较大时，首先需要去看头部商品的变动。\n",
    "\n",
    "**计算逻辑说明：**\n",
    "1.\t先计算4月销量Top10商品，然后计算2017年1月、以及2016年4月每种商品的销量，然后进行链接（相当于Vlookup），就能算出本月销量Top10商品在其他月份的销量情况。"
   ]
  },
  {
   "cell_type": "markdown",
   "metadata": {},
   "source": [
    "# 导入相关库"
   ]
  },
  {
   "cell_type": "code",
   "execution_count": 1,
   "metadata": {
    "ExecuteTime": {
     "end_time": "2019-07-17T13:46:25.359307Z",
     "start_time": "2019-07-17T13:46:24.415986Z"
    }
   },
   "outputs": [],
   "source": [
    "%matplotlib inline\n",
    "import pandas as pd\n",
    "import numpy as np\n",
    "import matplotlib.pyplot as plt\n",
    "from dateutil.parser import parse\n",
    "plt.rcParams[\"font.sans-serif\"]='SimHei'#解决中文乱码\n",
    "plt.rcParams['axes.unicode_minus'] = False#解决负号无法正常显示的问题"
   ]
  },
  {
   "cell_type": "markdown",
   "metadata": {},
   "source": [
    "# 导入数据 "
   ]
  },
  {
   "cell_type": "code",
   "execution_count": 2,
   "metadata": {
    "ExecuteTime": {
     "end_time": "2019-07-17T13:46:48.216911Z",
     "start_time": "2019-07-17T13:46:45.260043Z"
    }
   },
   "outputs": [
    {
     "data": {
      "text/html": [
       "<div>\n",
       "<style scoped>\n",
       "    .dataframe tbody tr th:only-of-type {\n",
       "        vertical-align: middle;\n",
       "    }\n",
       "\n",
       "    .dataframe tbody tr th {\n",
       "        vertical-align: top;\n",
       "    }\n",
       "\n",
       "    .dataframe thead th {\n",
       "        text-align: right;\n",
       "    }\n",
       "</style>\n",
       "<table border=\"1\" class=\"dataframe\">\n",
       "  <thead>\n",
       "    <tr style=\"text-align: right;\">\n",
       "      <th></th>\n",
       "      <th>GoodsID</th>\n",
       "      <th>CateID</th>\n",
       "      <th>Cost</th>\n",
       "      <th>Price</th>\n",
       "      <th>Qty</th>\n",
       "      <th>shopID</th>\n",
       "      <th>SDate</th>\n",
       "      <th>STime</th>\n",
       "      <th>SheetID</th>\n",
       "      <th>CashValue</th>\n",
       "    </tr>\n",
       "  </thead>\n",
       "  <tbody>\n",
       "    <tr>\n",
       "      <th>0</th>\n",
       "      <td>30006206</td>\n",
       "      <td>915000003</td>\n",
       "      <td>20.673643</td>\n",
       "      <td>25.23</td>\n",
       "      <td>0.328</td>\n",
       "      <td>CDLG</td>\n",
       "      <td>20170103</td>\n",
       "      <td>2017-01-03 09:56:55</td>\n",
       "      <td>20170103CDLG000210052759</td>\n",
       "      <td>56.453</td>\n",
       "    </tr>\n",
       "    <tr>\n",
       "      <th>1</th>\n",
       "      <td>30163281</td>\n",
       "      <td>914010000</td>\n",
       "      <td>1.724210</td>\n",
       "      <td>2.00</td>\n",
       "      <td>2.000</td>\n",
       "      <td>CDLG</td>\n",
       "      <td>20170103</td>\n",
       "      <td>2017-01-03 09:56:55</td>\n",
       "      <td>20170103CDLG000210052759</td>\n",
       "      <td>56.453</td>\n",
       "    </tr>\n",
       "    <tr>\n",
       "      <th>2</th>\n",
       "      <td>30200518</td>\n",
       "      <td>922000000</td>\n",
       "      <td>16.344857</td>\n",
       "      <td>19.62</td>\n",
       "      <td>0.230</td>\n",
       "      <td>CDLG</td>\n",
       "      <td>20170103</td>\n",
       "      <td>2017-01-03 09:56:55</td>\n",
       "      <td>20170103CDLG000210052759</td>\n",
       "      <td>56.453</td>\n",
       "    </tr>\n",
       "    <tr>\n",
       "      <th>3</th>\n",
       "      <td>29989105</td>\n",
       "      <td>922000000</td>\n",
       "      <td>1.971475</td>\n",
       "      <td>2.80</td>\n",
       "      <td>2.044</td>\n",
       "      <td>CDLG</td>\n",
       "      <td>20170103</td>\n",
       "      <td>2017-01-03 09:56:55</td>\n",
       "      <td>20170103CDLG000210052759</td>\n",
       "      <td>56.453</td>\n",
       "    </tr>\n",
       "    <tr>\n",
       "      <th>4</th>\n",
       "      <td>30179558</td>\n",
       "      <td>915000100</td>\n",
       "      <td>34.219740</td>\n",
       "      <td>47.41</td>\n",
       "      <td>0.226</td>\n",
       "      <td>CDLG</td>\n",
       "      <td>20170103</td>\n",
       "      <td>2017-01-03 09:56:55</td>\n",
       "      <td>20170103CDLG000210052759</td>\n",
       "      <td>56.453</td>\n",
       "    </tr>\n",
       "  </tbody>\n",
       "</table>\n",
       "</div>"
      ],
      "text/plain": [
       "    GoodsID     CateID       Cost  Price    Qty shopID     SDate  \\\n",
       "0  30006206  915000003  20.673643  25.23  0.328   CDLG  20170103   \n",
       "1  30163281  914010000   1.724210   2.00  2.000   CDLG  20170103   \n",
       "2  30200518  922000000  16.344857  19.62  0.230   CDLG  20170103   \n",
       "3  29989105  922000000   1.971475   2.80  2.044   CDLG  20170103   \n",
       "4  30179558  915000100  34.219740  47.41  0.226   CDLG  20170103   \n",
       "\n",
       "                STime                   SheetID  CashValue  \n",
       "0 2017-01-03 09:56:55  20170103CDLG000210052759     56.453  \n",
       "1 2017-01-03 09:56:55  20170103CDLG000210052759     56.453  \n",
       "2 2017-01-03 09:56:55  20170103CDLG000210052759     56.453  \n",
       "3 2017-01-03 09:56:55  20170103CDLG000210052759     56.453  \n",
       "4 2017-01-03 09:56:55  20170103CDLG000210052759     56.453  "
      ]
     },
     "execution_count": 2,
     "metadata": {},
     "output_type": "execute_result"
    }
   ],
   "source": [
    "data_2017 = pd.read_csv(r\"2017年1月&2017年4月数据.csv\",parse_dates = [\"STime\"])\n",
    "data_2017.head()"
   ]
  },
  {
   "cell_type": "code",
   "execution_count": 3,
   "metadata": {
    "ExecuteTime": {
     "end_time": "2019-07-17T13:46:50.754215Z",
     "start_time": "2019-07-17T13:46:50.332176Z"
    }
   },
   "outputs": [
    {
     "name": "stdout",
     "output_type": "stream",
     "text": [
      "<class 'pandas.core.frame.DataFrame'>\n",
      "RangeIndex: 897232 entries, 0 to 897231\n",
      "Data columns (total 10 columns):\n",
      "GoodsID      897232 non-null int64\n",
      "CateID       897232 non-null int64\n",
      "Cost         896550 non-null float64\n",
      "Price        897232 non-null float64\n",
      "Qty          897232 non-null float64\n",
      "shopID       897232 non-null object\n",
      "SDate        897232 non-null int64\n",
      "STime        897232 non-null datetime64[ns]\n",
      "SheetID      897232 non-null object\n",
      "CashValue    897232 non-null float64\n",
      "dtypes: datetime64[ns](1), float64(4), int64(3), object(2)\n",
      "memory usage: 68.5+ MB\n"
     ]
    }
   ],
   "source": [
    "data_2017.info()"
   ]
  },
  {
   "cell_type": "code",
   "execution_count": 4,
   "metadata": {
    "ExecuteTime": {
     "end_time": "2019-07-17T13:47:10.985223Z",
     "start_time": "2019-07-17T13:47:07.392306Z"
    }
   },
   "outputs": [
    {
     "data": {
      "text/html": [
       "<div>\n",
       "<style scoped>\n",
       "    .dataframe tbody tr th:only-of-type {\n",
       "        vertical-align: middle;\n",
       "    }\n",
       "\n",
       "    .dataframe tbody tr th {\n",
       "        vertical-align: top;\n",
       "    }\n",
       "\n",
       "    .dataframe thead th {\n",
       "        text-align: right;\n",
       "    }\n",
       "</style>\n",
       "<table border=\"1\" class=\"dataframe\">\n",
       "  <thead>\n",
       "    <tr style=\"text-align: right;\">\n",
       "      <th></th>\n",
       "      <th>GoodsID</th>\n",
       "      <th>CateID</th>\n",
       "      <th>Cost</th>\n",
       "      <th>Price</th>\n",
       "      <th>Qty</th>\n",
       "      <th>shopID</th>\n",
       "      <th>SDate</th>\n",
       "      <th>STime</th>\n",
       "      <th>SheetID</th>\n",
       "      <th>CashValue</th>\n",
       "    </tr>\n",
       "  </thead>\n",
       "  <tbody>\n",
       "    <tr>\n",
       "      <th>0</th>\n",
       "      <td>29989301</td>\n",
       "      <td>925090000</td>\n",
       "      <td>17.048322</td>\n",
       "      <td>17.59</td>\n",
       "      <td>0.522</td>\n",
       "      <td>CDLG</td>\n",
       "      <td>20160101</td>\n",
       "      <td>2016-01-01 07:02:01</td>\n",
       "      <td>20160101CDLGP00110000001</td>\n",
       "      <td>44.321</td>\n",
       "    </tr>\n",
       "    <tr>\n",
       "      <th>1</th>\n",
       "      <td>29989287</td>\n",
       "      <td>925090000</td>\n",
       "      <td>0.000000</td>\n",
       "      <td>28.02</td>\n",
       "      <td>0.809</td>\n",
       "      <td>CDLG</td>\n",
       "      <td>20160101</td>\n",
       "      <td>2016-01-01 07:02:01</td>\n",
       "      <td>20160101CDLGP00110000001</td>\n",
       "      <td>44.321</td>\n",
       "    </tr>\n",
       "    <tr>\n",
       "      <th>2</th>\n",
       "      <td>29989302</td>\n",
       "      <td>925090000</td>\n",
       "      <td>26.800070</td>\n",
       "      <td>27.65</td>\n",
       "      <td>0.451</td>\n",
       "      <td>CDLG</td>\n",
       "      <td>20160101</td>\n",
       "      <td>2016-01-01 07:02:01</td>\n",
       "      <td>20160101CDLGP00110000001</td>\n",
       "      <td>44.321</td>\n",
       "    </tr>\n",
       "    <tr>\n",
       "      <th>3</th>\n",
       "      <td>30144186</td>\n",
       "      <td>912060303</td>\n",
       "      <td>49.620000</td>\n",
       "      <td>49.62</td>\n",
       "      <td>0.318</td>\n",
       "      <td>CDLG</td>\n",
       "      <td>20160101</td>\n",
       "      <td>2016-01-01 07:03:14</td>\n",
       "      <td>20160101CDLGP00110000002</td>\n",
       "      <td>15.779</td>\n",
       "    </tr>\n",
       "    <tr>\n",
       "      <th>4</th>\n",
       "      <td>29989073</td>\n",
       "      <td>922000201</td>\n",
       "      <td>2.314974</td>\n",
       "      <td>3.61</td>\n",
       "      <td>0.326</td>\n",
       "      <td>CDLG</td>\n",
       "      <td>20160101</td>\n",
       "      <td>2016-01-01 07:04:05</td>\n",
       "      <td>20160101CDLGP00110000003</td>\n",
       "      <td>4.715</td>\n",
       "    </tr>\n",
       "  </tbody>\n",
       "</table>\n",
       "</div>"
      ],
      "text/plain": [
       "    GoodsID     CateID       Cost  Price    Qty shopID     SDate  \\\n",
       "0  29989301  925090000  17.048322  17.59  0.522   CDLG  20160101   \n",
       "1  29989287  925090000   0.000000  28.02  0.809   CDLG  20160101   \n",
       "2  29989302  925090000  26.800070  27.65  0.451   CDLG  20160101   \n",
       "3  30144186  912060303  49.620000  49.62  0.318   CDLG  20160101   \n",
       "4  29989073  922000201   2.314974   3.61  0.326   CDLG  20160101   \n",
       "\n",
       "                STime                   SheetID  CashValue  \n",
       "0 2016-01-01 07:02:01  20160101CDLGP00110000001     44.321  \n",
       "1 2016-01-01 07:02:01  20160101CDLGP00110000001     44.321  \n",
       "2 2016-01-01 07:02:01  20160101CDLGP00110000001     44.321  \n",
       "3 2016-01-01 07:03:14  20160101CDLGP00110000002     15.779  \n",
       "4 2016-01-01 07:04:05  20160101CDLGP00110000003      4.715  "
      ]
     },
     "execution_count": 4,
     "metadata": {},
     "output_type": "execute_result"
    }
   ],
   "source": [
    "data_2016 = pd.read_csv(r\"2016年1月&20164月数据.csv\",parse_dates = [\"STime\"])\n",
    "data_2016.head()"
   ]
  },
  {
   "cell_type": "code",
   "execution_count": 5,
   "metadata": {
    "ExecuteTime": {
     "end_time": "2019-07-17T13:47:11.594418Z",
     "start_time": "2019-07-17T13:47:11.063332Z"
    }
   },
   "outputs": [
    {
     "name": "stdout",
     "output_type": "stream",
     "text": [
      "<class 'pandas.core.frame.DataFrame'>\n",
      "RangeIndex: 1116447 entries, 0 to 1116446\n",
      "Data columns (total 10 columns):\n",
      "GoodsID      1116447 non-null int64\n",
      "CateID       1116447 non-null int64\n",
      "Cost         1114288 non-null float64\n",
      "Price        1116447 non-null float64\n",
      "Qty          1116447 non-null float64\n",
      "shopID       1116447 non-null object\n",
      "SDate        1116447 non-null int64\n",
      "STime        1116447 non-null datetime64[ns]\n",
      "SheetID      1116447 non-null object\n",
      "CashValue    1116447 non-null float64\n",
      "dtypes: datetime64[ns](1), float64(4), int64(3), object(2)\n",
      "memory usage: 85.2+ MB\n"
     ]
    }
   ],
   "source": [
    "data_2016.info()"
   ]
  },
  {
   "cell_type": "code",
   "execution_count": 6,
   "metadata": {
    "ExecuteTime": {
     "end_time": "2019-07-17T13:47:12.984713Z",
     "start_time": "2019-07-17T13:47:11.688147Z"
    }
   },
   "outputs": [
    {
     "data": {
      "text/plain": [
       "(1067302, 10)"
      ]
     },
     "execution_count": 6,
     "metadata": {},
     "output_type": "execute_result"
    }
   ],
   "source": [
    "data_2016.drop_duplicates().shape"
   ]
  },
  {
   "cell_type": "code",
   "execution_count": 7,
   "metadata": {
    "ExecuteTime": {
     "end_time": "2019-07-17T13:47:14.250072Z",
     "start_time": "2019-07-17T13:47:13.062822Z"
    }
   },
   "outputs": [
    {
     "data": {
      "text/plain": [
       "(855620, 10)"
      ]
     },
     "execution_count": 7,
     "metadata": {},
     "output_type": "execute_result"
    }
   ],
   "source": [
    "data_2017.drop_duplicates().shape"
   ]
  },
  {
   "cell_type": "code",
   "execution_count": 8,
   "metadata": {
    "ExecuteTime": {
     "end_time": "2019-07-17T13:47:16.690780Z",
     "start_time": "2019-07-17T13:47:14.343772Z"
    }
   },
   "outputs": [],
   "source": [
    "data_2016 = data_2016.drop_duplicates()\n",
    "data_2017 = data_2017.drop_duplicates()"
   ]
  },
  {
   "cell_type": "code",
   "execution_count": 9,
   "metadata": {
    "ExecuteTime": {
     "end_time": "2019-07-17T13:47:16.815721Z",
     "start_time": "2019-07-17T13:47:16.800098Z"
    }
   },
   "outputs": [
    {
     "data": {
      "text/plain": [
       "(1067302, 10)"
      ]
     },
     "execution_count": 9,
     "metadata": {},
     "output_type": "execute_result"
    }
   ],
   "source": [
    "data_2016.shape"
   ]
  },
  {
   "cell_type": "code",
   "execution_count": 10,
   "metadata": {
    "ExecuteTime": {
     "end_time": "2019-07-17T13:47:16.940693Z",
     "start_time": "2019-07-17T13:47:16.909451Z"
    }
   },
   "outputs": [
    {
     "data": {
      "text/plain": [
       "(855620, 10)"
      ]
     },
     "execution_count": 10,
     "metadata": {},
     "output_type": "execute_result"
    }
   ],
   "source": [
    "data_2017.shape"
   ]
  },
  {
   "cell_type": "markdown",
   "metadata": {},
   "source": [
    "# 数据预处理"
   ]
  },
  {
   "cell_type": "code",
   "execution_count": 11,
   "metadata": {
    "ExecuteTime": {
     "end_time": "2019-07-17T13:49:18.361038Z",
     "start_time": "2019-07-17T13:47:17.034419Z"
    }
   },
   "outputs": [],
   "source": [
    "data_2016[\"date\"] = [parse(str(time)) for time in data_2016[\"SDate\"]]\n",
    "data_2017[\"date\"] = [parse(str(time)) for time in data_2017[\"SDate\"]]"
   ]
  },
  {
   "cell_type": "code",
   "execution_count": 12,
   "metadata": {
    "ExecuteTime": {
     "end_time": "2019-07-17T13:49:26.809452Z",
     "start_time": "2019-07-17T13:49:18.493682Z"
    }
   },
   "outputs": [],
   "source": [
    "data_2016[\"月份\"] = [time.month for time in data_2016[\"date\"]]\n",
    "data_2017[\"月份\"] = [time.month for time in data_2017[\"date\"]]"
   ]
  },
  {
   "cell_type": "code",
   "execution_count": 13,
   "metadata": {
    "ExecuteTime": {
     "end_time": "2019-07-17T13:49:27.000937Z",
     "start_time": "2019-07-17T13:49:26.952068Z"
    }
   },
   "outputs": [
    {
     "data": {
      "text/plain": [
       "array([1, 4], dtype=int64)"
      ]
     },
     "execution_count": 13,
     "metadata": {},
     "output_type": "execute_result"
    }
   ],
   "source": [
    "data_2017[\"月份\"].unique()"
   ]
  },
  {
   "cell_type": "code",
   "execution_count": 14,
   "metadata": {
    "ExecuteTime": {
     "end_time": "2019-07-17T13:49:27.184447Z",
     "start_time": "2019-07-17T13:49:27.129594Z"
    }
   },
   "outputs": [
    {
     "data": {
      "text/plain": [
       "array([1, 4], dtype=int64)"
      ]
     },
     "execution_count": 14,
     "metadata": {},
     "output_type": "execute_result"
    }
   ],
   "source": [
    "data_2016[\"月份\"].unique()"
   ]
  },
  {
   "cell_type": "markdown",
   "metadata": {},
   "source": [
    "# 分商品数据"
   ]
  },
  {
   "cell_type": "code",
   "execution_count": 15,
   "metadata": {
    "ExecuteTime": {
     "end_time": "2019-07-17T13:49:27.525536Z",
     "start_time": "2019-07-17T13:49:27.314100Z"
    }
   },
   "outputs": [],
   "source": [
    "April_data = data_2017[data_2017[\"月份\"] == 4]"
   ]
  },
  {
   "cell_type": "code",
   "execution_count": 16,
   "metadata": {
    "ExecuteTime": {
     "end_time": "2019-07-17T13:49:27.763898Z",
     "start_time": "2019-07-17T13:49:27.668158Z"
    }
   },
   "outputs": [],
   "source": [
    "March_data = data_2017[data_2017[\"月份\"] == 1]"
   ]
  },
  {
   "cell_type": "code",
   "execution_count": 17,
   "metadata": {
    "ExecuteTime": {
     "end_time": "2019-07-17T13:49:28.171811Z",
     "start_time": "2019-07-17T13:49:27.941424Z"
    }
   },
   "outputs": [],
   "source": [
    "L_April_data = data_2016[data_2016[\"月份\"] == 4]"
   ]
  },
  {
   "cell_type": "code",
   "execution_count": 18,
   "metadata": {
    "ExecuteTime": {
     "end_time": "2019-07-17T13:49:28.422138Z",
     "start_time": "2019-07-17T13:49:28.353323Z"
    }
   },
   "outputs": [
    {
     "data": {
      "text/html": [
       "<div>\n",
       "<style scoped>\n",
       "    .dataframe tbody tr th:only-of-type {\n",
       "        vertical-align: middle;\n",
       "    }\n",
       "\n",
       "    .dataframe tbody tr th {\n",
       "        vertical-align: top;\n",
       "    }\n",
       "\n",
       "    .dataframe thead th {\n",
       "        text-align: right;\n",
       "    }\n",
       "</style>\n",
       "<table border=\"1\" class=\"dataframe\">\n",
       "  <thead>\n",
       "    <tr style=\"text-align: right;\">\n",
       "      <th></th>\n",
       "      <th>Qty</th>\n",
       "    </tr>\n",
       "    <tr>\n",
       "      <th>GoodsID</th>\n",
       "      <th></th>\n",
       "    </tr>\n",
       "  </thead>\n",
       "  <tbody>\n",
       "    <tr>\n",
       "      <th>30022232</th>\n",
       "      <td>14563.000</td>\n",
       "    </tr>\n",
       "    <tr>\n",
       "      <th>29989058</th>\n",
       "      <td>11469.412</td>\n",
       "    </tr>\n",
       "    <tr>\n",
       "      <th>29989072</th>\n",
       "      <td>9690.479</td>\n",
       "    </tr>\n",
       "    <tr>\n",
       "      <th>29989105</th>\n",
       "      <td>8143.704</td>\n",
       "    </tr>\n",
       "    <tr>\n",
       "      <th>29989165</th>\n",
       "      <td>7184.727</td>\n",
       "    </tr>\n",
       "    <tr>\n",
       "      <th>30031738</th>\n",
       "      <td>6412.585</td>\n",
       "    </tr>\n",
       "    <tr>\n",
       "      <th>29989071</th>\n",
       "      <td>5714.737</td>\n",
       "    </tr>\n",
       "    <tr>\n",
       "      <th>29989157</th>\n",
       "      <td>5156.363</td>\n",
       "    </tr>\n",
       "    <tr>\n",
       "      <th>29989143</th>\n",
       "      <td>5156.125</td>\n",
       "    </tr>\n",
       "    <tr>\n",
       "      <th>30023197</th>\n",
       "      <td>4855.681</td>\n",
       "    </tr>\n",
       "  </tbody>\n",
       "</table>\n",
       "</div>"
      ],
      "text/plain": [
       "                Qty\n",
       "GoodsID            \n",
       "30022232  14563.000\n",
       "29989058  11469.412\n",
       "29989072   9690.479\n",
       "29989105   8143.704\n",
       "29989165   7184.727\n",
       "30031738   6412.585\n",
       "29989071   5714.737\n",
       "29989157   5156.363\n",
       "29989143   5156.125\n",
       "30023197   4855.681"
      ]
     },
     "execution_count": 18,
     "metadata": {},
     "output_type": "execute_result"
    }
   ],
   "source": [
    "#2017年4月销量Top10的商品\n",
    "goods_sale_A = April_data.groupby(\"GoodsID\")[\"Qty\"].sum()\n",
    "df_A = pd.DataFrame(goods_sale_A.sort_values(ascending = False).head(10))\n",
    "df_A"
   ]
  },
  {
   "cell_type": "code",
   "execution_count": 19,
   "metadata": {
    "ExecuteTime": {
     "end_time": "2019-07-17T13:49:28.722336Z",
     "start_time": "2019-07-17T13:49:28.639557Z"
    }
   },
   "outputs": [
    {
     "data": {
      "text/html": [
       "<div>\n",
       "<style scoped>\n",
       "    .dataframe tbody tr th:only-of-type {\n",
       "        vertical-align: middle;\n",
       "    }\n",
       "\n",
       "    .dataframe tbody tr th {\n",
       "        vertical-align: top;\n",
       "    }\n",
       "\n",
       "    .dataframe thead th {\n",
       "        text-align: right;\n",
       "    }\n",
       "</style>\n",
       "<table border=\"1\" class=\"dataframe\">\n",
       "  <thead>\n",
       "    <tr style=\"text-align: right;\">\n",
       "      <th></th>\n",
       "      <th>Qty</th>\n",
       "    </tr>\n",
       "    <tr>\n",
       "      <th>GoodsID</th>\n",
       "      <th></th>\n",
       "    </tr>\n",
       "  </thead>\n",
       "  <tbody>\n",
       "    <tr>\n",
       "      <th>29988816</th>\n",
       "      <td>4.0</td>\n",
       "    </tr>\n",
       "    <tr>\n",
       "      <th>29988819</th>\n",
       "      <td>5.0</td>\n",
       "    </tr>\n",
       "    <tr>\n",
       "      <th>29988832</th>\n",
       "      <td>1.0</td>\n",
       "    </tr>\n",
       "    <tr>\n",
       "      <th>29988835</th>\n",
       "      <td>1.0</td>\n",
       "    </tr>\n",
       "    <tr>\n",
       "      <th>29988836</th>\n",
       "      <td>1.0</td>\n",
       "    </tr>\n",
       "  </tbody>\n",
       "</table>\n",
       "</div>"
      ],
      "text/plain": [
       "          Qty\n",
       "GoodsID      \n",
       "29988816  4.0\n",
       "29988819  5.0\n",
       "29988832  1.0\n",
       "29988835  1.0\n",
       "29988836  1.0"
      ]
     },
     "execution_count": 19,
     "metadata": {},
     "output_type": "execute_result"
    }
   ],
   "source": [
    "#2017年3月不同商品的销量\n",
    "goods_sale_M = March_data.groupby(\"GoodsID\")[\"Qty\"].sum()\n",
    "df_M = pd.DataFrame(goods_sale_M)\n",
    "df_M.head()"
   ]
  },
  {
   "cell_type": "code",
   "execution_count": 20,
   "metadata": {
    "ExecuteTime": {
     "end_time": "2019-07-17T13:49:29.014558Z",
     "start_time": "2019-07-17T13:49:28.937763Z"
    }
   },
   "outputs": [
    {
     "data": {
      "text/html": [
       "<div>\n",
       "<style scoped>\n",
       "    .dataframe tbody tr th:only-of-type {\n",
       "        vertical-align: middle;\n",
       "    }\n",
       "\n",
       "    .dataframe tbody tr th {\n",
       "        vertical-align: top;\n",
       "    }\n",
       "\n",
       "    .dataframe thead th {\n",
       "        text-align: right;\n",
       "    }\n",
       "</style>\n",
       "<table border=\"1\" class=\"dataframe\">\n",
       "  <thead>\n",
       "    <tr style=\"text-align: right;\">\n",
       "      <th></th>\n",
       "      <th>Qty_x</th>\n",
       "      <th>Qty_y</th>\n",
       "      <th>差</th>\n",
       "    </tr>\n",
       "    <tr>\n",
       "      <th>GoodsID</th>\n",
       "      <th></th>\n",
       "      <th></th>\n",
       "      <th></th>\n",
       "    </tr>\n",
       "  </thead>\n",
       "  <tbody>\n",
       "    <tr>\n",
       "      <th>30022232</th>\n",
       "      <td>14563.000</td>\n",
       "      <td>20861.000</td>\n",
       "      <td>-6298.000</td>\n",
       "    </tr>\n",
       "    <tr>\n",
       "      <th>29989058</th>\n",
       "      <td>11469.412</td>\n",
       "      <td>9339.493</td>\n",
       "      <td>2129.919</td>\n",
       "    </tr>\n",
       "    <tr>\n",
       "      <th>29989072</th>\n",
       "      <td>9690.479</td>\n",
       "      <td>6736.953</td>\n",
       "      <td>2953.526</td>\n",
       "    </tr>\n",
       "    <tr>\n",
       "      <th>29989105</th>\n",
       "      <td>8143.704</td>\n",
       "      <td>6813.195</td>\n",
       "      <td>1330.509</td>\n",
       "    </tr>\n",
       "    <tr>\n",
       "      <th>29989165</th>\n",
       "      <td>7184.727</td>\n",
       "      <td>7846.307</td>\n",
       "      <td>-661.580</td>\n",
       "    </tr>\n",
       "    <tr>\n",
       "      <th>30031738</th>\n",
       "      <td>6412.585</td>\n",
       "      <td>4583.126</td>\n",
       "      <td>1829.459</td>\n",
       "    </tr>\n",
       "    <tr>\n",
       "      <th>29989071</th>\n",
       "      <td>5714.737</td>\n",
       "      <td>3927.380</td>\n",
       "      <td>1787.357</td>\n",
       "    </tr>\n",
       "    <tr>\n",
       "      <th>29989157</th>\n",
       "      <td>5156.363</td>\n",
       "      <td>5011.738</td>\n",
       "      <td>144.625</td>\n",
       "    </tr>\n",
       "    <tr>\n",
       "      <th>29989143</th>\n",
       "      <td>5156.125</td>\n",
       "      <td>5757.891</td>\n",
       "      <td>-601.766</td>\n",
       "    </tr>\n",
       "    <tr>\n",
       "      <th>30023197</th>\n",
       "      <td>4855.681</td>\n",
       "      <td>1001.847</td>\n",
       "      <td>3853.834</td>\n",
       "    </tr>\n",
       "  </tbody>\n",
       "</table>\n",
       "</div>"
      ],
      "text/plain": [
       "              Qty_x      Qty_y         差\n",
       "GoodsID                                 \n",
       "30022232  14563.000  20861.000 -6298.000\n",
       "29989058  11469.412   9339.493  2129.919\n",
       "29989072   9690.479   6736.953  2953.526\n",
       "29989105   8143.704   6813.195  1330.509\n",
       "29989165   7184.727   7846.307  -661.580\n",
       "30031738   6412.585   4583.126  1829.459\n",
       "29989071   5714.737   3927.380  1787.357\n",
       "29989157   5156.363   5011.738   144.625\n",
       "29989143   5156.125   5757.891  -601.766\n",
       "30023197   4855.681   1001.847  3853.834"
      ]
     },
     "execution_count": 20,
     "metadata": {},
     "output_type": "execute_result"
    }
   ],
   "source": [
    "#计算17年4月销量Top10的商品在17年3月的销量情况\n",
    "df_AM = pd.merge(df_A,df_M,left_index = True,right_index = True)\n",
    "df_AM[\"差\"] = df_AM[\"Qty_x\"] - df_AM[\"Qty_y\"]\n",
    "df_AM"
   ]
  },
  {
   "cell_type": "code",
   "execution_count": 21,
   "metadata": {
    "ExecuteTime": {
     "end_time": "2019-07-17T13:49:29.299794Z",
     "start_time": "2019-07-17T13:49:29.234965Z"
    }
   },
   "outputs": [
    {
     "data": {
      "text/html": [
       "<div>\n",
       "<style scoped>\n",
       "    .dataframe tbody tr th:only-of-type {\n",
       "        vertical-align: middle;\n",
       "    }\n",
       "\n",
       "    .dataframe tbody tr th {\n",
       "        vertical-align: top;\n",
       "    }\n",
       "\n",
       "    .dataframe thead th {\n",
       "        text-align: right;\n",
       "    }\n",
       "</style>\n",
       "<table border=\"1\" class=\"dataframe\">\n",
       "  <thead>\n",
       "    <tr style=\"text-align: right;\">\n",
       "      <th></th>\n",
       "      <th>Qty</th>\n",
       "    </tr>\n",
       "    <tr>\n",
       "      <th>GoodsID</th>\n",
       "      <th></th>\n",
       "    </tr>\n",
       "  </thead>\n",
       "  <tbody>\n",
       "    <tr>\n",
       "      <th>29988816</th>\n",
       "      <td>2.0</td>\n",
       "    </tr>\n",
       "    <tr>\n",
       "      <th>29988832</th>\n",
       "      <td>2.0</td>\n",
       "    </tr>\n",
       "    <tr>\n",
       "      <th>29988836</th>\n",
       "      <td>1.0</td>\n",
       "    </tr>\n",
       "    <tr>\n",
       "      <th>29988840</th>\n",
       "      <td>3.0</td>\n",
       "    </tr>\n",
       "    <tr>\n",
       "      <th>29988847</th>\n",
       "      <td>12.0</td>\n",
       "    </tr>\n",
       "    <tr>\n",
       "      <th>29988848</th>\n",
       "      <td>11.0</td>\n",
       "    </tr>\n",
       "    <tr>\n",
       "      <th>29988850</th>\n",
       "      <td>8.0</td>\n",
       "    </tr>\n",
       "    <tr>\n",
       "      <th>29988852</th>\n",
       "      <td>27.0</td>\n",
       "    </tr>\n",
       "    <tr>\n",
       "      <th>29988853</th>\n",
       "      <td>5.0</td>\n",
       "    </tr>\n",
       "    <tr>\n",
       "      <th>29988879</th>\n",
       "      <td>12.0</td>\n",
       "    </tr>\n",
       "  </tbody>\n",
       "</table>\n",
       "</div>"
      ],
      "text/plain": [
       "           Qty\n",
       "GoodsID       \n",
       "29988816   2.0\n",
       "29988832   2.0\n",
       "29988836   1.0\n",
       "29988840   3.0\n",
       "29988847  12.0\n",
       "29988848  11.0\n",
       "29988850   8.0\n",
       "29988852  27.0\n",
       "29988853   5.0\n",
       "29988879  12.0"
      ]
     },
     "execution_count": 21,
     "metadata": {},
     "output_type": "execute_result"
    }
   ],
   "source": [
    "#2016年4月不同商品的销量\n",
    "goods_sale_L = L_April_data.groupby(\"GoodsID\")[\"Qty\"].sum()\n",
    "df_L_M = pd.DataFrame(goods_sale_L)\n",
    "df_L_M.head(10)"
   ]
  },
  {
   "cell_type": "code",
   "execution_count": 22,
   "metadata": {
    "ExecuteTime": {
     "end_time": "2019-07-17T13:49:29.611959Z",
     "start_time": "2019-07-17T13:49:29.517210Z"
    }
   },
   "outputs": [
    {
     "data": {
      "text/html": [
       "<div>\n",
       "<style scoped>\n",
       "    .dataframe tbody tr th:only-of-type {\n",
       "        vertical-align: middle;\n",
       "    }\n",
       "\n",
       "    .dataframe tbody tr th {\n",
       "        vertical-align: top;\n",
       "    }\n",
       "\n",
       "    .dataframe thead th {\n",
       "        text-align: right;\n",
       "    }\n",
       "</style>\n",
       "<table border=\"1\" class=\"dataframe\">\n",
       "  <thead>\n",
       "    <tr style=\"text-align: right;\">\n",
       "      <th></th>\n",
       "      <th>Qty_x</th>\n",
       "      <th>Qty_y</th>\n",
       "      <th>差</th>\n",
       "    </tr>\n",
       "    <tr>\n",
       "      <th>GoodsID</th>\n",
       "      <th></th>\n",
       "      <th></th>\n",
       "      <th></th>\n",
       "    </tr>\n",
       "  </thead>\n",
       "  <tbody>\n",
       "    <tr>\n",
       "      <th>30022232</th>\n",
       "      <td>14563.000</td>\n",
       "      <td>19093.000</td>\n",
       "      <td>-4530.000</td>\n",
       "    </tr>\n",
       "    <tr>\n",
       "      <th>29989058</th>\n",
       "      <td>11469.412</td>\n",
       "      <td>16274.764</td>\n",
       "      <td>-4805.352</td>\n",
       "    </tr>\n",
       "    <tr>\n",
       "      <th>29989072</th>\n",
       "      <td>9690.479</td>\n",
       "      <td>6626.036</td>\n",
       "      <td>3064.443</td>\n",
       "    </tr>\n",
       "    <tr>\n",
       "      <th>29989105</th>\n",
       "      <td>8143.704</td>\n",
       "      <td>8518.765</td>\n",
       "      <td>-375.061</td>\n",
       "    </tr>\n",
       "    <tr>\n",
       "      <th>29989165</th>\n",
       "      <td>7184.727</td>\n",
       "      <td>10879.545</td>\n",
       "      <td>-3694.818</td>\n",
       "    </tr>\n",
       "    <tr>\n",
       "      <th>30031738</th>\n",
       "      <td>6412.585</td>\n",
       "      <td>4158.876</td>\n",
       "      <td>2253.709</td>\n",
       "    </tr>\n",
       "    <tr>\n",
       "      <th>29989071</th>\n",
       "      <td>5714.737</td>\n",
       "      <td>3096.030</td>\n",
       "      <td>2618.707</td>\n",
       "    </tr>\n",
       "    <tr>\n",
       "      <th>29989157</th>\n",
       "      <td>5156.363</td>\n",
       "      <td>7370.665</td>\n",
       "      <td>-2214.302</td>\n",
       "    </tr>\n",
       "    <tr>\n",
       "      <th>29989143</th>\n",
       "      <td>5156.125</td>\n",
       "      <td>5051.006</td>\n",
       "      <td>105.119</td>\n",
       "    </tr>\n",
       "    <tr>\n",
       "      <th>30023197</th>\n",
       "      <td>4855.681</td>\n",
       "      <td>1912.356</td>\n",
       "      <td>2943.325</td>\n",
       "    </tr>\n",
       "  </tbody>\n",
       "</table>\n",
       "</div>"
      ],
      "text/plain": [
       "              Qty_x      Qty_y         差\n",
       "GoodsID                                 \n",
       "30022232  14563.000  19093.000 -4530.000\n",
       "29989058  11469.412  16274.764 -4805.352\n",
       "29989072   9690.479   6626.036  3064.443\n",
       "29989105   8143.704   8518.765  -375.061\n",
       "29989165   7184.727  10879.545 -3694.818\n",
       "30031738   6412.585   4158.876  2253.709\n",
       "29989071   5714.737   3096.030  2618.707\n",
       "29989157   5156.363   7370.665 -2214.302\n",
       "29989143   5156.125   5051.006   105.119\n",
       "30023197   4855.681   1912.356  2943.325"
      ]
     },
     "execution_count": 22,
     "metadata": {},
     "output_type": "execute_result"
    }
   ],
   "source": [
    "#计算17年4月销量Top10的商品在16年4月的销量情况\n",
    "df_AL = pd.merge(df_A,df_L_M,left_index = True,right_index = True)\n",
    "df_AL[\"差\"] = df_AL[\"Qty_x\"] - df_AL[\"Qty_y\"]\n",
    "df_AL"
   ]
  },
  {
   "cell_type": "markdown",
   "metadata": {},
   "source": [
    "# 分类别数据"
   ]
  },
  {
   "cell_type": "code",
   "execution_count": 23,
   "metadata": {
    "ExecuteTime": {
     "end_time": "2019-07-17T13:49:29.894206Z",
     "start_time": "2019-07-17T13:49:29.836356Z"
    }
   },
   "outputs": [
    {
     "data": {
      "text/html": [
       "<div>\n",
       "<style scoped>\n",
       "    .dataframe tbody tr th:only-of-type {\n",
       "        vertical-align: middle;\n",
       "    }\n",
       "\n",
       "    .dataframe tbody tr th {\n",
       "        vertical-align: top;\n",
       "    }\n",
       "\n",
       "    .dataframe thead th {\n",
       "        text-align: right;\n",
       "    }\n",
       "</style>\n",
       "<table border=\"1\" class=\"dataframe\">\n",
       "  <thead>\n",
       "    <tr style=\"text-align: right;\">\n",
       "      <th></th>\n",
       "      <th>Qty</th>\n",
       "    </tr>\n",
       "    <tr>\n",
       "      <th>CateID</th>\n",
       "      <th></th>\n",
       "    </tr>\n",
       "  </thead>\n",
       "  <tbody>\n",
       "    <tr>\n",
       "      <th>923000006</th>\n",
       "      <td>26650.431</td>\n",
       "    </tr>\n",
       "    <tr>\n",
       "      <th>922000001</th>\n",
       "      <td>24624.795</td>\n",
       "    </tr>\n",
       "    <tr>\n",
       "      <th>922000002</th>\n",
       "      <td>24339.321</td>\n",
       "    </tr>\n",
       "    <tr>\n",
       "      <th>922000000</th>\n",
       "      <td>17149.804</td>\n",
       "    </tr>\n",
       "    <tr>\n",
       "      <th>960000000</th>\n",
       "      <td>16322.000</td>\n",
       "    </tr>\n",
       "    <tr>\n",
       "      <th>915030101</th>\n",
       "      <td>14554.538</td>\n",
       "    </tr>\n",
       "    <tr>\n",
       "      <th>923000000</th>\n",
       "      <td>13846.122</td>\n",
       "    </tr>\n",
       "    <tr>\n",
       "      <th>910030000</th>\n",
       "      <td>12813.000</td>\n",
       "    </tr>\n",
       "    <tr>\n",
       "      <th>922000003</th>\n",
       "      <td>12122.704</td>\n",
       "    </tr>\n",
       "    <tr>\n",
       "      <th>915030104</th>\n",
       "      <td>9660.681</td>\n",
       "    </tr>\n",
       "  </tbody>\n",
       "</table>\n",
       "</div>"
      ],
      "text/plain": [
       "                 Qty\n",
       "CateID              \n",
       "923000006  26650.431\n",
       "922000001  24624.795\n",
       "922000002  24339.321\n",
       "922000000  17149.804\n",
       "960000000  16322.000\n",
       "915030101  14554.538\n",
       "923000000  13846.122\n",
       "910030000  12813.000\n",
       "922000003  12122.704\n",
       "915030104   9660.681"
      ]
     },
     "execution_count": 23,
     "metadata": {},
     "output_type": "execute_result"
    }
   ],
   "source": [
    "#2017年4月销量Top10的品类\n",
    "cate_sale_A = April_data.groupby(\"CateID\")[\"Qty\"].sum()\n",
    "df_A = pd.DataFrame(cate_sale_A.sort_values(ascending = False).head(10))\n",
    "df_A"
   ]
  },
  {
   "cell_type": "code",
   "execution_count": 24,
   "metadata": {
    "ExecuteTime": {
     "end_time": "2019-07-17T13:49:30.224322Z",
     "start_time": "2019-07-17T13:49:30.159496Z"
    }
   },
   "outputs": [
    {
     "data": {
      "text/html": [
       "<div>\n",
       "<style scoped>\n",
       "    .dataframe tbody tr th:only-of-type {\n",
       "        vertical-align: middle;\n",
       "    }\n",
       "\n",
       "    .dataframe tbody tr th {\n",
       "        vertical-align: top;\n",
       "    }\n",
       "\n",
       "    .dataframe thead th {\n",
       "        text-align: right;\n",
       "    }\n",
       "</style>\n",
       "<table border=\"1\" class=\"dataframe\">\n",
       "  <thead>\n",
       "    <tr style=\"text-align: right;\">\n",
       "      <th></th>\n",
       "      <th>Qty</th>\n",
       "    </tr>\n",
       "    <tr>\n",
       "      <th>CateID</th>\n",
       "      <th></th>\n",
       "    </tr>\n",
       "  </thead>\n",
       "  <tbody>\n",
       "    <tr>\n",
       "      <th>910000000</th>\n",
       "      <td>1508.0</td>\n",
       "    </tr>\n",
       "    <tr>\n",
       "      <th>910000001</th>\n",
       "      <td>81.0</td>\n",
       "    </tr>\n",
       "    <tr>\n",
       "      <th>910000004</th>\n",
       "      <td>68.0</td>\n",
       "    </tr>\n",
       "    <tr>\n",
       "      <th>910000100</th>\n",
       "      <td>14.0</td>\n",
       "    </tr>\n",
       "    <tr>\n",
       "      <th>910010000</th>\n",
       "      <td>754.0</td>\n",
       "    </tr>\n",
       "    <tr>\n",
       "      <th>910010001</th>\n",
       "      <td>24.0</td>\n",
       "    </tr>\n",
       "    <tr>\n",
       "      <th>910010002</th>\n",
       "      <td>66.0</td>\n",
       "    </tr>\n",
       "    <tr>\n",
       "      <th>910010100</th>\n",
       "      <td>283.0</td>\n",
       "    </tr>\n",
       "    <tr>\n",
       "      <th>910010101</th>\n",
       "      <td>34.0</td>\n",
       "    </tr>\n",
       "    <tr>\n",
       "      <th>910010102</th>\n",
       "      <td>90.0</td>\n",
       "    </tr>\n",
       "  </tbody>\n",
       "</table>\n",
       "</div>"
      ],
      "text/plain": [
       "              Qty\n",
       "CateID           \n",
       "910000000  1508.0\n",
       "910000001    81.0\n",
       "910000004    68.0\n",
       "910000100    14.0\n",
       "910010000   754.0\n",
       "910010001    24.0\n",
       "910010002    66.0\n",
       "910010100   283.0\n",
       "910010101    34.0\n",
       "910010102    90.0"
      ]
     },
     "execution_count": 24,
     "metadata": {},
     "output_type": "execute_result"
    }
   ],
   "source": [
    "#2017年3月不同类别的销量\n",
    "cate_sale_M = March_data.groupby(\"CateID\")[\"Qty\"].sum()\n",
    "df_M = pd.DataFrame(cate_sale_M)\n",
    "df_M.head(10)"
   ]
  },
  {
   "cell_type": "code",
   "execution_count": 25,
   "metadata": {
    "ExecuteTime": {
     "end_time": "2019-07-17T13:49:30.514545Z",
     "start_time": "2019-07-17T13:49:30.489609Z"
    }
   },
   "outputs": [
    {
     "data": {
      "text/html": [
       "<div>\n",
       "<style scoped>\n",
       "    .dataframe tbody tr th:only-of-type {\n",
       "        vertical-align: middle;\n",
       "    }\n",
       "\n",
       "    .dataframe tbody tr th {\n",
       "        vertical-align: top;\n",
       "    }\n",
       "\n",
       "    .dataframe thead th {\n",
       "        text-align: right;\n",
       "    }\n",
       "</style>\n",
       "<table border=\"1\" class=\"dataframe\">\n",
       "  <thead>\n",
       "    <tr style=\"text-align: right;\">\n",
       "      <th></th>\n",
       "      <th>Qty_x</th>\n",
       "      <th>Qty_y</th>\n",
       "      <th>差</th>\n",
       "    </tr>\n",
       "    <tr>\n",
       "      <th>CateID</th>\n",
       "      <th></th>\n",
       "      <th></th>\n",
       "      <th></th>\n",
       "    </tr>\n",
       "  </thead>\n",
       "  <tbody>\n",
       "    <tr>\n",
       "      <th>923000006</th>\n",
       "      <td>26650.431</td>\n",
       "      <td>24756.100</td>\n",
       "      <td>1894.331</td>\n",
       "    </tr>\n",
       "    <tr>\n",
       "      <th>922000001</th>\n",
       "      <td>24624.795</td>\n",
       "      <td>24930.026</td>\n",
       "      <td>-305.231</td>\n",
       "    </tr>\n",
       "    <tr>\n",
       "      <th>922000002</th>\n",
       "      <td>24339.321</td>\n",
       "      <td>25609.600</td>\n",
       "      <td>-1270.279</td>\n",
       "    </tr>\n",
       "    <tr>\n",
       "      <th>922000000</th>\n",
       "      <td>17149.804</td>\n",
       "      <td>13388.274</td>\n",
       "      <td>3761.530</td>\n",
       "    </tr>\n",
       "    <tr>\n",
       "      <th>960000000</th>\n",
       "      <td>16322.000</td>\n",
       "      <td>22962.000</td>\n",
       "      <td>-6640.000</td>\n",
       "    </tr>\n",
       "    <tr>\n",
       "      <th>915030101</th>\n",
       "      <td>14554.538</td>\n",
       "      <td>14920.036</td>\n",
       "      <td>-365.498</td>\n",
       "    </tr>\n",
       "    <tr>\n",
       "      <th>923000000</th>\n",
       "      <td>13846.122</td>\n",
       "      <td>16214.801</td>\n",
       "      <td>-2368.679</td>\n",
       "    </tr>\n",
       "    <tr>\n",
       "      <th>910030000</th>\n",
       "      <td>12813.000</td>\n",
       "      <td>13286.000</td>\n",
       "      <td>-473.000</td>\n",
       "    </tr>\n",
       "    <tr>\n",
       "      <th>922000003</th>\n",
       "      <td>12122.704</td>\n",
       "      <td>23699.093</td>\n",
       "      <td>-11576.389</td>\n",
       "    </tr>\n",
       "    <tr>\n",
       "      <th>915030104</th>\n",
       "      <td>9660.681</td>\n",
       "      <td>8407.602</td>\n",
       "      <td>1253.079</td>\n",
       "    </tr>\n",
       "  </tbody>\n",
       "</table>\n",
       "</div>"
      ],
      "text/plain": [
       "               Qty_x      Qty_y          差\n",
       "CateID                                    \n",
       "923000006  26650.431  24756.100   1894.331\n",
       "922000001  24624.795  24930.026   -305.231\n",
       "922000002  24339.321  25609.600  -1270.279\n",
       "922000000  17149.804  13388.274   3761.530\n",
       "960000000  16322.000  22962.000  -6640.000\n",
       "915030101  14554.538  14920.036   -365.498\n",
       "923000000  13846.122  16214.801  -2368.679\n",
       "910030000  12813.000  13286.000   -473.000\n",
       "922000003  12122.704  23699.093 -11576.389\n",
       "915030104   9660.681   8407.602   1253.079"
      ]
     },
     "execution_count": 25,
     "metadata": {},
     "output_type": "execute_result"
    }
   ],
   "source": [
    "#计算17年4月销量Top10的品类在17年3月的销量情况\n",
    "df_AM = pd.merge(df_A,df_M,left_index = True,right_index = True)\n",
    "df_AM[\"差\"] = df_AM[\"Qty_x\"] - df_AM[\"Qty_y\"]\n",
    "df_AM"
   ]
  },
  {
   "cell_type": "code",
   "execution_count": 26,
   "metadata": {
    "ExecuteTime": {
     "end_time": "2019-07-17T13:49:30.816736Z",
     "start_time": "2019-07-17T13:49:30.751913Z"
    }
   },
   "outputs": [
    {
     "data": {
      "text/html": [
       "<div>\n",
       "<style scoped>\n",
       "    .dataframe tbody tr th:only-of-type {\n",
       "        vertical-align: middle;\n",
       "    }\n",
       "\n",
       "    .dataframe tbody tr th {\n",
       "        vertical-align: top;\n",
       "    }\n",
       "\n",
       "    .dataframe thead th {\n",
       "        text-align: right;\n",
       "    }\n",
       "</style>\n",
       "<table border=\"1\" class=\"dataframe\">\n",
       "  <thead>\n",
       "    <tr style=\"text-align: right;\">\n",
       "      <th></th>\n",
       "      <th>Qty</th>\n",
       "    </tr>\n",
       "    <tr>\n",
       "      <th>CateID</th>\n",
       "      <th></th>\n",
       "    </tr>\n",
       "  </thead>\n",
       "  <tbody>\n",
       "    <tr>\n",
       "      <th>910000000</th>\n",
       "      <td>1446.0</td>\n",
       "    </tr>\n",
       "    <tr>\n",
       "      <th>910000001</th>\n",
       "      <td>81.0</td>\n",
       "    </tr>\n",
       "    <tr>\n",
       "      <th>910000100</th>\n",
       "      <td>24.0</td>\n",
       "    </tr>\n",
       "    <tr>\n",
       "      <th>910010000</th>\n",
       "      <td>1047.0</td>\n",
       "    </tr>\n",
       "    <tr>\n",
       "      <th>910010001</th>\n",
       "      <td>3.0</td>\n",
       "    </tr>\n",
       "    <tr>\n",
       "      <th>910010002</th>\n",
       "      <td>124.0</td>\n",
       "    </tr>\n",
       "    <tr>\n",
       "      <th>910010100</th>\n",
       "      <td>53.0</td>\n",
       "    </tr>\n",
       "    <tr>\n",
       "      <th>910010101</th>\n",
       "      <td>9.0</td>\n",
       "    </tr>\n",
       "    <tr>\n",
       "      <th>910010102</th>\n",
       "      <td>151.0</td>\n",
       "    </tr>\n",
       "    <tr>\n",
       "      <th>910010104</th>\n",
       "      <td>1.0</td>\n",
       "    </tr>\n",
       "  </tbody>\n",
       "</table>\n",
       "</div>"
      ],
      "text/plain": [
       "              Qty\n",
       "CateID           \n",
       "910000000  1446.0\n",
       "910000001    81.0\n",
       "910000100    24.0\n",
       "910010000  1047.0\n",
       "910010001     3.0\n",
       "910010002   124.0\n",
       "910010100    53.0\n",
       "910010101     9.0\n",
       "910010102   151.0\n",
       "910010104     1.0"
      ]
     },
     "execution_count": 26,
     "metadata": {},
     "output_type": "execute_result"
    }
   ],
   "source": [
    "#2016年4月不同品类的销量\n",
    "cate_sale_L = L_April_data.groupby(\"CateID\")[\"Qty\"].sum()\n",
    "df_L_M = pd.DataFrame(cate_sale_L)\n",
    "df_L_M.head(10)"
   ]
  },
  {
   "cell_type": "code",
   "execution_count": 27,
   "metadata": {
    "ExecuteTime": {
     "end_time": "2019-07-17T13:49:31.157823Z",
     "start_time": "2019-07-17T13:49:31.130896Z"
    }
   },
   "outputs": [
    {
     "data": {
      "text/html": [
       "<div>\n",
       "<style scoped>\n",
       "    .dataframe tbody tr th:only-of-type {\n",
       "        vertical-align: middle;\n",
       "    }\n",
       "\n",
       "    .dataframe tbody tr th {\n",
       "        vertical-align: top;\n",
       "    }\n",
       "\n",
       "    .dataframe thead th {\n",
       "        text-align: right;\n",
       "    }\n",
       "</style>\n",
       "<table border=\"1\" class=\"dataframe\">\n",
       "  <thead>\n",
       "    <tr style=\"text-align: right;\">\n",
       "      <th></th>\n",
       "      <th>Qty_x</th>\n",
       "      <th>Qty_y</th>\n",
       "      <th>差</th>\n",
       "    </tr>\n",
       "    <tr>\n",
       "      <th>CateID</th>\n",
       "      <th></th>\n",
       "      <th></th>\n",
       "      <th></th>\n",
       "    </tr>\n",
       "  </thead>\n",
       "  <tbody>\n",
       "    <tr>\n",
       "      <th>923000006</th>\n",
       "      <td>26650.431</td>\n",
       "      <td>40411.915</td>\n",
       "      <td>-13761.484</td>\n",
       "    </tr>\n",
       "    <tr>\n",
       "      <th>922000001</th>\n",
       "      <td>24624.795</td>\n",
       "      <td>3580.688</td>\n",
       "      <td>21044.107</td>\n",
       "    </tr>\n",
       "    <tr>\n",
       "      <th>922000000</th>\n",
       "      <td>17149.804</td>\n",
       "      <td>59.287</td>\n",
       "      <td>17090.517</td>\n",
       "    </tr>\n",
       "    <tr>\n",
       "      <th>960000000</th>\n",
       "      <td>16322.000</td>\n",
       "      <td>21933.000</td>\n",
       "      <td>-5611.000</td>\n",
       "    </tr>\n",
       "    <tr>\n",
       "      <th>915030101</th>\n",
       "      <td>14554.538</td>\n",
       "      <td>23367.371</td>\n",
       "      <td>-8812.833</td>\n",
       "    </tr>\n",
       "    <tr>\n",
       "      <th>923000000</th>\n",
       "      <td>13846.122</td>\n",
       "      <td>24832.640</td>\n",
       "      <td>-10986.518</td>\n",
       "    </tr>\n",
       "    <tr>\n",
       "      <th>910030000</th>\n",
       "      <td>12813.000</td>\n",
       "      <td>12710.000</td>\n",
       "      <td>103.000</td>\n",
       "    </tr>\n",
       "    <tr>\n",
       "      <th>915030104</th>\n",
       "      <td>9660.681</td>\n",
       "      <td>19489.435</td>\n",
       "      <td>-9828.754</td>\n",
       "    </tr>\n",
       "  </tbody>\n",
       "</table>\n",
       "</div>"
      ],
      "text/plain": [
       "               Qty_x      Qty_y          差\n",
       "CateID                                    \n",
       "923000006  26650.431  40411.915 -13761.484\n",
       "922000001  24624.795   3580.688  21044.107\n",
       "922000000  17149.804     59.287  17090.517\n",
       "960000000  16322.000  21933.000  -5611.000\n",
       "915030101  14554.538  23367.371  -8812.833\n",
       "923000000  13846.122  24832.640 -10986.518\n",
       "910030000  12813.000  12710.000    103.000\n",
       "915030104   9660.681  19489.435  -9828.754"
      ]
     },
     "execution_count": 27,
     "metadata": {},
     "output_type": "execute_result"
    }
   ],
   "source": [
    "#计算17年4月销量Top10的商品在16年4月的销量情况\n",
    "df_AL = pd.merge(df_A,df_L_M,left_index = True,right_index = True)\n",
    "df_AL[\"差\"] = df_AL[\"Qty_x\"] - df_AL[\"Qty_y\"]\n",
    "df_AL"
   ]
  },
  {
   "cell_type": "code",
   "execution_count": null,
   "metadata": {},
   "outputs": [],
   "source": []
  },
  {
   "cell_type": "code",
   "execution_count": null,
   "metadata": {},
   "outputs": [],
   "source": []
  },
  {
   "cell_type": "code",
   "execution_count": null,
   "metadata": {},
   "outputs": [],
   "source": []
  },
  {
   "cell_type": "code",
   "execution_count": null,
   "metadata": {},
   "outputs": [],
   "source": []
  }
 ],
 "metadata": {
  "kernelspec": {
   "display_name": "Python 3",
   "language": "python",
   "name": "python3"
  },
  "language_info": {
   "codemirror_mode": {
    "name": "ipython",
    "version": 3
   },
   "file_extension": ".py",
   "mimetype": "text/x-python",
   "name": "python",
   "nbconvert_exporter": "python",
   "pygments_lexer": "ipython3",
   "version": "3.6.4"
  },
  "toc": {
   "base_numbering": 1,
   "nav_menu": {},
   "number_sections": true,
   "sideBar": true,
   "skip_h1_title": false,
   "title_cell": "Table of Contents",
   "title_sidebar": "Contents",
   "toc_cell": false,
   "toc_position": {},
   "toc_section_display": true,
   "toc_window_display": false
  },
  "varInspector": {
   "cols": {
    "lenName": 16,
    "lenType": 16,
    "lenVar": 40
   },
   "kernels_config": {
    "python": {
     "delete_cmd_postfix": "",
     "delete_cmd_prefix": "del ",
     "library": "var_list.py",
     "varRefreshCmd": "print(var_dic_list())"
    },
    "r": {
     "delete_cmd_postfix": ") ",
     "delete_cmd_prefix": "rm(",
     "library": "var_list.r",
     "varRefreshCmd": "cat(var_dic_list()) "
    }
   },
   "types_to_exclude": [
    "module",
    "function",
    "builtin_function_or_method",
    "instance",
    "_Feature"
   ],
   "window_display": false
  }
 },
 "nbformat": 4,
 "nbformat_minor": 2
}
