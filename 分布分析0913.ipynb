{
 "cells": [
  {
   "cell_type": "code",
   "execution_count": 1,
   "metadata": {
    "ExecuteTime": {
     "end_time": "2019-09-13T05:00:55.533428Z",
     "start_time": "2019-09-13T05:00:55.506501Z"
    }
   },
   "outputs": [
    {
     "data": {
      "text/plain": [
       "'\\n【课程1.2】  分布分析\\n\\n分布分析 → 研究数据的分布特征和分布类型，分定量数据、定性数据区分基本统计量\\n\\n极差 / 频率分布情况 / 分组组距及组数\\n\\n'"
      ]
     },
     "execution_count": 1,
     "metadata": {},
     "output_type": "execute_result"
    }
   ],
   "source": [
    "'''\n",
    "【课程1.2】  分布分析\n",
    "\n",
    "分布分析 → 研究数据的分布特征和分布类型，分定量数据、定性数据区分基本统计量\n",
    "\n",
    "极差 / 频率分布情况 / 分组组距及组数\n",
    "\n",
    "'''"
   ]
  },
  {
   "cell_type": "code",
   "execution_count": 2,
   "metadata": {
    "ExecuteTime": {
     "end_time": "2019-09-13T05:00:56.956664Z",
     "start_time": "2019-09-13T05:00:56.133857Z"
    }
   },
   "outputs": [],
   "source": [
    "import numpy as np\n",
    "import pandas as pd\n",
    "import matplotlib.pyplot as plt\n",
    "% matplotlib inline"
   ]
  },
  {
   "cell_type": "code",
   "execution_count": 3,
   "metadata": {
    "ExecuteTime": {
     "end_time": "2019-09-13T05:00:58.396769Z",
     "start_time": "2019-09-13T05:00:58.013796Z"
    }
   },
   "outputs": [
    {
     "name": "stdout",
     "output_type": "stream",
     "text": [
      "房屋编码      int64\n",
      "小区       object\n",
      "朝向       object\n",
      "房屋单价      int64\n",
      "参考首付    float64\n",
      "参考总价    float64\n",
      "经度      float64\n",
      "纬度      float64\n",
      "dtype: object\n",
      "-------\n",
      "数据长度为75条\n"
     ]
    },
    {
     "data": {
      "text/html": [
       "<div>\n",
       "<style scoped>\n",
       "    .dataframe tbody tr th:only-of-type {\n",
       "        vertical-align: middle;\n",
       "    }\n",
       "\n",
       "    .dataframe tbody tr th {\n",
       "        vertical-align: top;\n",
       "    }\n",
       "\n",
       "    .dataframe thead th {\n",
       "        text-align: right;\n",
       "    }\n",
       "</style>\n",
       "<table border=\"1\" class=\"dataframe\">\n",
       "  <thead>\n",
       "    <tr style=\"text-align: right;\">\n",
       "      <th></th>\n",
       "      <th>房屋编码</th>\n",
       "      <th>小区</th>\n",
       "      <th>朝向</th>\n",
       "      <th>房屋单价</th>\n",
       "      <th>参考首付</th>\n",
       "      <th>参考总价</th>\n",
       "      <th>经度</th>\n",
       "      <th>纬度</th>\n",
       "    </tr>\n",
       "  </thead>\n",
       "  <tbody>\n",
       "    <tr>\n",
       "      <th>0</th>\n",
       "      <td>605093949</td>\n",
       "      <td>大望新平村</td>\n",
       "      <td>南北</td>\n",
       "      <td>5434</td>\n",
       "      <td>15.0</td>\n",
       "      <td>50.0</td>\n",
       "      <td>114.180964</td>\n",
       "      <td>22.603698</td>\n",
       "    </tr>\n",
       "    <tr>\n",
       "      <th>1</th>\n",
       "      <td>605768856</td>\n",
       "      <td>通宝楼</td>\n",
       "      <td>南北</td>\n",
       "      <td>3472</td>\n",
       "      <td>7.5</td>\n",
       "      <td>25.0</td>\n",
       "      <td>114.179298</td>\n",
       "      <td>22.566910</td>\n",
       "    </tr>\n",
       "    <tr>\n",
       "      <th>2</th>\n",
       "      <td>606815561</td>\n",
       "      <td>罗湖区罗芳村</td>\n",
       "      <td>南北</td>\n",
       "      <td>5842</td>\n",
       "      <td>15.6</td>\n",
       "      <td>52.0</td>\n",
       "      <td>114.158869</td>\n",
       "      <td>22.547223</td>\n",
       "    </tr>\n",
       "    <tr>\n",
       "      <th>3</th>\n",
       "      <td>605147285</td>\n",
       "      <td>兴华苑</td>\n",
       "      <td>南北</td>\n",
       "      <td>3829</td>\n",
       "      <td>10.8</td>\n",
       "      <td>36.0</td>\n",
       "      <td>114.158040</td>\n",
       "      <td>22.554343</td>\n",
       "    </tr>\n",
       "    <tr>\n",
       "      <th>4</th>\n",
       "      <td>606030866</td>\n",
       "      <td>京基东方都会</td>\n",
       "      <td>西南</td>\n",
       "      <td>47222</td>\n",
       "      <td>51.0</td>\n",
       "      <td>170.0</td>\n",
       "      <td>114.149243</td>\n",
       "      <td>22.554370</td>\n",
       "    </tr>\n",
       "  </tbody>\n",
       "</table>\n",
       "</div>"
      ],
      "text/plain": [
       "        房屋编码      小区  朝向   房屋单价  参考首付   参考总价          经度         纬度\n",
       "0  605093949   大望新平村  南北   5434  15.0   50.0  114.180964  22.603698\n",
       "1  605768856     通宝楼  南北   3472   7.5   25.0  114.179298  22.566910\n",
       "2  606815561  罗湖区罗芳村  南北   5842  15.6   52.0  114.158869  22.547223\n",
       "3  605147285     兴华苑  南北   3829  10.8   36.0  114.158040  22.554343\n",
       "4  606030866  京基东方都会  西南  47222  51.0  170.0  114.149243  22.554370"
      ]
     },
     "execution_count": 3,
     "metadata": {},
     "output_type": "execute_result"
    },
    {
     "data": {
      "image/png": "[encoded data removed]",
      "text/plain": [
       "<Figure size 432x288 with 1 Axes>"
      ]
     },
     "metadata": {
      "needs_background": "light"
     },
     "output_type": "display_data"
    }
   ],
   "source": [
    "# 数据读取\n",
    "\n",
    "data = pd.read_csv('./深圳罗湖二手房信息.csv',engine = 'python')\n",
    "plt.scatter(data['经度'],data['纬度'],  # 按照经纬度显示\n",
    "            s = data['房屋单价']/500,  # 按照单价显示大小\n",
    "            c = data['参考总价'],  # 按照总价显示颜色\n",
    "            alpha = 0.4, cmap = 'Reds')  \n",
    "plt.grid()\n",
    "print(data.dtypes)\n",
    "print('-------\\n数据长度为%i条' % len(data))\n",
    "data.head()\n",
    "# 通过数据可见，一共8个字段\n",
    "# 定量字段：房屋单价，参考首付，参考总价，*经度，*纬度，*房屋编码\n",
    "# 定性字段：小区，朝向"
   ]
  },
  {
   "cell_type": "code",
   "execution_count": 4,
   "metadata": {
    "ExecuteTime": {
     "end_time": "2019-09-13T05:01:26.390688Z",
     "start_time": "2019-09-13T05:01:26.361764Z"
    }
   },
   "outputs": [
    {
     "name": "stdout",
     "output_type": "stream",
     "text": [
      "参考首付极差为 52.500000 \n",
      "参考总价极差为 175.000000\n"
     ]
    }
   ],
   "source": [
    "# 极差：max-min\n",
    "# 只针对定量字段\n",
    "def d_range(df,*cols):\n",
    "    krange = []\n",
    "    for col in cols:\n",
    "        crange = df[col].max() - df[col].min()\n",
    "        krange.append(crange)\n",
    "    return(krange)\n",
    "# 创建函数求极差\n",
    "\n",
    "key1 = '参考首付'\n",
    "key2 = '参考总价'\n",
    "dr = d_range(data,key1,key2)\n",
    "print('%s极差为 %f \\n%s极差为 %f' % (key1, dr[0], key2, dr[1]))\n",
    "# 求出数据对应列的极差"
   ]
  },
  {
   "cell_type": "code",
   "execution_count": 6,
   "metadata": {
    "ExecuteTime": {
     "end_time": "2019-09-13T05:01:32.858388Z",
     "start_time": "2019-09-13T05:01:32.611054Z"
    }
   },
   "outputs": [
    {
     "data": {
      "text/plain": [
       "<matplotlib.axes._subplots.AxesSubplot at 0x189613852e8>"
      ]
     },
     "execution_count": 6,
     "metadata": {},
     "output_type": "execute_result"
    },
    {
     "data": {
      "image/png": "[encoded data removed]",
      "text/plain": [
       "<Figure size 432x288 with 1 Axes>"
      ]
     },
     "metadata": {
      "needs_background": "light"
     },
     "output_type": "display_data"
    }
   ],
   "source": [
    "# 频率分布情况 - 定量字段\n",
    "# ① 通过直方图直接判断分组组数\n",
    "data[key2].hist(bins=10)\n",
    "# 简单查看数据分布，确定分布组数 → 一般8-16即可\n",
    "# 这里以10组为参考"
   ]
  },
  {
   "cell_type": "code",
   "execution_count": 8,
   "metadata": {
    "ExecuteTime": {
     "end_time": "2019-09-13T05:01:39.385933Z",
     "start_time": "2019-09-13T05:01:39.319111Z"
    }
   },
   "outputs": [
    {
     "name": "stdout",
     "output_type": "stream",
     "text": [
      "0      [42.5, 60.0)\n",
      "1      [25.0, 42.5)\n",
      "2      [42.5, 60.0)\n",
      "3      [25.0, 42.5)\n",
      "4    [165.0, 182.5)\n",
      "Name: 参考总价, dtype: category\n",
      "Categories (10, interval[float64]): [[25.0, 42.5) < [42.5, 60.0) < [60.0, 77.5) < [77.5, 95.0) ... [130.0, 147.5) < [147.5, 165.0) < [165.0, 182.5) < [182.5, 200.175)] \n",
      "------\n",
      "[25.0, 42.5)        14\n",
      "[42.5, 60.0)        17\n",
      "[60.0, 77.5)         1\n",
      "[77.5, 95.0)         2\n",
      "[95.0, 112.5)        4\n",
      "[112.5, 130.0)       2\n",
      "[130.0, 147.5)       3\n",
      "[147.5, 165.0)       4\n",
      "[165.0, 182.5)       8\n",
      "[182.5, 200.175)    20\n",
      "Name: 参考总价, dtype: int64\n"
     ]
    },
    {
     "data": {
      "text/html": [
       "<div>\n",
       "<style scoped>\n",
       "    .dataframe tbody tr th:only-of-type {\n",
       "        vertical-align: middle;\n",
       "    }\n",
       "\n",
       "    .dataframe tbody tr th {\n",
       "        vertical-align: top;\n",
       "    }\n",
       "\n",
       "    .dataframe thead th {\n",
       "        text-align: right;\n",
       "    }\n",
       "</style>\n",
       "<table border=\"1\" class=\"dataframe\">\n",
       "  <thead>\n",
       "    <tr style=\"text-align: right;\">\n",
       "      <th></th>\n",
       "      <th>房屋编码</th>\n",
       "      <th>小区</th>\n",
       "      <th>朝向</th>\n",
       "      <th>房屋单价</th>\n",
       "      <th>参考首付</th>\n",
       "      <th>参考总价</th>\n",
       "      <th>经度</th>\n",
       "      <th>纬度</th>\n",
       "      <th>参考总价分组区间</th>\n",
       "    </tr>\n",
       "  </thead>\n",
       "  <tbody>\n",
       "    <tr>\n",
       "      <th>0</th>\n",
       "      <td>605093949</td>\n",
       "      <td>大望新平村</td>\n",
       "      <td>南北</td>\n",
       "      <td>5434</td>\n",
       "      <td>15.0</td>\n",
       "      <td>50.0</td>\n",
       "      <td>114.180964</td>\n",
       "      <td>22.603698</td>\n",
       "      <td>[42.5, 60.0)</td>\n",
       "    </tr>\n",
       "    <tr>\n",
       "      <th>1</th>\n",
       "      <td>605768856</td>\n",
       "      <td>通宝楼</td>\n",
       "      <td>南北</td>\n",
       "      <td>3472</td>\n",
       "      <td>7.5</td>\n",
       "      <td>25.0</td>\n",
       "      <td>114.179298</td>\n",
       "      <td>22.566910</td>\n",
       "      <td>[25.0, 42.5)</td>\n",
       "    </tr>\n",
       "    <tr>\n",
       "      <th>2</th>\n",
       "      <td>606815561</td>\n",
       "      <td>罗湖区罗芳村</td>\n",
       "      <td>南北</td>\n",
       "      <td>5842</td>\n",
       "      <td>15.6</td>\n",
       "      <td>52.0</td>\n",
       "      <td>114.158869</td>\n",
       "      <td>22.547223</td>\n",
       "      <td>[42.5, 60.0)</td>\n",
       "    </tr>\n",
       "    <tr>\n",
       "      <th>3</th>\n",
       "      <td>605147285</td>\n",
       "      <td>兴华苑</td>\n",
       "      <td>南北</td>\n",
       "      <td>3829</td>\n",
       "      <td>10.8</td>\n",
       "      <td>36.0</td>\n",
       "      <td>114.158040</td>\n",
       "      <td>22.554343</td>\n",
       "      <td>[25.0, 42.5)</td>\n",
       "    </tr>\n",
       "    <tr>\n",
       "      <th>4</th>\n",
       "      <td>606030866</td>\n",
       "      <td>京基东方都会</td>\n",
       "      <td>西南</td>\n",
       "      <td>47222</td>\n",
       "      <td>51.0</td>\n",
       "      <td>170.0</td>\n",
       "      <td>114.149243</td>\n",
       "      <td>22.554370</td>\n",
       "      <td>[165.0, 182.5)</td>\n",
       "    </tr>\n",
       "  </tbody>\n",
       "</table>\n",
       "</div>"
      ],
      "text/plain": [
       "        房屋编码      小区  朝向   房屋单价  参考首付   参考总价          经度         纬度  \\\n",
       "0  605093949   大望新平村  南北   5434  15.0   50.0  114.180964  22.603698   \n",
       "1  605768856     通宝楼  南北   3472   7.5   25.0  114.179298  22.566910   \n",
       "2  606815561  罗湖区罗芳村  南北   5842  15.6   52.0  114.158869  22.547223   \n",
       "3  605147285     兴华苑  南北   3829  10.8   36.0  114.158040  22.554343   \n",
       "4  606030866  京基东方都会  西南  47222  51.0  170.0  114.149243  22.554370   \n",
       "\n",
       "         参考总价分组区间  \n",
       "0    [42.5, 60.0)  \n",
       "1    [25.0, 42.5)  \n",
       "2    [42.5, 60.0)  \n",
       "3    [25.0, 42.5)  \n",
       "4  [165.0, 182.5)  "
      ]
     },
     "execution_count": 8,
     "metadata": {},
     "output_type": "execute_result"
    }
   ],
   "source": [
    "# 频率分布情况 - 定量字段\n",
    "# ② 求出分组区间\n",
    "gcut = pd.cut(data[key2],10,right=False)\n",
    "gcut_count = gcut.value_counts(sort=False)  # 不排序\n",
    "data['%s分组区间' % key2] = gcut.values\n",
    "print(gcut.head(),'\\n------')\n",
    "print(gcut_count)\n",
    "data.head()\n",
    "# pd.cut(x, bins, right)：按照组数对x分组，且返回一个和x同样长度的分组dataframe，right → 是否右边包含，默认True\n",
    "# 通过groupby查看不同组的数据频率分布\n",
    "# 给源数据data添加“分组区间”列"
   ]
  },
  {
   "cell_type": "code",
   "execution_count": 9,
   "metadata": {
    "ExecuteTime": {
     "end_time": "2019-09-13T05:01:47.901447Z",
     "start_time": "2019-09-13T05:01:47.752809Z"
    }
   },
   "outputs": [
    {
     "data": {
      "text/html": [
       "<style  type=\"text/css\" >\n",
       "    #T_96fa3c34_d5e3_11e9_b475_0c96e65efa01row0_col1 {\n",
       "            width:  10em;\n",
       "             height:  80%;\n",
       "            background:  linear-gradient(90deg,green 68.4%, transparent 68.4%);\n",
       "        }    #T_96fa3c34_d5e3_11e9_b475_0c96e65efa01row0_col2 {\n",
       "            width:  10em;\n",
       "             height:  80%;\n",
       "        }    #T_96fa3c34_d5e3_11e9_b475_0c96e65efa01row1_col1 {\n",
       "            width:  10em;\n",
       "             height:  80%;\n",
       "            background:  linear-gradient(90deg,green 84.2%, transparent 84.2%);\n",
       "        }    #T_96fa3c34_d5e3_11e9_b475_0c96e65efa01row1_col2 {\n",
       "            width:  10em;\n",
       "             height:  80%;\n",
       "            background:  linear-gradient(90deg,green 27.9%, transparent 27.9%);\n",
       "        }    #T_96fa3c34_d5e3_11e9_b475_0c96e65efa01row2_col1 {\n",
       "            width:  10em;\n",
       "             height:  80%;\n",
       "        }    #T_96fa3c34_d5e3_11e9_b475_0c96e65efa01row2_col2 {\n",
       "            width:  10em;\n",
       "             height:  80%;\n",
       "            background:  linear-gradient(90deg,green 29.5%, transparent 29.5%);\n",
       "        }    #T_96fa3c34_d5e3_11e9_b475_0c96e65efa01row3_col1 {\n",
       "            width:  10em;\n",
       "             height:  80%;\n",
       "            background:  linear-gradient(90deg,green 5.3%, transparent 5.3%);\n",
       "        }    #T_96fa3c34_d5e3_11e9_b475_0c96e65efa01row3_col2 {\n",
       "            width:  10em;\n",
       "             height:  80%;\n",
       "            background:  linear-gradient(90deg,green 32.8%, transparent 32.8%);\n",
       "        }    #T_96fa3c34_d5e3_11e9_b475_0c96e65efa01row4_col1 {\n",
       "            width:  10em;\n",
       "             height:  80%;\n",
       "            background:  linear-gradient(90deg,green 15.8%, transparent 15.8%);\n",
       "        }    #T_96fa3c34_d5e3_11e9_b475_0c96e65efa01row4_col2 {\n",
       "            width:  10em;\n",
       "             height:  80%;\n",
       "            background:  linear-gradient(90deg,green 39.3%, transparent 39.3%);\n",
       "        }    #T_96fa3c34_d5e3_11e9_b475_0c96e65efa01row5_col1 {\n",
       "            width:  10em;\n",
       "             height:  80%;\n",
       "            background:  linear-gradient(90deg,green 5.3%, transparent 5.3%);\n",
       "        }    #T_96fa3c34_d5e3_11e9_b475_0c96e65efa01row5_col2 {\n",
       "            width:  10em;\n",
       "             height:  80%;\n",
       "            background:  linear-gradient(90deg,green 42.6%, transparent 42.6%);\n",
       "        }    #T_96fa3c34_d5e3_11e9_b475_0c96e65efa01row6_col1 {\n",
       "            width:  10em;\n",
       "             height:  80%;\n",
       "            background:  linear-gradient(90deg,green 10.5%, transparent 10.5%);\n",
       "        }    #T_96fa3c34_d5e3_11e9_b475_0c96e65efa01row6_col2 {\n",
       "            width:  10em;\n",
       "             height:  80%;\n",
       "            background:  linear-gradient(90deg,green 47.5%, transparent 47.5%);\n",
       "        }    #T_96fa3c34_d5e3_11e9_b475_0c96e65efa01row7_col1 {\n",
       "            width:  10em;\n",
       "             height:  80%;\n",
       "            background:  linear-gradient(90deg,green 15.8%, transparent 15.8%);\n",
       "        }    #T_96fa3c34_d5e3_11e9_b475_0c96e65efa01row7_col2 {\n",
       "            width:  10em;\n",
       "             height:  80%;\n",
       "            background:  linear-gradient(90deg,green 54.1%, transparent 54.1%);\n",
       "        }    #T_96fa3c34_d5e3_11e9_b475_0c96e65efa01row8_col1 {\n",
       "            width:  10em;\n",
       "             height:  80%;\n",
       "            background:  linear-gradient(90deg,green 36.8%, transparent 36.8%);\n",
       "        }    #T_96fa3c34_d5e3_11e9_b475_0c96e65efa01row8_col2 {\n",
       "            width:  10em;\n",
       "             height:  80%;\n",
       "            background:  linear-gradient(90deg,green 67.2%, transparent 67.2%);\n",
       "        }    #T_96fa3c34_d5e3_11e9_b475_0c96e65efa01row9_col1 {\n",
       "            width:  10em;\n",
       "             height:  80%;\n",
       "            background:  linear-gradient(90deg,green 100.0%, transparent 100.0%);\n",
       "        }    #T_96fa3c34_d5e3_11e9_b475_0c96e65efa01row9_col2 {\n",
       "            width:  10em;\n",
       "             height:  80%;\n",
       "            background:  linear-gradient(90deg,green 100.0%, transparent 100.0%);\n",
       "        }</style><table id=\"T_96fa3c34_d5e3_11e9_b475_0c96e65efa01\" ><thead>    <tr>        <th class=\"blank level0\" ></th>        <th class=\"col_heading level0 col0\" >频数</th>        <th class=\"col_heading level0 col1\" >频率</th>        <th class=\"col_heading level0 col2\" >累计频率</th>        <th class=\"col_heading level0 col3\" >频率%</th>        <th class=\"col_heading level0 col4\" >累计频率%</th>    </tr></thead><tbody>\n",
       "                <tr>\n",
       "                        <th id=\"T_96fa3c34_d5e3_11e9_b475_0c96e65efa01level0_row0\" class=\"row_heading level0 row0\" >[25.0, 42.5)</th>\n",
       "                        <td id=\"T_96fa3c34_d5e3_11e9_b475_0c96e65efa01row0_col0\" class=\"data row0 col0\" >14</td>\n",
       "                        <td id=\"T_96fa3c34_d5e3_11e9_b475_0c96e65efa01row0_col1\" class=\"data row0 col1\" >0.186667</td>\n",
       "                        <td id=\"T_96fa3c34_d5e3_11e9_b475_0c96e65efa01row0_col2\" class=\"data row0 col2\" >0.186667</td>\n",
       "                        <td id=\"T_96fa3c34_d5e3_11e9_b475_0c96e65efa01row0_col3\" class=\"data row0 col3\" >18.67%</td>\n",
       "                        <td id=\"T_96fa3c34_d5e3_11e9_b475_0c96e65efa01row0_col4\" class=\"data row0 col4\" >18.67%</td>\n",
       "            </tr>\n",
       "            <tr>\n",
       "                        <th id=\"T_96fa3c34_d5e3_11e9_b475_0c96e65efa01level0_row1\" class=\"row_heading level0 row1\" >[42.5, 60.0)</th>\n",
       "                        <td id=\"T_96fa3c34_d5e3_11e9_b475_0c96e65efa01row1_col0\" class=\"data row1 col0\" >17</td>\n",
       "                        <td id=\"T_96fa3c34_d5e3_11e9_b475_0c96e65efa01row1_col1\" class=\"data row1 col1\" >0.226667</td>\n",
       "                        <td id=\"T_96fa3c34_d5e3_11e9_b475_0c96e65efa01row1_col2\" class=\"data row1 col2\" >0.413333</td>\n",
       "                        <td id=\"T_96fa3c34_d5e3_11e9_b475_0c96e65efa01row1_col3\" class=\"data row1 col3\" >22.67%</td>\n",
       "                        <td id=\"T_96fa3c34_d5e3_11e9_b475_0c96e65efa01row1_col4\" class=\"data row1 col4\" >41.33%</td>\n",
       "            </tr>\n",
       "            <tr>\n",
       "                        <th id=\"T_96fa3c34_d5e3_11e9_b475_0c96e65efa01level0_row2\" class=\"row_heading level0 row2\" >[60.0, 77.5)</th>\n",
       "                        <td id=\"T_96fa3c34_d5e3_11e9_b475_0c96e65efa01row2_col0\" class=\"data row2 col0\" >1</td>\n",
       "                        <td id=\"T_96fa3c34_d5e3_11e9_b475_0c96e65efa01row2_col1\" class=\"data row2 col1\" >0.0133333</td>\n",
       "                        <td id=\"T_96fa3c34_d5e3_11e9_b475_0c96e65efa01row2_col2\" class=\"data row2 col2\" >0.426667</td>\n",
       "                        <td id=\"T_96fa3c34_d5e3_11e9_b475_0c96e65efa01row2_col3\" class=\"data row2 col3\" >1.33%</td>\n",
       "                        <td id=\"T_96fa3c34_d5e3_11e9_b475_0c96e65efa01row2_col4\" class=\"data row2 col4\" >42.67%</td>\n",
       "            </tr>\n",
       "            <tr>\n",
       "                        <th id=\"T_96fa3c34_d5e3_11e9_b475_0c96e65efa01level0_row3\" class=\"row_heading level0 row3\" >[77.5, 95.0)</th>\n",
       "                        <td id=\"T_96fa3c34_d5e3_11e9_b475_0c96e65efa01row3_col0\" class=\"data row3 col0\" >2</td>\n",
       "                        <td id=\"T_96fa3c34_d5e3_11e9_b475_0c96e65efa01row3_col1\" class=\"data row3 col1\" >0.0266667</td>\n",
       "                        <td id=\"T_96fa3c34_d5e3_11e9_b475_0c96e65efa01row3_col2\" class=\"data row3 col2\" >0.453333</td>\n",
       "                        <td id=\"T_96fa3c34_d5e3_11e9_b475_0c96e65efa01row3_col3\" class=\"data row3 col3\" >2.67%</td>\n",
       "                        <td id=\"T_96fa3c34_d5e3_11e9_b475_0c96e65efa01row3_col4\" class=\"data row3 col4\" >45.33%</td>\n",
       "            </tr>\n",
       "            <tr>\n",
       "                        <th id=\"T_96fa3c34_d5e3_11e9_b475_0c96e65efa01level0_row4\" class=\"row_heading level0 row4\" >[95.0, 112.5)</th>\n",
       "                        <td id=\"T_96fa3c34_d5e3_11e9_b475_0c96e65efa01row4_col0\" class=\"data row4 col0\" >4</td>\n",
       "                        <td id=\"T_96fa3c34_d5e3_11e9_b475_0c96e65efa01row4_col1\" class=\"data row4 col1\" >0.0533333</td>\n",
       "                        <td id=\"T_96fa3c34_d5e3_11e9_b475_0c96e65efa01row4_col2\" class=\"data row4 col2\" >0.506667</td>\n",
       "                        <td id=\"T_96fa3c34_d5e3_11e9_b475_0c96e65efa01row4_col3\" class=\"data row4 col3\" >5.33%</td>\n",
       "                        <td id=\"T_96fa3c34_d5e3_11e9_b475_0c96e65efa01row4_col4\" class=\"data row4 col4\" >50.67%</td>\n",
       "            </tr>\n",
       "            <tr>\n",
       "                        <th id=\"T_96fa3c34_d5e3_11e9_b475_0c96e65efa01level0_row5\" class=\"row_heading level0 row5\" >[112.5, 130.0)</th>\n",
       "                        <td id=\"T_96fa3c34_d5e3_11e9_b475_0c96e65efa01row5_col0\" class=\"data row5 col0\" >2</td>\n",
       "                        <td id=\"T_96fa3c34_d5e3_11e9_b475_0c96e65efa01row5_col1\" class=\"data row5 col1\" >0.0266667</td>\n",
       "                        <td id=\"T_96fa3c34_d5e3_11e9_b475_0c96e65efa01row5_col2\" class=\"data row5 col2\" >0.533333</td>\n",
       "                        <td id=\"T_96fa3c34_d5e3_11e9_b475_0c96e65efa01row5_col3\" class=\"data row5 col3\" >2.67%</td>\n",
       "                        <td id=\"T_96fa3c34_d5e3_11e9_b475_0c96e65efa01row5_col4\" class=\"data row5 col4\" >53.33%</td>\n",
       "            </tr>\n",
       "            <tr>\n",
       "                        <th id=\"T_96fa3c34_d5e3_11e9_b475_0c96e65efa01level0_row6\" class=\"row_heading level0 row6\" >[130.0, 147.5)</th>\n",
       "                        <td id=\"T_96fa3c34_d5e3_11e9_b475_0c96e65efa01row6_col0\" class=\"data row6 col0\" >3</td>\n",
       "                        <td id=\"T_96fa3c34_d5e3_11e9_b475_0c96e65efa01row6_col1\" class=\"data row6 col1\" >0.04</td>\n",
       "                        <td id=\"T_96fa3c34_d5e3_11e9_b475_0c96e65efa01row6_col2\" class=\"data row6 col2\" >0.573333</td>\n",
       "                        <td id=\"T_96fa3c34_d5e3_11e9_b475_0c96e65efa01row6_col3\" class=\"data row6 col3\" >4.00%</td>\n",
       "                        <td id=\"T_96fa3c34_d5e3_11e9_b475_0c96e65efa01row6_col4\" class=\"data row6 col4\" >57.33%</td>\n",
       "            </tr>\n",
       "            <tr>\n",
       "                        <th id=\"T_96fa3c34_d5e3_11e9_b475_0c96e65efa01level0_row7\" class=\"row_heading level0 row7\" >[147.5, 165.0)</th>\n",
       "                        <td id=\"T_96fa3c34_d5e3_11e9_b475_0c96e65efa01row7_col0\" class=\"data row7 col0\" >4</td>\n",
       "                        <td id=\"T_96fa3c34_d5e3_11e9_b475_0c96e65efa01row7_col1\" class=\"data row7 col1\" >0.0533333</td>\n",
       "                        <td id=\"T_96fa3c34_d5e3_11e9_b475_0c96e65efa01row7_col2\" class=\"data row7 col2\" >0.626667</td>\n",
       "                        <td id=\"T_96fa3c34_d5e3_11e9_b475_0c96e65efa01row7_col3\" class=\"data row7 col3\" >5.33%</td>\n",
       "                        <td id=\"T_96fa3c34_d5e3_11e9_b475_0c96e65efa01row7_col4\" class=\"data row7 col4\" >62.67%</td>\n",
       "            </tr>\n",
       "            <tr>\n",
       "                        <th id=\"T_96fa3c34_d5e3_11e9_b475_0c96e65efa01level0_row8\" class=\"row_heading level0 row8\" >[165.0, 182.5)</th>\n",
       "                        <td id=\"T_96fa3c34_d5e3_11e9_b475_0c96e65efa01row8_col0\" class=\"data row8 col0\" >8</td>\n",
       "                        <td id=\"T_96fa3c34_d5e3_11e9_b475_0c96e65efa01row8_col1\" class=\"data row8 col1\" >0.106667</td>\n",
       "                        <td id=\"T_96fa3c34_d5e3_11e9_b475_0c96e65efa01row8_col2\" class=\"data row8 col2\" >0.733333</td>\n",
       "                        <td id=\"T_96fa3c34_d5e3_11e9_b475_0c96e65efa01row8_col3\" class=\"data row8 col3\" >10.67%</td>\n",
       "                        <td id=\"T_96fa3c34_d5e3_11e9_b475_0c96e65efa01row8_col4\" class=\"data row8 col4\" >73.33%</td>\n",
       "            </tr>\n",
       "            <tr>\n",
       "                        <th id=\"T_96fa3c34_d5e3_11e9_b475_0c96e65efa01level0_row9\" class=\"row_heading level0 row9\" >[182.5, 200.175)</th>\n",
       "                        <td id=\"T_96fa3c34_d5e3_11e9_b475_0c96e65efa01row9_col0\" class=\"data row9 col0\" >20</td>\n",
       "                        <td id=\"T_96fa3c34_d5e3_11e9_b475_0c96e65efa01row9_col1\" class=\"data row9 col1\" >0.266667</td>\n",
       "                        <td id=\"T_96fa3c34_d5e3_11e9_b475_0c96e65efa01row9_col2\" class=\"data row9 col2\" >1</td>\n",
       "                        <td id=\"T_96fa3c34_d5e3_11e9_b475_0c96e65efa01row9_col3\" class=\"data row9 col3\" >26.67%</td>\n",
       "                        <td id=\"T_96fa3c34_d5e3_11e9_b475_0c96e65efa01row9_col4\" class=\"data row9 col4\" >100.00%</td>\n",
       "            </tr>\n",
       "    </tbody></table>"
      ],
      "text/plain": [
       "<pandas.io.formats.style.Styler at 0x189623deba8>"
      ]
     },
     "execution_count": 9,
     "metadata": {},
     "output_type": "execute_result"
    }
   ],
   "source": [
    "# 频率分布情况 - 定量字段\n",
    "# ③  求出目标字段下频率分布的其他统计量 → 频数，频率，累计频率\n",
    "r_zj = pd.DataFrame(gcut_count)\n",
    "r_zj.rename(columns ={gcut_count.name:'频数'}, inplace = True)  # 修改频数字段名\n",
    "r_zj['频率'] = r_zj / r_zj['频数'].sum()  # 计算频率\n",
    "r_zj['累计频率'] = r_zj['频率'].cumsum()  # 计算累计频率\n",
    "r_zj['频率%'] = r_zj['频率'].apply(lambda x: \"%.2f%%\" % (x*100))  # 以百分比显示频率\n",
    "r_zj['累计频率%'] = r_zj['累计频率'].apply(lambda x: \"%.2f%%\" % (x*100))  # 以百分比显示累计频率\n",
    "r_zj.style.bar(subset=['频率','累计频率'], color='green',width=100)\n",
    "# 可视化显示"
   ]
  },
  {
   "cell_type": "code",
   "execution_count": 12,
   "metadata": {
    "ExecuteTime": {
     "end_time": "2019-09-13T05:03:37.743631Z",
     "start_time": "2019-09-13T05:03:37.437491Z"
    }
   },
   "outputs": [
    {
     "data": {
      "image/png": "[encoded data removed]",
      "text/plain": [
       "<Figure size 864x144 with 1 Axes>"
      ]
     },
     "metadata": {
      "needs_background": "light"
     },
     "output_type": "display_data"
    }
   ],
   "source": [
    "# 频率分布情况 - 定量字段\n",
    "# ④ 绘制频率直方图\n",
    "plt.rcParams[\"font.sans-serif\"]='SimHei'#解决中文乱码\n",
    "plt.rcParams['axes.unicode_minus'] = False#解决负号无法正常显示的问题\n",
    "r_zj['频率'].plot(kind = 'bar',width = 0.8,figsize = (12,2), rot = 0,color = 'k',grid = True, alpha = 0.5)\n",
    "plt.title('参考总价分布频率直方图')\n",
    "x = len(r_zj)\n",
    "y = r_zj['频率']\n",
    "m = r_zj['频数']\n",
    "for i,j,k in zip(range(x),y,m):\n",
    "    plt.text(i-0.1,j+0.01,'%i' % k, color = 'k')\n",
    "# 添加频数标签"
   ]
  },
  {
   "cell_type": "code",
   "execution_count": 13,
   "metadata": {
    "ExecuteTime": {
     "end_time": "2019-09-13T05:04:19.695717Z",
     "start_time": "2019-09-13T05:04:19.624874Z"
    }
   },
   "outputs": [
    {
     "name": "stdout",
     "output_type": "stream",
     "text": [
      "南北    29\n",
      "南     20\n",
      "东      8\n",
      "东南     5\n",
      "西南     4\n",
      "北      4\n",
      "西北     3\n",
      "东西     1\n",
      "东北     1\n",
      "Name: 朝向, dtype: int64\n"
     ]
    },
    {
     "data": {
      "text/html": [
       "<style  type=\"text/css\" >\n",
       "    #T_f1756a3e_d5e3_11e9_8b2a_0c96e65efa01row0_col1 {\n",
       "            width:  10em;\n",
       "             height:  80%;\n",
       "            background:  linear-gradient(90deg,#d65f5f 100.0%, transparent 100.0%);\n",
       "        }    #T_f1756a3e_d5e3_11e9_8b2a_0c96e65efa01row0_col2 {\n",
       "            width:  10em;\n",
       "             height:  80%;\n",
       "        }    #T_f1756a3e_d5e3_11e9_8b2a_0c96e65efa01row1_col1 {\n",
       "            width:  10em;\n",
       "             height:  80%;\n",
       "            background:  linear-gradient(90deg,#d65f5f 67.9%, transparent 67.9%);\n",
       "        }    #T_f1756a3e_d5e3_11e9_8b2a_0c96e65efa01row1_col2 {\n",
       "            width:  10em;\n",
       "             height:  80%;\n",
       "            background:  linear-gradient(90deg,#d65f5f 43.5%, transparent 43.5%);\n",
       "        }    #T_f1756a3e_d5e3_11e9_8b2a_0c96e65efa01row2_col1 {\n",
       "            width:  10em;\n",
       "             height:  80%;\n",
       "            background:  linear-gradient(90deg,#d65f5f 25.0%, transparent 25.0%);\n",
       "        }    #T_f1756a3e_d5e3_11e9_8b2a_0c96e65efa01row2_col2 {\n",
       "            width:  10em;\n",
       "             height:  80%;\n",
       "            background:  linear-gradient(90deg,#d65f5f 60.9%, transparent 60.9%);\n",
       "        }    #T_f1756a3e_d5e3_11e9_8b2a_0c96e65efa01row3_col1 {\n",
       "            width:  10em;\n",
       "             height:  80%;\n",
       "            background:  linear-gradient(90deg,#d65f5f 14.3%, transparent 14.3%);\n",
       "        }    #T_f1756a3e_d5e3_11e9_8b2a_0c96e65efa01row3_col2 {\n",
       "            width:  10em;\n",
       "             height:  80%;\n",
       "            background:  linear-gradient(90deg,#d65f5f 71.7%, transparent 71.7%);\n",
       "        }    #T_f1756a3e_d5e3_11e9_8b2a_0c96e65efa01row4_col1 {\n",
       "            width:  10em;\n",
       "             height:  80%;\n",
       "            background:  linear-gradient(90deg,#d65f5f 10.7%, transparent 10.7%);\n",
       "        }    #T_f1756a3e_d5e3_11e9_8b2a_0c96e65efa01row4_col2 {\n",
       "            width:  10em;\n",
       "             height:  80%;\n",
       "            background:  linear-gradient(90deg,#d65f5f 80.4%, transparent 80.4%);\n",
       "        }    #T_f1756a3e_d5e3_11e9_8b2a_0c96e65efa01row5_col1 {\n",
       "            width:  10em;\n",
       "             height:  80%;\n",
       "            background:  linear-gradient(90deg,#d65f5f 10.7%, transparent 10.7%);\n",
       "        }    #T_f1756a3e_d5e3_11e9_8b2a_0c96e65efa01row5_col2 {\n",
       "            width:  10em;\n",
       "             height:  80%;\n",
       "            background:  linear-gradient(90deg,#d65f5f 89.1%, transparent 89.1%);\n",
       "        }    #T_f1756a3e_d5e3_11e9_8b2a_0c96e65efa01row6_col1 {\n",
       "            width:  10em;\n",
       "             height:  80%;\n",
       "            background:  linear-gradient(90deg,#d65f5f 7.1%, transparent 7.1%);\n",
       "        }    #T_f1756a3e_d5e3_11e9_8b2a_0c96e65efa01row6_col2 {\n",
       "            width:  10em;\n",
       "             height:  80%;\n",
       "            background:  linear-gradient(90deg,#d65f5f 95.7%, transparent 95.7%);\n",
       "        }    #T_f1756a3e_d5e3_11e9_8b2a_0c96e65efa01row7_col1 {\n",
       "            width:  10em;\n",
       "             height:  80%;\n",
       "        }    #T_f1756a3e_d5e3_11e9_8b2a_0c96e65efa01row7_col2 {\n",
       "            width:  10em;\n",
       "             height:  80%;\n",
       "            background:  linear-gradient(90deg,#d65f5f 97.8%, transparent 97.8%);\n",
       "        }    #T_f1756a3e_d5e3_11e9_8b2a_0c96e65efa01row8_col1 {\n",
       "            width:  10em;\n",
       "             height:  80%;\n",
       "        }    #T_f1756a3e_d5e3_11e9_8b2a_0c96e65efa01row8_col2 {\n",
       "            width:  10em;\n",
       "             height:  80%;\n",
       "            background:  linear-gradient(90deg,#d65f5f 100.0%, transparent 100.0%);\n",
       "        }</style><table id=\"T_f1756a3e_d5e3_11e9_8b2a_0c96e65efa01\" ><thead>    <tr>        <th class=\"blank level0\" ></th>        <th class=\"col_heading level0 col0\" >频数</th>        <th class=\"col_heading level0 col1\" >频率</th>        <th class=\"col_heading level0 col2\" >累计频率</th>        <th class=\"col_heading level0 col3\" >频率%</th>        <th class=\"col_heading level0 col4\" >累计频率%</th>    </tr></thead><tbody>\n",
       "                <tr>\n",
       "                        <th id=\"T_f1756a3e_d5e3_11e9_8b2a_0c96e65efa01level0_row0\" class=\"row_heading level0 row0\" >南北</th>\n",
       "                        <td id=\"T_f1756a3e_d5e3_11e9_8b2a_0c96e65efa01row0_col0\" class=\"data row0 col0\" >29</td>\n",
       "                        <td id=\"T_f1756a3e_d5e3_11e9_8b2a_0c96e65efa01row0_col1\" class=\"data row0 col1\" >0.386667</td>\n",
       "                        <td id=\"T_f1756a3e_d5e3_11e9_8b2a_0c96e65efa01row0_col2\" class=\"data row0 col2\" >0.386667</td>\n",
       "                        <td id=\"T_f1756a3e_d5e3_11e9_8b2a_0c96e65efa01row0_col3\" class=\"data row0 col3\" >38.67%</td>\n",
       "                        <td id=\"T_f1756a3e_d5e3_11e9_8b2a_0c96e65efa01row0_col4\" class=\"data row0 col4\" >38.67%</td>\n",
       "            </tr>\n",
       "            <tr>\n",
       "                        <th id=\"T_f1756a3e_d5e3_11e9_8b2a_0c96e65efa01level0_row1\" class=\"row_heading level0 row1\" >南</th>\n",
       "                        <td id=\"T_f1756a3e_d5e3_11e9_8b2a_0c96e65efa01row1_col0\" class=\"data row1 col0\" >20</td>\n",
       "                        <td id=\"T_f1756a3e_d5e3_11e9_8b2a_0c96e65efa01row1_col1\" class=\"data row1 col1\" >0.266667</td>\n",
       "                        <td id=\"T_f1756a3e_d5e3_11e9_8b2a_0c96e65efa01row1_col2\" class=\"data row1 col2\" >0.653333</td>\n",
       "                        <td id=\"T_f1756a3e_d5e3_11e9_8b2a_0c96e65efa01row1_col3\" class=\"data row1 col3\" >26.67%</td>\n",
       "                        <td id=\"T_f1756a3e_d5e3_11e9_8b2a_0c96e65efa01row1_col4\" class=\"data row1 col4\" >65.33%</td>\n",
       "            </tr>\n",
       "            <tr>\n",
       "                        <th id=\"T_f1756a3e_d5e3_11e9_8b2a_0c96e65efa01level0_row2\" class=\"row_heading level0 row2\" >东</th>\n",
       "                        <td id=\"T_f1756a3e_d5e3_11e9_8b2a_0c96e65efa01row2_col0\" class=\"data row2 col0\" >8</td>\n",
       "                        <td id=\"T_f1756a3e_d5e3_11e9_8b2a_0c96e65efa01row2_col1\" class=\"data row2 col1\" >0.106667</td>\n",
       "                        <td id=\"T_f1756a3e_d5e3_11e9_8b2a_0c96e65efa01row2_col2\" class=\"data row2 col2\" >0.76</td>\n",
       "                        <td id=\"T_f1756a3e_d5e3_11e9_8b2a_0c96e65efa01row2_col3\" class=\"data row2 col3\" >10.67%</td>\n",
       "                        <td id=\"T_f1756a3e_d5e3_11e9_8b2a_0c96e65efa01row2_col4\" class=\"data row2 col4\" >76.00%</td>\n",
       "            </tr>\n",
       "            <tr>\n",
       "                        <th id=\"T_f1756a3e_d5e3_11e9_8b2a_0c96e65efa01level0_row3\" class=\"row_heading level0 row3\" >东南</th>\n",
       "                        <td id=\"T_f1756a3e_d5e3_11e9_8b2a_0c96e65efa01row3_col0\" class=\"data row3 col0\" >5</td>\n",
       "                        <td id=\"T_f1756a3e_d5e3_11e9_8b2a_0c96e65efa01row3_col1\" class=\"data row3 col1\" >0.0666667</td>\n",
       "                        <td id=\"T_f1756a3e_d5e3_11e9_8b2a_0c96e65efa01row3_col2\" class=\"data row3 col2\" >0.826667</td>\n",
       "                        <td id=\"T_f1756a3e_d5e3_11e9_8b2a_0c96e65efa01row3_col3\" class=\"data row3 col3\" >6.67%</td>\n",
       "                        <td id=\"T_f1756a3e_d5e3_11e9_8b2a_0c96e65efa01row3_col4\" class=\"data row3 col4\" >82.67%</td>\n",
       "            </tr>\n",
       "            <tr>\n",
       "                        <th id=\"T_f1756a3e_d5e3_11e9_8b2a_0c96e65efa01level0_row4\" class=\"row_heading level0 row4\" >西南</th>\n",
       "                        <td id=\"T_f1756a3e_d5e3_11e9_8b2a_0c96e65efa01row4_col0\" class=\"data row4 col0\" >4</td>\n",
       "                        <td id=\"T_f1756a3e_d5e3_11e9_8b2a_0c96e65efa01row4_col1\" class=\"data row4 col1\" >0.0533333</td>\n",
       "                        <td id=\"T_f1756a3e_d5e3_11e9_8b2a_0c96e65efa01row4_col2\" class=\"data row4 col2\" >0.88</td>\n",
       "                        <td id=\"T_f1756a3e_d5e3_11e9_8b2a_0c96e65efa01row4_col3\" class=\"data row4 col3\" >5.33%</td>\n",
       "                        <td id=\"T_f1756a3e_d5e3_11e9_8b2a_0c96e65efa01row4_col4\" class=\"data row4 col4\" >88.00%</td>\n",
       "            </tr>\n",
       "            <tr>\n",
       "                        <th id=\"T_f1756a3e_d5e3_11e9_8b2a_0c96e65efa01level0_row5\" class=\"row_heading level0 row5\" >北</th>\n",
       "                        <td id=\"T_f1756a3e_d5e3_11e9_8b2a_0c96e65efa01row5_col0\" class=\"data row5 col0\" >4</td>\n",
       "                        <td id=\"T_f1756a3e_d5e3_11e9_8b2a_0c96e65efa01row5_col1\" class=\"data row5 col1\" >0.0533333</td>\n",
       "                        <td id=\"T_f1756a3e_d5e3_11e9_8b2a_0c96e65efa01row5_col2\" class=\"data row5 col2\" >0.933333</td>\n",
       "                        <td id=\"T_f1756a3e_d5e3_11e9_8b2a_0c96e65efa01row5_col3\" class=\"data row5 col3\" >5.33%</td>\n",
       "                        <td id=\"T_f1756a3e_d5e3_11e9_8b2a_0c96e65efa01row5_col4\" class=\"data row5 col4\" >93.33%</td>\n",
       "            </tr>\n",
       "            <tr>\n",
       "                        <th id=\"T_f1756a3e_d5e3_11e9_8b2a_0c96e65efa01level0_row6\" class=\"row_heading level0 row6\" >西北</th>\n",
       "                        <td id=\"T_f1756a3e_d5e3_11e9_8b2a_0c96e65efa01row6_col0\" class=\"data row6 col0\" >3</td>\n",
       "                        <td id=\"T_f1756a3e_d5e3_11e9_8b2a_0c96e65efa01row6_col1\" class=\"data row6 col1\" >0.04</td>\n",
       "                        <td id=\"T_f1756a3e_d5e3_11e9_8b2a_0c96e65efa01row6_col2\" class=\"data row6 col2\" >0.973333</td>\n",
       "                        <td id=\"T_f1756a3e_d5e3_11e9_8b2a_0c96e65efa01row6_col3\" class=\"data row6 col3\" >4.00%</td>\n",
       "                        <td id=\"T_f1756a3e_d5e3_11e9_8b2a_0c96e65efa01row6_col4\" class=\"data row6 col4\" >97.33%</td>\n",
       "            </tr>\n",
       "            <tr>\n",
       "                        <th id=\"T_f1756a3e_d5e3_11e9_8b2a_0c96e65efa01level0_row7\" class=\"row_heading level0 row7\" >东西</th>\n",
       "                        <td id=\"T_f1756a3e_d5e3_11e9_8b2a_0c96e65efa01row7_col0\" class=\"data row7 col0\" >1</td>\n",
       "                        <td id=\"T_f1756a3e_d5e3_11e9_8b2a_0c96e65efa01row7_col1\" class=\"data row7 col1\" >0.0133333</td>\n",
       "                        <td id=\"T_f1756a3e_d5e3_11e9_8b2a_0c96e65efa01row7_col2\" class=\"data row7 col2\" >0.986667</td>\n",
       "                        <td id=\"T_f1756a3e_d5e3_11e9_8b2a_0c96e65efa01row7_col3\" class=\"data row7 col3\" >1.33%</td>\n",
       "                        <td id=\"T_f1756a3e_d5e3_11e9_8b2a_0c96e65efa01row7_col4\" class=\"data row7 col4\" >98.67%</td>\n",
       "            </tr>\n",
       "            <tr>\n",
       "                        <th id=\"T_f1756a3e_d5e3_11e9_8b2a_0c96e65efa01level0_row8\" class=\"row_heading level0 row8\" >东北</th>\n",
       "                        <td id=\"T_f1756a3e_d5e3_11e9_8b2a_0c96e65efa01row8_col0\" class=\"data row8 col0\" >1</td>\n",
       "                        <td id=\"T_f1756a3e_d5e3_11e9_8b2a_0c96e65efa01row8_col1\" class=\"data row8 col1\" >0.0133333</td>\n",
       "                        <td id=\"T_f1756a3e_d5e3_11e9_8b2a_0c96e65efa01row8_col2\" class=\"data row8 col2\" >1</td>\n",
       "                        <td id=\"T_f1756a3e_d5e3_11e9_8b2a_0c96e65efa01row8_col3\" class=\"data row8 col3\" >1.33%</td>\n",
       "                        <td id=\"T_f1756a3e_d5e3_11e9_8b2a_0c96e65efa01row8_col4\" class=\"data row8 col4\" >100.00%</td>\n",
       "            </tr>\n",
       "    </tbody></table>"
      ],
      "text/plain": [
       "<pandas.io.formats.style.Styler at 0x189613c84a8>"
      ]
     },
     "execution_count": 13,
     "metadata": {},
     "output_type": "execute_result"
    }
   ],
   "source": [
    "# 频率分布情况 - 定性字段\n",
    "# ① 通过计数统计判断不同类别的频率\n",
    "cx_g = data['朝向'].value_counts(sort=True)\n",
    "print(cx_g)\n",
    "# 统计频率\n",
    "r_cx = pd.DataFrame(cx_g)\n",
    "r_cx.rename(columns ={cx_g.name:'频数'}, inplace = True)  # 修改频数字段名\n",
    "r_cx['频率'] = r_cx / r_cx['频数'].sum()  # 计算频率\n",
    "r_cx['累计频率'] = r_cx['频率'].cumsum()  # 计算累计频率\n",
    "r_cx['频率%'] = r_cx['频率'].apply(lambda x: \"%.2f%%\" % (x*100))  # 以百分比显示频率\n",
    "r_cx['累计频率%'] = r_cx['累计频率'].apply(lambda x: \"%.2f%%\" % (x*100))  # 以百分比显示累计频率\n",
    "r_cx.style.bar(subset=['频率','累计频率'], color='#d65f5f',width=100)\n",
    "# 可视化显示"
   ]
  },
  {
   "cell_type": "code",
   "execution_count": 14,
   "metadata": {
    "ExecuteTime": {
     "end_time": "2019-09-13T05:04:35.623084Z",
     "start_time": "2019-09-13T05:04:35.224153Z"
    }
   },
   "outputs": [
    {
     "data": {
      "text/plain": [
       "(-1.1101621526291232,\n",
       " 1.1004839130571389,\n",
       " -1.1062755172910221,\n",
       " 1.1205348076125872)"
      ]
     },
     "execution_count": 14,
     "metadata": {},
     "output_type": "execute_result"
    },
    {
     "data": {
      "image/png": "[encoded data removed]",
      "text/plain": [
       "<Figure size 864x144 with 1 Axes>"
      ]
     },
     "metadata": {
      "needs_background": "light"
     },
     "output_type": "display_data"
    },
    {
     "data": {
      "image/png": "[encoded data removed]",
      "text/plain": [
       "<Figure size 432x288 with 1 Axes>"
      ]
     },
     "metadata": {},
     "output_type": "display_data"
    }
   ],
   "source": [
    "# 频率分布情况 - 定量字段\n",
    "# ② 绘制频率直方图、饼图\n",
    "plt.figure(num = 1,figsize = (12,2))\n",
    "r_cx['频率'].plot(kind = 'bar',\n",
    "                 width = 0.8,\n",
    "                 rot = 0,\n",
    "                 color = 'k',\n",
    "                 grid = True,\n",
    "                 alpha = 0.5)\n",
    "plt.title('参考总价分布频率直方图')\n",
    "# 绘制直方图\n",
    "plt.figure(num = 2)\n",
    "plt.pie(r_cx['频数'],\n",
    "       labels = r_cx.index,\n",
    "       autopct='%.2f%%',\n",
    "       shadow = True)\n",
    "plt.axis('equal')\n",
    "# 绘制饼图"
   ]
  },
  {
   "cell_type": "code",
   "execution_count": null,
   "metadata": {},
   "outputs": [],
   "source": []
  }
 ],
 "metadata": {
  "anaconda-cloud": {},
  "kernelspec": {
   "display_name": "Python 3",
   "language": "python",
   "name": "python3"
  },
  "language_info": {
   "codemirror_mode": {
    "name": "ipython",
    "version": 3
   },
   "file_extension": ".py",
   "mimetype": "text/x-python",
   "name": "python",
   "nbconvert_exporter": "python",
   "pygments_lexer": "ipython3",
   "version": "3.6.4"
  },
  "varInspector": {
   "cols": {
    "lenName": 16,
    "lenType": 16,
    "lenVar": 40
   },
   "kernels_config": {
    "python": {
     "delete_cmd_postfix": "",
     "delete_cmd_prefix": "del ",
     "library": "var_list.py",
     "varRefreshCmd": "print(var_dic_list())"
    },
    "r": {
     "delete_cmd_postfix": ") ",
     "delete_cmd_prefix": "rm(",
     "library": "var_list.r",
     "varRefreshCmd": "cat(var_dic_list()) "
    }
   },
   "types_to_exclude": [
    "module",
    "function",
    "builtin_function_or_method",
    "instance",
    "_Feature"
   ],
   "window_display": false
  }
 },
 "nbformat": 4,
 "nbformat_minor": 1
}
