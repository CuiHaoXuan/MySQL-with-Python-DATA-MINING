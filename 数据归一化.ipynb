{
 "cells": [
  {
   "cell_type": "markdown",
   "metadata": {
    "collapsed": true
   },
   "source": [
    "\n",
    "# 数据归一化/标准化\n",
    "\n",
    " 数据的标准化（normalization）是将数据按比例缩放，使之落入一个小的特定区间。\n",
    " 在某些比较和评价的指标处理中经常会用到，去除数据的单位限制，将其转化为无量纲的纯数值，便于不同单位或量级的指标能够进行比较和加权\n",
    " \n",
    "最典型的就是数据的归一化处理，即将数据统一映射到[0,1]区间上\n",
    "\n",
    "0-1标准化 / Z-score标准化\n",
    "\n"
   ]
  },
  {
   "cell_type": "code",
   "execution_count": 1,
   "metadata": {
    "ExecuteTime": {
     "end_time": "2019-09-18T01:50:46.087268Z",
     "start_time": "2019-09-18T01:50:45.641037Z"
    }
   },
   "outputs": [],
   "source": [
    "import numpy as np\n",
    "import pandas as pd\n",
    "import matplotlib.pyplot as plt\n",
    "% matplotlib inline"
   ]
  },
  {
   "cell_type": "code",
   "execution_count": 2,
   "metadata": {
    "ExecuteTime": {
     "end_time": "2019-09-18T01:50:46.377515Z",
     "start_time": "2019-09-18T01:50:46.276763Z"
    }
   },
   "outputs": [
    {
     "name": "stdout",
     "output_type": "stream",
     "text": [
      "      value1     value2\n",
      "0  13.777176  27.044947\n",
      "1   5.970817  80.581709\n",
      "2   8.785321  24.456245\n",
      "3   2.310968   3.160911\n",
      "4   6.895941  31.911213\n",
      "------\n",
      "      value1     value2  value1_n  value2_n\n",
      "0  13.777176  27.044947  0.673175  0.300450\n",
      "1   5.970817  80.581709  0.230359  0.973919\n",
      "2   8.785321  24.456245  0.390012  0.267886\n",
      "3   2.310968   3.160911  0.022754  0.000000\n",
      "4   6.895941  31.911213  0.282837  0.361666\n"
     ]
    }
   ],
   "source": [
    "# 数据标准化\n",
    "# （1）0-1标准化\n",
    "# 将数据的最大最小值记录下来，并通过Max-Min作为基数（即Min=0，Max=1）进行数据的归一化处理\n",
    "# x = (x - Min) / (Max - Min)\n",
    "\n",
    "df = pd.DataFrame({\"value1\":np.random.rand(10)*20,\n",
    "                  'value2':np.random.rand(10)*100})\n",
    "print(df.head())\n",
    "print('------')\n",
    "# 创建数据\n",
    "\n",
    "def data_norm(df,*cols):\n",
    "    df_n = df.copy()\n",
    "    for col in cols:\n",
    "        ma = df_n[col].max()\n",
    "        mi = df_n[col].min()\n",
    "        df_n[col + '_n'] = (df_n[col] - mi) / (ma - mi)\n",
    "    return(df_n)\n",
    "# 创建函数，标准化数据\n",
    "\n",
    "df_n = data_norm(df,'value1','value2')\n",
    "print(df_n.head())\n",
    "# 标准化数据"
   ]
  },
  {
   "cell_type": "markdown",
   "metadata": {},
   "source": [
    "# 数据标准化\n",
    "# （2）Z-score标准化\n",
    "# Z分数（z-score）,是一个分数与平均数的差再除以标准差的过程 → z=(x-μ)/σ，其中x为某一具体分数，μ为平均数，σ为标准差\n",
    "# Z值的量代表着原始分数和母体平均值之间的距离，是以标准差为单位计算。在原始分数低于平均值时Z则为负数，反之则为正数\n",
    "# 数学意义：一个给定分数距离平均数多少个标准差?"
   ]
  },
  {
   "cell_type": "code",
   "execution_count": 3,
   "metadata": {
    "ExecuteTime": {
     "end_time": "2019-09-18T01:51:07.700210Z",
     "start_time": "2019-09-18T01:51:07.638898Z"
    }
   },
   "outputs": [
    {
     "name": "stdout",
     "output_type": "stream",
     "text": [
      "      value1     value2\n",
      "0  10.584703  94.034026\n",
      "1  16.994825  20.236028\n",
      "2  92.252162  69.820657\n",
      "3   1.689980   6.551503\n",
      "4  40.356334  41.891936\n",
      "------\n",
      "      value1     value2  value1_Zn  value2_Zn\n",
      "0  10.584703  94.034026  -0.777910   1.331562\n",
      "1  16.994825  20.236028  -0.557169  -0.737982\n",
      "2  92.252162  69.820657   2.034419   0.652538\n",
      "3   1.689980   6.551503  -1.084212  -1.121742\n",
      "4  40.356334  41.891936   0.247316  -0.130677\n",
      "5  34.821837   5.000562   0.056729  -1.165235\n",
      "6  73.091147   4.467160   1.374584  -1.180194\n",
      "7  15.714125  56.469261  -0.601271   0.278120\n",
      "8  32.638420  82.089806  -0.018460   0.996606\n",
      "9  13.601386  84.956666  -0.674026   1.077003\n",
      "标准化后value1的均值为:-0.00, 标准差为：1.00\n"
     ]
    }
   ],
   "source": [
    "df = pd.DataFrame({\"value1\":np.random.rand(10) * 100,\n",
    "                  'value2':np.random.rand(10) * 100})\n",
    "print(df.head())\n",
    "print('------')\n",
    "# 创建数据\n",
    "\n",
    "def data_Znorm(df, *cols):\n",
    "    df_n = df.copy()\n",
    "    for col in cols:\n",
    "        u = df_n[col].mean()\n",
    "        std = df_n[col].std()\n",
    "        df_n[col + '_Zn'] = (df_n[col] - u) / std\n",
    "    return(df_n)\n",
    "# 创建函数，标准化数据\n",
    "\n",
    "df_z = data_Znorm(df,'value1','value2')\n",
    "u_z = df_z['value1_Zn'].mean()\n",
    "std_z = df_z['value1_Zn'].std()\n",
    "print(df_z)\n",
    "print('标准化后value1的均值为:%.2f, 标准差为：%.2f' % (u_z, std_z))\n",
    "# 标准化数据\n",
    "# 经过处理的数据符合标准正态分布，即均值为0，标准差为1\n",
    "\n",
    "# 什么情况用Z-score标准化：\n",
    "# 在分类、聚类算法中，需要使用距离来度量相似性的时候，Z-score表现更好"
   ]
  },
  {
   "cell_type": "markdown",
   "metadata": {},
   "source": [
    "# 案例应用\n",
    "# 八类产品的两个指标value1，value2，其中value1权重为0.6，value2权重为0.4\n",
    "# 通过0-1标准化，判断哪个产品综合指标状况最好"
   ]
  },
  {
   "cell_type": "code",
   "execution_count": 4,
   "metadata": {
    "ExecuteTime": {
     "end_time": "2019-09-18T01:51:22.537055Z",
     "start_time": "2019-09-18T01:51:22.353494Z"
    }
   },
   "outputs": [
    {
     "data": {
      "text/html": [
       "<div>\n",
       "<style scoped>\n",
       "    .dataframe tbody tr th:only-of-type {\n",
       "        vertical-align: middle;\n",
       "    }\n",
       "\n",
       "    .dataframe tbody tr th {\n",
       "        vertical-align: top;\n",
       "    }\n",
       "\n",
       "    .dataframe thead th {\n",
       "        text-align: right;\n",
       "    }\n",
       "</style>\n",
       "<table border=\"1\" class=\"dataframe\">\n",
       "  <thead>\n",
       "    <tr style=\"text-align: right;\">\n",
       "      <th></th>\n",
       "      <th>value1</th>\n",
       "      <th>value2</th>\n",
       "      <th>value1_n</th>\n",
       "      <th>value2_n</th>\n",
       "      <th>f</th>\n",
       "    </tr>\n",
       "  </thead>\n",
       "  <tbody>\n",
       "    <tr>\n",
       "      <th>I</th>\n",
       "      <td>29.611706</td>\n",
       "      <td>24.211627</td>\n",
       "      <td>1.000000</td>\n",
       "      <td>0.194251</td>\n",
       "      <td>0.677700</td>\n",
       "    </tr>\n",
       "    <tr>\n",
       "      <th>D</th>\n",
       "      <td>26.153351</td>\n",
       "      <td>35.535949</td>\n",
       "      <td>0.881877</td>\n",
       "      <td>0.321332</td>\n",
       "      <td>0.657659</td>\n",
       "    </tr>\n",
       "    <tr>\n",
       "      <th>B</th>\n",
       "      <td>10.943114</td>\n",
       "      <td>71.039188</td>\n",
       "      <td>0.362359</td>\n",
       "      <td>0.719748</td>\n",
       "      <td>0.505315</td>\n",
       "    </tr>\n",
       "    <tr>\n",
       "      <th>G</th>\n",
       "      <td>3.776384</td>\n",
       "      <td>96.012667</td>\n",
       "      <td>0.117574</td>\n",
       "      <td>1.000000</td>\n",
       "      <td>0.470544</td>\n",
       "    </tr>\n",
       "    <tr>\n",
       "      <th>C</th>\n",
       "      <td>15.771421</td>\n",
       "      <td>6.901723</td>\n",
       "      <td>0.527274</td>\n",
       "      <td>0.000000</td>\n",
       "      <td>0.316364</td>\n",
       "    </tr>\n",
       "    <tr>\n",
       "      <th>H</th>\n",
       "      <td>1.424764</td>\n",
       "      <td>55.660089</td>\n",
       "      <td>0.037253</td>\n",
       "      <td>0.547165</td>\n",
       "      <td>0.241217</td>\n",
       "    </tr>\n",
       "    <tr>\n",
       "      <th>A</th>\n",
       "      <td>6.630910</td>\n",
       "      <td>23.672693</td>\n",
       "      <td>0.215073</td>\n",
       "      <td>0.188203</td>\n",
       "      <td>0.204325</td>\n",
       "    </tr>\n",
       "    <tr>\n",
       "      <th>J</th>\n",
       "      <td>2.450292</td>\n",
       "      <td>36.827145</td>\n",
       "      <td>0.072280</td>\n",
       "      <td>0.335822</td>\n",
       "      <td>0.177697</td>\n",
       "    </tr>\n",
       "    <tr>\n",
       "      <th>E</th>\n",
       "      <td>3.716832</td>\n",
       "      <td>7.183703</td>\n",
       "      <td>0.115540</td>\n",
       "      <td>0.003164</td>\n",
       "      <td>0.070590</td>\n",
       "    </tr>\n",
       "    <tr>\n",
       "      <th>F</th>\n",
       "      <td>0.334099</td>\n",
       "      <td>20.571183</td>\n",
       "      <td>0.000000</td>\n",
       "      <td>0.153398</td>\n",
       "      <td>0.061359</td>\n",
       "    </tr>\n",
       "  </tbody>\n",
       "</table>\n",
       "</div>"
      ],
      "text/plain": [
       "      value1     value2  value1_n  value2_n         f\n",
       "I  29.611706  24.211627  1.000000  0.194251  0.677700\n",
       "D  26.153351  35.535949  0.881877  0.321332  0.657659\n",
       "B  10.943114  71.039188  0.362359  0.719748  0.505315\n",
       "G   3.776384  96.012667  0.117574  1.000000  0.470544\n",
       "C  15.771421   6.901723  0.527274  0.000000  0.316364\n",
       "H   1.424764  55.660089  0.037253  0.547165  0.241217\n",
       "A   6.630910  23.672693  0.215073  0.188203  0.204325\n",
       "J   2.450292  36.827145  0.072280  0.335822  0.177697\n",
       "E   3.716832   7.183703  0.115540  0.003164  0.070590\n",
       "F   0.334099  20.571183  0.000000  0.153398  0.061359"
      ]
     },
     "execution_count": 4,
     "metadata": {},
     "output_type": "execute_result"
    },
    {
     "data": {
      "image/png": "[encoded data removed]",
      "text/plain": [
       "<Figure size 432x288 with 1 Axes>"
      ]
     },
     "metadata": {
      "needs_background": "light"
     },
     "output_type": "display_data"
    }
   ],
   "source": [
    "df = pd.DataFrame({\"value1\":np.random.rand(10) * 30,\n",
    "                  'value2':np.random.rand(10) * 100},\n",
    "                 index = list('ABCDEFGHIJ'))\n",
    "#print(df.head())\n",
    "#print('------')\n",
    "# 创建数据\"\n",
    "\n",
    "df_n1 = data_norm(df,'value1','value2')\n",
    "# 进行标准化处理\n",
    "\n",
    "df_n1['f'] = df_n1['value1_n'] * 0.6 + df_n1['value2_n'] * 0.4\n",
    "df_n1.sort_values(by = 'f',inplace=True,ascending=False)\n",
    "df_n1['f'].plot(kind = 'line', style = '--.k', alpha = 0.8, grid = True)\n",
    "df_n1\n",
    "# 查看综合指标状况"
   ]
  },
  {
   "cell_type": "code",
   "execution_count": null,
   "metadata": {},
   "outputs": [],
   "source": []
  }
 ],
 "metadata": {
  "anaconda-cloud": {},
  "kernelspec": {
   "display_name": "Python 3",
   "language": "python",
   "name": "python3"
  },
  "language_info": {
   "codemirror_mode": {
    "name": "ipython",
    "version": 3
   },
   "file_extension": ".py",
   "mimetype": "text/x-python",
   "name": "python",
   "nbconvert_exporter": "python",
   "pygments_lexer": "ipython3",
   "version": "3.6.4"
  },
  "varInspector": {
   "cols": {
    "lenName": 16,
    "lenType": 16,
    "lenVar": 40
   },
   "kernels_config": {
    "python": {
     "delete_cmd_postfix": "",
     "delete_cmd_prefix": "del ",
     "library": "var_list.py",
     "varRefreshCmd": "print(var_dic_list())"
    },
    "r": {
     "delete_cmd_postfix": ") ",
     "delete_cmd_prefix": "rm(",
     "library": "var_list.r",
     "varRefreshCmd": "cat(var_dic_list()) "
    }
   },
   "types_to_exclude": [
    "module",
    "function",
    "builtin_function_or_method",
    "instance",
    "_Feature"
   ],
   "window_display": false
  }
 },
 "nbformat": 4,
 "nbformat_minor": 1
}
