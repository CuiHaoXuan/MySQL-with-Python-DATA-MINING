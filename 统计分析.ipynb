{
 "cells": [
  {
   "cell_type": "code",
   "execution_count": 1,
   "metadata": {
    "ExecuteTime": {
     "end_time": "2019-09-13T05:24:11.255425Z",
     "start_time": "2019-09-13T05:24:11.244457Z"
    }
   },
   "outputs": [
    {
     "data": {
      "text/plain": [
       "'\\n【课程1.4】  统计分析\\n\\n统计指标对定量数据进行统计描述，常从集中趋势和离中趋势两个方面进行分析\\n\\n集中趋势度量 / 离中趋势度量\\n\\n'"
      ]
     },
     "execution_count": 1,
     "metadata": {},
     "output_type": "execute_result"
    }
   ],
   "source": [
    "'''\n",
    "【课程1.4】  统计分析\n",
    "\n",
    "统计指标对定量数据进行统计描述，常从集中趋势和离中趋势两个方面进行分析\n",
    "\n",
    "集中趋势度量 / 离中趋势度量\n",
    "\n",
    "'''"
   ]
  },
  {
   "cell_type": "code",
   "execution_count": 2,
   "metadata": {
    "ExecuteTime": {
     "end_time": "2019-09-13T05:24:12.794342Z",
     "start_time": "2019-09-13T05:24:12.254755Z"
    }
   },
   "outputs": [],
   "source": [
    "import numpy as np\n",
    "import pandas as pd\n",
    "import matplotlib.pyplot as plt\n",
    "% matplotlib inline"
   ]
  },
  {
   "cell_type": "code",
   "execution_count": 3,
   "metadata": {
    "ExecuteTime": {
     "end_time": "2019-09-13T05:24:13.005746Z",
     "start_time": "2019-09-13T05:24:12.929948Z"
    }
   },
   "outputs": [
    {
     "name": "stdout",
     "output_type": "stream",
     "text": [
      "   value         f\n",
      "0    111  0.010738\n",
      "1    118  0.005869\n",
      "2    114  0.001717\n",
      "3    103  0.008315\n",
      "4    109  0.004002\n",
      "------\n",
      "简单算数平均值为：109.21\n",
      "加权算数平均值为：109.87\n"
     ]
    }
   ],
   "source": [
    "# 1、集中趋势度量\n",
    "# 指一组数据向某一中心靠拢的倾向，核心在于寻找数据的代表值或中心值 —— 统计平均数\n",
    "# 算数平均数、位置平均数\n",
    "# （1）算数平均数\n",
    "\n",
    "data = pd.DataFrame({'value':np.random.randint(100,120,100),\n",
    "                    'f':np.random.rand(100)})\n",
    "data['f'] = data['f'] / data['f'].sum()  # f为权重，这里将f列设置成总和为1的权重占比\n",
    "print(data.head())\n",
    "print('------')\n",
    "# 创建数据\n",
    "\n",
    "mean = data['value'].mean()\n",
    "print('简单算数平均值为：%.2f' % mean)\n",
    "# 简单算数平均值 = 总和 / 样本数量 （不涉及权重）\n",
    "\n",
    "mean_w = (data['value'] * data['f']).sum() / data['f'].sum()\n",
    "print('加权算数平均值为：%.2f' % mean_w)\n",
    "# 加权算数平均值 = (x1f1 + x2f2 + ... + xnfn) / (f1 + f2 + ... + fn)"
   ]
  },
  {
   "cell_type": "code",
   "execution_count": 6,
   "metadata": {
    "ExecuteTime": {
     "end_time": "2019-09-13T05:29:35.250878Z",
     "start_time": "2019-09-13T05:29:35.011518Z"
    }
   },
   "outputs": [
    {
     "name": "stdout",
     "output_type": "stream",
     "text": [
      "众数为 [103]\n",
      "中位数为109\n"
     ]
    },
    {
     "data": {
      "text/plain": [
       "Text(114.21,0.015,'中位数：109')"
      ]
     },
     "execution_count": 6,
     "metadata": {},
     "output_type": "execute_result"
    },
    {
     "data": {
      "image/png": "[encoded data removed]",
      "text/plain": [
       "<Figure size 432x288 with 1 Axes>"
      ]
     },
     "metadata": {
      "needs_background": "light"
     },
     "output_type": "display_data"
    }
   ],
   "source": [
    "# 1、集中趋势度量\n",
    "# （2）位置平均数\n",
    "plt.rcParams[\"font.sans-serif\"]='SimHei'#解决中文乱码\n",
    "plt.rcParams['axes.unicode_minus'] = False#解决负号无法正常显示的问题\n",
    "m = data['value'].mode()\n",
    "print('众数为',m.tolist())\n",
    "# 众数是一组数据中出现次数最多的数，这里可能返回多个值\n",
    "med = data['value'].median()\n",
    "print('中位数为%i' % med)\n",
    "# 中位数指将总体各单位标志按照大小顺序排列后，中间位置的数字\n",
    "data['value'].plot(kind = 'kde',style = '--k',grid = True)\n",
    "# 密度曲线\n",
    "plt.axvline(mean,hold=None,color='r',linestyle=\"--\",alpha=0.8)  \n",
    "plt.text(mean + 5,0.005,'简单算数平均值为：%.2f' % mean, color = 'r')\n",
    "# 简单算数平均值\n",
    "plt.axvline(mean_w,hold=None,color='b',linestyle=\"--\",alpha=0.8)  \n",
    "plt.text(mean + 5,0.01,'加权算数平均值：%.2f' % mean_w, color = 'b')\n",
    "# 加权算数平均值\n",
    "plt.axvline(med,hold=None,color='g',linestyle=\"--\",alpha=0.8)  \n",
    "plt.text(mean + 5,0.015,'中位数：%i' % med, color = 'g')\n",
    "# 中位数\n",
    "# **这里三个数text显示的横坐标一致，目的是图示效果不拥挤"
   ]
  },
  {
   "cell_type": "code",
   "execution_count": 7,
   "metadata": {
    "ExecuteTime": {
     "end_time": "2019-09-13T05:29:36.070685Z",
     "start_time": "2019-09-13T05:29:36.054727Z"
    }
   },
   "outputs": [
    {
     "name": "stdout",
     "output_type": "stream",
     "text": [
      "                A_sale      B_sale\n",
      "2017-06-01  398.181641  770.060976\n",
      "2017-06-02  971.215581   72.751920\n",
      "2017-06-03  256.641024  472.345513\n",
      "2017-06-04  171.130893  471.227038\n",
      "2017-06-05  992.255065  165.070976\n",
      "------\n"
     ]
    }
   ],
   "source": [
    "# 2、离中趋势度量\n",
    "# 指一组数据中各数据以不同程度的距离偏离中心的趋势\n",
    "# 极差与分位差、方差与标准差、离散系数\n",
    "\n",
    "data = pd.DataFrame({'A_sale':np.random.rand(30)*1000,\n",
    "                    'B_sale':np.random.rand(30)*1000},\n",
    "                   index = pd.period_range('20170601','20170630'))\n",
    "print(data.head())\n",
    "print('------')\n",
    "# 创建数据\n",
    "# A/B销售额量级在同一水平"
   ]
  },
  {
   "cell_type": "code",
   "execution_count": 8,
   "metadata": {
    "ExecuteTime": {
     "end_time": "2019-09-13T05:29:38.600917Z",
     "start_time": "2019-09-13T05:29:38.391479Z"
    }
   },
   "outputs": [
    {
     "name": "stdout",
     "output_type": "stream",
     "text": [
      "                A_sale      B_sale\n",
      "2017-06-01  491.978481  420.169659\n",
      "2017-06-02  493.984017  930.431375\n",
      "2017-06-03  759.462796  610.208212\n",
      "2017-06-04  606.355638  744.823757\n",
      "2017-06-05  822.080366  312.556443\n",
      "------\n",
      "A销售额的极差为：951.21, B销售额的极差为：909.20\n",
      "------\n",
      "A销售额的分位差为：505.96, B销售额的分位差为：320.02\n",
      "------\n"
     ]
    },
    {
     "data": {
      "text/plain": [
       "<matplotlib.axes._subplots.AxesSubplot at 0x25ac20b2630>"
      ]
     },
     "execution_count": 8,
     "metadata": {},
     "output_type": "execute_result"
    },
    {
     "data": {
      "image/png": "[encoded data removed]",
      "text/plain": [
       "<Figure size 720x216 with 1 Axes>"
      ]
     },
     "metadata": {
      "needs_background": "light"
     },
     "output_type": "display_data"
    }
   ],
   "source": [
    "# 2、离中趋势度量\n",
    "# （1）极差、分位差\n",
    "\n",
    "data = pd.DataFrame({'A_sale':np.random.rand(30)*1000,\n",
    "                    'B_sale':np.random.rand(30)*1000},\n",
    "                   index = pd.period_range('20170601','20170630'))\n",
    "print(data.head())\n",
    "print('------')\n",
    "# 创建数据\n",
    "# A/B销售额量级在同一水平\n",
    "\n",
    "a_r = data['A_sale'].max() - data['A_sale'].min()\n",
    "b_r = data['B_sale'].max() - data['B_sale'].min()\n",
    "print('A销售额的极差为：%.2f, B销售额的极差为：%.2f' % (a_r,b_r))\n",
    "print('------')\n",
    "# 极差\n",
    "# 没有考虑中间变量的变动，测定离中趋势不稳定\n",
    "\n",
    "sta = data['A_sale'].describe()\n",
    "stb = data['B_sale'].describe()\n",
    "#print(sta)\n",
    "a_iqr = sta.loc['75%'] - sta.loc['25%']\n",
    "b_iqr = stb.loc['75%'] - stb.loc['25%']\n",
    "print('A销售额的分位差为：%.2f, B销售额的分位差为：%.2f' % (a_iqr,b_iqr))\n",
    "print('------')\n",
    "# 分位差\n",
    "\n",
    "color = dict(boxes='DarkGreen', whiskers='DarkOrange', medians='DarkBlue', caps='Gray')\n",
    "data.plot.box(vert=False,grid = True,color = color,figsize = (10,3))\n",
    "# 箱型图"
   ]
  },
  {
   "cell_type": "code",
   "execution_count": 10,
   "metadata": {
    "ExecuteTime": {
     "end_time": "2019-09-13T05:29:56.549913Z",
     "start_time": "2019-09-13T05:29:56.206829Z"
    }
   },
   "outputs": [
    {
     "name": "stdout",
     "output_type": "stream",
     "text": [
      "A销售额的标准差为：312.81, B销售额的标准差为：264.27\n",
      "A销售额的方差为：97851.15, B销售额的方差为：69840.51\n"
     ]
    },
    {
     "data": {
      "text/plain": [
       "<matplotlib.lines.Line2D at 0x25ac234b6a0>"
      ]
     },
     "execution_count": 10,
     "metadata": {},
     "output_type": "execute_result"
    },
    {
     "data": {
      "image/png": "[encoded data removed]",
      "text/plain": [
       "<Figure size 864x288 with 2 Axes>"
      ]
     },
     "metadata": {
      "needs_background": "light"
     },
     "output_type": "display_data"
    }
   ],
   "source": [
    "# 2、离中趋势度量\n",
    "# （2）方差与标准差\n",
    "\n",
    "a_std = sta.loc['std']\n",
    "b_std = stb.loc['std']\n",
    "a_var = data['A_sale'].var()\n",
    "b_var = data['B_sale'].var()\n",
    "print('A销售额的标准差为：%.2f, B销售额的标准差为：%.2f' % (a_std,b_std))\n",
    "print('A销售额的方差为：%.2f, B销售额的方差为：%.2f' % (a_var,b_var))\n",
    "# 方差 → 各组中数值与算数平均数离差平方的算术平均数\n",
    "# 标准差 → 方差的平方根\n",
    "# 标准差是最常用的离中趋势指标 → 标准差越大，离中趋势越明显\n",
    "fig = plt.figure(figsize = (12,4))\n",
    "ax1 = fig.add_subplot(1,2,1)\n",
    "data['A_sale'].plot(kind = 'kde',style = 'k--',grid = True,title = 'A密度曲线')\n",
    "plt.axvline(sta.loc['50%'],hold=None,color='r',linestyle=\"--\",alpha=0.8)  \n",
    "plt.axvline(sta.loc['50%'] - a_std,hold=None,color='b',linestyle=\"--\",alpha=0.8)  \n",
    "plt.axvline(sta.loc['50%'] + a_std,hold=None,color='b',linestyle=\"--\",alpha=0.8)  \n",
    "# A密度曲线，1个标准差\n",
    "ax2 = fig.add_subplot(1,2,2)\n",
    "data['B_sale'].plot(kind = 'kde',style = 'k--',grid = True,title = 'B密度曲线')\n",
    "plt.axvline(stb.loc['50%'],hold=None,color='r',linestyle=\"--\",alpha=0.8)  \n",
    "plt.axvline(stb.loc['50%'] - b_std,hold=None,color='b',linestyle=\"--\",alpha=0.8)  \n",
    "plt.axvline(stb.loc['50%'] + b_std,hold=None,color='b',linestyle=\"--\",alpha=0.8)  \n",
    "# B密度曲线，1个标准差"
   ]
  },
  {
   "cell_type": "code",
   "execution_count": null,
   "metadata": {},
   "outputs": [],
   "source": []
  }
 ],
 "metadata": {
  "anaconda-cloud": {},
  "kernelspec": {
   "display_name": "Python 3",
   "language": "python",
   "name": "python3"
  },
  "language_info": {
   "codemirror_mode": {
    "name": "ipython",
    "version": 3
   },
   "file_extension": ".py",
   "mimetype": "text/x-python",
   "name": "python",
   "nbconvert_exporter": "python",
   "pygments_lexer": "ipython3",
   "version": "3.6.4"
  },
  "varInspector": {
   "cols": {
    "lenName": 16,
    "lenType": 16,
    "lenVar": 40
   },
   "kernels_config": {
    "python": {
     "delete_cmd_postfix": "",
     "delete_cmd_prefix": "del ",
     "library": "var_list.py",
     "varRefreshCmd": "print(var_dic_list())"
    },
    "r": {
     "delete_cmd_postfix": ") ",
     "delete_cmd_prefix": "rm(",
     "library": "var_list.r",
     "varRefreshCmd": "cat(var_dic_list()) "
    }
   },
   "types_to_exclude": [
    "module",
    "function",
    "builtin_function_or_method",
    "instance",
    "_Feature"
   ],
   "window_display": false
  }
 },
 "nbformat": 4,
 "nbformat_minor": 1
}
