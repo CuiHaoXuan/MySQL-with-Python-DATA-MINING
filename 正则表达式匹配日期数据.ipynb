{
 "cells": [
  {
   "cell_type": "code",
   "execution_count": 86,
   "metadata": {
    "ExecuteTime": {
     "end_time": "2019-07-26T08:03:44.770733Z",
     "start_time": "2019-07-26T08:03:44.753780Z"
    }
   },
   "outputs": [
    {
     "data": {
      "text/plain": [
       "['E:\\\\WRF2D\\\\2019\\\\201901\\\\2019010220\\\\WTHR_2D_2019010407.nc',\n",
       " 'E:\\\\WRF2D\\\\2019\\\\201901\\\\2019010320\\\\WTHR_2D_2019010508.nc',\n",
       " 'E:\\\\WRF2D\\\\2019\\\\201901\\\\2019010320\\\\WTHR_2D_2019010609.nc']"
      ]
     },
     "execution_count": 86,
     "metadata": {},
     "output_type": "execute_result"
    }
   ],
   "source": [
    "flnm_list=[ r'E:\\WRF2D\\2019\\201901\\2019010220\\WTHR_2D_2019010407.nc'\n",
    "           ,r'E:\\WRF2D\\2019\\201901\\2019010320\\WTHR_2D_2019010508.nc'\n",
    "           ,r'E:\\WRF2D\\2019\\201901\\2019010320\\WTHR_2D_2019010609.nc']\n",
    "flnm_list"
   ]
  },
  {
   "cell_type": "code",
   "execution_count": 87,
   "metadata": {
    "ExecuteTime": {
     "end_time": "2019-07-26T08:03:45.652373Z",
     "start_time": "2019-07-26T08:03:45.632462Z"
    }
   },
   "outputs": [
    {
     "name": "stdout",
     "output_type": "stream",
     "text": [
      "E:\\WRF2D\\2019\\201901\\2019010220\\WTHR_2D_2019010407.nc\n",
      "do not mathch\n",
      "do not mathch\n"
     ]
    }
   ],
   "source": [
    "import re\n",
    "flnm_list=[ r'E:\\WRF2D\\2019\\201901\\2019010220\\WTHR_2D_2019010407.nc'\n",
    "           ,r'E:\\WRF2D\\2019\\201901\\2019010320\\WTHR_2D_2019010508.nc'\n",
    "           ,r'E:\\WRF2D\\2019\\201901\\2019010320\\WTHR_2D_2019010609.nc']\n",
    "#regex = '.+08.nc'\n",
    "regex = r'E:\\\\WRF2D\\\\2019\\\\201901\\\\2019010220\\\\WTHR_2D_2019010407.nc'\n",
    "for each_file in flnm_list:\n",
    "    #print(each_file)\n",
    "    if re.search(regex,each_file) is not None:\n",
    "        WRF_flnm08.append(each_file)\n",
    "        print(each_file)\n",
    "    else:\n",
    "        print('do not mathch')"
   ]
  },
  {
   "cell_type": "code",
   "execution_count": 88,
   "metadata": {
    "ExecuteTime": {
     "end_time": "2019-07-26T08:03:46.965121Z",
     "start_time": "2019-07-26T08:03:46.943184Z"
    }
   },
   "outputs": [
    {
     "name": "stdout",
     "output_type": "stream",
     "text": [
      "E:\\WRF2D\\2019\\201901\\2019010220\\WTHR_2D_2019010407.nc\n",
      "do not match\n",
      "do not match\n"
     ]
    }
   ],
   "source": [
    "flnm_list=[ r'E:\\WRF2D\\2019\\201901\\2019010220\\WTHR_2D_2019010407.nc'\n",
    "           ,r'E:\\WRF2D\\2019\\201901\\2019010320\\WTHR_2D_2019010408.nc'\n",
    "           ,r'E:\\WRF2D\\2019\\201901\\2019010320\\WTHR_2D_2019010609.nc']\n",
    "regex = r'E:\\\\WRF2D\\\\2019\\\\201901\\\\2019010220\\\\WTHR_2D_201901040[7-9]{1}.nc'\n",
    "for each_file in flnm_list:\n",
    "    #print(each_file)\n",
    "    if re.search(regex,each_file) is not None:\n",
    "        print(each_file)\n",
    "    else:\n",
    "        print('do not match')"
   ]
  },
  {
   "cell_type": "code",
   "execution_count": 89,
   "metadata": {
    "ExecuteTime": {
     "end_time": "2019-07-26T08:03:47.206182Z",
     "start_time": "2019-07-26T08:03:47.183673Z"
    }
   },
   "outputs": [
    {
     "name": "stdout",
     "output_type": "stream",
     "text": [
      "match: E:\\WRF2D\\2019\\201901\\2019010220\\WTHR_2D_2019010407.nc\n",
      "match: E:\\WRF2D\\2019\\201901\\2019010220\\WTHR_2D_2019010406.nc\n",
      "do not match\n"
     ]
    }
   ],
   "source": [
    "flnm_list=[ r'E:\\WRF2D\\2019\\201901\\2019010220\\WTHR_2D_2019010407.nc'\n",
    "           ,r'E:\\WRF2D\\2019\\201901\\2019010220\\WTHR_2D_2019010406.nc'\n",
    "           ,r'E:\\WRF2D\\2019\\201901\\2019010320\\WTHR_2D_2019010409.nc']\n",
    "regex = r'E:\\\\WRF2D\\\\2019\\\\201901\\\\2019010220\\\\WTHR_2D_20190104*'\n",
    "for each_file in flnm_list:\n",
    "    #print(each_file)\n",
    "    if re.search(regex,each_file) is not None:\n",
    "        print('match:',each_file)\n",
    "    else:\n",
    "        print('do not match')"
   ]
  },
  {
   "cell_type": "code",
   "execution_count": 90,
   "metadata": {
    "ExecuteTime": {
     "end_time": "2019-07-26T08:03:47.387734Z",
     "start_time": "2019-07-26T08:03:47.370779Z"
    },
    "code_folding": []
   },
   "outputs": [
    {
     "name": "stdout",
     "output_type": "stream",
     "text": [
      "match: E:\\WRF2D\\2019\\201901\\2019010220\\WTHR_2D_2019010407.nc\n",
      "match: E:\\WRF2D\\2019\\201901\\2019010220\\WTHR_2D_2019010406.nc\n",
      "do not match\n"
     ]
    }
   ],
   "source": [
    "flnm_list=[ r'E:\\WRF2D\\2019\\201901\\2019010220\\WTHR_2D_2019010407.nc'\n",
    "           ,r'E:\\WRF2D\\2019\\201901\\2019010220\\WTHR_2D_2019010406.nc'\n",
    "           ,r'E:\\WRF2D\\2019\\201901\\2019010320\\WTHR_2D_2019010409.nc']\n",
    "regex = r'E:\\\\WRF2D\\\\2019\\\\201901\\\\2019010220\\\\WTHR_2D_201901040[6-7]{1}.nc'\n",
    "for each_file in flnm_list:\n",
    "    #print(each_file)\n",
    "    if re.search(regex,each_file) is not None:\n",
    "        print('match:',each_file)\n",
    "    else:\n",
    "        print('do not match')"
   ]
  },
  {
   "cell_type": "code",
   "execution_count": 91,
   "metadata": {
    "ExecuteTime": {
     "end_time": "2019-07-26T08:03:47.888399Z",
     "start_time": "2019-07-26T08:03:47.870447Z"
    }
   },
   "outputs": [
    {
     "name": "stdout",
     "output_type": "stream",
     "text": [
      "match: E:\\WRF2D\\2019\\201901\\2019010220\\WTHR_2D_2019010407.nc\n",
      "do not match\n",
      "do not match\n",
      "do not match\n"
     ]
    }
   ],
   "source": [
    "flnm_list=[ r'E:\\WRF2D\\2019\\201901\\2019010220\\WTHR_2D_2019010407.nc'\n",
    "           ,r'E:\\WRF2D\\2019\\201901\\2019010220\\WTHR_2D_2019010406.nc'\n",
    "           ,'E:\\WRF2D\\2019\\201901\\2019010220\\WTHR_2D_2019010507.nc'\n",
    "           ,r'E:\\WRF2D\\2019\\201901\\2019010320\\WTHR_2D_2019010409.nc']\n",
    "regex = r'E:\\\\WRF2D\\\\2019\\\\201901\\\\2019010220\\\\WTHR_2D_2019010.07.nc'\n",
    "for each_file in flnm_list:\n",
    "    #print(each_file)\n",
    "    if re.search(regex,each_file) is not None:\n",
    "        print('match:',each_file)\n",
    "    else:\n",
    "        print('do not match')"
   ]
  },
  {
   "cell_type": "code",
   "execution_count": 92,
   "metadata": {
    "ExecuteTime": {
     "end_time": "2019-07-26T08:03:48.112795Z",
     "start_time": "2019-07-26T08:03:48.095841Z"
    }
   },
   "outputs": [
    {
     "name": "stdout",
     "output_type": "stream",
     "text": [
      "match: E:\\WRF2D\\2019\\201901\\2019010220\\WTHR_2D_2019010407.nc\n",
      "do not match\n",
      "match: E:\\WRF2D\\2019\\201901\\2019010220\\WTHR_2D_2019010507.nc\n",
      "do not match\n"
     ]
    }
   ],
   "source": [
    "flnm_list=[ r'E:\\WRF2D\\2019\\201901\\2019010220\\WTHR_2D_2019010407.nc'\n",
    "            ,r'E:\\WRF2D\\2019\\201901\\2019010220\\WTHR_2D_2019010406.nc'\n",
    "            ,r'E:\\WRF2D\\2019\\201901\\2019010220\\WTHR_2D_2019010507.nc'\n",
    "           ,r'E:\\WRF2D\\2019\\201901\\2019010320\\WTHR_2D_2019010409.nc']\n",
    "regex = r'E:\\\\WRF2D\\\\2019\\\\201901\\\\2019010220\\\\WTHR_2D_2019010[4-5]{1}07.nc'\n",
    "for each_file in flnm_list:\n",
    "    #print(each_file)\n",
    "    if re.search(regex,each_file) is not None:\n",
    "        print('match:',each_file)\n",
    "    else:\n",
    "        print('do not match')"
   ]
  },
  {
   "cell_type": "code",
   "execution_count": 93,
   "metadata": {
    "ExecuteTime": {
     "end_time": "2019-07-26T08:03:48.338193Z",
     "start_time": "2019-07-26T08:03:48.307307Z"
    }
   },
   "outputs": [
    {
     "name": "stdout",
     "output_type": "stream",
     "text": [
      "match: E:\\WRF2D\\2019\\201901\\2019010220\\WTHR_2D_2019010407.nc\n",
      "do not match\n",
      "do not match\n",
      "do not match\n"
     ]
    }
   ],
   "source": [
    "flnm_list=[ r'E:\\WRF2D\\2019\\201901\\2019010220\\WTHR_2D_2019010407.nc'\n",
    "           ,r'E:\\WRF2D\\2019\\201901\\2019010220\\WTHR_2D_2019010406.nc'\n",
    "            ,'E:\\WRF2D\\2019\\201901\\2019010220\\WTHR_2D_2019010507.nc'\n",
    "           ,r'E:\\WRF2D\\2019\\201901\\2019010320\\WTHR_2D_2019010409.nc']\n",
    "regex = r'E:\\\\WRF2D\\\\2019\\\\201901\\\\2019010220\\\\WTHR_2D_2019010[4-5]{1}07.nc'\n",
    "for each_file in flnm_list:\n",
    "    #print(each_file)\n",
    "    if re.search(regex,each_file) is not None:\n",
    "        print('match:',each_file)\n",
    "    else:\n",
    "        print('do not match')"
   ]
  },
  {
   "cell_type": "code",
   "execution_count": 94,
   "metadata": {
    "ExecuteTime": {
     "end_time": "2019-07-26T08:03:48.511756Z",
     "start_time": "2019-07-26T08:03:48.486827Z"
    }
   },
   "outputs": [
    {
     "name": "stdout",
     "output_type": "stream",
     "text": [
      "match: E:\\WRF2D\\2019\\201901\\2019010220\\WTHR_2D_2019010407.nc\n",
      "do not match\n",
      "match: E:\\WRF2D\\2019\\201901\\2019010220\\WTHR_2D_2019010507.nc\n",
      "do not match\n",
      "do not match\n",
      "match: E:\\WRF2D\\2018\\201801\\2018010220\\WTHR_2D_2018010407.nc\n"
     ]
    }
   ],
   "source": [
    "flnm_list=[ r'E:\\WRF2D\\2019\\201901\\2019010220\\WTHR_2D_2019010407.nc'\n",
    "           ,r'E:\\WRF2D\\2019\\201901\\2019010220\\WTHR_2D_2019010406.nc'\n",
    "           ,r'E:\\WRF2D\\2019\\201901\\2019010220\\WTHR_2D_2019010507.nc'\n",
    "           ,r'E:\\WRF2D\\2019\\201901\\2019010320\\WTHR_2D_2019010409.nc'\n",
    "           ,r'E:\\WRF2D\\2019\\201901\\2019010220\\WTHR_2D_2018010406.nc'\n",
    "           ,r'E:\\WRF2D\\2018\\201801\\2018010220\\WTHR_2D_2018010407.nc']\n",
    "regex = r'E:\\\\WRF2D\\\\201[8-9]{1}\\\\201[8-9]01\\\\201[8-9]{1}010220\\\\WTHR_2D_201[8-9]{1}010[4-5]{1}07.nc'\n",
    "for each_file in flnm_list:\n",
    "    #print(each_file)\n",
    "    if re.search(regex,each_file) is not None:\n",
    "        print('match:',each_file)\n",
    "    else:\n",
    "        print('do not match')"
   ]
  },
  {
   "cell_type": "code",
   "execution_count": 95,
   "metadata": {
    "ExecuteTime": {
     "end_time": "2019-07-26T08:03:54.095843Z",
     "start_time": "2019-07-26T08:03:54.021998Z"
    }
   },
   "outputs": [
    {
     "name": "stdout",
     "output_type": "stream",
     "text": [
      "E:\\WRF2D\\2018\\201812\\2018123020\\WTHR_2D_2019010108.nc\n",
      "E:\\WRF2D\\2018\\201812\\2018123120\\WTHR_2D_2019010208.nc\n",
      "E:\\WRF2D\\2019\\201901\\2019010120\\WTHR_2D_2019010308.nc\n",
      "E:\\WRF2D\\2019\\201901\\2019010220\\WTHR_2D_2019010408.nc\n",
      "E:\\WRF2D\\2019\\201901\\2019010320\\WTHR_2D_2019010508.nc\n",
      "E:\\WRF2D\\2019\\201901\\2019010320\\WTHR_2D_2019010608.nc\n",
      "E:\\WRF2D\\2019\\201901\\2019010520\\WTHR_2D_2019010708.nc\n",
      "E:\\WRF2D\\2019\\201901\\2019010620\\WTHR_2D_2019010808.nc\n",
      "E:\\WRF2D\\2019\\201901\\2019010720\\WTHR_2D_2019010908.nc\n",
      "E:\\WRF2D\\2019\\201901\\2019010820\\WTHR_2D_2019011008.nc\n",
      "E:\\WRF2D\\2019\\201901\\2019010920\\WTHR_2D_2019011108.nc\n",
      "E:\\WRF2D\\2019\\201901\\2019011020\\WTHR_2D_2019011208.nc\n",
      "E:\\WRF2D\\2019\\201901\\2019011120\\WTHR_2D_2019011308.nc\n",
      "E:\\WRF2D\\2019\\201901\\2019011220\\WTHR_2D_2019011408.nc\n",
      "E:\\WRF2D\\2019\\201901\\2019011320\\WTHR_2D_2019011508.nc\n",
      "E:\\WRF2D\\2019\\201901\\2019011420\\WTHR_2D_2019011608.nc\n",
      "E:\\WRF2D\\2019\\201901\\2019011420\\WTHR_2D_2019011708.nc\n",
      "E:\\WRF2D\\2019\\201901\\2019011620\\WTHR_2D_2019011808.nc\n",
      "E:\\WRF2D\\2019\\201901\\2019011720\\WTHR_2D_2019011908.nc\n",
      "E:\\WRF2D\\2019\\201901\\2019011820\\WTHR_2D_2019012008.nc\n",
      "E:\\WRF2D\\2019\\201901\\2019011920\\WTHR_2D_2019012108.nc\n",
      "E:\\WRF2D\\2019\\201901\\2019012020\\WTHR_2D_2019012208.nc\n",
      "E:\\WRF2D\\2019\\201901\\2019012120\\WTHR_2D_2019012308.nc\n",
      "E:\\WRF2D\\2019\\201901\\2019012220\\WTHR_2D_2019012408.nc\n",
      "E:\\WRF2D\\2019\\201901\\2019012320\\WTHR_2D_2019012508.nc\n",
      "E:\\WRF2D\\2019\\201901\\2019012420\\WTHR_2D_2019012608.nc\n",
      "E:\\WRF2D\\2019\\201901\\2019012520\\WTHR_2D_2019012708.nc\n",
      "E:\\WRF2D\\2019\\201901\\2019012420\\WTHR_2D_2019012808.nc\n",
      "E:\\WRF2D\\2019\\201901\\2019012520\\WTHR_2D_2019012908.nc\n",
      "E:\\WRF2D\\2019\\201901\\2019012520\\WTHR_2D_2019013008.nc\n",
      "E:\\WRF2D\\2019\\201901\\2019012420\\WTHR_2D_2019013108.nc\n",
      "E:\\WRF2D\\2019\\201901\\2019012520\\WTHR_2D_2019020108.nc\n",
      "E:\\WRF2D\\2019\\201901\\2019013120\\WTHR_2D_2019020208.nc\n",
      "E:\\WRF2D\\2019\\201902\\2019020120\\WTHR_2D_2019020308.nc\n",
      "E:\\WRF2D\\2019\\201902\\2019020220\\WTHR_2D_2019020408.nc\n",
      "E:\\WRF2D\\2019\\201902\\2019020320\\WTHR_2D_2019020508.nc\n",
      "E:\\WRF2D\\2019\\201902\\2019020420\\WTHR_2D_2019020608.nc\n",
      "E:\\WRF2D\\2019\\201902\\2019020520\\WTHR_2D_2019020708.nc\n",
      "E:\\WRF2D\\2019\\201902\\2019020620\\WTHR_2D_2019020808.nc\n",
      "E:\\WRF2D\\2019\\201902\\2019020720\\WTHR_2D_2019020908.nc\n",
      "E:\\WRF2D\\2019\\201902\\2019020820\\WTHR_2D_2019021008.nc\n",
      "E:\\WRF2D\\2019\\201902\\2019020920\\WTHR_2D_2019021108.nc\n",
      "E:\\WRF2D\\2019\\201902\\2019021020\\WTHR_2D_2019021208.nc\n",
      "E:\\WRF2D\\2019\\201902\\2019021120\\WTHR_2D_2019021308.nc\n",
      "E:\\WRF2D\\2019\\201902\\2019021220\\WTHR_2D_2019021408.nc\n",
      "E:\\WRF2D\\2019\\201902\\2019021320\\WTHR_2D_2019021508.nc\n",
      "E:\\WRF2D\\2019\\201902\\2019021420\\WTHR_2D_2019021608.nc\n",
      "E:\\WRF2D\\2019\\201902\\2019021520\\WTHR_2D_2019021708.nc\n",
      "E:\\WRF2D\\2019\\201902\\2019021620\\WTHR_2D_2019021808.nc\n",
      "E:\\WRF2D\\2019\\201902\\2019021720\\WTHR_2D_2019021908.nc\n",
      "E:\\WRF2D\\2019\\201902\\2019021820\\WTHR_2D_2019022008.nc\n",
      "E:\\WRF2D\\2019\\201902\\2019021920\\WTHR_2D_2019022108.nc\n",
      "E:\\WRF2D\\2019\\201902\\2019022020\\WTHR_2D_2019022208.nc\n",
      "E:\\WRF2D\\2019\\201902\\2019022120\\WTHR_2D_2019022308.nc\n",
      "E:\\WRF2D\\2019\\201902\\2019022220\\WTHR_2D_2019022408.nc\n",
      "E:\\WRF2D\\2019\\201902\\2019022320\\WTHR_2D_2019022508.nc\n",
      "E:\\WRF2D\\2019\\201902\\2019022420\\WTHR_2D_2019022608.nc\n",
      "E:\\WRF2D\\2019\\201902\\2019022520\\WTHR_2D_2019022708.nc\n",
      "E:\\WRF2D\\2019\\201902\\2019022620\\WTHR_2D_2019022808.nc\n",
      "E:\\WRF2D\\2019\\201902\\2019022720\\WTHR_2D_2019030108.nc\n",
      "E:\\WRF2D\\2019\\201902\\2019022820\\WTHR_2D_2019030208.nc\n",
      "E:\\WRF2D\\2019\\201903\\2019030120\\WTHR_2D_2019030308.nc\n",
      "E:\\WRF2D\\2019\\201903\\2019030220\\WTHR_2D_2019030408.nc\n",
      "E:\\WRF2D\\2019\\201903\\2019030320\\WTHR_2D_2019030508.nc\n",
      "E:\\WRF2D\\2019\\201903\\2019030420\\WTHR_2D_2019030608.nc\n",
      "E:\\WRF2D\\2019\\201903\\2019030520\\WTHR_2D_2019030708.nc\n",
      "E:\\WRF2D\\2019\\201903\\2019030620\\WTHR_2D_2019030808.nc\n",
      "E:\\WRF2D\\2019\\201903\\2019030720\\WTHR_2D_2019030908.nc\n",
      "E:\\WRF2D\\2019\\201903\\2019030820\\WTHR_2D_2019031008.nc\n",
      "E:\\WRF2D\\2019\\201903\\2019030920\\WTHR_2D_2019031108.nc\n",
      "E:\\WRF2D\\2019\\201903\\2019031020\\WTHR_2D_2019031208.nc\n",
      "E:\\WRF2D\\2019\\201903\\2019031120\\WTHR_2D_2019031308.nc\n",
      "E:\\WRF2D\\2019\\201903\\2019031220\\WTHR_2D_2019031408.nc\n",
      "E:\\WRF2D\\2019\\201903\\2019031320\\WTHR_2D_2019031508.nc\n",
      "E:\\WRF2D\\2019\\201903\\2019031420\\WTHR_2D_2019031608.nc\n",
      "E:\\WRF2D\\2019\\201903\\2019031520\\WTHR_2D_2019031708.nc\n",
      "E:\\WRF2D\\2019\\201903\\2019031620\\WTHR_2D_2019031808.nc\n",
      "E:\\WRF2D\\2019\\201903\\2019031720\\WTHR_2D_2019031908.nc\n",
      "E:\\WRF2D\\2019\\201903\\2019031820\\WTHR_2D_2019032008.nc\n",
      "E:\\WRF2D\\2019\\201903\\2019031920\\WTHR_2D_2019032108.nc\n",
      "E:\\WRF2D\\2019\\201903\\2019032020\\WTHR_2D_2019032208.nc\n",
      "E:\\WRF2D\\2019\\201903\\2019032120\\WTHR_2D_2019032308.nc\n",
      "E:\\WRF2D\\2019\\201903\\2019032220\\WTHR_2D_2019032408.nc\n",
      "E:\\WRF2D\\2019\\201903\\2019032320\\WTHR_2D_2019032508.nc\n",
      "E:\\WRF2D\\2019\\201903\\2019032420\\WTHR_2D_2019032608.nc\n",
      "E:\\WRF2D\\2019\\201903\\2019032520\\WTHR_2D_2019032708.nc\n",
      "E:\\WRF2D\\2019\\201903\\2019032620\\WTHR_2D_2019032808.nc\n",
      "E:\\WRF2D\\2019\\201903\\2019032720\\WTHR_2D_2019032908.nc\n",
      "E:\\WRF2D\\2019\\201903\\2019032820\\WTHR_2D_2019033008.nc\n",
      "E:\\WRF2D\\2019\\201903\\2019032920\\WTHR_2D_2019033108.nc\n",
      "E:\\WRF2D\\2019\\201903\\2019033020\\WTHR_2D_2019040108.nc\n",
      "E:\\WRF2D\\2019\\201903\\2019033120\\WTHR_2D_2019040208.nc\n",
      "E:\\WRF2D\\2019\\201903\\2019033120\\WTHR_2D_2019040308.nc\n",
      "E:\\WRF2D\\2019\\201904\\2019040220\\WTHR_2D_2019040408.nc\n",
      "E:\\WRF2D\\2019\\201904\\2019040320\\WTHR_2D_2019040508.nc\n",
      "E:\\WRF2D\\2019\\201904\\2019040420\\WTHR_2D_2019040608.nc\n",
      "E:\\WRF2D\\2019\\201904\\2019040520\\WTHR_2D_2019040708.nc\n",
      "E:\\WRF2D\\2019\\201904\\2019040620\\WTHR_2D_2019040808.nc\n",
      "E:\\WRF2D\\2019\\201904\\2019040720\\WTHR_2D_2019040908.nc\n",
      "E:\\WRF2D\\2019\\201904\\2019040820\\WTHR_2D_2019041008.nc\n",
      "E:\\WRF2D\\2019\\201904\\2019040920\\WTHR_2D_2019041108.nc\n",
      "E:\\WRF2D\\2019\\201904\\2019041020\\WTHR_2D_2019041208.nc\n",
      "E:\\WRF2D\\2019\\201904\\2019041120\\WTHR_2D_2019041308.nc\n",
      "E:\\WRF2D\\2019\\201904\\2019041220\\WTHR_2D_2019041408.nc\n",
      "E:\\WRF2D\\2019\\201904\\2019041320\\WTHR_2D_2019041508.nc\n",
      "E:\\WRF2D\\2019\\201904\\2019041420\\WTHR_2D_2019041608.nc\n",
      "E:\\WRF2D\\2019\\201904\\2019041520\\WTHR_2D_2019041708.nc\n",
      "E:\\WRF2D\\2019\\201904\\2019041620\\WTHR_2D_2019041808.nc\n",
      "E:\\WRF2D\\2019\\201904\\2019041720\\WTHR_2D_2019041908.nc\n",
      "E:\\WRF2D\\2019\\201904\\2019041820\\WTHR_2D_2019042008.nc\n",
      "E:\\WRF2D\\2019\\201904\\2019041920\\WTHR_2D_2019042108.nc\n",
      "E:\\WRF2D\\2019\\201904\\2019042020\\WTHR_2D_2019042208.nc\n",
      "E:\\WRF2D\\2019\\201904\\2019042120\\WTHR_2D_2019042308.nc\n",
      "E:\\WRF2D\\2019\\201904\\2019042220\\WTHR_2D_2019042408.nc\n",
      "E:\\WRF2D\\2019\\201904\\2019042320\\WTHR_2D_2019042508.nc\n",
      "E:\\WRF2D\\2019\\201904\\2019042420\\WTHR_2D_2019042608.nc\n",
      "E:\\WRF2D\\2019\\201904\\2019042520\\WTHR_2D_2019042708.nc\n",
      "E:\\WRF2D\\2019\\201904\\2019042620\\WTHR_2D_2019042808.nc\n"
     ]
    }
   ],
   "source": [
    "import re\n",
    "WRF_flnm08=[]\n",
    "regex = '.+08.nc'   # 只要八点的数据\n",
    "#regex = '(E:\\\\\\WRF2D\\\\\\)+(2019)+\\\\\\+(201901)+\\\\\\+(*).+08.nc'  # 括号代表分组操作 OK\n",
    "for each_file in WRF_flnm_list:  \n",
    "    if re.search(regex,each_file) is not None:\n",
    "        WRF_flnm08.append(each_file)\n",
    "        print(each_file)"
   ]
  },
  {
   "cell_type": "code",
   "execution_count": null,
   "metadata": {},
   "outputs": [],
   "source": []
  },
  {
   "cell_type": "code",
   "execution_count": null,
   "metadata": {},
   "outputs": [],
   "source": []
  },
  {
   "cell_type": "code",
   "execution_count": null,
   "metadata": {},
   "outputs": [],
   "source": []
  }
 ],
 "metadata": {
  "kernelspec": {
   "display_name": "Python 3",
   "language": "python",
   "name": "python3"
  },
  "language_info": {
   "codemirror_mode": {
    "name": "ipython",
    "version": 3
   },
   "file_extension": ".py",
   "mimetype": "text/x-python",
   "name": "python",
   "nbconvert_exporter": "python",
   "pygments_lexer": "ipython3",
   "version": "3.6.4"
  },
  "varInspector": {
   "cols": {
    "lenName": 16,
    "lenType": 16,
    "lenVar": 40
   },
   "kernels_config": {
    "python": {
     "delete_cmd_postfix": "",
     "delete_cmd_prefix": "del ",
     "library": "var_list.py",
     "varRefreshCmd": "print(var_dic_list())"
    },
    "r": {
     "delete_cmd_postfix": ") ",
     "delete_cmd_prefix": "rm(",
     "library": "var_list.r",
     "varRefreshCmd": "cat(var_dic_list()) "
    }
   },
   "types_to_exclude": [
    "module",
    "function",
    "builtin_function_or_method",
    "instance",
    "_Feature"
   ],
   "window_display": false
  }
 },
 "nbformat": 4,
 "nbformat_minor": 2
}
