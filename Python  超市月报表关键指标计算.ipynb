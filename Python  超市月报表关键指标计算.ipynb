{
 "cells": [
  {
   "cell_type": "markdown",
   "metadata": {},
   "source": [
    "**作业题：**\n",
    "1.\t计算2017年4月销售额、客流量、客单价\n",
    "2.\t计算2017年4月的同比销售额、客流量、客单价\n",
    "3.\t计算2017年4月的环比销售额、客流量、客单价"
   ]
  },
  {
   "cell_type": "markdown",
   "metadata": {},
   "source": [
    "**题目说明：**\n",
    "- 销售额 = 售价 乘 销量 = [\"Price\"] 乘 [\"Qty\"]\n",
    "- 客流量 = 订单量（客流量用订单量代替）\n",
    "- 客单价 = 销售额/客流量\n",
    "- 同比是指相邻时间段内的相同时间段内的数据之比，2017年的4月的同比是2016年4月的数据。\n",
    "- 环比是指相邻时间段内的数据之比，2017年4月的环比是2017年3月的数据。（这里没有2017年3月的数据，用2017年1月的数据代替）。\n",
    "\n",
    "**业务背景：**\n",
    "- 你现在是一个连锁超市的数据分析师，你需要知道你们公司本月的营业情况如何，营业情况的核心指标用销售额、客流量、客单价这三个指标来反映，这三个指标将会直接影响公司的盈利情况。\n",
    "- 你如何去评判这个三个指标的发展情况呢？肯定是先想到对比，因为只有对比才有好坏之分，那么和谁去对比呢，最先对比的就是相邻的时间段，也就是和上个月比；再然后就是和相邻时间段的同一时间段，也就是去年的同期做对比，这样就可以综合反映本月各指标的发展情况。\n",
    "\n",
    "**计算逻辑说明：**\n",
    "- 我们要计算的是某一时间段内的各指标数据，那么首先需要把这一时间段的明细数据索引出来，然后再在这段时间范围内的基础上去计算各指标。\n",
    "- 目前明细数据中已有的时间字段是SDate和STime,SDate是非时间格式，需要将该字段解析为时间格式，STime是时间格式，但是该字段是分秒粒度的，我们目前需要月维度的数据，所以需要将这两个字段中其中一个转化为月维度的数据，这里选择将SDate转化为月维度的数据。\n",
    "- 有月维度数据以后，我们就可以通过让月等于你要计算的月份，比如让月份等于4，就是把4月的数据筛选出来，然后在筛选出来的数据上进行各指标求取。\n",
    "\n",
    "- 销售额 = 售价 乘 销量 = [\"Price\"] 乘 [\"Qty\"]\n",
    "- 客流量 = 订单量（客流量用订单量代替）= SheetID去重以后计数\n",
    "- 客单价 = 销售额/客流量"
   ]
  },
  {
   "cell_type": "markdown",
   "metadata": {},
   "source": [
    "# 导入相关库"
   ]
  },
  {
   "cell_type": "code",
   "execution_count": 1,
   "metadata": {
    "ExecuteTime": {
     "end_time": "2019-07-17T13:37:00.832891Z",
     "start_time": "2019-07-17T13:36:59.879756Z"
    }
   },
   "outputs": [],
   "source": [
    "%matplotlib inline\n",
    "import pandas as pd\n",
    "import numpy as np\n",
    "import matplotlib.pyplot as plt\n",
    "from dateutil.parser import parse\n",
    "plt.rcParams[\"font.sans-serif\"]='SimHei'#解决中文乱码\n",
    "plt.rcParams['axes.unicode_minus'] = False#解决负号无法正常显示的问题"
   ]
  },
  {
   "cell_type": "markdown",
   "metadata": {},
   "source": [
    "# 导入数据 "
   ]
  },
  {
   "cell_type": "code",
   "execution_count": 2,
   "metadata": {
    "ExecuteTime": {
     "end_time": "2019-07-17T13:37:03.910061Z",
     "start_time": "2019-07-17T13:37:00.942035Z"
    }
   },
   "outputs": [
    {
     "data": {
      "text/html": [
       "<div>\n",
       "<style scoped>\n",
       "    .dataframe tbody tr th:only-of-type {\n",
       "        vertical-align: middle;\n",
       "    }\n",
       "\n",
       "    .dataframe tbody tr th {\n",
       "        vertical-align: top;\n",
       "    }\n",
       "\n",
       "    .dataframe thead th {\n",
       "        text-align: right;\n",
       "    }\n",
       "</style>\n",
       "<table border=\"1\" class=\"dataframe\">\n",
       "  <thead>\n",
       "    <tr style=\"text-align: right;\">\n",
       "      <th></th>\n",
       "      <th>GoodsID</th>\n",
       "      <th>CateID</th>\n",
       "      <th>Cost</th>\n",
       "      <th>Price</th>\n",
       "      <th>Qty</th>\n",
       "      <th>shopID</th>\n",
       "      <th>SDate</th>\n",
       "      <th>STime</th>\n",
       "      <th>SheetID</th>\n",
       "      <th>CashValue</th>\n",
       "    </tr>\n",
       "  </thead>\n",
       "  <tbody>\n",
       "    <tr>\n",
       "      <th>0</th>\n",
       "      <td>30006206</td>\n",
       "      <td>915000003</td>\n",
       "      <td>20.673643</td>\n",
       "      <td>25.23</td>\n",
       "      <td>0.328</td>\n",
       "      <td>CDLG</td>\n",
       "      <td>20170103</td>\n",
       "      <td>2017-01-03 09:56:55</td>\n",
       "      <td>20170103CDLG000210052759</td>\n",
       "      <td>56.453</td>\n",
       "    </tr>\n",
       "    <tr>\n",
       "      <th>1</th>\n",
       "      <td>30163281</td>\n",
       "      <td>914010000</td>\n",
       "      <td>1.724210</td>\n",
       "      <td>2.00</td>\n",
       "      <td>2.000</td>\n",
       "      <td>CDLG</td>\n",
       "      <td>20170103</td>\n",
       "      <td>2017-01-03 09:56:55</td>\n",
       "      <td>20170103CDLG000210052759</td>\n",
       "      <td>56.453</td>\n",
       "    </tr>\n",
       "    <tr>\n",
       "      <th>2</th>\n",
       "      <td>30200518</td>\n",
       "      <td>922000000</td>\n",
       "      <td>16.344857</td>\n",
       "      <td>19.62</td>\n",
       "      <td>0.230</td>\n",
       "      <td>CDLG</td>\n",
       "      <td>20170103</td>\n",
       "      <td>2017-01-03 09:56:55</td>\n",
       "      <td>20170103CDLG000210052759</td>\n",
       "      <td>56.453</td>\n",
       "    </tr>\n",
       "    <tr>\n",
       "      <th>3</th>\n",
       "      <td>29989105</td>\n",
       "      <td>922000000</td>\n",
       "      <td>1.971475</td>\n",
       "      <td>2.80</td>\n",
       "      <td>2.044</td>\n",
       "      <td>CDLG</td>\n",
       "      <td>20170103</td>\n",
       "      <td>2017-01-03 09:56:55</td>\n",
       "      <td>20170103CDLG000210052759</td>\n",
       "      <td>56.453</td>\n",
       "    </tr>\n",
       "    <tr>\n",
       "      <th>4</th>\n",
       "      <td>30179558</td>\n",
       "      <td>915000100</td>\n",
       "      <td>34.219740</td>\n",
       "      <td>47.41</td>\n",
       "      <td>0.226</td>\n",
       "      <td>CDLG</td>\n",
       "      <td>20170103</td>\n",
       "      <td>2017-01-03 09:56:55</td>\n",
       "      <td>20170103CDLG000210052759</td>\n",
       "      <td>56.453</td>\n",
       "    </tr>\n",
       "  </tbody>\n",
       "</table>\n",
       "</div>"
      ],
      "text/plain": [
       "    GoodsID     CateID       Cost  Price    Qty shopID     SDate  \\\n",
       "0  30006206  915000003  20.673643  25.23  0.328   CDLG  20170103   \n",
       "1  30163281  914010000   1.724210   2.00  2.000   CDLG  20170103   \n",
       "2  30200518  922000000  16.344857  19.62  0.230   CDLG  20170103   \n",
       "3  29989105  922000000   1.971475   2.80  2.044   CDLG  20170103   \n",
       "4  30179558  915000100  34.219740  47.41  0.226   CDLG  20170103   \n",
       "\n",
       "                STime                   SheetID  CashValue  \n",
       "0 2017-01-03 09:56:55  20170103CDLG000210052759     56.453  \n",
       "1 2017-01-03 09:56:55  20170103CDLG000210052759     56.453  \n",
       "2 2017-01-03 09:56:55  20170103CDLG000210052759     56.453  \n",
       "3 2017-01-03 09:56:55  20170103CDLG000210052759     56.453  \n",
       "4 2017-01-03 09:56:55  20170103CDLG000210052759     56.453  "
      ]
     },
     "execution_count": 2,
     "metadata": {},
     "output_type": "execute_result"
    }
   ],
   "source": [
    "data_2017 = pd.read_csv(r\"2017年1月&2017年4月数据.csv\",parse_dates = [\"STime\"])\n",
    "data_2017.head()"
   ]
  },
  {
   "cell_type": "code",
   "execution_count": 3,
   "metadata": {
    "ExecuteTime": {
     "end_time": "2019-07-17T13:37:04.409971Z",
     "start_time": "2019-07-17T13:37:03.956924Z"
    }
   },
   "outputs": [
    {
     "name": "stdout",
     "output_type": "stream",
     "text": [
      "<class 'pandas.core.frame.DataFrame'>\n",
      "RangeIndex: 897232 entries, 0 to 897231\n",
      "Data columns (total 10 columns):\n",
      "GoodsID      897232 non-null int64\n",
      "CateID       897232 non-null int64\n",
      "Cost         896550 non-null float64\n",
      "Price        897232 non-null float64\n",
      "Qty          897232 non-null float64\n",
      "shopID       897232 non-null object\n",
      "SDate        897232 non-null int64\n",
      "STime        897232 non-null datetime64[ns]\n",
      "SheetID      897232 non-null object\n",
      "CashValue    897232 non-null float64\n",
      "dtypes: datetime64[ns](1), float64(4), int64(3), object(2)\n",
      "memory usage: 68.5+ MB\n"
     ]
    }
   ],
   "source": [
    "data_2017.info()"
   ]
  },
  {
   "cell_type": "code",
   "execution_count": 4,
   "metadata": {
    "ExecuteTime": {
     "end_time": "2019-07-17T13:37:23.743883Z",
     "start_time": "2019-07-17T13:37:20.197746Z"
    }
   },
   "outputs": [],
   "source": [
    "data_2016 = pd.read_csv(r\"2016年1月&20164月数据.csv\",parse_dates = [\"STime\"])"
   ]
  },
  {
   "cell_type": "code",
   "execution_count": 5,
   "metadata": {
    "ExecuteTime": {
     "end_time": "2019-07-17T13:37:24.983395Z",
     "start_time": "2019-07-17T13:37:24.478017Z"
    }
   },
   "outputs": [
    {
     "name": "stdout",
     "output_type": "stream",
     "text": [
      "<class 'pandas.core.frame.DataFrame'>\n",
      "RangeIndex: 1116447 entries, 0 to 1116446\n",
      "Data columns (total 10 columns):\n",
      "GoodsID      1116447 non-null int64\n",
      "CateID       1116447 non-null int64\n",
      "Cost         1114288 non-null float64\n",
      "Price        1116447 non-null float64\n",
      "Qty          1116447 non-null float64\n",
      "shopID       1116447 non-null object\n",
      "SDate        1116447 non-null int64\n",
      "STime        1116447 non-null datetime64[ns]\n",
      "SheetID      1116447 non-null object\n",
      "CashValue    1116447 non-null float64\n",
      "dtypes: datetime64[ns](1), float64(4), int64(3), object(2)\n",
      "memory usage: 85.2+ MB\n"
     ]
    }
   ],
   "source": [
    "data_2016.info()"
   ]
  },
  {
   "cell_type": "code",
   "execution_count": 6,
   "metadata": {
    "ExecuteTime": {
     "end_time": "2019-07-17T13:37:27.014130Z",
     "start_time": "2019-07-17T13:37:25.764422Z"
    }
   },
   "outputs": [
    {
     "data": {
      "text/plain": [
       "(1067302, 10)"
      ]
     },
     "execution_count": 6,
     "metadata": {},
     "output_type": "execute_result"
    }
   ],
   "source": [
    "data_2016.drop_duplicates().shape"
   ]
  },
  {
   "cell_type": "code",
   "execution_count": 7,
   "metadata": {
    "ExecuteTime": {
     "end_time": "2019-07-17T13:37:28.248271Z",
     "start_time": "2019-07-17T13:37:27.107857Z"
    }
   },
   "outputs": [
    {
     "data": {
      "text/plain": [
       "(855620, 10)"
      ]
     },
     "execution_count": 7,
     "metadata": {},
     "output_type": "execute_result"
    }
   ],
   "source": [
    "data_2017.drop_duplicates().shape"
   ]
  },
  {
   "cell_type": "code",
   "execution_count": 8,
   "metadata": {
    "ExecuteTime": {
     "end_time": "2019-07-17T13:37:34.937646Z",
     "start_time": "2019-07-17T13:37:32.686867Z"
    }
   },
   "outputs": [],
   "source": [
    "data_2016 = data_2016.drop_duplicates()\n",
    "data_2017 = data_2017.drop_duplicates()"
   ]
  },
  {
   "cell_type": "markdown",
   "metadata": {},
   "source": [
    "# 数据预处理"
   ]
  },
  {
   "cell_type": "code",
   "execution_count": 9,
   "metadata": {
    "ExecuteTime": {
     "end_time": "2019-07-17T13:39:36.688835Z",
     "start_time": "2019-07-17T13:37:42.578764Z"
    }
   },
   "outputs": [],
   "source": [
    "data_2016[\"date\"] = [parse(str(time)) for time in data_2016[\"SDate\"]]\n",
    "data_2017[\"date\"] = [parse(str(time)) for time in data_2017[\"SDate\"]]"
   ]
  },
  {
   "cell_type": "code",
   "execution_count": 10,
   "metadata": {
    "ExecuteTime": {
     "end_time": "2019-07-17T13:39:44.352847Z",
     "start_time": "2019-07-17T13:39:36.813767Z"
    }
   },
   "outputs": [],
   "source": [
    "data_2016[\"月份\"] = [time.month for time in data_2016[\"date\"]]\n",
    "data_2017[\"月份\"] = [time.month for time in data_2017[\"date\"]]"
   ]
  },
  {
   "cell_type": "code",
   "execution_count": 11,
   "metadata": {
    "ExecuteTime": {
     "end_time": "2019-07-17T13:39:44.493480Z",
     "start_time": "2019-07-17T13:39:44.446574Z"
    }
   },
   "outputs": [
    {
     "data": {
      "text/plain": [
       "array([1, 4], dtype=int64)"
      ]
     },
     "execution_count": 11,
     "metadata": {},
     "output_type": "execute_result"
    }
   ],
   "source": [
    "data_2017[\"月份\"].unique()"
   ]
  },
  {
   "cell_type": "code",
   "execution_count": 12,
   "metadata": {
    "ExecuteTime": {
     "end_time": "2019-07-17T13:39:44.634028Z",
     "start_time": "2019-07-17T13:39:44.587164Z"
    }
   },
   "outputs": [
    {
     "data": {
      "text/plain": [
       "array([1, 4], dtype=int64)"
      ]
     },
     "execution_count": 12,
     "metadata": {},
     "output_type": "execute_result"
    }
   ],
   "source": [
    "data_2016[\"月份\"].unique()"
   ]
  },
  {
   "cell_type": "markdown",
   "metadata": {},
   "source": [
    "# 报表制作"
   ]
  },
  {
   "cell_type": "markdown",
   "metadata": {},
   "source": [
    "## 本月累计数据计算 "
   ]
  },
  {
   "cell_type": "code",
   "execution_count": 13,
   "metadata": {
    "ExecuteTime": {
     "end_time": "2019-07-17T13:39:44.925042Z",
     "start_time": "2019-07-17T13:39:44.743378Z"
    }
   },
   "outputs": [
    {
     "data": {
      "text/html": [
       "<div>\n",
       "<style scoped>\n",
       "    .dataframe tbody tr th:only-of-type {\n",
       "        vertical-align: middle;\n",
       "    }\n",
       "\n",
       "    .dataframe tbody tr th {\n",
       "        vertical-align: top;\n",
       "    }\n",
       "\n",
       "    .dataframe thead th {\n",
       "        text-align: right;\n",
       "    }\n",
       "</style>\n",
       "<table border=\"1\" class=\"dataframe\">\n",
       "  <thead>\n",
       "    <tr style=\"text-align: right;\">\n",
       "      <th></th>\n",
       "      <th>GoodsID</th>\n",
       "      <th>CateID</th>\n",
       "      <th>Cost</th>\n",
       "      <th>Price</th>\n",
       "      <th>Qty</th>\n",
       "      <th>shopID</th>\n",
       "      <th>SDate</th>\n",
       "      <th>STime</th>\n",
       "      <th>SheetID</th>\n",
       "      <th>CashValue</th>\n",
       "      <th>date</th>\n",
       "      <th>月份</th>\n",
       "    </tr>\n",
       "  </thead>\n",
       "  <tbody>\n",
       "    <tr>\n",
       "      <th>493644</th>\n",
       "      <td>30089347</td>\n",
       "      <td>910030000</td>\n",
       "      <td>2.370000</td>\n",
       "      <td>2.62</td>\n",
       "      <td>7.000</td>\n",
       "      <td>CDLG</td>\n",
       "      <td>20170405</td>\n",
       "      <td>2017-04-05 18:20:35</td>\n",
       "      <td>20170405CDLG000310112461</td>\n",
       "      <td>18.340</td>\n",
       "      <td>2017-04-05</td>\n",
       "      <td>4</td>\n",
       "    </tr>\n",
       "    <tr>\n",
       "      <th>493645</th>\n",
       "      <td>30020269</td>\n",
       "      <td>923000101</td>\n",
       "      <td>7.636254</td>\n",
       "      <td>10.80</td>\n",
       "      <td>1.064</td>\n",
       "      <td>CDLG</td>\n",
       "      <td>20170405</td>\n",
       "      <td>2017-04-05 18:20:57</td>\n",
       "      <td>20170405CDLG000310112462</td>\n",
       "      <td>11.496</td>\n",
       "      <td>2017-04-05</td>\n",
       "      <td>4</td>\n",
       "    </tr>\n",
       "    <tr>\n",
       "      <th>493646</th>\n",
       "      <td>30006266</td>\n",
       "      <td>914100000</td>\n",
       "      <td>9.020000</td>\n",
       "      <td>9.12</td>\n",
       "      <td>1.000</td>\n",
       "      <td>CDLG</td>\n",
       "      <td>20170405</td>\n",
       "      <td>2017-04-05 18:21:43</td>\n",
       "      <td>20170405CDLG000310112463</td>\n",
       "      <td>35.200</td>\n",
       "      <td>2017-04-05</td>\n",
       "      <td>4</td>\n",
       "    </tr>\n",
       "    <tr>\n",
       "      <th>493647</th>\n",
       "      <td>30166320</td>\n",
       "      <td>936010000</td>\n",
       "      <td>5.208750</td>\n",
       "      <td>6.52</td>\n",
       "      <td>1.000</td>\n",
       "      <td>CDLG</td>\n",
       "      <td>20170405</td>\n",
       "      <td>2017-04-05 18:21:43</td>\n",
       "      <td>20170405CDLG000310112463</td>\n",
       "      <td>35.200</td>\n",
       "      <td>2017-04-05</td>\n",
       "      <td>4</td>\n",
       "    </tr>\n",
       "    <tr>\n",
       "      <th>493651</th>\n",
       "      <td>29989058</td>\n",
       "      <td>922000001</td>\n",
       "      <td>0.525031</td>\n",
       "      <td>0.58</td>\n",
       "      <td>2.414</td>\n",
       "      <td>CDLG</td>\n",
       "      <td>20170405</td>\n",
       "      <td>2017-04-05 18:22:22</td>\n",
       "      <td>20170405CDLG000310112464</td>\n",
       "      <td>47.322</td>\n",
       "      <td>2017-04-05</td>\n",
       "      <td>4</td>\n",
       "    </tr>\n",
       "  </tbody>\n",
       "</table>\n",
       "</div>"
      ],
      "text/plain": [
       "         GoodsID     CateID      Cost  Price    Qty shopID     SDate  \\\n",
       "493644  30089347  910030000  2.370000   2.62  7.000   CDLG  20170405   \n",
       "493645  30020269  923000101  7.636254  10.80  1.064   CDLG  20170405   \n",
       "493646  30006266  914100000  9.020000   9.12  1.000   CDLG  20170405   \n",
       "493647  30166320  936010000  5.208750   6.52  1.000   CDLG  20170405   \n",
       "493651  29989058  922000001  0.525031   0.58  2.414   CDLG  20170405   \n",
       "\n",
       "                     STime                   SheetID  CashValue       date  月份  \n",
       "493644 2017-04-05 18:20:35  20170405CDLG000310112461     18.340 2017-04-05   4  \n",
       "493645 2017-04-05 18:20:57  20170405CDLG000310112462     11.496 2017-04-05   4  \n",
       "493646 2017-04-05 18:21:43  20170405CDLG000310112463     35.200 2017-04-05   4  \n",
       "493647 2017-04-05 18:21:43  20170405CDLG000310112463     35.200 2017-04-05   4  \n",
       "493651 2017-04-05 18:22:22  20170405CDLG000310112464     47.322 2017-04-05   4  "
      ]
     },
     "execution_count": 13,
     "metadata": {},
     "output_type": "execute_result"
    }
   ],
   "source": [
    "April_data = data_2017[data_2017[\"date\"]>=parse(\"2017-04-01\")]\n",
    "April_data.head()"
   ]
  },
  {
   "cell_type": "code",
   "execution_count": 14,
   "metadata": {
    "ExecuteTime": {
     "end_time": "2019-07-17T13:39:45.143751Z",
     "start_time": "2019-07-17T13:39:45.081225Z"
    }
   },
   "outputs": [
    {
     "data": {
      "text/plain": [
       "3041195.2679000003"
      ]
     },
     "execution_count": 14,
     "metadata": {},
     "output_type": "execute_result"
    }
   ],
   "source": [
    "#四月累计销售额\n",
    "sale_sum = (April_data[\"Price\"]*April_data[\"Qty\"]).sum()\n",
    "sale_sum"
   ]
  },
  {
   "cell_type": "code",
   "execution_count": 15,
   "metadata": {
    "ExecuteTime": {
     "end_time": "2019-07-17T13:39:45.581108Z",
     "start_time": "2019-07-17T13:39:45.268725Z"
    }
   },
   "outputs": [
    {
     "data": {
      "text/plain": [
       "91831"
      ]
     },
     "execution_count": 15,
     "metadata": {},
     "output_type": "execute_result"
    }
   ],
   "source": [
    "#四月累计客流用订单量代替\n",
    "traffic_sum = April_data[\"SheetID\"].drop_duplicates().count()\n",
    "traffic_sum"
   ]
  },
  {
   "cell_type": "code",
   "execution_count": 16,
   "metadata": {
    "ExecuteTime": {
     "end_time": "2019-07-17T13:39:45.752944Z",
     "start_time": "2019-07-17T13:39:45.721750Z"
    }
   },
   "outputs": [
    {
     "data": {
      "text/plain": [
       "33.11730535331207"
      ]
     },
     "execution_count": 16,
     "metadata": {},
     "output_type": "execute_result"
    }
   ],
   "source": [
    "#四月累计客单价\n",
    "Customer_price = sale_sum/traffic_sum\n",
    "Customer_price"
   ]
  },
  {
   "cell_type": "markdown",
   "metadata": {},
   "source": [
    "## 上月同期计算"
   ]
  },
  {
   "cell_type": "code",
   "execution_count": 17,
   "metadata": {
    "ExecuteTime": {
     "end_time": "2019-07-17T13:39:46.018544Z",
     "start_time": "2019-07-17T13:39:45.909155Z"
    }
   },
   "outputs": [
    {
     "data": {
      "text/html": [
       "<div>\n",
       "<style scoped>\n",
       "    .dataframe tbody tr th:only-of-type {\n",
       "        vertical-align: middle;\n",
       "    }\n",
       "\n",
       "    .dataframe tbody tr th {\n",
       "        vertical-align: top;\n",
       "    }\n",
       "\n",
       "    .dataframe thead th {\n",
       "        text-align: right;\n",
       "    }\n",
       "</style>\n",
       "<table border=\"1\" class=\"dataframe\">\n",
       "  <thead>\n",
       "    <tr style=\"text-align: right;\">\n",
       "      <th></th>\n",
       "      <th>GoodsID</th>\n",
       "      <th>CateID</th>\n",
       "      <th>Cost</th>\n",
       "      <th>Price</th>\n",
       "      <th>Qty</th>\n",
       "      <th>shopID</th>\n",
       "      <th>SDate</th>\n",
       "      <th>STime</th>\n",
       "      <th>SheetID</th>\n",
       "      <th>CashValue</th>\n",
       "      <th>date</th>\n",
       "      <th>月份</th>\n",
       "    </tr>\n",
       "  </thead>\n",
       "  <tbody>\n",
       "    <tr>\n",
       "      <th>0</th>\n",
       "      <td>30006206</td>\n",
       "      <td>915000003</td>\n",
       "      <td>20.673643</td>\n",
       "      <td>25.23</td>\n",
       "      <td>0.328</td>\n",
       "      <td>CDLG</td>\n",
       "      <td>20170103</td>\n",
       "      <td>2017-01-03 09:56:55</td>\n",
       "      <td>20170103CDLG000210052759</td>\n",
       "      <td>56.453</td>\n",
       "      <td>2017-01-03</td>\n",
       "      <td>1</td>\n",
       "    </tr>\n",
       "    <tr>\n",
       "      <th>1</th>\n",
       "      <td>30163281</td>\n",
       "      <td>914010000</td>\n",
       "      <td>1.724210</td>\n",
       "      <td>2.00</td>\n",
       "      <td>2.000</td>\n",
       "      <td>CDLG</td>\n",
       "      <td>20170103</td>\n",
       "      <td>2017-01-03 09:56:55</td>\n",
       "      <td>20170103CDLG000210052759</td>\n",
       "      <td>56.453</td>\n",
       "      <td>2017-01-03</td>\n",
       "      <td>1</td>\n",
       "    </tr>\n",
       "    <tr>\n",
       "      <th>2</th>\n",
       "      <td>30200518</td>\n",
       "      <td>922000000</td>\n",
       "      <td>16.344857</td>\n",
       "      <td>19.62</td>\n",
       "      <td>0.230</td>\n",
       "      <td>CDLG</td>\n",
       "      <td>20170103</td>\n",
       "      <td>2017-01-03 09:56:55</td>\n",
       "      <td>20170103CDLG000210052759</td>\n",
       "      <td>56.453</td>\n",
       "      <td>2017-01-03</td>\n",
       "      <td>1</td>\n",
       "    </tr>\n",
       "    <tr>\n",
       "      <th>3</th>\n",
       "      <td>29989105</td>\n",
       "      <td>922000000</td>\n",
       "      <td>1.971475</td>\n",
       "      <td>2.80</td>\n",
       "      <td>2.044</td>\n",
       "      <td>CDLG</td>\n",
       "      <td>20170103</td>\n",
       "      <td>2017-01-03 09:56:55</td>\n",
       "      <td>20170103CDLG000210052759</td>\n",
       "      <td>56.453</td>\n",
       "      <td>2017-01-03</td>\n",
       "      <td>1</td>\n",
       "    </tr>\n",
       "    <tr>\n",
       "      <th>4</th>\n",
       "      <td>30179558</td>\n",
       "      <td>915000100</td>\n",
       "      <td>34.219740</td>\n",
       "      <td>47.41</td>\n",
       "      <td>0.226</td>\n",
       "      <td>CDLG</td>\n",
       "      <td>20170103</td>\n",
       "      <td>2017-01-03 09:56:55</td>\n",
       "      <td>20170103CDLG000210052759</td>\n",
       "      <td>56.453</td>\n",
       "      <td>2017-01-03</td>\n",
       "      <td>1</td>\n",
       "    </tr>\n",
       "  </tbody>\n",
       "</table>\n",
       "</div>"
      ],
      "text/plain": [
       "    GoodsID     CateID       Cost  Price    Qty shopID     SDate  \\\n",
       "0  30006206  915000003  20.673643  25.23  0.328   CDLG  20170103   \n",
       "1  30163281  914010000   1.724210   2.00  2.000   CDLG  20170103   \n",
       "2  30200518  922000000  16.344857  19.62  0.230   CDLG  20170103   \n",
       "3  29989105  922000000   1.971475   2.80  2.044   CDLG  20170103   \n",
       "4  30179558  915000100  34.219740  47.41  0.226   CDLG  20170103   \n",
       "\n",
       "                STime                   SheetID  CashValue       date  月份  \n",
       "0 2017-01-03 09:56:55  20170103CDLG000210052759     56.453 2017-01-03   1  \n",
       "1 2017-01-03 09:56:55  20170103CDLG000210052759     56.453 2017-01-03   1  \n",
       "2 2017-01-03 09:56:55  20170103CDLG000210052759     56.453 2017-01-03   1  \n",
       "3 2017-01-03 09:56:55  20170103CDLG000210052759     56.453 2017-01-03   1  \n",
       "4 2017-01-03 09:56:55  20170103CDLG000210052759     56.453 2017-01-03   1  "
      ]
     },
     "execution_count": 17,
     "metadata": {},
     "output_type": "execute_result"
    }
   ],
   "source": [
    "March_data = data_2017[(data_2017[\"date\"]>=parse(\"2017-01-01\"))&(data_2017[\"date\"]<=parse(\"2017-01-31\"))]\n",
    "March_data.head()"
   ]
  },
  {
   "cell_type": "code",
   "execution_count": 18,
   "metadata": {
    "ExecuteTime": {
     "end_time": "2019-07-17T13:39:46.221582Z",
     "start_time": "2019-07-17T13:39:46.190385Z"
    }
   },
   "outputs": [
    {
     "data": {
      "text/plain": [
       "4674895.95622"
      ]
     },
     "execution_count": 18,
     "metadata": {},
     "output_type": "execute_result"
    }
   ],
   "source": [
    "#一月累计销售额\n",
    "sale_sum_1 = (March_data[\"Price\"]*March_data[\"Qty\"]).sum()\n",
    "sale_sum_1"
   ]
  },
  {
   "cell_type": "code",
   "execution_count": 19,
   "metadata": {
    "ExecuteTime": {
     "end_time": "2019-07-17T13:39:46.471551Z",
     "start_time": "2019-07-17T13:39:46.393492Z"
    }
   },
   "outputs": [
    {
     "data": {
      "text/plain": [
       "100648"
      ]
     },
     "execution_count": 19,
     "metadata": {},
     "output_type": "execute_result"
    }
   ],
   "source": [
    "#一月累计客流用订单量代替\n",
    "traffic_sum_1 = March_data[\"SheetID\"].drop_duplicates().count()\n",
    "traffic_sum_1"
   ]
  },
  {
   "cell_type": "code",
   "execution_count": 20,
   "metadata": {
    "ExecuteTime": {
     "end_time": "2019-07-17T13:39:46.659026Z",
     "start_time": "2019-07-17T13:39:46.643358Z"
    }
   },
   "outputs": [
    {
     "data": {
      "text/plain": [
       "46.44797667335665"
      ]
     },
     "execution_count": 20,
     "metadata": {},
     "output_type": "execute_result"
    }
   ],
   "source": [
    "#一月累计客单价\n",
    "Customer_price_1 = sale_sum_1/traffic_sum_1\n",
    "Customer_price_1"
   ]
  },
  {
   "cell_type": "markdown",
   "metadata": {},
   "source": [
    "## 去年同期计算 "
   ]
  },
  {
   "cell_type": "code",
   "execution_count": 21,
   "metadata": {
    "ExecuteTime": {
     "end_time": "2019-07-17T13:39:47.033892Z",
     "start_time": "2019-07-17T13:39:46.815195Z"
    }
   },
   "outputs": [
    {
     "data": {
      "text/html": [
       "<div>\n",
       "<style scoped>\n",
       "    .dataframe tbody tr th:only-of-type {\n",
       "        vertical-align: middle;\n",
       "    }\n",
       "\n",
       "    .dataframe tbody tr th {\n",
       "        vertical-align: top;\n",
       "    }\n",
       "\n",
       "    .dataframe thead th {\n",
       "        text-align: right;\n",
       "    }\n",
       "</style>\n",
       "<table border=\"1\" class=\"dataframe\">\n",
       "  <thead>\n",
       "    <tr style=\"text-align: right;\">\n",
       "      <th></th>\n",
       "      <th>GoodsID</th>\n",
       "      <th>CateID</th>\n",
       "      <th>Cost</th>\n",
       "      <th>Price</th>\n",
       "      <th>Qty</th>\n",
       "      <th>shopID</th>\n",
       "      <th>SDate</th>\n",
       "      <th>STime</th>\n",
       "      <th>SheetID</th>\n",
       "      <th>CashValue</th>\n",
       "      <th>date</th>\n",
       "      <th>月份</th>\n",
       "    </tr>\n",
       "  </thead>\n",
       "  <tbody>\n",
       "    <tr>\n",
       "      <th>470587</th>\n",
       "      <td>29989076</td>\n",
       "      <td>922000201</td>\n",
       "      <td>5.071292</td>\n",
       "      <td>5.61</td>\n",
       "      <td>0.551</td>\n",
       "      <td>CDLG</td>\n",
       "      <td>20160401</td>\n",
       "      <td>2016-04-01 07:27:53</td>\n",
       "      <td>20160401CDLGP00110000001</td>\n",
       "      <td>39.249</td>\n",
       "      <td>2016-04-01</td>\n",
       "      <td>4</td>\n",
       "    </tr>\n",
       "    <tr>\n",
       "      <th>470588</th>\n",
       "      <td>29989099</td>\n",
       "      <td>922000201</td>\n",
       "      <td>5.020101</td>\n",
       "      <td>6.21</td>\n",
       "      <td>0.334</td>\n",
       "      <td>CDLG</td>\n",
       "      <td>20160401</td>\n",
       "      <td>2016-04-01 07:27:53</td>\n",
       "      <td>20160401CDLGP00110000001</td>\n",
       "      <td>39.249</td>\n",
       "      <td>2016-04-01</td>\n",
       "      <td>4</td>\n",
       "    </tr>\n",
       "    <tr>\n",
       "      <th>470589</th>\n",
       "      <td>29989058</td>\n",
       "      <td>922000201</td>\n",
       "      <td>2.706399</td>\n",
       "      <td>3.60</td>\n",
       "      <td>1.256</td>\n",
       "      <td>CDLG</td>\n",
       "      <td>20160401</td>\n",
       "      <td>2016-04-01 07:27:53</td>\n",
       "      <td>20160401CDLGP00110000001</td>\n",
       "      <td>39.249</td>\n",
       "      <td>2016-04-01</td>\n",
       "      <td>4</td>\n",
       "    </tr>\n",
       "    <tr>\n",
       "      <th>470590</th>\n",
       "      <td>30023041</td>\n",
       "      <td>923000006</td>\n",
       "      <td>3.322512</td>\n",
       "      <td>3.60</td>\n",
       "      <td>1.306</td>\n",
       "      <td>CDLG</td>\n",
       "      <td>20160401</td>\n",
       "      <td>2016-04-01 07:27:53</td>\n",
       "      <td>20160401CDLGP00110000001</td>\n",
       "      <td>39.249</td>\n",
       "      <td>2016-04-01</td>\n",
       "      <td>4</td>\n",
       "    </tr>\n",
       "    <tr>\n",
       "      <th>470591</th>\n",
       "      <td>30151329</td>\n",
       "      <td>924000000</td>\n",
       "      <td>0.960027</td>\n",
       "      <td>1.00</td>\n",
       "      <td>14.600</td>\n",
       "      <td>CDLG</td>\n",
       "      <td>20160401</td>\n",
       "      <td>2016-04-01 07:27:53</td>\n",
       "      <td>20160401CDLGP00110000001</td>\n",
       "      <td>39.249</td>\n",
       "      <td>2016-04-01</td>\n",
       "      <td>4</td>\n",
       "    </tr>\n",
       "  </tbody>\n",
       "</table>\n",
       "</div>"
      ],
      "text/plain": [
       "         GoodsID     CateID      Cost  Price     Qty shopID     SDate  \\\n",
       "470587  29989076  922000201  5.071292   5.61   0.551   CDLG  20160401   \n",
       "470588  29989099  922000201  5.020101   6.21   0.334   CDLG  20160401   \n",
       "470589  29989058  922000201  2.706399   3.60   1.256   CDLG  20160401   \n",
       "470590  30023041  923000006  3.322512   3.60   1.306   CDLG  20160401   \n",
       "470591  30151329  924000000  0.960027   1.00  14.600   CDLG  20160401   \n",
       "\n",
       "                     STime                   SheetID  CashValue       date  月份  \n",
       "470587 2016-04-01 07:27:53  20160401CDLGP00110000001     39.249 2016-04-01   4  \n",
       "470588 2016-04-01 07:27:53  20160401CDLGP00110000001     39.249 2016-04-01   4  \n",
       "470589 2016-04-01 07:27:53  20160401CDLGP00110000001     39.249 2016-04-01   4  \n",
       "470590 2016-04-01 07:27:53  20160401CDLGP00110000001     39.249 2016-04-01   4  \n",
       "470591 2016-04-01 07:27:53  20160401CDLGP00110000001     39.249 2016-04-01   4  "
      ]
     },
     "execution_count": 21,
     "metadata": {},
     "output_type": "execute_result"
    }
   ],
   "source": [
    "last_April = data_2016[(data_2016[\"date\"]>=parse(\"2016-04-01\"))]\n",
    "last_April.head()"
   ]
  },
  {
   "cell_type": "code",
   "execution_count": 22,
   "metadata": {
    "ExecuteTime": {
     "end_time": "2019-07-17T13:39:47.283836Z",
     "start_time": "2019-07-17T13:39:47.237068Z"
    }
   },
   "outputs": [
    {
     "data": {
      "text/plain": [
       "3867720.16205"
      ]
     },
     "execution_count": 22,
     "metadata": {},
     "output_type": "execute_result"
    }
   ],
   "source": [
    "#去年同期累计销售额\n",
    "sale_sum_last = (last_April[\"Price\"]*last_April[\"Qty\"]).sum()\n",
    "sale_sum_last"
   ]
  },
  {
   "cell_type": "code",
   "execution_count": 23,
   "metadata": {
    "ExecuteTime": {
     "end_time": "2019-07-17T13:39:47.549395Z",
     "start_time": "2019-07-17T13:39:47.471291Z"
    }
   },
   "outputs": [
    {
     "data": {
      "text/plain": [
       "109648"
      ]
     },
     "execution_count": 23,
     "metadata": {},
     "output_type": "execute_result"
    }
   ],
   "source": [
    "#去年同期累计客流用订单量代替\n",
    "traffic_sum_last = last_April[\"SheetID\"].drop_duplicates().count()\n",
    "traffic_sum_last"
   ]
  },
  {
   "cell_type": "code",
   "execution_count": 24,
   "metadata": {
    "ExecuteTime": {
     "end_time": "2019-07-17T13:39:47.736854Z",
     "start_time": "2019-07-17T13:39:47.721232Z"
    }
   },
   "outputs": [
    {
     "data": {
      "text/plain": [
       "35.27396908333941"
      ]
     },
     "execution_count": 24,
     "metadata": {},
     "output_type": "execute_result"
    }
   ],
   "source": [
    "#去年同期客单价\n",
    "Customer_price_last = sale_sum_last/traffic_sum_last\n",
    "Customer_price_last"
   ]
  },
  {
   "cell_type": "markdown",
   "metadata": {},
   "source": [
    "## 编写函数减少代码 "
   ]
  },
  {
   "cell_type": "code",
   "execution_count": 25,
   "metadata": {
    "ExecuteTime": {
     "end_time": "2019-07-17T13:39:47.955551Z",
     "start_time": "2019-07-17T13:39:47.924393Z"
    }
   },
   "outputs": [],
   "source": [
    "def get_month_data(data):\n",
    "    sale = (data[\"Price\"]*data[\"Qty\"]).sum()\n",
    "    traffic = data[\"SheetID\"].drop_duplicates().count()\n",
    "    price = sale/traffic\n",
    "    return (sale,traffic,price)"
   ]
  },
  {
   "cell_type": "code",
   "execution_count": 26,
   "metadata": {
    "ExecuteTime": {
     "end_time": "2019-07-17T13:39:48.267978Z",
     "start_time": "2019-07-17T13:39:48.174290Z"
    }
   },
   "outputs": [
    {
     "data": {
      "text/plain": [
       "(3867720.16205, 109648, 35.27396908333941)"
      ]
     },
     "execution_count": 26,
     "metadata": {},
     "output_type": "execute_result"
    }
   ],
   "source": [
    "get_month_data(last_April)"
   ]
  },
  {
   "cell_type": "code",
   "execution_count": 27,
   "metadata": {
    "ExecuteTime": {
     "end_time": "2019-07-17T13:39:48.549161Z",
     "start_time": "2019-07-17T13:39:48.455536Z"
    }
   },
   "outputs": [
    {
     "data": {
      "text/plain": [
       "(4674895.95622, 100648, 46.44797667335665)"
      ]
     },
     "execution_count": 27,
     "metadata": {},
     "output_type": "execute_result"
    }
   ],
   "source": [
    "get_month_data(March_data)"
   ]
  },
  {
   "cell_type": "markdown",
   "metadata": {},
   "source": [
    "## 报表汇总 "
   ]
  },
  {
   "cell_type": "code",
   "execution_count": 31,
   "metadata": {
    "ExecuteTime": {
     "end_time": "2019-07-17T13:40:28.644419Z",
     "start_time": "2019-07-17T13:40:28.597555Z"
    }
   },
   "outputs": [
    {
     "data": {
      "text/html": [
       "<div>\n",
       "<style scoped>\n",
       "    .dataframe tbody tr th:only-of-type {\n",
       "        vertical-align: middle;\n",
       "    }\n",
       "\n",
       "    .dataframe tbody tr th {\n",
       "        vertical-align: top;\n",
       "    }\n",
       "\n",
       "    .dataframe thead th {\n",
       "        text-align: right;\n",
       "    }\n",
       "</style>\n",
       "<table border=\"1\" class=\"dataframe\">\n",
       "  <thead>\n",
       "    <tr style=\"text-align: right;\">\n",
       "      <th></th>\n",
       "      <th>本月累计</th>\n",
       "      <th>环比上月</th>\n",
       "      <th>去年同期</th>\n",
       "    </tr>\n",
       "  </thead>\n",
       "  <tbody>\n",
       "    <tr>\n",
       "      <th>销售额</th>\n",
       "      <td>3041195.0</td>\n",
       "      <td>4674896.0</td>\n",
       "      <td>3867720.0</td>\n",
       "    </tr>\n",
       "    <tr>\n",
       "      <th>客流量</th>\n",
       "      <td>91831.0</td>\n",
       "      <td>100648.0</td>\n",
       "      <td>109648.0</td>\n",
       "    </tr>\n",
       "    <tr>\n",
       "      <th>客单价</th>\n",
       "      <td>33.0</td>\n",
       "      <td>46.0</td>\n",
       "      <td>35.0</td>\n",
       "    </tr>\n",
       "  </tbody>\n",
       "</table>\n",
       "</div>"
      ],
      "text/plain": [
       "          本月累计       环比上月       去年同期\n",
       "销售额  3041195.0  4674896.0  3867720.0\n",
       "客流量    91831.0   100648.0   109648.0\n",
       "客单价       33.0       46.0       35.0"
      ]
     },
     "execution_count": 31,
     "metadata": {},
     "output_type": "execute_result"
    }
   ],
   "source": [
    "data = {\"本月累计\":[round(sale_sum),round(traffic_sum),round(Customer_price)],\n",
    "        \"环比上月\":[round(sale_sum_1),round(traffic_sum_1),round(Customer_price_1)],\n",
    "        \"去年同期\":[round(sale_sum_last),round(traffic_sum_last),round(Customer_price_last)]}\n",
    "columns = [\"本月累计\",\"环比上月\",\"去年同期\"]\n",
    "index = [\"销售额\",\"客流量\",\"客单价\"]\n",
    "month_report = pd.DataFrame(data,index = index,columns = columns)\n",
    "month_report"
   ]
  },
  {
   "cell_type": "code",
   "execution_count": 32,
   "metadata": {
    "ExecuteTime": {
     "end_time": "2019-07-17T13:40:28.988093Z",
     "start_time": "2019-07-17T13:40:28.941224Z"
    }
   },
   "outputs": [
    {
     "data": {
      "text/html": [
       "<div>\n",
       "<style scoped>\n",
       "    .dataframe tbody tr th:only-of-type {\n",
       "        vertical-align: middle;\n",
       "    }\n",
       "\n",
       "    .dataframe tbody tr th {\n",
       "        vertical-align: top;\n",
       "    }\n",
       "\n",
       "    .dataframe thead th {\n",
       "        text-align: right;\n",
       "    }\n",
       "</style>\n",
       "<table border=\"1\" class=\"dataframe\">\n",
       "  <thead>\n",
       "    <tr style=\"text-align: right;\">\n",
       "      <th></th>\n",
       "      <th>本月累计</th>\n",
       "      <th>环比上月</th>\n",
       "      <th>去年同期</th>\n",
       "      <th>环比</th>\n",
       "      <th>同比</th>\n",
       "    </tr>\n",
       "  </thead>\n",
       "  <tbody>\n",
       "    <tr>\n",
       "      <th>销售额</th>\n",
       "      <td>3041195.0</td>\n",
       "      <td>4674896.0</td>\n",
       "      <td>3867720.0</td>\n",
       "      <td>-0.349463</td>\n",
       "      <td>-0.213698</td>\n",
       "    </tr>\n",
       "    <tr>\n",
       "      <th>客流量</th>\n",
       "      <td>91831.0</td>\n",
       "      <td>100648.0</td>\n",
       "      <td>109648.0</td>\n",
       "      <td>-0.087602</td>\n",
       "      <td>-0.162493</td>\n",
       "    </tr>\n",
       "    <tr>\n",
       "      <th>客单价</th>\n",
       "      <td>33.0</td>\n",
       "      <td>46.0</td>\n",
       "      <td>35.0</td>\n",
       "      <td>-0.282609</td>\n",
       "      <td>-0.057143</td>\n",
       "    </tr>\n",
       "  </tbody>\n",
       "</table>\n",
       "</div>"
      ],
      "text/plain": [
       "          本月累计       环比上月       去年同期        环比        同比\n",
       "销售额  3041195.0  4674896.0  3867720.0 -0.349463 -0.213698\n",
       "客流量    91831.0   100648.0   109648.0 -0.087602 -0.162493\n",
       "客单价       33.0       46.0       35.0 -0.282609 -0.057143"
      ]
     },
     "execution_count": 32,
     "metadata": {},
     "output_type": "execute_result"
    }
   ],
   "source": [
    "month_report[\"环比\"] = (month_report[\"本月累计\"]/month_report[\"环比上月\"] - 1)\n",
    "month_report[\"同比\"] = (month_report[\"本月累计\"]/month_report[\"去年同期\"] - 1)\n",
    "month_report"
   ]
  },
  {
   "cell_type": "code",
   "execution_count": 33,
   "metadata": {
    "ExecuteTime": {
     "end_time": "2019-07-17T13:40:29.550460Z",
     "start_time": "2019-07-17T13:40:29.519249Z"
    }
   },
   "outputs": [
    {
     "data": {
      "text/html": [
       "<div>\n",
       "<style scoped>\n",
       "    .dataframe tbody tr th:only-of-type {\n",
       "        vertical-align: middle;\n",
       "    }\n",
       "\n",
       "    .dataframe tbody tr th {\n",
       "        vertical-align: top;\n",
       "    }\n",
       "\n",
       "    .dataframe thead th {\n",
       "        text-align: right;\n",
       "    }\n",
       "</style>\n",
       "<table border=\"1\" class=\"dataframe\">\n",
       "  <thead>\n",
       "    <tr style=\"text-align: right;\">\n",
       "      <th></th>\n",
       "      <th>本月累计</th>\n",
       "      <th>环比上月</th>\n",
       "      <th>环比</th>\n",
       "      <th>去年同期</th>\n",
       "      <th>同比</th>\n",
       "    </tr>\n",
       "  </thead>\n",
       "  <tbody>\n",
       "    <tr>\n",
       "      <th>销售额</th>\n",
       "      <td>3041195.0</td>\n",
       "      <td>4674896.0</td>\n",
       "      <td>-0.349463</td>\n",
       "      <td>3867720.0</td>\n",
       "      <td>-0.213698</td>\n",
       "    </tr>\n",
       "    <tr>\n",
       "      <th>客流量</th>\n",
       "      <td>91831.0</td>\n",
       "      <td>100648.0</td>\n",
       "      <td>-0.087602</td>\n",
       "      <td>109648.0</td>\n",
       "      <td>-0.162493</td>\n",
       "    </tr>\n",
       "    <tr>\n",
       "      <th>客单价</th>\n",
       "      <td>33.0</td>\n",
       "      <td>46.0</td>\n",
       "      <td>-0.282609</td>\n",
       "      <td>35.0</td>\n",
       "      <td>-0.057143</td>\n",
       "    </tr>\n",
       "  </tbody>\n",
       "</table>\n",
       "</div>"
      ],
      "text/plain": [
       "          本月累计       环比上月        环比       去年同期        同比\n",
       "销售额  3041195.0  4674896.0 -0.349463  3867720.0 -0.213698\n",
       "客流量    91831.0   100648.0 -0.087602   109648.0 -0.162493\n",
       "客单价       33.0       46.0 -0.282609       35.0 -0.057143"
      ]
     },
     "execution_count": 33,
     "metadata": {},
     "output_type": "execute_result"
    }
   ],
   "source": [
    "month_report[[\"本月累计\",\"环比上月\",\"环比\",\"去年同期\",\"同比\"]]"
   ]
  },
  {
   "cell_type": "code",
   "execution_count": null,
   "metadata": {},
   "outputs": [],
   "source": []
  },
  {
   "cell_type": "code",
   "execution_count": null,
   "metadata": {},
   "outputs": [],
   "source": []
  },
  {
   "cell_type": "code",
   "execution_count": null,
   "metadata": {},
   "outputs": [],
   "source": []
  },
  {
   "cell_type": "code",
   "execution_count": null,
   "metadata": {},
   "outputs": [],
   "source": []
  }
 ],
 "metadata": {
  "kernelspec": {
   "display_name": "Python 3",
   "language": "python",
   "name": "python3"
  },
  "language_info": {
   "codemirror_mode": {
    "name": "ipython",
    "version": 3
   },
   "file_extension": ".py",
   "mimetype": "text/x-python",
   "name": "python",
   "nbconvert_exporter": "python",
   "pygments_lexer": "ipython3",
   "version": "3.6.4"
  },
  "toc": {
   "base_numbering": 1,
   "nav_menu": {},
   "number_sections": true,
   "sideBar": true,
   "skip_h1_title": false,
   "title_cell": "Table of Contents",
   "title_sidebar": "Contents",
   "toc_cell": false,
   "toc_position": {},
   "toc_section_display": true,
   "toc_window_display": false
  },
  "varInspector": {
   "cols": {
    "lenName": 16,
    "lenType": 16,
    "lenVar": 40
   },
   "kernels_config": {
    "python": {
     "delete_cmd_postfix": "",
     "delete_cmd_prefix": "del ",
     "library": "var_list.py",
     "varRefreshCmd": "print(var_dic_list())"
    },
    "r": {
     "delete_cmd_postfix": ") ",
     "delete_cmd_prefix": "rm(",
     "library": "var_list.r",
     "varRefreshCmd": "cat(var_dic_list()) "
    }
   },
   "types_to_exclude": [
    "module",
    "function",
    "builtin_function_or_method",
    "instance",
    "_Feature"
   ],
   "window_display": false
  }
 },
 "nbformat": 4,
 "nbformat_minor": 2
}
