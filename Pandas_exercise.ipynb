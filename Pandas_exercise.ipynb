{
 "cells": [
  {
   "cell_type": "code",
   "execution_count": 1,
   "metadata": {
    "ExecuteTime": {
     "end_time": "2019-09-18T07:34:06.196942Z",
     "start_time": "2019-09-18T07:34:06.184321Z"
    }
   },
   "outputs": [
    {
     "data": {
      "text/plain": [
       "'\\n【Pandas数据结构Series：基本概念及创建】 \\n'"
      ]
     },
     "execution_count": 1,
     "metadata": {},
     "output_type": "execute_result"
    }
   ],
   "source": [
    "'''\n",
    "【Pandas数据结构Series：基本概念及创建】 \n",
    "'''"
   ]
  },
  {
   "cell_type": "code",
   "execution_count": 2,
   "metadata": {
    "ExecuteTime": {
     "end_time": "2019-09-18T07:34:07.748914Z",
     "start_time": "2019-09-18T07:34:07.468654Z"
    }
   },
   "outputs": [],
   "source": [
    "import numpy as np\n",
    "import pandas as pd"
   ]
  },
  {
   "cell_type": "code",
   "execution_count": 3,
   "metadata": {
    "ExecuteTime": {
     "end_time": "2019-09-18T07:34:09.927117Z",
     "start_time": "2019-09-18T07:34:09.916118Z"
    }
   },
   "outputs": [
    {
     "name": "stdout",
     "output_type": "stream",
     "text": [
      "由字典创建为：\n",
      " Jack     90.0\n",
      "Tom      89.0\n",
      "Marry    92.0\n",
      "Zack     65.0\n",
      "Name: 1, dtype: float64 \n",
      "------\n",
      "由数组创建为：\n",
      " Jack     90.0\n",
      "Tom      89.0\n",
      "Marry    92.0\n",
      "Zack     76.0\n",
      "Name: 作业1, dtype: float64 \n",
      "------\n"
     ]
    }
   ],
   "source": [
    "# 作业1：分别由字典、数组的方式，创建以下要求的Series\n",
    "\n",
    "dic = {'Jack':90,'Tom':89,'Marry':92,'Zack':65}\n",
    "ar = np.array([90,89,92,76])\n",
    "print('由字典创建为：\\n',pd.Series(dic, dtype = np.float, name = '1'),'\\n------')\n",
    "print('由数组创建为：\\n',pd.Series(ar, index = ['Jack','Tom','Marry','Zack'],dtype = np.float, name = '作业1'),'\\n------')"
   ]
  },
  {
   "cell_type": "code",
   "execution_count": 4,
   "metadata": {
    "ExecuteTime": {
     "end_time": "2019-09-18T07:34:11.074070Z",
     "start_time": "2019-09-18T07:34:11.069823Z"
    }
   },
   "outputs": [
    {
     "data": {
      "text/plain": [
       "'\\n【  Pandas数据结构Series：索引】 \\n\\n'"
      ]
     },
     "execution_count": 4,
     "metadata": {},
     "output_type": "execute_result"
    }
   ],
   "source": [
    "'''\n",
    "【  Pandas数据结构Series：索引】 \n",
    "\n",
    "'''"
   ]
  },
  {
   "cell_type": "markdown",
   "metadata": {
    "ExecuteTime": {
     "end_time": "2019-09-18T06:57:58.747826Z",
     "start_time": "2019-09-18T06:57:58.727879Z"
    }
   },
   "source": [
    "# 创建一个Series，包含10个元素，且每个值为0-100的均匀分布随机值，index为a-j，请分别筛选出：\n",
    "# ① 标签为b，c的值为多少\n",
    "# ② Series中第4到6个值是哪些？\n",
    "# ③ Series中大于50的值有哪些？"
   ]
  },
  {
   "cell_type": "code",
   "execution_count": 5,
   "metadata": {
    "ExecuteTime": {
     "end_time": "2019-09-18T07:37:39.863010Z",
     "start_time": "2019-09-18T07:37:39.849530Z"
    }
   },
   "outputs": [
    {
     "name": "stdout",
     "output_type": "stream",
     "text": [
      "创建Series为：\n",
      " a    43.037848\n",
      "b    50.385683\n",
      "c    51.029073\n",
      "d    38.613064\n",
      "e    80.924935\n",
      "f    82.930576\n",
      "g    75.932588\n",
      "h    94.099850\n",
      "i    86.088410\n",
      "j    81.643414\n",
      "dtype: float64 \n",
      "------\n",
      "标签为b，c的值为:\n",
      " 50.38568302743393 51.02907346952812 \n",
      "------\n",
      "Series中第4到6个值为:\n",
      " d    38.613064\n",
      "e    80.924935\n",
      "f    82.930576\n",
      "dtype: float64 \n",
      "------\n",
      "Series中大于50的值为:\n",
      " b    50.385683\n",
      "c    51.029073\n",
      "e    80.924935\n",
      "f    82.930576\n",
      "g    75.932588\n",
      "h    94.099850\n",
      "i    86.088410\n",
      "j    81.643414\n",
      "dtype: float64 \n",
      "------\n"
     ]
    }
   ],
   "source": [
    "s = pd.Series(np.random.rand(10)*100, index = list('abcdefghij'))\n",
    "print('创建Series为：\\n', s, '\\n------')\n",
    "print('标签为b，c的值为:\\n', s['b'], s['c'],'\\n------')\n",
    "print('Series中第4到6个值为:\\n', s[3:6],'\\n------')\n",
    "print('Series中大于50的值为:\\n', s[s>50],'\\n------')"
   ]
  },
  {
   "cell_type": "code",
   "execution_count": 6,
   "metadata": {
    "ExecuteTime": {
     "end_time": "2019-09-18T07:37:40.722176Z",
     "start_time": "2019-09-18T07:37:40.709244Z"
    }
   },
   "outputs": [
    {
     "name": "stdout",
     "output_type": "stream",
     "text": [
      "创建s：\n",
      " a    0\n",
      "b    1\n",
      "c    2\n",
      "d    3\n",
      "e    4\n",
      "f    5\n",
      "g    6\n",
      "h    7\n",
      "i    8\n",
      "j    9\n",
      "dtype: int32 \n",
      "------\n",
      "s修改后：\n",
      " a    100\n",
      "c      2\n",
      "d      3\n",
      "e    100\n",
      "f    100\n",
      "g      6\n",
      "h      7\n",
      "i      8\n",
      "j      9\n",
      "dtype: int32 \n",
      "------\n"
     ]
    }
   ],
   "source": [
    "# 1：如图创建Series，并按照要求修改得到结果\n",
    "\n",
    "s = pd.Series(np.arange(10), index = list('abcdefghij'))\n",
    "print('创建s：\\n',s,'\\n------')\n",
    "s[['a','e','f']] = 100\n",
    "s.drop('b', inplace=True)\n",
    "print('s修改后：\\n',s,'\\n------')"
   ]
  },
  {
   "cell_type": "markdown",
   "metadata": {
    "ExecuteTime": {
     "end_time": "2019-09-18T06:57:59.141772Z",
     "start_time": "2019-09-18T06:57:59.110892Z"
    }
   },
   "source": [
    "# ：已有s1，s2（值为0-10的随机数），请求出s1+s2的值"
   ]
  },
  {
   "cell_type": "code",
   "execution_count": 7,
   "metadata": {
    "ExecuteTime": {
     "end_time": "2019-09-18T07:37:52.081898Z",
     "start_time": "2019-09-18T07:37:52.043625Z"
    }
   },
   "outputs": [
    {
     "name": "stdout",
     "output_type": "stream",
     "text": [
      "创建s1为：\n",
      " a    4.945030\n",
      "b    9.269740\n",
      "c    1.056177\n",
      "d    2.698039\n",
      "e    9.510785\n",
      "dtype: float64 \n",
      "\n",
      "创建s2为：\n",
      " c    7.723452\n",
      "d    4.472024\n",
      "e    1.699465\n",
      "f    4.466105\n",
      "g    0.337046\n",
      "dtype: float64 \n",
      "------\n",
      "s1+s2为：\n",
      " a          NaN\n",
      "b          NaN\n",
      "c     8.779629\n",
      "d     7.170062\n",
      "e    11.210249\n",
      "f          NaN\n",
      "g          NaN\n",
      "dtype: float64 \n",
      "------\n"
     ]
    }
   ],
   "source": [
    "s1 = pd.Series(np.random.rand(5)*10,index = list('abcde'))\n",
    "s2 = pd.Series(np.random.rand(5)*10,index = list('cdefg'))\n",
    "print('创建s1为：\\n',s1,'\\n')\n",
    "print('创建s2为：\\n',s2,'\\n------')\n",
    "print('s1+s2为：\\n',s1+s2,'\\n------')"
   ]
  },
  {
   "cell_type": "code",
   "execution_count": 8,
   "metadata": {
    "ExecuteTime": {
     "end_time": "2019-09-18T07:37:53.937984Z",
     "start_time": "2019-09-18T07:37:53.932001Z"
    }
   },
   "outputs": [
    {
     "data": {
      "text/plain": [
       "'\\n【  Pandas数据结构Dataframe：基本概念及创建】 \\n\\n'"
      ]
     },
     "execution_count": 8,
     "metadata": {},
     "output_type": "execute_result"
    }
   ],
   "source": [
    "'''\n",
    "【  Pandas数据结构Dataframe：基本概念及创建】 \n",
    "\n",
    "'''"
   ]
  },
  {
   "cell_type": "markdown",
   "metadata": {
    "ExecuteTime": {
     "end_time": "2019-09-18T06:58:06.811735Z",
     "start_time": "2019-09-18T06:58:06.774753Z"
    }
   },
   "source": [
    "# 用四种不同的方法，创建以下Dataframe（保证columns和index一致，值不做要求）"
   ]
  },
  {
   "cell_type": "code",
   "execution_count": 9,
   "metadata": {
    "ExecuteTime": {
     "end_time": "2019-09-18T07:38:44.114262Z",
     "start_time": "2019-09-18T07:38:44.066835Z"
    }
   },
   "outputs": [
    {
     "name": "stdout",
     "output_type": "stream",
     "text": [
      "结果Dataframe为：\n",
      "    four  one  three  two\n",
      "a     4    1      3    2\n",
      "b     5    2      4    3\n",
      "c     6    3      5    4\n",
      "d     7    4      6    5\n",
      "e     8    5      7    6\n"
     ]
    }
   ],
   "source": [
    "df1 = pd.DataFrame({'one':[1,2,3,4,5],\n",
    "                   'two':[2,3,4,5,6],\n",
    "                   'three':[3,4,5,6,7],\n",
    "                   'four':[4,5,6,7,8]},\n",
    "                  index = list('abcde'))\n",
    "df2 = pd.DataFrame({'one':pd.Series([1,2,3,4,5],index = list('abcde')),\n",
    "                   'two':pd.Series([2,3,4,5,6],index = list('abcde')),\n",
    "                   'three':pd.Series([3,4,5,6,7],index = list('abcde')),\n",
    "                   'four':pd.Series([4,5,6,7,8],index = list('abcde'))})\n",
    "df3 = pd.DataFrame(np.arange(20).reshape(5,4), \n",
    "                   index = list('abcde'),\n",
    "                  columns = ['one','two','three','four'])\n",
    "df4 = pd.DataFrame([{'one':1,'two':2,'three':3,'four':4},\n",
    "                   {'one':2,'two':3,'three':4,'four':5},\n",
    "                   {'one':3,'two':4,'three':5,'four':6},\n",
    "                   {'one':4,'two':5,'three':6,'four':7},\n",
    "                   {'one':5,'two':6,'three':7,'four':8}],\n",
    "                  index = list('abcde'))\n",
    "print('结果Dataframe为：\\n',df4)"
   ]
  },
  {
   "cell_type": "code",
   "execution_count": 10,
   "metadata": {
    "ExecuteTime": {
     "end_time": "2019-09-18T07:38:48.119976Z",
     "start_time": "2019-09-18T07:38:48.113997Z"
    }
   },
   "outputs": [
    {
     "data": {
      "text/plain": [
       "'\\n【 Pandas数据结构Dataframe：索引】 \\n\\n'"
      ]
     },
     "execution_count": 10,
     "metadata": {},
     "output_type": "execute_result"
    }
   ],
   "source": [
    "'''\n",
    "【 Pandas数据结构Dataframe：索引】 \n",
    "\n",
    "'''"
   ]
  },
  {
   "cell_type": "markdown",
   "metadata": {
    "ExecuteTime": {
     "end_time": "2019-09-18T06:58:31.764995Z",
     "start_time": "2019-09-18T06:58:31.735076Z"
    }
   },
   "source": [
    "# ：如图创建Dataframe(4*4，值为0-100的随机数)，通过索引得到以下值\n",
    "# ① 索引得到b，c列的所有值\n",
    "# ② 索引得到第三第四行的数据\n",
    "# ③ 按顺序索引得到two，one行的值\n",
    "# ④ 索引得到大于50的值"
   ]
  },
  {
   "cell_type": "code",
   "execution_count": 11,
   "metadata": {
    "ExecuteTime": {
     "end_time": "2019-09-18T07:39:23.449531Z",
     "start_time": "2019-09-18T07:39:23.418594Z"
    }
   },
   "outputs": [
    {
     "name": "stdout",
     "output_type": "stream",
     "text": [
      "创建Dataframe为：\n",
      "                a          b          c          d\n",
      "one    77.717988  28.763483  73.511376  62.544976\n",
      "two    29.826798  22.177487  16.000314  14.815974\n",
      "three  60.571784  94.294696  47.118488  90.295769\n",
      "four   87.900214  55.707994  30.433344  43.212037 \n",
      "-------\n",
      "b，c列的所有值为:\n",
      "                b          c\n",
      "one    28.763483  73.511376\n",
      "two    22.177487  16.000314\n",
      "three  94.294696  47.118488\n",
      "four   55.707994  30.433344 \n",
      "------\n",
      "第三第四行的值为:\n",
      "                a          b          c          d\n",
      "three  60.571784  94.294696  47.118488  90.295769\n",
      "four   87.900214  55.707994  30.433344  43.212037 \n",
      "------\n",
      "按顺序索引得到two，one行的值为:\n",
      "              a          b          c          d\n",
      "two  29.826798  22.177487  16.000314  14.815974\n",
      "one  77.717988  28.763483  73.511376  62.544976 \n",
      "------\n",
      "大于50的值为:\n",
      "                a          b          c          d\n",
      "one    77.717988        NaN  73.511376  62.544976\n",
      "two          NaN        NaN        NaN        NaN\n",
      "three  60.571784  94.294696        NaN  90.295769\n",
      "four   87.900214  55.707994        NaN        NaN \n",
      "------\n"
     ]
    }
   ],
   "source": [
    "df = df1 = pd.DataFrame(np.random.rand(16).reshape(4,4)*100,\n",
    "                   index = ['one','two','three','four'],\n",
    "                   columns = ['a','b','c','d'])\n",
    "print('创建Dataframe为：\\n',df,'\\n-------')\n",
    "print('b，c列的所有值为:\\n', df[['b','c']],'\\n------')\n",
    "print('第三第四行的值为:\\n', df[2:4],'\\n------')\n",
    "print('按顺序索引得到two，one行的值为:\\n', df.loc[['two','one']],'\\n------')\n",
    "print('大于50的值为:\\n', df[df>50],'\\n------')"
   ]
  },
  {
   "cell_type": "code",
   "execution_count": 12,
   "metadata": {
    "ExecuteTime": {
     "end_time": "2019-09-18T07:39:25.960058Z",
     "start_time": "2019-09-18T07:39:25.955104Z"
    }
   },
   "outputs": [
    {
     "data": {
      "text/plain": [
       "'\\n【  Pandas数据结构Dataframe：基本技巧】 \\n\\n'"
      ]
     },
     "execution_count": 12,
     "metadata": {},
     "output_type": "execute_result"
    }
   ],
   "source": [
    "'''\n",
    "【  Pandas数据结构Dataframe：基本技巧】 \n",
    "\n",
    "'''"
   ]
  },
  {
   "cell_type": "markdown",
   "metadata": {
    "ExecuteTime": {
     "end_time": "2019-09-18T03:57:23.512377Z",
     "start_time": "2019-09-18T03:57:23.462511Z"
    }
   },
   "source": [
    "# 作业1：创建一个3*3，值在0-100区间随机值的Dataframe（如图），分别按照index和第二列值大小，降序排序"
   ]
  },
  {
   "cell_type": "code",
   "execution_count": 13,
   "metadata": {
    "ExecuteTime": {
     "end_time": "2019-09-18T07:39:30.045570Z",
     "start_time": "2019-09-18T07:39:30.003683Z"
    }
   },
   "outputs": [
    {
     "name": "stdout",
     "output_type": "stream",
     "text": [
      "创建Dataframe为：\n",
      "           v1         v2         v3\n",
      "a  52.721705  33.529663  80.234901\n",
      "b  22.869263  63.730608  53.582913\n",
      "c  31.957809  77.715422  58.728339 \n",
      "-------\n",
      "按照index降序：\n",
      "           v1         v2         v3\n",
      "c  31.957809  77.715422  58.728339\n",
      "b  22.869263  63.730608  53.582913\n",
      "a  52.721705  33.529663  80.234901 \n",
      "-------\n",
      "按照第二列值大小降序：\n",
      "           v1         v2         v3\n",
      "c  31.957809  77.715422  58.728339\n",
      "b  22.869263  63.730608  53.582913\n",
      "a  52.721705  33.529663  80.234901 \n",
      "-------\n"
     ]
    }
   ],
   "source": [
    "df = pd.DataFrame(np.random.rand(3,3)*100,\n",
    "                 index = ['a','b','c'],\n",
    "                 columns = ['v1','v2','v3'])\n",
    "print('创建Dataframe为：\\n',df,'\\n-------')\n",
    "print('按照index降序：\\n',df.sort_index(ascending = False),'\\n-------')\n",
    "print('按照第二列值大小降序：\\n',df.sort_values(['v2'], ascending = False),'\\n-------')"
   ]
  },
  {
   "cell_type": "markdown",
   "metadata": {
    "ExecuteTime": {
     "end_time": "2019-09-18T07:39:35.139879Z",
     "start_time": "2019-09-18T07:39:35.122888Z"
    }
   },
   "source": [
    "#  作业2：创建一个5*2，值在0-100区间随机值的Dataframe（如图）df1，通过修改得到df2"
   ]
  },
  {
   "cell_type": "code",
   "execution_count": 15,
   "metadata": {
    "ExecuteTime": {
     "end_time": "2019-09-18T07:40:16.960502Z",
     "start_time": "2019-09-18T07:40:16.939557Z"
    }
   },
   "outputs": [
    {
     "name": "stdout",
     "output_type": "stream",
     "text": [
      "创建Dataframe为：\n",
      "           v1         v2\n",
      "a   9.999225  52.671246\n",
      "b  62.543585  14.593443\n",
      "c  46.053465  28.223396\n",
      "d  19.888921  15.357986\n",
      "e  32.199451  49.735457 \n",
      "-------\n",
      "修改后为：\n",
      "             a    b          c          d\n",
      "v1   9.999225  100  46.053465  19.888921\n",
      "v2  52.671246  100  28.223396  15.357986 \n",
      "-------\n"
     ]
    }
   ],
   "source": [
    "df1 = pd.DataFrame(np.random.rand(5,2)*100,\n",
    "                 index = ['a','b','c','d','e'],\n",
    "                 columns = ['v1','v2'])\n",
    "print('创建Dataframe为：\\n',df1,'\\n-------')\n",
    "df2 = df1.T.drop('e',axis = 1)\n",
    "df2['b'] = 100\n",
    "print('修改后为：\\n',df2,'\\n-------')"
   ]
  },
  {
   "cell_type": "code",
   "execution_count": 16,
   "metadata": {
    "ExecuteTime": {
     "end_time": "2019-09-18T07:40:22.285861Z",
     "start_time": "2019-09-18T07:40:22.282834Z"
    }
   },
   "outputs": [
    {
     "data": {
      "text/plain": [
       "'\\n【  时间模块：datetime】 \\n\\n'"
      ]
     },
     "execution_count": 16,
     "metadata": {},
     "output_type": "execute_result"
    }
   ],
   "source": [
    "'''\n",
    "【  时间模块：datetime】 \n",
    "\n",
    "'''"
   ]
  },
  {
   "cell_type": "markdown",
   "metadata": {
    "ExecuteTime": {
     "end_time": "2019-09-18T03:58:33.513187Z",
     "start_time": "2019-09-18T03:58:33.498227Z"
    }
   },
   "source": [
    "# 请调用datatime模块，输出以下时间信息"
   ]
  },
  {
   "cell_type": "code",
   "execution_count": 17,
   "metadata": {
    "ExecuteTime": {
     "end_time": "2019-09-18T07:41:30.934470Z",
     "start_time": "2019-09-18T07:41:30.924496Z"
    }
   },
   "outputs": [
    {
     "name": "stdout",
     "output_type": "stream",
     "text": [
      "1、请输出当前时间： 2019-09-18 15:41:30.927489 \n",
      "------\n",
      "2、请输出时间： 2017-05-01 12:30:00 \n",
      "------\n",
      "3、请输出时间： 2000-12-01 00:00:00 \n",
      "------\n"
     ]
    }
   ],
   "source": [
    "import datetime\n",
    "\n",
    "print('1、请输出当前时间：', datetime.datetime.now(),'\\n------')\n",
    "print('2、请输出时间：', datetime.datetime(2017,5,1,12,30),'\\n------')\n",
    "print('3、请输出时间：', datetime.datetime(2000,12,1),'\\n------')"
   ]
  },
  {
   "cell_type": "markdown",
   "metadata": {
    "ExecuteTime": {
     "end_time": "2019-09-18T07:00:16.153407Z",
     "start_time": "2019-09-18T07:00:16.148432Z"
    }
   },
   "source": [
    "# ：请创建时间变量‘2000年5月1日’，求出1000天之后是哪年哪月哪日？"
   ]
  },
  {
   "cell_type": "code",
   "execution_count": 18,
   "metadata": {
    "ExecuteTime": {
     "end_time": "2019-09-18T08:16:53.912737Z",
     "start_time": "2019-09-18T08:16:53.907750Z"
    }
   },
   "outputs": [
    {
     "name": "stdout",
     "output_type": "stream",
     "text": [
      "结果为： 2003-01-26 00:00:00\n"
     ]
    }
   ],
   "source": [
    "t1 = datetime.datetime(2000,5,1)\n",
    "print('结果为：',t1+datetime.timedelta(1000))"
   ]
  },
  {
   "cell_type": "code",
   "execution_count": 19,
   "metadata": {
    "ExecuteTime": {
     "end_time": "2019-09-18T08:16:54.876338Z",
     "start_time": "2019-09-18T08:16:54.870356Z"
    }
   },
   "outputs": [
    {
     "data": {
      "text/plain": [
       "'\\n【  Pandas时刻数据：Timestamp】\\n\\n'"
      ]
     },
     "execution_count": 19,
     "metadata": {},
     "output_type": "execute_result"
    }
   ],
   "source": [
    "'''\n",
    "【  Pandas时刻数据：Timestamp】\n",
    "\n",
    "'''"
   ]
  },
  {
   "cell_type": "markdown",
   "metadata": {
    "ExecuteTime": {
     "end_time": "2019-09-18T03:58:55.038038Z",
     "start_time": "2019-09-18T03:58:55.020084Z"
    }
   },
   "source": [
    "# ：请通过迭代创建一个时间列表（如图，时间区间为任意一个月，这里可以用for语句），然后转化成DatetimeIndex，并print月中是多少号"
   ]
  },
  {
   "cell_type": "code",
   "execution_count": 20,
   "metadata": {
    "ExecuteTime": {
     "end_time": "2019-09-18T08:17:17.573530Z",
     "start_time": "2019-09-18T08:17:17.562561Z"
    }
   },
   "outputs": [
    {
     "name": "stdout",
     "output_type": "stream",
     "text": [
      "创建时间列表为：\n",
      " ['2017-12-1', '2017-12-2', '2017-12-3', '2017-12-4', '2017-12-5', '2017-12-6', '2017-12-7', '2017-12-8', '2017-12-9', '2017-12-10', '2017-12-11', '2017-12-12', '2017-12-13', '2017-12-14', '2017-12-15', '2017-12-16', '2017-12-17', '2017-12-18', '2017-12-19', '2017-12-20', '2017-12-21', '2017-12-22', '2017-12-23', '2017-12-24', '2017-12-25', '2017-12-26', '2017-12-27', '2017-12-28', '2017-12-29', '2017-12-30', '2017-12-31'] \n",
      "------\n",
      "转化成DatetimeIndex为：\n",
      " DatetimeIndex(['2017-12-01', '2017-12-02', '2017-12-03', '2017-12-04',\n",
      "               '2017-12-05', '2017-12-06', '2017-12-07', '2017-12-08',\n",
      "               '2017-12-09', '2017-12-10', '2017-12-11', '2017-12-12',\n",
      "               '2017-12-13', '2017-12-14', '2017-12-15', '2017-12-16',\n",
      "               '2017-12-17', '2017-12-18', '2017-12-19', '2017-12-20',\n",
      "               '2017-12-21', '2017-12-22', '2017-12-23', '2017-12-24',\n",
      "               '2017-12-25', '2017-12-26', '2017-12-27', '2017-12-28',\n",
      "               '2017-12-29', '2017-12-30', '2017-12-31'],\n",
      "              dtype='datetime64[ns]', freq=None) \n",
      "------\n",
      "月中日期为：\n",
      " 2017-12-16 00:00:00 \n",
      "------\n"
     ]
    }
   ],
   "source": [
    "datelst = []\n",
    "for i in range(1,32):\n",
    "    datelst.append('2017-12-%i' %i)\n",
    "print('创建时间列表为：\\n',datelst,'\\n------')\n",
    "t = pd.to_datetime(datelst)\n",
    "print('转化成DatetimeIndex为：\\n',t,'\\n------')\n",
    "n = (len(t) + 1)/2 - 1\n",
    "print('月中日期为：\\n',t[int(n)],'\\n------')"
   ]
  },
  {
   "cell_type": "code",
   "execution_count": 21,
   "metadata": {
    "ExecuteTime": {
     "end_time": "2019-09-18T08:17:23.054793Z",
     "start_time": "2019-09-18T08:17:23.049805Z"
    }
   },
   "outputs": [
    {
     "data": {
      "text/plain": [
       "'\\n【  Pandas时间戳索引：DatetimeIndex】 \\n\\n'"
      ]
     },
     "execution_count": 21,
     "metadata": {},
     "output_type": "execute_result"
    }
   ],
   "source": [
    "'''\n",
    "【  Pandas时间戳索引：DatetimeIndex】 \n",
    "\n",
    "'''"
   ]
  },
  {
   "cell_type": "markdown",
   "metadata": {
    "ExecuteTime": {
     "end_time": "2019-09-18T08:17:23.869835Z",
     "start_time": "2019-09-18T08:17:23.849888Z"
    }
   },
   "source": [
    "# ：请输出以下时间序列"
   ]
  },
  {
   "cell_type": "code",
   "execution_count": 23,
   "metadata": {
    "ExecuteTime": {
     "end_time": "2019-09-18T08:17:36.180946Z",
     "start_time": "2019-09-18T08:17:36.151517Z"
    }
   },
   "outputs": [
    {
     "name": "stdout",
     "output_type": "stream",
     "text": [
      "时间序列1：\n",
      " 2017-01-01    0.860580\n",
      "2017-01-02    0.533665\n",
      "2017-01-03    0.437214\n",
      "2017-01-04    0.233459\n",
      "2017-01-05    0.514109\n",
      "Freq: D, dtype: float64 \n",
      "------\n",
      "时间序列2：\n",
      " 2017-01-31    0.154407\n",
      "2017-04-30    0.005119\n",
      "2017-07-31    0.960245\n",
      "2017-10-31    0.701142\n",
      "Freq: 3M, dtype: float64 \n",
      "------\n",
      "时间序列3：\n",
      "                        value1    value2    value3    value4\n",
      "2017-12-01 00:00:00  0.156208  0.826712  0.427514  0.811131\n",
      "2017-12-01 00:10:00  0.625019  0.779864  0.538955  0.653150\n",
      "2017-12-01 00:20:00  0.491102  0.306633  0.366439  0.355124\n",
      "2017-12-01 00:30:00  0.073266  0.298386  0.774193  0.931468 \n",
      "------\n"
     ]
    }
   ],
   "source": [
    "ts1 = pd.Series(np.random.rand(5),\n",
    "                index = pd.date_range('20170101',periods = 5))\n",
    "ts2 = pd.Series(np.random.rand(4),\n",
    "                index = pd.date_range('2017','2018',freq = '3M'))\n",
    "ts3 = pd.DataFrame(np.random.rand(4,4),\n",
    "                   index = pd.date_range('20171201',periods = 4, freq = '10T'),\n",
    "                  columns = ['value1','value2','value3','value4'])\n",
    "print('时间序列1：\\n',ts1,'\\n------')\n",
    "print('时间序列2：\\n',ts2,'\\n------')\n",
    "print('时间序列3：\\n',ts3,'\\n------')"
   ]
  },
  {
   "cell_type": "markdown",
   "metadata": {
    "ExecuteTime": {
     "end_time": "2019-09-18T07:01:20.273088Z",
     "start_time": "2019-09-18T07:01:20.206718Z"
    }
   },
   "source": [
    "# 按要求创建时间序列ts1，并转换成ts2"
   ]
  },
  {
   "cell_type": "code",
   "execution_count": 24,
   "metadata": {
    "ExecuteTime": {
     "end_time": "2019-09-18T08:18:00.276532Z",
     "start_time": "2019-09-18T08:18:00.258100Z"
    }
   },
   "outputs": [
    {
     "name": "stdout",
     "output_type": "stream",
     "text": [
      "创建时间序列ts1：\n",
      " 2017-05-01 12:00:00    0.973626\n",
      "2017-05-01 12:10:00    0.852481\n",
      "2017-05-01 12:20:00    0.370043\n",
      "2017-05-01 12:30:00    0.150179\n",
      "2017-05-01 12:40:00    0.076036\n",
      "Freq: 10T, dtype: float64 \n",
      "------\n",
      "转换成ts2：\n",
      " 2017-05-01 12:00:00    0.973626\n",
      "2017-05-01 12:05:00    0.973626\n",
      "2017-05-01 12:10:00    0.852481\n",
      "2017-05-01 12:15:00    0.852481\n",
      "2017-05-01 12:20:00    0.370043\n",
      "2017-05-01 12:25:00    0.370043\n",
      "2017-05-01 12:30:00    0.150179\n",
      "2017-05-01 12:35:00    0.150179\n",
      "2017-05-01 12:40:00    0.076036\n",
      "Freq: 5T, dtype: float64 \n",
      "------\n"
     ]
    }
   ],
   "source": [
    "ts1 = pd.Series(np.random.rand(5),\n",
    "               index = pd.date_range('20170501 12:0:0',periods = 5, freq = '10T'))\n",
    "ts2 = ts1.asfreq('5T','ffill')\n",
    "print('创建时间序列ts1：\\n',ts1,'\\n------')\n",
    "print('转换成ts2：\\n',ts2,'\\n------')"
   ]
  },
  {
   "cell_type": "code",
   "execution_count": 24,
   "metadata": {
    "ExecuteTime": {
     "end_time": "2019-09-18T07:01:27.395590Z",
     "start_time": "2019-09-18T07:01:27.389608Z"
    }
   },
   "outputs": [
    {
     "data": {
      "text/plain": [
       "'\\n【  Pandas时期：Period】 \\n'"
      ]
     },
     "execution_count": 24,
     "metadata": {},
     "output_type": "execute_result"
    }
   ],
   "source": [
    "'''\n",
    "【  Pandas时期：Period】 \n",
    "'''"
   ]
  },
  {
   "cell_type": "markdown",
   "metadata": {
    "ExecuteTime": {
     "end_time": "2019-09-18T07:01:30.719899Z",
     "start_time": "2019-09-18T07:01:30.702972Z"
    }
   },
   "source": [
    "# 请输出以下时间序列，使用pd.period_range()"
   ]
  },
  {
   "cell_type": "code",
   "execution_count": 25,
   "metadata": {
    "ExecuteTime": {
     "end_time": "2019-09-18T07:01:30.719899Z",
     "start_time": "2019-09-18T07:01:30.702972Z"
    }
   },
   "outputs": [
    {
     "name": "stdout",
     "output_type": "stream",
     "text": [
      "时间序列1：\n",
      " 2017-01    0.464629\n",
      "2017-02    0.634910\n",
      "2017-03    0.326078\n",
      "2017-04    0.608965\n",
      "2017-05    0.901655\n",
      "Freq: M, dtype: float64 \n",
      "------\n",
      "时间序列2：\n",
      " 2017-01-01 00:00    0.402236\n",
      "2017-01-01 02:00    0.784207\n",
      "2017-01-01 04:00    0.663316\n",
      "2017-01-01 06:00    0.388906\n",
      "2017-01-01 08:00    0.556842\n",
      "Freq: 2H, dtype: float64 \n",
      "------\n"
     ]
    }
   ],
   "source": [
    "ts1 = pd.Series(np.random.rand(5),\n",
    "                index = pd.period_range('20170101','20170501',freq = 'M'))\n",
    "ts2 = pd.Series(np.random.rand(5),\n",
    "                index = pd.period_range('20170101',periods = 5,freq = '2H'))\n",
    "print('时间序列1：\\n',ts1,'\\n------')\n",
    "print('时间序列2：\\n',ts2,'\\n------')"
   ]
  },
  {
   "cell_type": "code",
   "execution_count": 26,
   "metadata": {
    "ExecuteTime": {
     "end_time": "2019-09-18T08:26:57.931561Z",
     "start_time": "2019-09-18T08:26:57.925613Z"
    }
   },
   "outputs": [
    {
     "data": {
      "text/plain": [
       "52.13333333333333"
      ]
     },
     "execution_count": 26,
     "metadata": {},
     "output_type": "execute_result"
    }
   ],
   "source": [
    "3128/60"
   ]
  },
  {
   "cell_type": "code",
   "execution_count": 27,
   "metadata": {
    "ExecuteTime": {
     "end_time": "2019-09-18T09:19:24.679250Z",
     "start_time": "2019-09-18T09:19:24.667281Z"
    }
   },
   "outputs": [
    {
     "data": {
      "text/plain": [
       "'\\n【时间序列 - 索引及切片】 \\n\\n'"
      ]
     },
     "execution_count": 27,
     "metadata": {},
     "output_type": "execute_result"
    }
   ],
   "source": [
    "'''\n",
    "【时间序列 - 索引及切片】 \n",
    "\n",
    "'''"
   ]
  },
  {
   "cell_type": "markdown",
   "metadata": {
    "ExecuteTime": {
     "end_time": "2019-09-18T03:59:59.174397Z",
     "start_time": "2019-09-18T03:59:59.150496Z"
    }
   },
   "source": [
    "# 如图创建时间序列(10*3，值为0-100的随机数)，通过索引得到以下值\n",
    "# ① 索引得到前4行的所有值\n",
    "# ② 索引得到2017-12-4 12:00:00的数据\n",
    "# ③ 索引得到2017-12-4 - 2017-12-5的数据"
   ]
  },
  {
   "cell_type": "code",
   "execution_count": 28,
   "metadata": {
    "ExecuteTime": {
     "end_time": "2019-09-18T09:19:31.148967Z",
     "start_time": "2019-09-18T09:19:31.068408Z"
    }
   },
   "outputs": [
    {
     "name": "stdout",
     "output_type": "stream",
     "text": [
      "创建时间序列为：\n",
      "                         value1     value2     value3\n",
      "2017-12-01 00:00:00  22.265918  76.490837  33.870950\n",
      "2017-12-01 12:00:00   9.387585  68.998352  86.260905\n",
      "2017-12-02 00:00:00  93.514742   6.389387   1.217619\n",
      "2017-12-02 12:00:00  96.342869  30.732324  80.965165\n",
      "2017-12-03 00:00:00  82.280931  63.332963   2.723204\n",
      "2017-12-03 12:00:00  14.128607  48.020026  41.361583\n",
      "2017-12-04 00:00:00  90.090390  63.406355   5.554871\n",
      "2017-12-04 12:00:00  53.616563  54.188538  41.018215\n",
      "2017-12-05 00:00:00  23.975581  34.327581  34.289217\n",
      "2017-12-05 12:00:00  50.994338   2.195127  65.737927 \n",
      "------\n",
      "前4行的所有值为:\n",
      "                         value1     value2     value3\n",
      "2017-12-01 00:00:00  22.265918  76.490837  33.870950\n",
      "2017-12-01 12:00:00   9.387585  68.998352  86.260905\n",
      "2017-12-02 00:00:00  93.514742   6.389387   1.217619 \n",
      "------\n",
      "2017-12-4 12:00:00的数据为:\n",
      " value1    53.616563\n",
      "value2    54.188538\n",
      "value3    41.018215\n",
      "Name: 2017-12-04 12:00:00, dtype: float64 \n",
      "------\n",
      "2017-12-4 - 2017-12-5的数据为:\n",
      "                         value1     value2     value3\n",
      "2017-12-04 00:00:00  90.090390  63.406355   5.554871\n",
      "2017-12-04 12:00:00  53.616563  54.188538  41.018215\n",
      "2017-12-05 00:00:00  23.975581  34.327581  34.289217\n",
      "2017-12-05 12:00:00  50.994338   2.195127  65.737927 \n",
      "------\n"
     ]
    }
   ],
   "source": [
    "import datetime\n",
    "ts = pd.DataFrame(np.random.rand(10,3)*100,\n",
    "                   index = pd.date_range('20171201',periods = 10, freq = '12H'),\n",
    "                  columns = ['value1','value2','value3'])\n",
    "print('创建时间序列为：\\n',ts,'\\n------')\n",
    "print('前4行的所有值为:\\n', ts[:3],'\\n------')\n",
    "print('2017-12-4 12:00:00的数据为:\\n', ts.loc['2017-12-04 12:00:00'],'\\n------')\n",
    "print('2017-12-4 - 2017-12-5的数据为:\\n', ts['20171204':'20171205'],'\\n------')"
   ]
  },
  {
   "cell_type": "code",
   "execution_count": 29,
   "metadata": {
    "ExecuteTime": {
     "end_time": "2019-09-18T09:19:34.610470Z",
     "start_time": "2019-09-18T09:19:34.605449Z"
    }
   },
   "outputs": [
    {
     "data": {
      "text/plain": [
       "'\\n【 时间序列 - 重采样】 \\n\\n'"
      ]
     },
     "execution_count": 29,
     "metadata": {},
     "output_type": "execute_result"
    }
   ],
   "source": [
    "'''\n",
    "【 时间序列 - 重采样】 \n",
    "\n",
    "'''"
   ]
  },
  {
   "cell_type": "markdown",
   "metadata": {
    "ExecuteTime": {
     "end_time": "2019-09-18T09:19:35.678579Z",
     "start_time": "2019-09-18T09:19:35.342491Z"
    }
   },
   "source": [
    "# 按要求创建时间序列ts1，通过降采样和升采样，转换成ts2，ts3"
   ]
  },
  {
   "cell_type": "code",
   "execution_count": 31,
   "metadata": {
    "ExecuteTime": {
     "end_time": "2019-09-18T09:19:46.097362Z",
     "start_time": "2019-09-18T09:19:46.083939Z"
    }
   },
   "outputs": [
    {
     "name": "stdout",
     "output_type": "stream",
     "text": [
      "创建时间序列ts1：\n",
      " 2017-01-01    0.903366\n",
      "2017-01-02    0.153869\n",
      "2017-01-03    0.094142\n",
      "2017-01-04    0.280434\n",
      "2017-01-05    0.389818\n",
      "2017-01-06    0.488965\n",
      "2017-01-07    0.669254\n",
      "2017-01-08    0.123634\n",
      "2017-01-09    0.078356\n",
      "2017-01-10    0.354962\n",
      "Freq: D, dtype: float64 \n",
      "------\n",
      "转换成ts2：\n",
      " 2017-01-01    0.383792\n",
      "2017-01-04    0.386406\n",
      "2017-01-07    0.290415\n",
      "2017-01-10    0.354962\n",
      "Freq: 3D, dtype: float64 \n",
      "------\n",
      "转换成ts3：\n",
      " 2017-01-01 00:00:00    0.903366\n",
      "2017-01-01 12:00:00    0.903366\n",
      "2017-01-02 00:00:00    0.153869\n",
      "2017-01-02 12:00:00    0.153869\n",
      "2017-01-03 00:00:00    0.094142\n",
      "2017-01-03 12:00:00    0.094142\n",
      "2017-01-04 00:00:00    0.280434\n",
      "2017-01-04 12:00:00    0.280434\n",
      "2017-01-05 00:00:00    0.389818\n",
      "2017-01-05 12:00:00    0.389818\n",
      "2017-01-06 00:00:00    0.488965\n",
      "2017-01-06 12:00:00    0.488965\n",
      "2017-01-07 00:00:00    0.669254\n",
      "2017-01-07 12:00:00    0.669254\n",
      "2017-01-08 00:00:00    0.123634\n",
      "2017-01-08 12:00:00    0.123634\n",
      "2017-01-09 00:00:00    0.078356\n",
      "2017-01-09 12:00:00    0.078356\n",
      "2017-01-10 00:00:00    0.354962\n",
      "Freq: 12H, dtype: float64 \n",
      "------\n"
     ]
    }
   ],
   "source": [
    "ts1 = pd.Series(np.random.rand(10),\n",
    "              index = pd.date_range('20170101',periods = 10, freq = 'D'))\n",
    "ts2 = ts1.resample('3D').mean()\n",
    "ts3 = ts1.resample('12H').ffill()\n",
    "print('创建时间序列ts1：\\n',ts1,'\\n------')\n",
    "print('转换成ts2：\\n',ts2,'\\n------')\n",
    "print('转换成ts3：\\n',ts3,'\\n------')"
   ]
  },
  {
   "cell_type": "code",
   "execution_count": 32,
   "metadata": {
    "ExecuteTime": {
     "end_time": "2019-09-18T09:19:50.115999Z",
     "start_time": "2019-09-18T09:19:50.112007Z"
    }
   },
   "outputs": [
    {
     "data": {
      "text/plain": [
       "'\\n数值计算和统计基础 \\n\\n'"
      ]
     },
     "execution_count": 32,
     "metadata": {},
     "output_type": "execute_result"
    }
   ],
   "source": [
    "'''\n",
    "数值计算和统计基础 \n",
    "\n",
    "'''"
   ]
  },
  {
   "cell_type": "markdown",
   "metadata": {
    "ExecuteTime": {
     "end_time": "2019-09-18T04:00:12.024763Z",
     "start_time": "2019-09-18T04:00:12.021737Z"
    }
   },
   "source": [
    "# 如图创建一个Dataframe（5*2，值为0-100的随机值），并分别计算key1和key2的均值、中位数、累积和"
   ]
  },
  {
   "cell_type": "code",
   "execution_count": 33,
   "metadata": {
    "ExecuteTime": {
     "end_time": "2019-09-18T09:19:51.372569Z",
     "start_time": "2019-09-18T09:19:51.299830Z"
    }
   },
   "outputs": [
    {
     "name": "stdout",
     "output_type": "stream",
     "text": [
      "创建Dataframe为：\n",
      "         key1       key2\n",
      "0  72.724992  66.134760\n",
      "1  95.129398  51.426043\n",
      "2  19.567538   6.374265\n",
      "3  37.145137  15.734480\n",
      "4  52.875421  67.324530 \n",
      "------\n",
      "df[\"key1\"]的均值为：\n",
      " 64.4687371382523 \n",
      "------\n",
      "df[\"key1\"]的中位数为：\n",
      " 62.800206691638806 \n",
      "------\n",
      "df[\"key2\"]的均值为：\n",
      " 41.39881561361085 \n",
      "------\n",
      "df[\"key2\"]的中位数为：\n",
      " 51.42604316419924 \n",
      "------\n",
      "df的累积和为：\n",
      "         key1       key2  key1_cumsum  key2_cumsum\n",
      "0  72.724992  66.134760    72.724992    66.134760\n",
      "1  95.129398  51.426043   167.854390   117.560803\n",
      "2        NaN   6.374265          NaN   123.935068\n",
      "3  37.145137  15.734480   204.999527   139.669548\n",
      "4  52.875421  67.324530   257.874949   206.994078 \n",
      "------\n"
     ]
    }
   ],
   "source": [
    "df = pd.DataFrame(np.random.rand(5,2)*100,\n",
    "                 columns = ['key1','key2'])\n",
    "print('创建Dataframe为：\\n',df,'\\n------')\n",
    "df['key1'][2] = np.nan\n",
    "df['key1_cumsum'] = df['key1'].cumsum()\n",
    "df['key2_cumsum'] = df['key2'].cumsum()\n",
    "print('df[\"key1\"]的均值为：\\n',df['key1'].mean(),'\\n------')\n",
    "print('df[\"key1\"]的中位数为：\\n',df['key1'].median(),'\\n------')\n",
    "print('df[\"key2\"]的均值为：\\n',df['key2'].mean(),'\\n------')\n",
    "print('df[\"key2\"]的中位数为：\\n',df['key2'].median(),'\\n------')\n",
    "print('df的累积和为：\\n',df,'\\n------')"
   ]
  },
  {
   "cell_type": "markdown",
   "metadata": {
    "ExecuteTime": {
     "end_time": "2019-09-18T04:01:41.820900Z",
     "start_time": "2019-09-18T04:01:13.493793Z"
    }
   },
   "source": [
    "# 写出一个输入元素直接生成数组的代码块，然后创建一个函数，该函数功能用于判断一个Series是否是唯一值数组，返回“是”和“不是”"
   ]
  },
  {
   "cell_type": "code",
   "execution_count": 34,
   "metadata": {
    "ExecuteTime": {
     "end_time": "2019-09-18T09:20:19.735035Z",
     "start_time": "2019-09-18T09:19:52.787010Z"
    }
   },
   "outputs": [
    {
     "name": "stdout",
     "output_type": "stream",
     "text": [
      "请随机输入一组元素，用逗号（英文符号）隔开：\n",
      "5,6,78\n"
     ]
    },
    {
     "ename": "KeyboardInterrupt",
     "evalue": "",
     "output_type": "error",
     "traceback": [
      "\u001b[1;31m---------------------------------------------------------------------------\u001b[0m",
      "\u001b[1;31mKeyboardInterrupt\u001b[0m                         Traceback (most recent call last)",
      "\u001b[1;32m~\\Anaconda3\\lib\\site-packages\\ipykernel\\kernelbase.py\u001b[0m in \u001b[0;36m_input_request\u001b[1;34m(self, prompt, ident, parent, password)\u001b[0m\n\u001b[0;32m    884\u001b[0m             \u001b[1;32mtry\u001b[0m\u001b[1;33m:\u001b[0m\u001b[1;33m\u001b[0m\u001b[0m\n\u001b[1;32m--> 885\u001b[1;33m                 \u001b[0mident\u001b[0m\u001b[1;33m,\u001b[0m \u001b[0mreply\u001b[0m \u001b[1;33m=\u001b[0m \u001b[0mself\u001b[0m\u001b[1;33m.\u001b[0m\u001b[0msession\u001b[0m\u001b[1;33m.\u001b[0m\u001b[0mrecv\u001b[0m\u001b[1;33m(\u001b[0m\u001b[0mself\u001b[0m\u001b[1;33m.\u001b[0m\u001b[0mstdin_socket\u001b[0m\u001b[1;33m,\u001b[0m \u001b[1;36m0\u001b[0m\u001b[1;33m)\u001b[0m\u001b[1;33m\u001b[0m\u001b[0m\n\u001b[0m\u001b[0;32m    886\u001b[0m             \u001b[1;32mexcept\u001b[0m \u001b[0mException\u001b[0m\u001b[1;33m:\u001b[0m\u001b[1;33m\u001b[0m\u001b[0m\n",
      "\u001b[1;32m~\\Anaconda3\\lib\\site-packages\\jupyter_client\\session.py\u001b[0m in \u001b[0;36mrecv\u001b[1;34m(self, socket, mode, content, copy)\u001b[0m\n\u001b[0;32m    802\u001b[0m         \u001b[1;32mtry\u001b[0m\u001b[1;33m:\u001b[0m\u001b[1;33m\u001b[0m\u001b[0m\n\u001b[1;32m--> 803\u001b[1;33m             \u001b[0mmsg_list\u001b[0m \u001b[1;33m=\u001b[0m \u001b[0msocket\u001b[0m\u001b[1;33m.\u001b[0m\u001b[0mrecv_multipart\u001b[0m\u001b[1;33m(\u001b[0m\u001b[0mmode\u001b[0m\u001b[1;33m,\u001b[0m \u001b[0mcopy\u001b[0m\u001b[1;33m=\u001b[0m\u001b[0mcopy\u001b[0m\u001b[1;33m)\u001b[0m\u001b[1;33m\u001b[0m\u001b[0m\n\u001b[0m\u001b[0;32m    804\u001b[0m         \u001b[1;32mexcept\u001b[0m \u001b[0mzmq\u001b[0m\u001b[1;33m.\u001b[0m\u001b[0mZMQError\u001b[0m \u001b[1;32mas\u001b[0m \u001b[0me\u001b[0m\u001b[1;33m:\u001b[0m\u001b[1;33m\u001b[0m\u001b[0m\n",
      "\u001b[1;32m~\\Anaconda3\\lib\\site-packages\\zmq\\sugar\\socket.py\u001b[0m in \u001b[0;36mrecv_multipart\u001b[1;34m(self, flags, copy, track)\u001b[0m\n\u001b[0;32m    394\u001b[0m         \"\"\"\n\u001b[1;32m--> 395\u001b[1;33m         \u001b[0mparts\u001b[0m \u001b[1;33m=\u001b[0m \u001b[1;33m[\u001b[0m\u001b[0mself\u001b[0m\u001b[1;33m.\u001b[0m\u001b[0mrecv\u001b[0m\u001b[1;33m(\u001b[0m\u001b[0mflags\u001b[0m\u001b[1;33m,\u001b[0m \u001b[0mcopy\u001b[0m\u001b[1;33m=\u001b[0m\u001b[0mcopy\u001b[0m\u001b[1;33m,\u001b[0m \u001b[0mtrack\u001b[0m\u001b[1;33m=\u001b[0m\u001b[0mtrack\u001b[0m\u001b[1;33m)\u001b[0m\u001b[1;33m]\u001b[0m\u001b[1;33m\u001b[0m\u001b[0m\n\u001b[0m\u001b[0;32m    396\u001b[0m         \u001b[1;31m# have first part already, only loop while more to receive\u001b[0m\u001b[1;33m\u001b[0m\u001b[1;33m\u001b[0m\u001b[0m\n",
      "\u001b[1;32mzmq/backend/cython/socket.pyx\u001b[0m in \u001b[0;36mzmq.backend.cython.socket.Socket.recv\u001b[1;34m()\u001b[0m\n",
      "\u001b[1;32mzmq/backend/cython/socket.pyx\u001b[0m in \u001b[0;36mzmq.backend.cython.socket.Socket.recv\u001b[1;34m()\u001b[0m\n",
      "\u001b[1;32mzmq/backend/cython/socket.pyx\u001b[0m in \u001b[0;36mzmq.backend.cython.socket._recv_copy\u001b[1;34m()\u001b[0m\n",
      "\u001b[1;32m~\\Anaconda3\\lib\\site-packages\\zmq\\backend\\cython\\checkrc.pxd\u001b[0m in \u001b[0;36mzmq.backend.cython.checkrc._check_rc\u001b[1;34m()\u001b[0m\n",
      "\u001b[1;31mKeyboardInterrupt\u001b[0m: ",
      "\nDuring handling of the above exception, another exception occurred:\n",
      "\u001b[1;31mKeyboardInterrupt\u001b[0m                         Traceback (most recent call last)",
      "\u001b[1;32m<ipython-input-34-ba0ee0deb625>\u001b[0m in \u001b[0;36m<module>\u001b[1;34m()\u001b[0m\n\u001b[0;32m      6\u001b[0m         \u001b[0mprint\u001b[0m\u001b[1;33m(\u001b[0m\u001b[1;34m'------\\n该数组不是唯一值数组'\u001b[0m\u001b[1;33m)\u001b[0m\u001b[1;33m\u001b[0m\u001b[0m\n\u001b[0;32m      7\u001b[0m \u001b[1;33m\u001b[0m\u001b[0m\n\u001b[1;32m----> 8\u001b[1;33m \u001b[0md\u001b[0m \u001b[1;33m=\u001b[0m \u001b[0minput\u001b[0m\u001b[1;33m(\u001b[0m\u001b[1;34m'请随机输入一组元素，用逗号（英文符号）隔开：\\n'\u001b[0m\u001b[1;33m)\u001b[0m\u001b[1;33m\u001b[0m\u001b[0m\n\u001b[0m\u001b[0;32m      9\u001b[0m \u001b[0mlst\u001b[0m \u001b[1;33m=\u001b[0m \u001b[0md\u001b[0m\u001b[1;33m.\u001b[0m\u001b[0msplit\u001b[0m\u001b[1;33m(\u001b[0m\u001b[1;34m','\u001b[0m\u001b[1;33m)\u001b[0m\u001b[1;33m\u001b[0m\u001b[0m\n\u001b[0;32m     10\u001b[0m \u001b[0mds\u001b[0m \u001b[1;33m=\u001b[0m \u001b[0mpd\u001b[0m\u001b[1;33m.\u001b[0m\u001b[0mSeries\u001b[0m\u001b[1;33m(\u001b[0m\u001b[0mlst\u001b[0m\u001b[1;33m)\u001b[0m\u001b[1;33m\u001b[0m\u001b[0m\n",
      "\u001b[1;32m~\\Anaconda3\\lib\\site-packages\\ipykernel\\kernelbase.py\u001b[0m in \u001b[0;36mraw_input\u001b[1;34m(self, prompt)\u001b[0m\n\u001b[0;32m    858\u001b[0m             \u001b[0mself\u001b[0m\u001b[1;33m.\u001b[0m\u001b[0m_parent_ident\u001b[0m\u001b[1;33m,\u001b[0m\u001b[1;33m\u001b[0m\u001b[0m\n\u001b[0;32m    859\u001b[0m             \u001b[0mself\u001b[0m\u001b[1;33m.\u001b[0m\u001b[0m_parent_header\u001b[0m\u001b[1;33m,\u001b[0m\u001b[1;33m\u001b[0m\u001b[0m\n\u001b[1;32m--> 860\u001b[1;33m             \u001b[0mpassword\u001b[0m\u001b[1;33m=\u001b[0m\u001b[1;32mFalse\u001b[0m\u001b[1;33m,\u001b[0m\u001b[1;33m\u001b[0m\u001b[0m\n\u001b[0m\u001b[0;32m    861\u001b[0m         )\n\u001b[0;32m    862\u001b[0m \u001b[1;33m\u001b[0m\u001b[0m\n",
      "\u001b[1;32m~\\Anaconda3\\lib\\site-packages\\ipykernel\\kernelbase.py\u001b[0m in \u001b[0;36m_input_request\u001b[1;34m(self, prompt, ident, parent, password)\u001b[0m\n\u001b[0;32m    888\u001b[0m             \u001b[1;32mexcept\u001b[0m \u001b[0mKeyboardInterrupt\u001b[0m\u001b[1;33m:\u001b[0m\u001b[1;33m\u001b[0m\u001b[0m\n\u001b[0;32m    889\u001b[0m                 \u001b[1;31m# re-raise KeyboardInterrupt, to truncate traceback\u001b[0m\u001b[1;33m\u001b[0m\u001b[1;33m\u001b[0m\u001b[0m\n\u001b[1;32m--> 890\u001b[1;33m                 \u001b[1;32mraise\u001b[0m \u001b[0mKeyboardInterrupt\u001b[0m\u001b[1;33m\u001b[0m\u001b[0m\n\u001b[0m\u001b[0;32m    891\u001b[0m             \u001b[1;32melse\u001b[0m\u001b[1;33m:\u001b[0m\u001b[1;33m\u001b[0m\u001b[0m\n\u001b[0;32m    892\u001b[0m                 \u001b[1;32mbreak\u001b[0m\u001b[1;33m\u001b[0m\u001b[0m\n",
      "\u001b[1;31mKeyboardInterrupt\u001b[0m: "
     ]
    }
   ],
   "source": [
    "def f(s):\n",
    "    s2 = s.unique()\n",
    "    if len(s) == len(s2):\n",
    "        print('------\\n该数组是唯一值数组')\n",
    "    else:\n",
    "        print('------\\n该数组不是唯一值数组')\n",
    "\n",
    "d = input('请随机输入一组元素，用逗号（英文符号）隔开：\\n')\n",
    "lst = d.split(',')\n",
    "ds = pd.Series(lst)\n",
    "f(ds)"
   ]
  },
  {
   "cell_type": "code",
   "execution_count": 35,
   "metadata": {
    "ExecuteTime": {
     "end_time": "2019-09-18T09:20:23.880495Z",
     "start_time": "2019-09-18T09:20:23.875476Z"
    }
   },
   "outputs": [
    {
     "data": {
      "text/plain": [
       "'\\n【 文本数据】 \\n\\n'"
      ]
     },
     "execution_count": 35,
     "metadata": {},
     "output_type": "execute_result"
    }
   ],
   "source": [
    "'''\n",
    "【 文本数据】 \n",
    "\n",
    "'''"
   ]
  },
  {
   "cell_type": "markdown",
   "metadata": {
    "ExecuteTime": {
     "end_time": "2019-09-18T04:02:01.700316Z",
     "start_time": "2019-09-18T04:02:01.651689Z"
    }
   },
   "source": [
    "# ：如图创建一个Dataframe，并分别通过字符串常用方法得到3个Series：\n",
    "# ① name字段首字母全部大写\n",
    "# ② gender字段去除所有空格\n",
    "# ③ score字段按照-拆分，分别是math，english，art三个学分"
   ]
  },
  {
   "cell_type": "code",
   "execution_count": 36,
   "metadata": {
    "ExecuteTime": {
     "end_time": "2019-09-18T09:20:35.915830Z",
     "start_time": "2019-09-18T09:20:35.885910Z"
    }
   },
   "outputs": [
    {
     "name": "stdout",
     "output_type": "stream",
     "text": [
      "创建Dataframe为：\n",
      "      name gender math english art\n",
      "0    Jack      M   90      90  90\n",
      "1     Tom      M   89      89  89\n",
      "2   Marry      F   90      90  90\n",
      "3    Zack      M   78      78  78\n",
      "4  Heheda      F   60      60  60 \n",
      "------\n",
      "修改后为：\n",
      "      name gender math english art\n",
      "0    Jack      M   90      90  90\n",
      "1     Tom      M   89      89  89\n",
      "2   Marry      F   90      90  90\n",
      "3    Zack      M   78      78  78\n",
      "4  Heheda      F   60      60  60 \n",
      "------\n"
     ]
    }
   ],
   "source": [
    "df = pd.DataFrame({'name':['jack','tom','Marry','zack','heheda'],\n",
    "                  'gender':['M ','M','   F','  M ','  F'],\n",
    "                  'score':['90-92-89','89-78-88','90-92-95','78-88-76','60-60-67']})\n",
    "df['name'] = df['name'].str.capitalize()\n",
    "df['gender'] = df['gender'].str.strip()\n",
    "df['math'] = df['score'].str.split('-', expand=True)[0]\n",
    "df['english'] = df['score'].str.split('-', expand=True)[0]\n",
    "df['art'] = df['score'].str.split('-', expand=True)[0]\n",
    "del df['score']\n",
    "print('创建Dataframe为：\\n',df,'\\n------')\n",
    "print('修改后为：\\n',df,'\\n------')"
   ]
  },
  {
   "cell_type": "code",
   "execution_count": 37,
   "metadata": {
    "ExecuteTime": {
     "end_time": "2019-09-18T09:21:26.785431Z",
     "start_time": "2019-09-18T09:21:26.781442Z"
    }
   },
   "outputs": [
    {
     "data": {
      "text/plain": [
       "'\\n【合并 merge、join】 \\n\\n'"
      ]
     },
     "execution_count": 37,
     "metadata": {},
     "output_type": "execute_result"
    }
   ],
   "source": [
    "'''\n",
    "【合并 merge、join】 \n",
    "\n",
    "'''"
   ]
  },
  {
   "cell_type": "code",
   "execution_count": 38,
   "metadata": {
    "ExecuteTime": {
     "end_time": "2019-09-18T09:22:39.614276Z",
     "start_time": "2019-09-18T09:22:39.610640Z"
    }
   },
   "outputs": [],
   "source": [
    "# 按要求创建Dataframe df1、df2，并合并成df3"
   ]
  },
  {
   "cell_type": "code",
   "execution_count": 39,
   "metadata": {
    "ExecuteTime": {
     "end_time": "2019-09-18T09:22:42.245458Z",
     "start_time": "2019-09-18T09:22:41.915306Z"
    }
   },
   "outputs": [
    {
     "name": "stdout",
     "output_type": "stream",
     "text": [
      "创建df1为：\n",
      "   key   values1\n",
      "0   a  0.739786\n",
      "1   b  0.924345\n",
      "2   c  0.539847 \n",
      "------\n",
      "创建df2为：\n",
      "   key   values2\n",
      "0   b  0.109287\n",
      "1   c  0.753430\n",
      "2   d  0.489432 \n",
      "------\n",
      "合并df3为：\n",
      "   key   values1   values2\n",
      "0   a  0.739786       NaN\n",
      "1   b  0.924345  0.109287\n",
      "2   c  0.539847  0.753430\n",
      "3   d       NaN  0.489432 \n",
      "------\n"
     ]
    }
   ],
   "source": [
    "df1 = pd.DataFrame({'key':['a','b','c'],\n",
    "                   'values1':np.random.rand(3)})\n",
    "df2 = pd.DataFrame({'key':['b','c','d'],\n",
    "                   'values2':np.random.rand(3)})\n",
    "df3 = pd.merge(df1,df2,on='key',how='outer')\n",
    "\n",
    "print('创建df1为：\\n',df1,'\\n------')\n",
    "print('创建df2为：\\n',df2,'\\n------')\n",
    "print('合并df3为：\\n',df3,'\\n------')"
   ]
  },
  {
   "cell_type": "markdown",
   "metadata": {
    "ExecuteTime": {
     "end_time": "2019-09-18T04:02:53.226363Z",
     "start_time": "2019-09-18T04:02:53.194450Z"
    }
   },
   "source": [
    "# 按要求创建Dataframe df1、df2，并合并成df3"
   ]
  },
  {
   "cell_type": "code",
   "execution_count": 40,
   "metadata": {
    "ExecuteTime": {
     "end_time": "2019-09-18T09:22:53.782772Z",
     "start_time": "2019-09-18T09:22:53.763503Z"
    }
   },
   "outputs": [
    {
     "name": "stdout",
     "output_type": "stream",
     "text": [
      "创建df1为：\n",
      "   lkey   values1\n",
      "0    a  0.457702\n",
      "1    b  0.161071\n",
      "2    c  0.368612 \n",
      "------\n",
      "创建df2为：\n",
      "   rkey   values2\n",
      "0    b  0.860518\n",
      "1    c  0.513863\n",
      "2    d  0.089463 \n",
      "------\n",
      "合并df3为：\n",
      "   lkey   values1 rkey   values2\n",
      "0    a  0.457702  NaN       NaN\n",
      "1    b  0.161071    b  0.860518\n",
      "2    c  0.368612    c  0.513863 \n",
      "------\n"
     ]
    }
   ],
   "source": [
    "df1 = pd.DataFrame({'lkey':['a','b','c'],\n",
    "                   'values1':np.random.rand(3)})\n",
    "df2 = pd.DataFrame({'rkey':['b','c','d'],\n",
    "                   'values2':np.random.rand(3)})\n",
    "df3 = pd.merge(df1,df2,left_on='lkey',right_on='rkey',how='left')\n",
    "\n",
    "print('创建df1为：\\n',df1,'\\n------')\n",
    "print('创建df2为：\\n',df2,'\\n------')\n",
    "print('合并df3为：\\n',df3,'\\n------')"
   ]
  },
  {
   "cell_type": "markdown",
   "metadata": {
    "ExecuteTime": {
     "end_time": "2019-09-18T04:03:00.419721Z",
     "start_time": "2019-09-18T04:03:00.390542Z"
    }
   },
   "source": [
    "# 按要求创建Dataframe df1、df2，并合并成df3"
   ]
  },
  {
   "cell_type": "code",
   "execution_count": 41,
   "metadata": {
    "ExecuteTime": {
     "end_time": "2019-09-18T09:23:06.358879Z",
     "start_time": "2019-09-18T09:23:06.332599Z"
    }
   },
   "outputs": [
    {
     "name": "stdout",
     "output_type": "stream",
     "text": [
      "创建df1为：\n",
      "   key   values1\n",
      "0   a  0.672253\n",
      "1   b  0.611379\n",
      "2   c  0.157759 \n",
      "------\n",
      "创建df2为：\n",
      "     values2  values3\n",
      "b  0.597033        5\n",
      "c  0.784102        6\n",
      "d  0.875787        7 \n",
      "------\n",
      "合并df3为：\n",
      "   key   values1   values2  values3\n",
      "1   b  0.611379  0.597033        5\n",
      "2   c  0.157759  0.784102        6 \n",
      "------\n"
     ]
    }
   ],
   "source": [
    "df1 = pd.DataFrame({'key':['a','b','c'],\n",
    "                   'values1':np.random.rand(3)})\n",
    "df2 = pd.DataFrame({'values2':np.random.rand(3),\n",
    "                   'values3':[5,6,7]},\n",
    "                  index = ['b','c','d'])\n",
    "df3 = pd.merge(df1,df2,left_on='key',right_index=True)\n",
    "\n",
    "print('创建df1为：\\n',df1,'\\n------')\n",
    "print('创建df2为：\\n',df2,'\\n------')\n",
    "print('合并df3为：\\n',df3,'\\n------')"
   ]
  },
  {
   "cell_type": "code",
   "execution_count": 42,
   "metadata": {
    "ExecuteTime": {
     "end_time": "2019-09-18T09:23:13.378280Z",
     "start_time": "2019-09-18T09:23:13.372291Z"
    }
   },
   "outputs": [
    {
     "data": {
      "text/plain": [
       "'\\n【 连接与修补 concat、combine_first】 \\n\\n'"
      ]
     },
     "execution_count": 42,
     "metadata": {},
     "output_type": "execute_result"
    }
   ],
   "source": [
    "'''\n",
    "【 连接与修补 concat、combine_first】 \n",
    "\n",
    "'''"
   ]
  },
  {
   "cell_type": "code",
   "execution_count": 43,
   "metadata": {
    "ExecuteTime": {
     "end_time": "2019-09-18T09:23:18.774799Z",
     "start_time": "2019-09-18T09:23:18.754853Z"
    }
   },
   "outputs": [
    {
     "name": "stdout",
     "output_type": "stream",
     "text": [
      "创建df1为：\n",
      "     values1   values2\n",
      "a  0.976817  0.389212\n",
      "b  0.481731  0.330485\n",
      "c  0.225249  0.495429\n",
      "d  0.018235  0.413106 \n",
      "------\n",
      "创建df2为：\n",
      "     values1   values2\n",
      "e  0.066745  0.106484\n",
      "f  0.694547  0.183745\n",
      "g  0.061422  0.339254\n",
      "h  0.257750  0.399718 \n",
      "------\n",
      "连接df3为：\n",
      "     values1   values2\n",
      "a  0.976817  0.389212\n",
      "b  0.481731  0.330485\n",
      "c  0.225249  0.495429\n",
      "d  0.018235  0.413106\n",
      "e  0.066745  0.106484\n",
      "f  0.694547  0.183745\n",
      "g  0.061422  0.339254\n",
      "h  0.257750  0.399718 \n",
      "------\n"
     ]
    }
   ],
   "source": [
    "# 按要求创建Dataframe df1、df2，并连接成df3\n",
    "\n",
    "df1 = pd.DataFrame(np.random.rand(4,2),\n",
    "                  index = list('abcd'),\n",
    "                  columns = ['values1','values2'])\n",
    "df2 = pd.DataFrame(np.random.rand(4,2),\n",
    "                  index = list('efgh'),\n",
    "                  columns = ['values1','values2'])\n",
    "df3 = pd.concat([df1,df2])\n",
    "\n",
    "print('创建df1为：\\n',df1,'\\n------')\n",
    "print('创建df2为：\\n',df2,'\\n------')\n",
    "print('连接df3为：\\n',df3,'\\n------')"
   ]
  },
  {
   "cell_type": "markdown",
   "metadata": {
    "ExecuteTime": {
     "end_time": "2019-09-18T04:05:21.448516Z",
     "start_time": "2019-09-18T04:05:21.387639Z"
    }
   },
   "source": [
    "# 按要求创建Dataframe df1、df2，并用df2的值修补df1，生成df3"
   ]
  },
  {
   "cell_type": "code",
   "execution_count": 44,
   "metadata": {
    "ExecuteTime": {
     "end_time": "2019-09-18T09:23:33.889433Z",
     "start_time": "2019-09-18T09:23:33.851979Z"
    }
   },
   "outputs": [
    {
     "name": "stdout",
     "output_type": "stream",
     "text": [
      "创建df1为：\n",
      "     values1   values2\n",
      "a  0.873063  0.403104\n",
      "b       NaN  0.557227\n",
      "c       NaN  0.063219\n",
      "d  0.559253  0.082608 \n",
      "------\n",
      "创建df2为：\n",
      "    values1  values2\n",
      "a        0        1\n",
      "b        2        3\n",
      "c        4        5\n",
      "d        6        7 \n",
      "------\n",
      "df1修补后为：\n",
      "     values1   values2\n",
      "a  0.873063  0.403104\n",
      "b  2.000000  0.557227\n",
      "c  4.000000  0.063219\n",
      "d  0.559253  0.082608 \n",
      "------\n"
     ]
    }
   ],
   "source": [
    "df1 = pd.DataFrame(np.random.rand(4,2),\n",
    "                  index = list('abcd'),\n",
    "                  columns = ['values1','values2'])\n",
    "df1['values1'].loc[['b','c']] = np.nan\n",
    "df2 = pd.DataFrame(np.arange(8).reshape(4,2),\n",
    "                  index = list('abcd'),\n",
    "                  columns = ['values1','values2'])\n",
    "df3 = df1.combine_first(df2)\n",
    "\n",
    "print('创建df1为：\\n',df1,'\\n------')\n",
    "print('创建df2为：\\n',df2,'\\n------')\n",
    "print('df1修补后为：\\n',df3,'\\n------')"
   ]
  },
  {
   "cell_type": "code",
   "execution_count": 45,
   "metadata": {
    "ExecuteTime": {
     "end_time": "2019-09-18T09:23:36.703801Z",
     "start_time": "2019-09-18T09:23:36.698814Z"
    }
   },
   "outputs": [
    {
     "data": {
      "text/plain": [
       "'\\n【数据分组】 \\n\\n'"
      ]
     },
     "execution_count": 45,
     "metadata": {},
     "output_type": "execute_result"
    }
   ],
   "source": [
    "'''\n",
    "【数据分组】 \n",
    "\n",
    "'''"
   ]
  },
  {
   "cell_type": "code",
   "execution_count": null,
   "metadata": {
    "ExecuteTime": {
     "end_time": "2019-09-18T04:05:32.282017Z",
     "start_time": "2019-09-18T04:05:32.256087Z"
    }
   },
   "outputs": [],
   "source": [
    "# 按要求创建Dataframe df1、df2，并连接成df3"
   ]
  },
  {
   "cell_type": "code",
   "execution_count": 46,
   "metadata": {
    "ExecuteTime": {
     "end_time": "2019-09-18T09:23:52.877980Z",
     "start_time": "2019-09-18T09:23:52.853023Z"
    }
   },
   "outputs": [
    {
     "name": "stdout",
     "output_type": "stream",
     "text": [
      "创建df1为：\n",
      "     values1   values2\n",
      "a  0.522313  0.524634\n",
      "b  0.970575  0.315711\n",
      "c  0.845073  0.389301\n",
      "d  0.164387  0.390031 \n",
      "------\n",
      "创建df2为：\n",
      "     values1   values2\n",
      "e  0.664568  0.797096\n",
      "f  0.675821  0.987407\n",
      "g  0.499303  0.518145\n",
      "h  0.147596  0.078960 \n",
      "------\n",
      "连接df3为：\n",
      "     values1   values2\n",
      "a  0.522313  0.524634\n",
      "b  0.970575  0.315711\n",
      "c  0.845073  0.389301\n",
      "d  0.164387  0.390031\n",
      "e  0.664568  0.797096\n",
      "f  0.675821  0.987407\n",
      "g  0.499303  0.518145\n",
      "h  0.147596  0.078960 \n",
      "------\n"
     ]
    }
   ],
   "source": [
    "df1 = pd.DataFrame(np.random.rand(4,2),\n",
    "                  index = list('abcd'),\n",
    "                  columns = ['values1','values2'])\n",
    "df2 = pd.DataFrame(np.random.rand(4,2),\n",
    "                  index = list('efgh'),\n",
    "                  columns = ['values1','values2'])\n",
    "df3 = pd.concat([df1,df2])\n",
    "\n",
    "print('创建df1为：\\n',df1,'\\n------')\n",
    "print('创建df2为：\\n',df2,'\\n------')\n",
    "print('连接df3为：\\n',df3,'\\n------')"
   ]
  },
  {
   "cell_type": "code",
   "execution_count": 48,
   "metadata": {
    "ExecuteTime": {
     "end_time": "2019-09-18T09:25:55.294919Z",
     "start_time": "2019-09-18T09:25:55.289359Z"
    }
   },
   "outputs": [
    {
     "data": {
      "text/plain": [
       "'【 数据分组】 \\n'"
      ]
     },
     "execution_count": 48,
     "metadata": {},
     "output_type": "execute_result"
    }
   ],
   "source": [
    "'''【 数据分组】 \n",
    "'''"
   ]
  },
  {
   "cell_type": "markdown",
   "metadata": {
    "ExecuteTime": {
     "end_time": "2019-09-18T04:05:40.641528Z",
     "start_time": "2019-09-18T04:05:40.554706Z"
    }
   },
   "source": [
    "# ：按要求创建Dataframe df，并通过分组得到以下结果\n",
    "# ① 以A分组，求出C,D的分组平均值\n",
    "# ② 以A,B分组，求出D,E的分组求和\n",
    "# ③ 以A分组，得到所有分组，以字典显示\n",
    "# ④ 按照数值类型分组，求和\n",
    "# ⑤ 将C,D作为一组分出来，并计算求和\n",
    "# ⑥ 以B分组，求出每组的均值，求和，最大值，最小值"
   ]
  },
  {
   "cell_type": "code",
   "execution_count": 57,
   "metadata": {
    "ExecuteTime": {
     "end_time": "2019-09-18T04:05:40.641528Z",
     "start_time": "2019-09-18T04:05:40.554706Z"
    }
   },
   "outputs": [
    {
     "name": "stdout",
     "output_type": "stream",
     "text": [
      "创建df为：\n",
      "        A  B   C         D         E\n",
      "0    one  h  10  1.900227  0.704206\n",
      "1    two  h  12  0.709056  0.957550\n",
      "2  three  h  14 -0.134636  0.767675\n",
      "3    one  h  16 -1.839037  0.711887\n",
      "4    two  f  18 -1.018118  0.499661\n",
      "5  three  f  20 -0.532871  0.082554\n",
      "6    one  f  22  1.967458  0.945361\n",
      "7    two  f  24 -1.601070  0.037301 \n",
      "------\n",
      "以A分组，求出C,D的分组平均值为：\n",
      "         C         D         E\n",
      "A                            \n",
      "one    16  0.676216  0.787151\n",
      "three  17 -0.333753  0.425115\n",
      "two    18 -0.636710  0.498171 \n",
      "------\n",
      "以A,B分组，求出D,E的分组求和为：\n",
      "           C         D         E\n",
      "A     B                        \n",
      "one   f  22  1.967458  0.945361\n",
      "      h  26  0.061190  1.416093\n",
      "three f  20 -0.532871  0.082554\n",
      "      h  14 -0.134636  0.767675\n",
      "two   f  42 -2.619187  0.536962\n",
      "      h  12  0.709056  0.957550 \n",
      "------\n",
      "以A分组，筛选出分组后的第一组数据为：\n",
      " {'one': Int64Index([0, 3, 6], dtype='int64'), 'three': Int64Index([2, 5], dtype='int64'), 'two': Int64Index([1, 4, 7], dtype='int64')} \n",
      "------\n",
      "按照数值类型分组为：\n",
      "    int32   float64  object\n",
      "0     10  2.604433    oneh\n",
      "1     12  1.666606    twoh\n",
      "2     14  0.633040  threeh\n",
      "3     16 -1.127150    oneh\n",
      "4     18 -0.518457    twof\n",
      "5     20 -0.450317  threef\n",
      "6     22  2.912818    onef\n",
      "7     24 -1.563769    twof \n",
      "------\n",
      "将C,D作为一组分出来，并计算求和为：\n",
      "            r\n",
      "0  11.900227\n",
      "1  12.709056\n",
      "2  13.865364\n",
      "3  14.160963\n",
      "4  16.981882\n",
      "5  19.467129\n",
      "6  23.967458\n",
      "7  22.398930 \n",
      "------\n",
      "以B分组，求出每组的均值，求和，最大值，最小值：\n",
      "      C                       D                                       E  \\\n",
      "  mean sum amax amin      mean       sum      amax      amin      mean   \n",
      "B                                                                        \n",
      "f   21  84   24   18 -0.296150 -1.184601  1.967458 -1.601070  0.391219   \n",
      "h   13  52   16   10  0.158903  0.635611  1.900227 -1.839037  0.785330   \n",
      "\n",
      "                                 \n",
      "        sum      amax      amin  \n",
      "B                                \n",
      "f  1.564877  0.945361  0.037301  \n",
      "h  3.141318  0.957550  0.704206   \n",
      "------\n"
     ]
    }
   ],
   "source": [
    "df = pd.DataFrame({'A' : ['one', 'two', 'three', 'one','two', 'three', 'one', 'two'],\n",
    "                   'B' : ['h', 'h', 'h', 'h', 'f', 'f', 'f', 'f'],\n",
    "                   'C' : np.arange(10,26,2),\n",
    "                   'D' : np.random.randn(8),\n",
    "                   'E':np.random.rand(8)})\n",
    "\n",
    "\n",
    "print('创建df为：\\n',df,'\\n------')\n",
    "print('以A分组，求出C,D的分组平均值为：\\n',df.groupby('A').mean(),'\\n------')\n",
    "print('以A,B分组，求出D,E的分组求和为：\\n',df.groupby(['A','B']).sum(),'\\n------')\n",
    "print('以A分组，筛选出分组后的第一组数据为：\\n',df.groupby('A').groups,'\\n------')\n",
    "print('按照数值类型分组为：\\n',df.groupby(df.dtypes,axis=1).sum(),'\\n------')\n",
    "print('将C,D作为一组分出来，并计算求和为：\\n',df.groupby({'C':'r','D':'r'},axis=1).sum(),'\\n------')\n",
    "print('以B分组，求出每组的均值，求和，最大值，最小值：\\n',df.groupby('B').agg([np.mean,np.sum,np.max,np.min]),'\\n------')"
   ]
  },
  {
   "cell_type": "code",
   "execution_count": 59,
   "metadata": {
    "ExecuteTime": {
     "end_time": "2019-09-18T04:05:52.183152Z",
     "start_time": "2019-09-18T04:05:52.129681Z"
    }
   },
   "outputs": [
    {
     "data": {
      "text/plain": [
       "'\\n【.20  分组转换及一般性“拆分-应用-合并”】 \\n\\n'"
      ]
     },
     "execution_count": 59,
     "metadata": {},
     "output_type": "execute_result"
    }
   ],
   "source": [
    "'''\n",
    "【.20  分组转换及一般性“拆分-应用-合并”】 \n",
    "\n",
    "'''"
   ]
  },
  {
   "cell_type": "code",
   "execution_count": 30,
   "metadata": {},
   "outputs": [
    {
     "name": "stdout",
     "output_type": "stream",
     "text": [
      "创建df为：\n",
      "       data1     data2 key\n",
      "0  0.298507  0.481976   a\n",
      "1  0.761940  0.472252   a\n",
      "2  0.639491  0.964618   b\n",
      "3  0.238919  0.756300   b\n",
      "4  0.231337  0.617190   a\n",
      "5  0.681743  0.906671   b\n",
      "6  0.601592  0.798819   a\n",
      "7  0.071703  0.109292   b \n",
      "------\n",
      "求和且合并之后结果为：\n",
      "       data1     data2 key  data1_mean  data2_mean\n",
      "0  0.298507  0.481976   a    0.473344    0.592559\n",
      "1  0.761940  0.472252   a    0.473344    0.592559\n",
      "2  0.639491  0.964618   b    0.407964    0.684220\n",
      "3  0.238919  0.756300   b    0.407964    0.684220\n",
      "4  0.231337  0.617190   a    0.473344    0.592559\n",
      "5  0.681743  0.906671   b    0.407964    0.684220\n",
      "6  0.601592  0.798819   a    0.473344    0.592559\n",
      "7  0.071703  0.109292   b    0.407964    0.684220 \n",
      "------\n"
     ]
    }
   ],
   "source": [
    "# 作业1：按要求创建Dataframe df，通过key分组求和，并将求和结果并在原df中\n",
    "\n",
    "df = pd.DataFrame({'data1':np.random.rand(8),\n",
    "                  'data2':np.random.rand(8),\n",
    "                  'key':list('aabbabab')})\n",
    "\n",
    "print('创建df为：\\n',df,'\\n------')\n",
    "df_ = df.groupby('key').transform(np.mean)\n",
    "print('求和且合并之后结果为：\\n',df.join(df_,rsuffix='_mean'),'\\n------')"
   ]
  },
  {
   "cell_type": "code",
   "execution_count": null,
   "metadata": {
    "collapsed": true
   },
   "outputs": [],
   "source": [
    "'''\n",
    "【课程2.21  透视表及交叉表】 课程作业\n",
    "\n",
    "'''"
   ]
  },
  {
   "cell_type": "code",
   "execution_count": 32,
   "metadata": {},
   "outputs": [
    {
     "name": "stdout",
     "output_type": "stream",
     "text": [
      "创建df为：\n",
      "        A  B   C         D         E\n",
      "0    one  h  10  0.456511  0.713847\n",
      "1    two  h  12 -1.807333  0.852110\n",
      "2  three  h  14  0.526257  0.942896\n",
      "3    one  h  16 -0.796059  0.015267\n",
      "4    two  f  18  0.819476  0.838997\n",
      "5  three  f  20 -0.185152  0.814255\n",
      "6    one  f  22 -0.736728  0.856365\n",
      "7    two  f  24  1.318259  0.194405 \n",
      "------\n",
      "以A列聚合，求出C,D的平均值为：\n",
      "         C         D\n",
      "A                  \n",
      "one    16 -0.358759\n",
      "three  17  0.170552\n",
      "two    18  0.110134 \n",
      "------\n",
      "以A,B列聚合，求出D,E的均值、求和为：\n",
      "              mean                 sum          \n",
      "                D         E         D         E\n",
      "A     B                                        \n",
      "one   f -0.736728  0.856365 -0.736728  0.856365\n",
      "      h -0.169774  0.364557 -0.339548  0.729114\n",
      "three f -0.185152  0.814255 -0.185152  0.814255\n",
      "      h  0.526257  0.942896  0.526257  0.942896\n",
      "two   f  1.068867  0.516701  2.137735  1.033402\n",
      "      h -1.807333  0.852110 -1.807333  0.852110 \n",
      "------\n",
      "以B聚合，计算A列的元素频率为：\n",
      " A  one  three  two\n",
      "B                 \n",
      "f    1      1    2\n",
      "h    2      1    1 \n",
      "------\n"
     ]
    }
   ],
   "source": [
    "# 作业1：按要求创建Dataframe df，并通过数据透视表得到以下结果\n",
    "# ① 以A列聚合，求出C,D的平均值\n",
    "# ② 以A,B列聚合，求出D,E的均值、求和\n",
    "# ③ 以B聚合，计算A列的元素频率\n",
    "\n",
    "df = pd.DataFrame({'A' : ['one', 'two', 'three', 'one','two', 'three', 'one', 'two'],\n",
    "                   'B' : ['h', 'h', 'h', 'h', 'f', 'f', 'f', 'f'],\n",
    "                   'C' : np.arange(10,26,2),\n",
    "                   'D' : np.random.randn(8),\n",
    "                   'E':np.random.rand(8)})\n",
    "\n",
    "\n",
    "print('创建df为：\\n',df,'\\n------')\n",
    "print('以A列聚合，求出C,D的平均值为：\\n',pd.pivot_table(df,values=['C','D'],index='A',aggfunc=np.mean),'\\n------')\n",
    "print('以A,B列聚合，求出D,E的均值、求和为：\\n',pd.pivot_table(df,values=['D','E'],index=['A','B'],aggfunc=[np.mean,np.sum]),'\\n------')\n",
    "print('以B聚合，计算A列的元素频率为：\\n',pd.crosstab(df['B'],df['A']),'\\n------')"
   ]
  }
 ],
 "metadata": {
  "anaconda-cloud": {},
  "kernelspec": {
   "display_name": "Python 3",
   "language": "python",
   "name": "python3"
  },
  "language_info": {
   "codemirror_mode": {
    "name": "ipython",
    "version": 3
   },
   "file_extension": ".py",
   "mimetype": "text/x-python",
   "name": "python",
   "nbconvert_exporter": "python",
   "pygments_lexer": "ipython3",
   "version": "3.6.4"
  },
  "varInspector": {
   "cols": {
    "lenName": 16,
    "lenType": 16,
    "lenVar": 40
   },
   "kernels_config": {
    "python": {
     "delete_cmd_postfix": "",
     "delete_cmd_prefix": "del ",
     "library": "var_list.py",
     "varRefreshCmd": "print(var_dic_list())"
    },
    "r": {
     "delete_cmd_postfix": ") ",
     "delete_cmd_prefix": "rm(",
     "library": "var_list.r",
     "varRefreshCmd": "cat(var_dic_list()) "
    }
   },
   "types_to_exclude": [
    "module",
    "function",
    "builtin_function_or_method",
    "instance",
    "_Feature"
   ],
   "window_display": false
  }
 },
 "nbformat": 4,
 "nbformat_minor": 1
}
