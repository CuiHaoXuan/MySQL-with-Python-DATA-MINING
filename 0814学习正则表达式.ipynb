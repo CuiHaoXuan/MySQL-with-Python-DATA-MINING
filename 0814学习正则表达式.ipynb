{
 "cells": [
  {
   "cell_type": "markdown",
   "metadata": {},
   "source": [
    "参考的学习网址https://github.com/ziishaned/learn-regex/blob/master/translations/README-cn.md"
   ]
  },
  {
   "cell_type": "markdown",
   "metadata": {},
   "source": [
    "# 1. 基本匹配\n",
    "\n",
    "正则表达式其实就是在执行搜索时的格式, 它由一些字母和数字组合而成. 例如: 一个正则表达式 the, 它表示一个规则: 由字母t开始,接着是h,再接着是e.\n",
    "\n",
    "\"the\" => The fat cat sat on the mat.\n",
    "正则表达式123匹配字符串123. 它逐个字符的与输入的正则表达式做比较.\n"
   ]
  },
  {
   "cell_type": "code",
   "execution_count": 14,
   "metadata": {
    "ExecuteTime": {
     "end_time": "2019-08-13T16:34:50.990623Z",
     "start_time": "2019-08-13T16:34:50.978620Z"
    }
   },
   "outputs": [
    {
     "name": "stdout",
     "output_type": "stream",
     "text": [
      "匹配出： ['hunan']\n"
     ]
    }
   ],
   "source": [
    "import re\n",
    "text = 'WRFOUT_hunan_20190908_16:00:'\n",
    "regex = 'hunan'\n",
    "print('匹配出：',re.findall(regex,text))"
   ]
  },
  {
   "cell_type": "code",
   "execution_count": 24,
   "metadata": {
    "ExecuteTime": {
     "end_time": "2019-08-13T16:45:42.263696Z",
     "start_time": "2019-08-13T16:45:42.251763Z"
    }
   },
   "outputs": [
    {
     "name": "stdout",
     "output_type": "stream",
     "text": [
      "匹配出： ['d03']\n",
      "匹配出： []\n"
     ]
    }
   ],
   "source": [
    "import re\n",
    "text = 'WRF_d03_hunan_20190908_16:00:00'\n",
    "regex_1 = 'd03'\n",
    "regex_2 = 'D03'\n",
    "print('匹配出：',re.findall(regex_1,text))\n",
    "print('匹配出：',re.findall(regex_2,text))"
   ]
  },
  {
   "cell_type": "code",
   "execution_count": 16,
   "metadata": {
    "ExecuteTime": {
     "end_time": "2019-08-13T16:37:57.843286Z",
     "start_time": "2019-08-13T16:37:57.833314Z"
    }
   },
   "outputs": [
    {
     "name": "stdout",
     "output_type": "stream",
     "text": [
      "匹配出： ['hunan']\n",
      "匹配出： []\n"
     ]
    }
   ],
   "source": [
    "import re\n",
    "text = 'WRF_d03_hunan_20190908_16:00:00'\n",
    "regex_1 = 'hunan'\n",
    "regex_2 = 'Hunan'\n",
    "print('匹配出：',re.findall(regex_1,text))\n",
    "print('匹配出：',re.findall(regex_2,text))"
   ]
  },
  {
   "cell_type": "markdown",
   "metadata": {},
   "source": [
    "#  基本匹配 个人强调   ：是逐个字符\n"
   ]
  },
  {
   "cell_type": "markdown",
   "metadata": {},
   "source": [
    "# 正则表达式是大小写敏感的, 所以The不会匹配the."
   ]
  },
  {
   "cell_type": "markdown",
   "metadata": {},
   "source": [
    "练习网址  https://regex101.com/r/dmRygT/1"
   ]
  },
  {
   "cell_type": "markdown",
   "metadata": {},
   "source": [
    "# 2. 元字符\n",
    "\n",
    "正则表达式主要依赖于元字符. 元字符不代表他们本身的字面意思, 他们都有特殊的含义. 一些元字符写在方括号中的时候有一些特殊的意思. 以下是一些元字符的介绍:"
   ]
  },
  {
   "cell_type": "markdown",
   "metadata": {},
   "source": [
    "| - 元字符                  | --描述                       |\n",
    "| ----------------------- | ------------------------------------------------------- |\n",
    "| .                 | 句号匹配任意单个字符，除了换行符                        |\n",
    "| []           | 字符种类.匹配方括号内的任意字符                                |\n",
    "| [^ ]                |否定的字符种类。匹配除了方括号里的任意字符\n",
    "|\n",
    "| *        | 匹配>=0个重复在星号*之前的字符                                 |\n",
    "| +          | 匹配>=1个重复在星号*之前的字符                                         |\n",
    "|{n,m} \t | 匹配num个大括号之前的字符 (n <= num <= m).\n",
    "| (xyz) \t|字符集, 匹配与 xyz 完全相等的字符串.                       |\n",
    "| \t1  | 或运算符,匹配符号前或后的字符.                                  |\n",
    "|\\ |\t转义字符,用于匹配一些保留的字符 [ ] ( ) { } . * + ? ^ $ \\ |  |\n",
    "|^ |\t从开头开始匹配  |\n"
   ]
  },
  {
   "cell_type": "markdown",
   "metadata": {},
   "source": [
    "# 2.1 点运算符.\n",
    ".是元字符中最简单的例子. .匹配任意单个字符, 但不匹配换行符. 例如, 表达式.ar匹配一个任意字符后面跟着是a和r的字符串."
   ]
  },
  {
   "cell_type": "code",
   "execution_count": 9,
   "metadata": {
    "ExecuteTime": {
     "end_time": "2019-08-13T15:49:34.316580Z",
     "start_time": "2019-08-13T15:49:34.306565Z"
    }
   },
   "outputs": [
    {
     "data": {
      "text/plain": [
       "['car', 'par', 'gar', 'par', ' ar']"
      ]
     },
     "execution_count": 9,
     "metadata": {},
     "output_type": "execute_result"
    }
   ],
   "source": [
    "import re\n",
    "text = 'the car parked in the garrge, the park is around nanreng road'\n",
    "regex = '.ar'\n",
    "re.findall(regex,text)"
   ]
  },
  {
   "cell_type": "code",
   "execution_count": 34,
   "metadata": {
    "ExecuteTime": {
     "end_time": "2019-08-13T17:05:08.518909Z",
     "start_time": "2019-08-13T17:05:08.508768Z"
    }
   },
   "outputs": [
    {
     "name": "stdout",
     "output_type": "stream",
     "text": [
      "['wrf_d03_201805.nc', 'wrf_d03_201806.nc', 'wrf_d03_201807.nc']\n"
     ]
    }
   ],
   "source": [
    "import re\n",
    "text = 'wrf_d03_201805.nc wrf_d03_201806.nc wrf_d03_201807.nc wrf_d03_201810.nc wrf_d03_201806 wrf_d03_201802dnc'\n",
    "regex = 'wrf_d03_20180.\\.nc' # 第一个 点是点运算符, 第二点前面加上\\ 是为了反转义，及第二个点只是一个字符，不是点运算符\n",
    "print(re.findall(regex,text))"
   ]
  },
  {
   "cell_type": "code",
   "execution_count": 10,
   "metadata": {
    "ExecuteTime": {
     "end_time": "2019-08-13T15:50:33.044590Z",
     "start_time": "2019-08-13T15:50:33.031624Z"
    }
   },
   "outputs": [
    {
     "name": "stdout",
     "output_type": "stream",
     "text": [
      "Help on function match in module re:\n",
      "\n",
      "match(pattern, string, flags=0)\n",
      "    Try to apply the pattern at the start of the string, returning\n",
      "    a match object, or None if no match was found.\n",
      "\n"
     ]
    }
   ],
   "source": [
    "help(re.match)"
   ]
  },
  {
   "cell_type": "markdown",
   "metadata": {
    "ExecuteTime": {
     "end_time": "2019-07-20T04:09:20.840517Z",
     "start_time": "2019-07-20T04:09:20.825558Z"
    }
   },
   "source": [
    "# 2.2 字符集\n",
    "字符集也叫做字符类. 方括号用来指定一个字符集. \n",
    "在方括号中使用连字符来指定字符集的范围. \n",
    "在方括号中的字符集不关心顺序. \n",
    "例如, 表达式[Ww]rf 匹配 Wrf 和 wrf."
   ]
  },
  {
   "cell_type": "code",
   "execution_count": 40,
   "metadata": {
    "ExecuteTime": {
     "end_time": "2019-08-14T03:03:20.395457Z",
     "start_time": "2019-08-14T03:03:20.385485Z"
    }
   },
   "outputs": [
    {
     "name": "stdout",
     "output_type": "stream",
     "text": [
      "['Wrf666.nc', 'wrf777.nc', 'wrf888888.nc']\n"
     ]
    }
   ],
   "source": [
    "import re\n",
    "text = 'Wrf666.nchjhjhjhjhffsfsgfergwrf777.ncfjkajawrf888888.nc'\n",
    "#regex = '[Ww]rf[0-9]{1,9},nc$'\n",
    "regex = '[Ww]rf[0-9]{3,6}.nc'\n",
    "print(re.findall(regex,text))"
   ]
  },
  {
   "cell_type": "code",
   "execution_count": 3,
   "metadata": {
    "ExecuteTime": {
     "end_time": "2019-08-13T15:34:54.155727Z",
     "start_time": "2019-08-13T15:34:54.144755Z"
    }
   },
   "outputs": [
    {
     "name": "stdout",
     "output_type": "stream",
     "text": [
      "['Wrf666.nc', 'wrf777.nc', 'erf999.nc']\n"
     ]
    }
   ],
   "source": [
    "import re\n",
    "text = 'Wrf666.nc, wrf777.nc,erf999.nc'\n",
    "#regex = '[Ww]rf[0-9]{1,9},nc$'\n",
    "regex = '[Wwe]rf[0-9]{3,6}.nc'\n",
    "print(re.findall(regex,text))"
   ]
  },
  {
   "cell_type": "markdown",
   "metadata": {},
   "source": [
    "# 2.21 否定字符集\n",
    "一般来说 ^ 表示一个字符串的开头, 但它用在一个方括号的开头的时候, 它表示这个字符集是否定的. \n",
    "例如, 表达式[^c]ar 匹配一个后面跟着ar的除了c的任意字符."
   ]
  },
  {
   "cell_type": "code",
   "execution_count": 4,
   "metadata": {
    "ExecuteTime": {
     "end_time": "2019-08-13T15:34:55.896073Z",
     "start_time": "2019-08-13T15:34:55.879119Z"
    }
   },
   "outputs": [
    {
     "name": "stdout",
     "output_type": "stream",
     "text": [
      "Wrfout_d02_2019080215.nc not match anything\n",
      "wrfout_d02_2019080615.nc\n",
      "匹配项为： ['wrfout_d02_2019']\n",
      "wrfout_d03_2019080715.nc\n",
      "匹配项为： ['wrfout_d03_2019']\n",
      "WRFCHEM_d02_2019081213.nc not match anything\n",
      "wrfout_d01_2019080215.nc\n",
      "匹配项为： ['wrfout_d01_2019']\n",
      "erfout_d01_2019080215.nc not match anything\n"
     ]
    }
   ],
   "source": [
    "import re\n",
    "text_list = ['Wrfout_d02_2019080215.nc','wrfout_d02_2019080615.nc','wrfout_d03_2019080715.nc'\n",
    "       ,'WRFCHEM_d02_2019081213.nc','wrfout_d01_2019080215.nc','erfout_d01_2019080215.nc'] \n",
    "#regex = '^wrfout_d0[0-3]_2019[0-9]{6}.nc$'\n",
    "regex = '[^We]rfout_d0[0-3]_2019*'\n",
    "for each_file in text_list:\n",
    "    if re.search(regex,each_file) is not None:\n",
    "        print(each_file)\n",
    "        print('匹配项为：',re.findall(regex,each_file))\n",
    "    else:\n",
    "        print('%s not match anything' %each_file)"
   ]
  },
  {
   "cell_type": "code",
   "execution_count": 5,
   "metadata": {
    "ExecuteTime": {
     "end_time": "2019-08-13T15:34:57.917671Z",
     "start_time": "2019-08-13T15:34:57.904705Z"
    }
   },
   "outputs": [
    {
     "name": "stdout",
     "output_type": "stream",
     "text": [
      "Wrfout_d02_2019080215.nc\n",
      "wrfout_d02_2019080615.nc not match anything\n",
      "wrfout_d03_2019080715.nc not match anything\n",
      "WRFCHEM_d02_2019081213.nc not match anything\n",
      "wrfout_d01_2019080215.nc not match anything\n",
      "erfout_d01_2019080215.nc\n"
     ]
    }
   ],
   "source": [
    "import re\n",
    "text_list = ['Wrfout_d02_2019080215.nc','wrfout_d02_2019080615.nc','wrfout_d03_2019080715.nc'\n",
    "       ,'WRFCHEM_d02_2019081213.nc','wrfout_d01_2019080215.nc','erfout_d01_2019080215.nc'] \n",
    "#regex = '^wrfout_d0[0-3]_2019[0-9]{6}.nc$'\n",
    "regex = '[We]rfout_d0[0-3]_2019*' # 不否定\n",
    "for each_file in text_list:\n",
    "    if re.search(regex,each_file) is not None:\n",
    "        print(each_file)\n",
    "    else:\n",
    "        print('%s not match anything' %each_file)"
   ]
  },
  {
   "cell_type": "code",
   "execution_count": 6,
   "metadata": {
    "ExecuteTime": {
     "end_time": "2019-08-13T15:35:01.499100Z",
     "start_time": "2019-08-13T15:35:01.485137Z"
    }
   },
   "outputs": [
    {
     "name": "stdout",
     "output_type": "stream",
     "text": [
      "wrfout_d02_2019080215.nc\n",
      "匹配项为： ['wrfout_d02_2019080215.nc']\n",
      "wrfout_d02_2019080615.nc\n",
      "匹配项为： ['wrfout_d02_2019080615.nc']\n",
      "wrfout_d03_2019080715.nc\n",
      "匹配项为： ['wrfout_d03_2019080715.nc']\n",
      "WRFCHEM_d02_2019081213.nc not match anything\n"
     ]
    }
   ],
   "source": [
    "import re\n",
    "text =['wrfout_d02_2019080215.nc','wrfout_d02_2019080615.nc','wrfout_d03_2019080715.nc'\n",
    "       ,'WRFCHEM_d02_2019081213.nc'] \n",
    "#regex = '^wrfout_d0[0-3]_2019[0-9]{6}.nc$'\n",
    "regex = '^wrfout_d0[0-3]_2019[0-9]{6,9}.nc$'#{6,9}代表匹配6-9次单个字符\n",
    "for each_file in text:\n",
    "    if re.search(regex,each_file) is not None:\n",
    "        print(each_file)\n",
    "        print('匹配项为：',re.findall(regex,each_file))\n",
    "    else:\n",
    "        print('%s not match anything' %each_file)"
   ]
  },
  {
   "cell_type": "markdown",
   "metadata": {},
   "source": [
    "# 2.3重复次数\n",
    "\n",
    "后面跟着元字符 +, * or ? 的, 用来指定匹配子模式的次数. 这些元字符在不同的情况下有着不同的意思."
   ]
  },
  {
   "cell_type": "markdown",
   "metadata": {},
   "source": [
    "# 2.3.1 *号\n",
    "\n",
    "**号匹配 在*之前的字符出现大于等于0次.  wrf*,表示w后面跟个r,r 后面跟0个或者无数次"
   ]
  },
  {
   "cell_type": "code",
   "execution_count": 48,
   "metadata": {
    "ExecuteTime": {
     "end_time": "2019-08-14T03:46:56.835725Z",
     "start_time": "2019-08-14T03:46:56.822753Z"
    }
   },
   "outputs": [
    {
     "name": "stdout",
     "output_type": "stream",
     "text": [
      "wrffffout_d02_2019080215.nc\n",
      "匹配项为： ['wrffffout']\n",
      "wrout_d02_2019080615.nc\n",
      "匹配项为： ['wrout']\n",
      "wrfout_d03_2019080715.nc\n",
      "匹配项为： ['wrfout']\n",
      "WRFCHEM_d02_2019081213.nc not match anything\n"
     ]
    }
   ],
   "source": [
    "import re\n",
    "text_list =['wrffffout_d02_2019080215.nc','wrout_d02_2019080615.nc','wrfout_d03_2019080715.nc'\n",
    "       ,'WRFCHEM_d02_2019081213.nc'] \n",
    "#regex = '^wrfout_d0[0-3]_2019[0-9]{6}.nc$'\n",
    "regex = 'wrf*out'#{6,9}代表匹配6-9次单个字符\n",
    "for each_file in text_list:\n",
    "    if re.search(regex,each_file) is not None:\n",
    "        print(each_file)\n",
    "        print('匹配项为：',re.findall(regex,each_file))\n",
    "    else:\n",
    "        print('%s not match anything' %each_file)"
   ]
  },
  {
   "cell_type": "raw",
   "metadata": {},
   "source": [
    "*字符和.字符搭配可以匹配所有的字符.*. \n",
    " *和表示匹配空格的符号\\s连起来用, 如表达式\\s*cat\\s*匹配0或更多个空格开头和0或更多个空格结尾的cat字符串."
   ]
  },
  {
   "cell_type": "code",
   "execution_count": 76,
   "metadata": {
    "ExecuteTime": {
     "end_time": "2019-07-20T05:44:13.764839Z",
     "start_time": "2019-07-20T05:44:13.730931Z"
    }
   },
   "outputs": [
    {
     "name": "stdout",
     "output_type": "stream",
     "text": [
      "[' cat ', 'cat']\n"
     ]
    }
   ],
   "source": [
    "import re\n",
    "text = 'The fat cat sat on the concatenation.'\n",
    "#regex = '[Ww]rf[0-9]{1,9},nc$'\n",
    "regex = '\\s*cat\\s*'\n",
    "print(re.findall(regex,text))"
   ]
  },
  {
   "cell_type": "code",
   "execution_count": 79,
   "metadata": {
    "ExecuteTime": {
     "end_time": "2019-07-20T05:47:04.235605Z",
     "start_time": "2019-07-20T05:47:04.226626Z"
    }
   },
   "outputs": [
    {
     "name": "stdout",
     "output_type": "stream",
     "text": [
      "[' cat ', 'cat']\n"
     ]
    }
   ],
   "source": [
    "import re\n",
    "text = 'The fat cat sat on the concatenation.'\n",
    "#regex = '[Ww]rf[0-9]{1,9},nc$'\n",
    "regex = '\\s*cat\\s*'\n",
    "print(re.findall(regex,text))"
   ]
  },
  {
   "cell_type": "code",
   "execution_count": 85,
   "metadata": {
    "ExecuteTime": {
     "end_time": "2019-07-20T06:00:06.508502Z",
     "start_time": "2019-07-20T06:00:06.493547Z"
    }
   },
   "outputs": [
    {
     "name": "stdout",
     "output_type": "stream",
     "text": [
      "[' cat ']\n"
     ]
    }
   ],
   "source": [
    "import re\n",
    "text = 'The fat cat sat on the concatenation.'\n",
    "#regex = '[Ww]rf[0-9]{1,9},nc$'\n",
    "regex = '\\scat\\s'\n",
    "print(re.findall(regex,text))"
   ]
  },
  {
   "cell_type": "markdown",
   "metadata": {},
   "source": [
    "# 2.3.2 +号\n",
    "\n",
    "+号匹配+号之前的字符出现 >=1 次. 例如表达式c.+t 匹配以首字母c开头以t结尾,中间跟着任意个字符的字符串."
   ]
  },
  {
   "cell_type": "code",
   "execution_count": 49,
   "metadata": {
    "ExecuteTime": {
     "end_time": "2019-08-14T03:59:31.776134Z",
     "start_time": "2019-08-14T03:59:31.761173Z"
    }
   },
   "outputs": [
    {
     "name": "stdout",
     "output_type": "stream",
     "text": [
      "wrffffout_d02_2019080215.nc\n",
      "匹配项为： ['wrffffout']\n",
      "wrout_d02_2019080615.nc not match anything\n",
      "wrfout_d03_2019080715.nc\n",
      "匹配项为： ['wrfout']\n",
      "WRFCHEM_d02_2019081213.nc not match anything\n"
     ]
    }
   ],
   "source": [
    "import re\n",
    "text_list =['wrffffout_d02_2019080215.nc','wrout_d02_2019080615.nc','wrfout_d03_2019080715.nc'\n",
    "       ,'WRFCHEM_d02_2019081213.nc'] \n",
    "\n",
    "regex = 'wrf+out'\n",
    "for each_file in text_list:\n",
    "    if re.search(regex,each_file) is not None:\n",
    "        print(each_file)\n",
    "        print('匹配项为：',re.findall(regex,each_file))\n",
    "    else:\n",
    "        print('%s not match anything' %each_file)"
   ]
  },
  {
   "cell_type": "code",
   "execution_count": 82,
   "metadata": {
    "ExecuteTime": {
     "end_time": "2019-08-14T07:49:23.139960Z",
     "start_time": "2019-08-14T07:49:23.127993Z"
    }
   },
   "outputs": [
    {
     "name": "stdout",
     "output_type": "stream",
     "text": [
      "wrffffout_d02_2019080215.nc\n",
      "匹配项为： ['wrffffout_d02_2019080215.nc']\n",
      "wrout_d02_2019080615.nc not match anything\n",
      "wrfout_d03_2019080715.nc\n",
      "匹配项为： ['wrfout_d03_2019080715.nc']\n",
      "WRFCHEM_d02_2019081213.nc not match anything\n"
     ]
    }
   ],
   "source": [
    "import re\n",
    "text_list =['wrffffout_d02_2019080215.nc','wrout_d02_2019080615.nc','wrfout_d03_2019080715.nc'\n",
    "       ,'WRFCHEM_d02_2019081213.nc'] \n",
    "\n",
    "regex = 'wrf.+15\\.nc'\n",
    "for each_file in text_list:\n",
    "    if re.search(regex,each_file) is not None:\n",
    "        print(each_file)\n",
    "        print('匹配项为：',re.findall(regex,each_file))\n",
    "    else:\n",
    "        print('%s not match anything' %each_file)"
   ]
  },
  {
   "cell_type": "markdown",
   "metadata": {},
   "source": [
    "# 2.3.3 ?号\n",
    "\n",
    "在正则表达式中元字符 ? 标记在符号前面的字符为可选, 即出现 0 或 1 次. 例如, 表达式 [T]?he 匹配字符串 he 和 The."
   ]
  },
  {
   "cell_type": "code",
   "execution_count": null,
   "metadata": {},
   "outputs": [],
   "source": []
  },
  {
   "cell_type": "code",
   "execution_count": 50,
   "metadata": {
    "ExecuteTime": {
     "end_time": "2019-08-14T06:31:07.890755Z",
     "start_time": "2019-08-14T06:31:07.874800Z"
    },
    "scrolled": true
   },
   "outputs": [
    {
     "name": "stdout",
     "output_type": "stream",
     "text": [
      "wrfout_d02_2019080215.nc\n",
      "匹配项为： ['wrfout_d02_2019080215.nc']\n",
      "Wrfout_d02_2019080615.nc\n",
      "匹配项为： ['Wrfout_d02_2019080615.nc']\n",
      "wrfout_d03_2019080715.nc\n",
      "匹配项为： ['wrfout_d03_2019080715.nc']\n",
      "WRFCHEM_d02_2019081213.nc not match anything\n",
      "rfout_d02_2019080215.nc\n",
      "匹配项为： ['rfout_d02_2019080215.nc']\n"
     ]
    }
   ],
   "source": [
    "#text = 'rfout_d02_2019070813.nc.'\n",
    "#regex = '[Ww]rf[0-9]{1,9},nc$'\n",
    "text =['wrfout_d02_2019080215.nc','Wrfout_d02_2019080615.nc','wrfout_d03_2019080715.nc'\n",
    "       ,'WRFCHEM_d02_2019081213.nc','rfout_d02_2019080215.nc'] \n",
    "#regex = '^wrfout_d0[0-3]_2019[0-9]{6}.nc$'\n",
    "regex = '[wW]?rfout_d0[1-3].+nc'#{6,9}代表匹配6-9次单个字符\n",
    "for each_file in text:\n",
    "    if re.search(regex,each_file) is not None:\n",
    "        print(each_file)\n",
    "        print('匹配项为：',re.findall(regex,each_file))\n",
    "    else:\n",
    "        print('%s not match anything' %each_file)"
   ]
  },
  {
   "cell_type": "markdown",
   "metadata": {},
   "source": [
    "# 2.4 {}号\n",
    "\n",
    "在正则表达式中 {} 是一个量词, 常用来一个或一组字符可以重复出现的次数. 例如, 表达式 [0-9]{2,3} 匹配最少 2 位最多 3 位 0~9 的数字."
   ]
  },
  {
   "cell_type": "code",
   "execution_count": 51,
   "metadata": {
    "ExecuteTime": {
     "end_time": "2019-08-14T06:35:59.349829Z",
     "start_time": "2019-08-14T06:35:59.337861Z"
    }
   },
   "outputs": [
    {
     "name": "stdout",
     "output_type": "stream",
     "text": [
      "The number was 9.9997 but we rounded it off to 10.0.\n",
      "匹配项为： ['999', '10']\n",
      "Wrfout_d02_2019080615.nc\n",
      "匹配项为： ['02', '201', '908', '061']\n",
      "wrfout_d03_2019080715.nc\n",
      "匹配项为： ['03', '201', '908', '071']\n",
      "WRFCHEM_d02_2019081213.nc\n",
      "匹配项为： ['02', '201', '908', '121']\n",
      "rfout_d02_2019080215.nc\n",
      "匹配项为： ['02', '201', '908', '021']\n"
     ]
    }
   ],
   "source": [
    "text_list =['The number was 9.9997 but we rounded it off to 10.0.','Wrfout_d02_2019080615.nc','wrfout_d03_2019080715.nc'\n",
    "       ,'WRFCHEM_d02_2019081213.nc','rfout_d02_2019080215.nc'] \n",
    "\n",
    "regex = '[0-9]{2,3}'\n",
    "for each_file in text_list:\n",
    "    if re.search(regex,each_file) is not None:\n",
    "        print(each_file)\n",
    "        print('匹配项为：',re.findall(regex,each_file))\n",
    "    else:\n",
    "        print('%s not match anything' %each_file)"
   ]
  },
  {
   "cell_type": "code",
   "execution_count": 73,
   "metadata": {
    "ExecuteTime": {
     "end_time": "2019-08-14T06:46:39.487056Z",
     "start_time": "2019-08-14T06:46:39.474093Z"
    }
   },
   "outputs": [
    {
     "name": "stdout",
     "output_type": "stream",
     "text": [
      "The number was 9.9997 but we rounded it off to 10.0. not match anything\n",
      "Wrfout_d02_2019080615.nc\n",
      "匹配项为： ['d02_2019080615.nc']\n",
      "wrfout_d03_2019080715.nc\n",
      "匹配项为： ['d03_2019080715.nc']\n",
      "WRFCHEM_d02_2019081213.nc\n",
      "匹配项为： ['d02_2019081213.nc']\n",
      "rfout_d02_2019080215.nc\n",
      "匹配项为： ['d02_2019080215.nc']\n",
      "WRFCHEM_d02_2019.nc\n",
      "匹配项为： ['d02_2019.nc']\n"
     ]
    }
   ],
   "source": [
    "#如果 改为{2，}\n",
    "text =['The number was 9.9997 but we rounded it off to 10.0.','Wrfout_d02_2019080615.nc','wrfout_d03_2019080715.nc'\n",
    "       ,'WRFCHEM_d02_2019081213.nc','rfout_d02_2019080215.nc','WRFCHEM_d02_2019.nc'] \n",
    "\n",
    "regex = 'd[0-9]{2}_+[0-9]{4,10}\\.nc'\n",
    "for each_file in text:\n",
    "    \n",
    "    if re.search(regex,each_file) is not None:\n",
    "        print(each_file)\n",
    "        print('匹配项为：',re.findall(regex,each_file))\n",
    "    else:\n",
    "        print('%s not match anything' %each_file)\n"
   ]
  },
  {
   "cell_type": "markdown",
   "metadata": {},
   "source": [
    "# 2.5 （...）特征标群\n",
    "\n",
    "特征标群是一组写在 (...) 中的子模式. 例如之前说的 {} 是用来表示前面一个字符出现指定次数. 但如果在 {} 前加入特征标群则表示整个标群内的字符重复 N 次. 例如, 表达式 (ab)* 匹配连续出现 0 或更多个 ab.\n",
    "\n",
    "我们还可以在 () 中用或字符 | 表示或. 例如, (c|g|p)ar 匹配 car 或 gar 或 par."
   ]
  },
  {
   "cell_type": "code",
   "execution_count": 74,
   "metadata": {
    "ExecuteTime": {
     "end_time": "2019-08-14T06:53:29.912639Z",
     "start_time": "2019-08-14T06:53:29.901670Z"
    }
   },
   "outputs": [
    {
     "name": "stdout",
     "output_type": "stream",
     "text": [
      "erfout_d02_2019080615.nc\n",
      "匹配项为： ['e']\n",
      "Wrfout_d02_2019080615.nc\n",
      "匹配项为： ['W']\n",
      "wrfout_d03_2019080715.nc\n",
      "匹配项为： ['w']\n",
      "WRFCHEM_d02_2019081213.nc not match anything\n",
      "rfout_d02_2019080215.nc not match anything\n"
     ]
    }
   ],
   "source": [
    "\n",
    "text =['erfout_d02_2019080615.nc',\n",
    "       'Wrfout_d02_2019080615.nc',\n",
    "       'wrfout_d03_2019080715.nc'\n",
    "       ,'WRFCHEM_d02_2019081213.nc',\n",
    "       'rfout_d02_2019080215.nc'] \n",
    "\n",
    "regex = '(W|w|e)rf'\n",
    "for each_file in text:\n",
    "    if re.search(regex,each_file) is not None:\n",
    "        print(each_file)\n",
    "        print('匹配项为：',re.findall(regex,each_file))\n",
    "    else:\n",
    "        print('%s not match anything' %each_file)\n"
   ]
  },
  {
   "cell_type": "code",
   "execution_count": 159,
   "metadata": {
    "ExecuteTime": {
     "end_time": "2019-07-20T12:58:07.587749Z",
     "start_time": "2019-07-20T12:58:07.505664Z"
    }
   },
   "outputs": [
    {
     "name": "stdout",
     "output_type": "stream",
     "text": [
      "The car is parked in the garage not match anything\n",
      "Wrfout_d02_2019080615.nc\n",
      "匹配项为： ['W']\n",
      "wrfout_d03_2019080715.nc\n",
      "匹配项为： ['w']\n",
      "WRFCHEM_d02_2019081213.nc not match anything\n",
      "rfout_d02_2019080215.nc not match anything\n"
     ]
    }
   ],
   "source": [
    "text =['The car is parked in the garage',\n",
    "       'Wrfout_d02_2019080615.nc',\n",
    "       'wrfout_d03_2019080715.nc'\n",
    "       ,'WRFCHEM_d02_2019081213.nc',\n",
    "       'rfout_d02_2019080215.nc'] \n",
    "\n",
    "regex = '(W|w|e)rf' \n",
    "for each_file in text:\n",
    "    if re.search(regex,each_file) is not None:\n",
    "        print(each_file)\n",
    "        print('匹配项为：',re.findall(regex,each_file))\n",
    "    else:\n",
    "        print('%s not match anything' %each_file)\n"
   ]
  },
  {
   "cell_type": "markdown",
   "metadata": {
    "ExecuteTime": {
     "end_time": "2019-07-20T07:05:50.157747Z",
     "start_time": "2019-07-20T07:05:50.139186Z"
    }
   },
   "source": [
    "# 2.6 | 或运算符\n",
    "\n",
    "或运算符就表示或, 用作判断条件.\n",
    "\n",
    "例如 (T|t)he|car 匹配 (T|t)he 或 car."
   ]
  },
  {
   "cell_type": "code",
   "execution_count": 80,
   "metadata": {
    "ExecuteTime": {
     "end_time": "2019-08-14T07:00:38.482301Z",
     "start_time": "2019-08-14T07:00:38.469296Z"
    }
   },
   "outputs": [
    {
     "name": "stdout",
     "output_type": "stream",
     "text": [
      "The car is parked in the garage. not match anything\n",
      "Wrfout_d02_2019080615.nc not match anything\n",
      "wrfout_d03_2019080715.nc\n",
      "匹配项为： ['wrf']\n",
      "WRFCHEM_d02_2019081213.nc\n",
      "匹配项为： ['WRFCHEM']\n",
      "rfout_d02_2019080215.nc not match anything\n"
     ]
    }
   ],
   "source": [
    "text =['The car is parked in the garage.',\n",
    "       'Wrfout_d02_2019080615.nc',\n",
    "       'wrfout_d03_2019080715.nc'\n",
    "       ,'WRFCHEM_d02_2019081213.nc',\n",
    "       'rfout_d02_2019080215.nc'] \n",
    "\n",
    "regex = 'WRFCHEM|wrf' \n",
    "for each_file in text:\n",
    "    if re.search(regex,each_file) is not None:\n",
    "        print(each_file)\n",
    "        print('匹配项为：',re.findall(regex,each_file))\n",
    "    else:\n",
    "        print('%s not match anything' %each_file)\n"
   ]
  },
  {
   "cell_type": "code",
   "execution_count": 165,
   "metadata": {
    "ExecuteTime": {
     "end_time": "2019-07-20T13:03:59.536983Z",
     "start_time": "2019-07-20T13:03:59.486231Z"
    }
   },
   "outputs": [],
   "source": [
    "text = 'The car is parked in the garage.'\n",
    "regex = '(T|t)he| \\scar\\s ' \n",
    "matchobj = re.match(regex,text)"
   ]
  },
  {
   "cell_type": "raw",
   "metadata": {},
   "source": [
    "re.match 尝试从字符串的起始位置匹配一个模式，如果不是起始位置匹配成功的话，match()就返回none。"
   ]
  },
  {
   "cell_type": "code",
   "execution_count": 166,
   "metadata": {
    "ExecuteTime": {
     "end_time": "2019-07-20T13:04:00.862747Z",
     "start_time": "2019-07-20T13:04:00.803623Z"
    }
   },
   "outputs": [
    {
     "data": {
      "text/plain": [
       "['T', 't']"
      ]
     },
     "execution_count": 166,
     "metadata": {},
     "output_type": "execute_result"
    }
   ],
   "source": [
    "matchobj"
   ]
  },
  {
   "cell_type": "code",
   "execution_count": 126,
   "metadata": {
    "ExecuteTime": {
     "end_time": "2019-07-20T11:41:50.749552Z",
     "start_time": "2019-07-20T11:41:50.689015Z"
    }
   },
   "outputs": [
    {
     "name": "stdout",
     "output_type": "stream",
     "text": [
      "The car is parked in the garage.\n",
      "匹配项为： ['T', '', 't']\n"
     ]
    }
   ],
   "source": [
    "regex = '(T|t)he| car' \n",
    "text = ['The car is parked in the garage.']\n",
    "for each_file in text:\n",
    "    if re.search(regex,each_file) is not None:\n",
    "        print(each_file)\n",
    "        print('匹配项为：',re.findall(regex,each_file))\n",
    "    else:\n",
    "        print('%s not match anything' %each_file)"
   ]
  },
  {
   "cell_type": "code",
   "execution_count": 199,
   "metadata": {
    "ExecuteTime": {
     "end_time": "2019-07-20T16:46:07.453694Z",
     "start_time": "2019-07-20T16:46:07.415895Z"
    }
   },
   "outputs": [
    {
     "name": "stdout",
     "output_type": "stream",
     "text": [
      "car is parked in the garage car car.\n",
      "匹配项为： car is parked in the garage car car.\n",
      "matchObj.group(1) :  None\n"
     ]
    }
   ],
   "source": [
    "regex = '\\S(T|t)he|car is parked (.*?) .*' \n",
    "text = ['car is parked in the garage car car.']\n",
    "for each_file in text:\n",
    "    if re.search(regex,each_file) is not None:\n",
    "        print(each_file)\n",
    "        #search_group=re.search(regex,each_file)#,re.M|re.I\n",
    "        #search_group=re.findall(regex,each_file)#,re.M|re.I\n",
    "        search_group=re.match(regex,each_file)#,re.M|re.I\n",
    "        print('匹配项为：',search_group.group())\n",
    "        print(\"matchObj.group(1) : \", search_group.group(1))\n",
    "    else:\n",
    "        print('%s not match anything' %each_file)"
   ]
  },
  {
   "cell_type": "code",
   "execution_count": 204,
   "metadata": {
    "ExecuteTime": {
     "end_time": "2019-07-20T16:49:46.981467Z",
     "start_time": "2019-07-20T16:49:46.950229Z"
    }
   },
   "outputs": [
    {
     "name": "stdout",
     "output_type": "stream",
     "text": [
      "matchObj.group() :  Cats are smarter than dogs\n",
      "matchObj.group(0) :  Cats are smarter than dogs\n",
      "matchObj.group(1) :  Cats\n",
      "matchObj.group(2) :  smarter\n"
     ]
    }
   ],
   "source": [
    "import re\n",
    "line = \"Cats are smarter than dogs\"\n",
    "matchObj = re.match( r'(.*) are (.*?) .*', line, re.M|re.I)\n",
    "if matchObj:\n",
    "    print(\"matchObj.group() : \", matchObj.group())\n",
    "    print(\"matchObj.group(0) : \", matchObj.group(0))\n",
    "    print(\"matchObj.group(1) : \", matchObj.group(1))\n",
    "    print(\"matchObj.group(2) : \", matchObj.group(2))\n",
    "else:\n",
    "    print('no match')"
   ]
  },
  {
   "cell_type": "raw",
   "metadata": {},
   "source": [
    "re.search()函数将对整个字符串进行搜索，并返回第一个匹配的字符串的match对象。\n",
    "re.findall()函数将返回一个所有匹配的字符串的字符串列表。\n",
    "在python中的re正则表达式模块，有个方法findall()，主要用于查找字符串中匹配每一次出现的位置，并且是不重复的\n",
    "re.match() 总是从字符串“开头”去匹配，并返回匹配的字符串的match对象。所以当我用re.match()函数去匹配字符串非开头部分的字符串时，会返回NONE。"
   ]
  },
  {
   "cell_type": "code",
   "execution_count": 176,
   "metadata": {
    "ExecuteTime": {
     "end_time": "2019-07-20T13:13:11.780370Z",
     "start_time": "2019-07-20T13:13:11.764749Z"
    }
   },
   "outputs": [
    {
     "name": "stdout",
     "output_type": "stream",
     "text": [
      "Help on function findall in module re:\n",
      "\n",
      "findall(pattern, string, flags=0)\n",
      "    Return a list of all non-overlapping matches in the string.\n",
      "    \n",
      "    If one or more capturing groups are present in the pattern, return\n",
      "    a list of groups; this will be a list of tuples if the pattern\n",
      "    has more than one group.\n",
      "    \n",
      "    Empty matches are included in the result.\n",
      "\n"
     ]
    }
   ],
   "source": [
    "#help(re.search)\n",
    "help(re.findall)"
   ]
  },
  {
   "cell_type": "code",
   "execution_count": null,
   "metadata": {},
   "outputs": [],
   "source": []
  },
  {
   "cell_type": "code",
   "execution_count": 129,
   "metadata": {
    "ExecuteTime": {
     "end_time": "2019-07-20T11:48:22.798899Z",
     "start_time": "2019-07-20T11:48:22.760011Z"
    }
   },
   "outputs": [
    {
     "name": "stdout",
     "output_type": "stream",
     "text": [
      "13800138001\n",
      "12345678910\n"
     ]
    }
   ],
   "source": [
    "import re\n",
    "# 被匹配的字符串\n",
    "s = '13800138001 123456789101 4115641 1510215451 sdfgdsfg0'\n",
    "# 匹配长度为11的数字\n",
    "p = re.compile('\\d{11}', re.S)\n",
    "# 使用findall进行匹配\n",
    "all = re.findall(p, s)\n",
    "# 匹配出来的是数组，可以使用for循环遍历出所有结果\n",
    "for i in range(len(all)):\n",
    "    print(all[i])"
   ]
  },
  {
   "cell_type": "code",
   "execution_count": 153,
   "metadata": {
    "ExecuteTime": {
     "end_time": "2019-07-20T12:29:42.328951Z",
     "start_time": "2019-07-20T12:29:42.306816Z"
    }
   },
   "outputs": [
    {
     "name": "stdout",
     "output_type": "stream",
     "text": [
      "\n",
      "t\n"
     ]
    }
   ],
   "source": [
    "import re\n",
    "# 被匹配的字符串\n",
    "s = 'car is parked in the garage.'\n",
    "regex = '(T|t)he|car' \n",
    "p = re.compile(regex, re.S)\n",
    "# 使用findall进行匹配\n",
    "a= re.findall(p, s)\n",
    "# 匹配出来的是数组，可以使用for循环遍历出所有结果\n",
    "for i in range(len(a)):\n",
    "    print(a[i])"
   ]
  },
  {
   "cell_type": "raw",
   "metadata": {},
   "source": [
    "# 2.7  转码特殊字符\n",
    "\n",
    "反斜线 \\ 在表达式中用于转码紧跟其后的字符. 用于指定 { } [ ] / \\ + * . $ ^ | ? 这些特殊字符. 如果想要匹配这些特殊字符则要在其前面加上反斜线 \\.\n",
    "\n",
    "例如 . 是用来匹配除换行符外的所有字符的. 如果想要匹配句子中的 . 则要写成 \\. 以下这个例子 \\.?是选择性匹配."
   ]
  },
  {
   "cell_type": "code",
   "execution_count": 190,
   "metadata": {
    "ExecuteTime": {
     "end_time": "2019-07-20T16:20:29.177426Z",
     "start_time": "2019-07-20T16:20:29.130592Z"
    }
   },
   "outputs": [
    {
     "name": "stdout",
     "output_type": "stream",
     "text": [
      "The fat cat sat on the mat.\n",
      "匹配项为： ['f', 'c', 'm']\n"
     ]
    }
   ],
   "source": [
    "regex = '(f|c|m)at\\.?' \n",
    "text = ['The fat cat sat on the mat.']\n",
    "for each_file in text:\n",
    "    if re.search(regex,each_file) is not None:\n",
    "        print(each_file)\n",
    "        search_group=re.findall(regex,each_file)\n",
    "        print('匹配项为：',search_group)\n",
    "    else:\n",
    "        print('%s not match anything' %each_file)"
   ]
  },
  {
   "cell_type": "code",
   "execution_count": 195,
   "metadata": {
    "ExecuteTime": {
     "end_time": "2019-07-20T16:28:03.612305Z",
     "start_time": "2019-07-20T16:28:03.596675Z"
    }
   },
   "outputs": [
    {
     "name": "stdout",
     "output_type": "stream",
     "text": [
      "['f', 'c', 'm']\n",
      "fat\n",
      "cat\n",
      "mat\n"
     ]
    }
   ],
   "source": [
    "import re\n",
    "# 被匹配的字符串\n",
    "s = 'The fat cat sat on the mat.'\n",
    "regex = '\\s(f|c|m)at\\.?' \n",
    "p = re.compile(regex, re.S)\n",
    "# 使用findall进行匹配\n",
    "all = re.findall(p, s)\n",
    "print(all)\n",
    "# 匹配出来的是数组，可以使用for循环遍历出所有结果\n",
    "for i in range(len(all)):\n",
    "    print(all[i]+'at')"
   ]
  },
  {
   "cell_type": "markdown",
   "metadata": {},
   "source": [
    "# 2.8 锚点  \n",
    "在正则表达式中, 想要匹配指定开头或结尾的字符串就要使用到锚点. ^ 指定开头, $ 指定结尾."
   ]
  },
  {
   "cell_type": "raw",
   "metadata": {},
   "source": [
    "^ 用来检查匹配的字符串是否在所匹配字符串的开头.\n",
    "\n",
    "例如, 在 abc 中使用表达式 ^a 会得到结果 a. 但如果使用 ^b 将匹配不到任何结果. 因为在字符串 abc 中并不是以 b 开头.\n",
    "\n",
    "例如, ^(T|t)he 匹配以 The 或 the 开头的字符串."
   ]
  },
  {
   "cell_type": "raw",
   "metadata": {},
   "source": [
    "同理于 ^ 号, $ 号用来匹配字符是否是最后一个.\n",
    "\n",
    "例如, (at\\.)$ 匹配以 at. 结尾的字符串."
   ]
  },
  {
   "cell_type": "markdown",
   "metadata": {},
   "source": [
    " # 3简写字符集"
   ]
  },
  {
   "cell_type": "raw",
   "metadata": {},
   "source": [
    ". \t除换行符外的所有字符\n",
    "\\w \t匹配所有字母数字, 等同于 [a-zA-Z0-9_]\n",
    "\\W \t匹配所有非字母数字, 即符号, 等同于: [^\\w]\n",
    "\\d \t匹配数字: [0-9]\n",
    "\\D \t匹配非数字: [^\\d]\n",
    "\\s \t匹配所有空格字符, 等同于: [\\t\\n\\f\\r\\p{Z}]"
   ]
  },
  {
   "cell_type": "raw",
   "metadata": {},
   "source": [
    "\\S \t匹配所有非空格字符: [^\\s]\n",
    "\\f \t匹配一个换页符\n",
    "\\n \t匹配一个换行符\n",
    "\\r \t匹配一个回车符\n",
    "\\t \t匹配一个制表符\n",
    "\\v \t匹配一个垂直制表符\n",
    "\\p \t匹配 CR/LF (等同于 \\r\\n)，用来匹配 DOS 行终止符"
   ]
  },
  {
   "cell_type": "code",
   "execution_count": null,
   "metadata": {},
   "outputs": [],
   "source": []
  }
 ],
 "metadata": {
  "kernelspec": {
   "display_name": "Python 3",
   "language": "python",
   "name": "python3"
  },
  "language_info": {
   "codemirror_mode": {
    "name": "ipython",
    "version": 3
   },
   "file_extension": ".py",
   "mimetype": "text/x-python",
   "name": "python",
   "nbconvert_exporter": "python",
   "pygments_lexer": "ipython3",
   "version": "3.6.4"
  },
  "varInspector": {
   "cols": {
    "lenName": 16,
    "lenType": 16,
    "lenVar": 40
   },
   "kernels_config": {
    "python": {
     "delete_cmd_postfix": "",
     "delete_cmd_prefix": "del ",
     "library": "var_list.py",
     "varRefreshCmd": "print(var_dic_list())"
    },
    "r": {
     "delete_cmd_postfix": ") ",
     "delete_cmd_prefix": "rm(",
     "library": "var_list.r",
     "varRefreshCmd": "cat(var_dic_list()) "
    }
   },
   "types_to_exclude": [
    "module",
    "function",
    "builtin_function_or_method",
    "instance",
    "_Feature"
   ],
   "window_display": false
  }
 },
 "nbformat": 4,
 "nbformat_minor": 2
}
