{
 "cells": [
  {
   "cell_type": "code",
   "execution_count": 6,
   "metadata": {
    "ExecuteTime": {
     "end_time": "2019-07-15T15:22:56.076620Z",
     "start_time": "2019-07-15T15:22:56.065646Z"
    }
   },
   "outputs": [],
   "source": [
    "import pymysql  \n",
    "import  pymysql.cursors \n",
    "from sqlalchemy import create_engine\n",
    "import pandas as pd\n",
    "from sqlalchemy import text \n",
    "#https://blog.csdn.net/cugb0451/article/details/45665307 解决百分号报错问题"
   ]
  },
  {
   "cell_type": "code",
   "execution_count": 7,
   "metadata": {
    "ExecuteTime": {
     "end_time": "2019-07-15T15:22:57.326257Z",
     "start_time": "2019-07-15T15:22:56.495044Z"
    }
   },
   "outputs": [
    {
     "data": {
      "text/html": [
       "<div>\n",
       "<style scoped>\n",
       "    .dataframe tbody tr th:only-of-type {\n",
       "        vertical-align: middle;\n",
       "    }\n",
       "\n",
       "    .dataframe tbody tr th {\n",
       "        vertical-align: top;\n",
       "    }\n",
       "\n",
       "    .dataframe thead th {\n",
       "        text-align: right;\n",
       "    }\n",
       "</style>\n",
       "<table border=\"1\" class=\"dataframe\">\n",
       "  <thead>\n",
       "    <tr style=\"text-align: right;\">\n",
       "      <th></th>\n",
       "      <th>SDate</th>\n",
       "      <th>ShopID</th>\n",
       "      <th>GoodsID</th>\n",
       "      <th>CloseQty</th>\n",
       "      <th>CloseCostV</th>\n",
       "    </tr>\n",
       "  </thead>\n",
       "  <tbody>\n",
       "    <tr>\n",
       "      <th>0</th>\n",
       "      <td>20160101</td>\n",
       "      <td>CDLG</td>\n",
       "      <td>29988848</td>\n",
       "      <td>13.500</td>\n",
       "      <td>14.000</td>\n",
       "    </tr>\n",
       "    <tr>\n",
       "      <th>1</th>\n",
       "      <td>20160101</td>\n",
       "      <td>CDLG</td>\n",
       "      <td>29989044</td>\n",
       "      <td>10.684</td>\n",
       "      <td>19.002</td>\n",
       "    </tr>\n",
       "    <tr>\n",
       "      <th>2</th>\n",
       "      <td>20160101</td>\n",
       "      <td>CDLG</td>\n",
       "      <td>29989047</td>\n",
       "      <td>15.300</td>\n",
       "      <td>0.040</td>\n",
       "    </tr>\n",
       "  </tbody>\n",
       "</table>\n",
       "</div>"
      ],
      "text/plain": [
       "      SDate ShopID   GoodsID  CloseQty  CloseCostV\n",
       "0  20160101   CDLG  29988848    13.500      14.000\n",
       "1  20160101   CDLG  29989044    10.684      19.002\n",
       "2  20160101   CDLG  29989047    15.300       0.040"
      ]
     },
     "execution_count": 7,
     "metadata": {},
     "output_type": "execute_result"
    }
   ],
   "source": [
    "engine=create_engine('mysql+pymysql://用户名:密码@IP:端口号/库名')\n",
    "sql = text(\"SELECT * FROM Inventory limit 8\" )\n",
    "df = pd.read_sql_query(sql, engine)\n",
    "df.head(3)"
   ]
  },
  {
   "cell_type": "markdown",
   "metadata": {},
   "source": [
    "# 业务背景和价值说明：\n",
    "项目的实战背景是二家超市的真实数据，数据时间段是从 20160101 到 20171031。\n",
    "超市的主要商业场景\\\n",
    "1) 对商品的库存管理，是一个零售企业中效率最重要的一环。\n",
    "2) 商品是否受顾客欢迎，通过商品的动销是一个非常重要的指标。例如：结合库存量具体值，看\n",
    "看有销售无库存，有库存无销售商品。\n",
    "3) 商品是否足够有效率，结合商品周转率/天数进行相关分析。【库存周转率是在某一时间段内库存\n",
    "货物周转的次数。是反映库存周转快慢程度的指标。周转率越大表明销售情况越好。】\n",
    "商业知识点思考：\n",
    "1) 结合前面的商品的 ABC 分类与结合商品的库存周转、库存动销是不是就可以对商品有一个相对\n",
    "完善的分析。\n",
    "2) 基于这二个版块的指标，是不是可以很好的构建商品的初步画像，及时根据数据对商品进行相\n",
    "应的上架，下架，退货，促销等的运营动作。\n",
    "SQL 知识点：\n",
    "子查询\n",
    "逻辑说明：\n",
    "1、 分析计算 8 月的有销售的 SKU 数，库存 SKU 数。\n",
    "2、 计算期初与期末库存，计算 8 月累计销售。"
   ]
  },
  {
   "cell_type": "code",
   "execution_count": 8,
   "metadata": {
    "ExecuteTime": {
     "end_time": "2019-07-15T15:23:09.438338Z",
     "start_time": "2019-07-15T15:23:00.231278Z"
    }
   },
   "outputs": [
    {
     "data": {
      "text/html": [
       "<div>\n",
       "<style scoped>\n",
       "    .dataframe tbody tr th:only-of-type {\n",
       "        vertical-align: middle;\n",
       "    }\n",
       "\n",
       "    .dataframe tbody tr th {\n",
       "        vertical-align: top;\n",
       "    }\n",
       "\n",
       "    .dataframe thead th {\n",
       "        text-align: right;\n",
       "    }\n",
       "</style>\n",
       "<table border=\"1\" class=\"dataframe\">\n",
       "  <thead>\n",
       "    <tr style=\"text-align: right;\">\n",
       "      <th></th>\n",
       "      <th>mmonth</th>\n",
       "      <th>sku_number</th>\n",
       "      <th>inven_number</th>\n",
       "      <th>rate</th>\n",
       "    </tr>\n",
       "  </thead>\n",
       "  <tbody>\n",
       "    <tr>\n",
       "      <th>0</th>\n",
       "      <td>8</td>\n",
       "      <td>10030</td>\n",
       "      <td>10871</td>\n",
       "      <td>92.26%</td>\n",
       "    </tr>\n",
       "  </tbody>\n",
       "</table>\n",
       "</div>"
      ],
      "text/plain": [
       "   mmonth  sku_number  inven_number    rate\n",
       "0       8       10030         10871  92.26%"
      ]
     },
     "execution_count": 8,
     "metadata": {},
     "output_type": "execute_result"
    }
   ],
   "source": [
    "sql ='''select t3.mmonth\n",
    ",sku_number\n",
    ",inven_number\n",
    ",concat(truncate(sku_number/inven_number*100,2),'%') as rate\n",
    "from(select month(SDate) as mmonth\n",
    ",count(distinct GoodsID) as sku_number\n",
    "from demo.OrderItem t\n",
    "where t.SDate between '20170801' and '20170831'\n",
    "group by month(SDate)) t3\n",
    "join\n",
    "(select month(t1.SDate) as mmonth\n",
    ",count(distinct t1.GoodsID) as inven_number\n",
    "from demo.Inventory t1\n",
    "where t1.SDate between '20170801' and '20170831'\n",
    "group by month(t1.SDate)) t4 on t3.mmonth = t4.mmonth;\n",
    "'''\n",
    "sql = text(sql)\n",
    "df = pd.read_sql_query(sql, engine)\n",
    "df.head(3)"
   ]
  },
  {
   "cell_type": "code",
   "execution_count": 9,
   "metadata": {
    "ExecuteTime": {
     "end_time": "2019-07-15T15:23:23.025598Z",
     "start_time": "2019-07-15T15:23:14.324439Z"
    }
   },
   "outputs": [
    {
     "data": {
      "text/html": [
       "<div>\n",
       "<style scoped>\n",
       "    .dataframe tbody tr th:only-of-type {\n",
       "        vertical-align: middle;\n",
       "    }\n",
       "\n",
       "    .dataframe tbody tr th {\n",
       "        vertical-align: top;\n",
       "    }\n",
       "\n",
       "    .dataframe thead th {\n",
       "        text-align: right;\n",
       "    }\n",
       "</style>\n",
       "<table border=\"1\" class=\"dataframe\">\n",
       "  <thead>\n",
       "    <tr style=\"text-align: right;\">\n",
       "      <th></th>\n",
       "      <th>mmonth</th>\n",
       "      <th>sku_number</th>\n",
       "    </tr>\n",
       "  </thead>\n",
       "  <tbody>\n",
       "    <tr>\n",
       "      <th>0</th>\n",
       "      <td>8</td>\n",
       "      <td>10030</td>\n",
       "    </tr>\n",
       "  </tbody>\n",
       "</table>\n",
       "</div>"
      ],
      "text/plain": [
       "   mmonth  sku_number\n",
       "0       8       10030"
      ]
     },
     "execution_count": 9,
     "metadata": {},
     "output_type": "execute_result"
    }
   ],
   "source": [
    "# 分解\n",
    "sql_1 = '''\n",
    "select month(SDate) as mmonth\n",
    ",count(distinct GoodsID) as sku_number\n",
    "from demo.OrderItem t\n",
    "where t.SDate between '20170801' and '20170831'\n",
    "group by month(SDate)\n",
    "'''\n",
    "sql_1 = text(sql_1)\n",
    "df = pd.read_sql_query(sql_1, engine)\n",
    "df.head(3)  # "
   ]
  },
  {
   "cell_type": "code",
   "execution_count": 10,
   "metadata": {
    "ExecuteTime": {
     "end_time": "2019-07-15T15:23:28.359970Z",
     "start_time": "2019-07-15T15:23:27.474468Z"
    }
   },
   "outputs": [
    {
     "data": {
      "text/html": [
       "<div>\n",
       "<style scoped>\n",
       "    .dataframe tbody tr th:only-of-type {\n",
       "        vertical-align: middle;\n",
       "    }\n",
       "\n",
       "    .dataframe tbody tr th {\n",
       "        vertical-align: top;\n",
       "    }\n",
       "\n",
       "    .dataframe thead th {\n",
       "        text-align: right;\n",
       "    }\n",
       "</style>\n",
       "<table border=\"1\" class=\"dataframe\">\n",
       "  <thead>\n",
       "    <tr style=\"text-align: right;\">\n",
       "      <th></th>\n",
       "      <th>mmonth</th>\n",
       "      <th>inven_number</th>\n",
       "    </tr>\n",
       "  </thead>\n",
       "  <tbody>\n",
       "    <tr>\n",
       "      <th>0</th>\n",
       "      <td>8</td>\n",
       "      <td>10871</td>\n",
       "    </tr>\n",
       "  </tbody>\n",
       "</table>\n",
       "</div>"
      ],
      "text/plain": [
       "   mmonth  inven_number\n",
       "0       8         10871"
      ]
     },
     "execution_count": 10,
     "metadata": {},
     "output_type": "execute_result"
    }
   ],
   "source": [
    "sql_2='''select month(t1.SDate) as mmonth,count(distinct t1.GoodsID) as inven_number\n",
    "from demo.Inventory t1 where t1.SDate between '20170801' and '20170831' group by month(t1.SDate);\n",
    "'''\n",
    "sql_2 = text(sql_2)\n",
    "df = pd.read_sql_query(sql_2, engine)\n",
    "df.head(3)  \n"
   ]
  },
  {
   "cell_type": "code",
   "execution_count": 11,
   "metadata": {
    "ExecuteTime": {
     "end_time": "2019-07-15T15:23:51.334052Z",
     "start_time": "2019-07-15T15:23:41.977202Z"
    }
   },
   "outputs": [
    {
     "data": {
      "text/html": [
       "<div>\n",
       "<style scoped>\n",
       "    .dataframe tbody tr th:only-of-type {\n",
       "        vertical-align: middle;\n",
       "    }\n",
       "\n",
       "    .dataframe tbody tr th {\n",
       "        vertical-align: top;\n",
       "    }\n",
       "\n",
       "    .dataframe thead th {\n",
       "        text-align: right;\n",
       "    }\n",
       "</style>\n",
       "<table border=\"1\" class=\"dataframe\">\n",
       "  <thead>\n",
       "    <tr style=\"text-align: right;\">\n",
       "      <th></th>\n",
       "      <th>mmonth</th>\n",
       "      <th>sku_number</th>\n",
       "      <th>inven_number</th>\n",
       "      <th>rate</th>\n",
       "    </tr>\n",
       "  </thead>\n",
       "  <tbody>\n",
       "    <tr>\n",
       "      <th>0</th>\n",
       "      <td>8</td>\n",
       "      <td>10030</td>\n",
       "      <td>10871</td>\n",
       "      <td>92.2%</td>\n",
       "    </tr>\n",
       "  </tbody>\n",
       "</table>\n",
       "</div>"
      ],
      "text/plain": [
       "   mmonth  sku_number  inven_number   rate\n",
       "0       8       10030         10871  92.2%"
      ]
     },
     "execution_count": 11,
     "metadata": {},
     "output_type": "execute_result"
    }
   ],
   "source": [
    "sql = '''select t3.mmonth,sku_number\n",
    ",inven_number\n",
    ",concat(truncate(sku_number/inven_number*100,1),'%') as rate\n",
    "from(select month(SDate) as mmonth\n",
    ",count(distinct GoodsID) as sku_number\n",
    "from demo.OrderItem t\n",
    "where t.SDate between '20170801' and '20170831'\n",
    "group by month(SDate)) t3\n",
    "join\n",
    "(select month(t1.SDate) as mmonth\n",
    ",count(distinct t1.GoodsID) as inven_number\n",
    "from demo.Inventory t1\n",
    "where t1.SDate between '20170801' and '20170831'\n",
    "group by month(t1.SDate)) t4 on t3.mmonth = t4.mmonth;\n",
    "'''\n",
    "sql = text(sql)\n",
    "df = pd.read_sql_query(sql, engine)\n",
    "df.head(3)"
   ]
  },
  {
   "cell_type": "code",
   "execution_count": 12,
   "metadata": {
    "ExecuteTime": {
     "end_time": "2019-07-15T15:24:02.966855Z",
     "start_time": "2019-07-15T15:23:54.025778Z"
    }
   },
   "outputs": [
    {
     "data": {
      "text/html": [
       "<div>\n",
       "<style scoped>\n",
       "    .dataframe tbody tr th:only-of-type {\n",
       "        vertical-align: middle;\n",
       "    }\n",
       "\n",
       "    .dataframe tbody tr th {\n",
       "        vertical-align: top;\n",
       "    }\n",
       "\n",
       "    .dataframe thead th {\n",
       "        text-align: right;\n",
       "    }\n",
       "</style>\n",
       "<table border=\"1\" class=\"dataframe\">\n",
       "  <thead>\n",
       "    <tr style=\"text-align: right;\">\n",
       "      <th></th>\n",
       "      <th>mmonth</th>\n",
       "      <th>zj_rate</th>\n",
       "    </tr>\n",
       "  </thead>\n",
       "  <tbody>\n",
       "    <tr>\n",
       "      <th>0</th>\n",
       "      <td>8</td>\n",
       "      <td>11.517451</td>\n",
       "    </tr>\n",
       "  </tbody>\n",
       "</table>\n",
       "</div>"
      ],
      "text/plain": [
       "   mmonth    zj_rate\n",
       "0       8  11.517451"
      ]
     },
     "execution_count": 12,
     "metadata": {},
     "output_type": "execute_result"
    }
   ],
   "source": [
    "#---- 库存周转率\n",
    "#---- 如何需要算周转天数，再用 30 天除以周转率\n",
    "sql=text('''\n",
    "select t3.mmonth\n",
    ",sales_value/avg_inventory_value as zj_rate\n",
    "from\n",
    "(select month(SDate) as mmonth\n",
    ",sum(t.CostValue) as sales_value from \n",
    "demo.OrderItem t\n",
    "where t.SDate between '20170801' and '20170831'\n",
    "group by month(SDate)) t3\n",
    "join\n",
    "(select month(t1.SDate) as mmonth\n",
    ",sum(t1.CloseCostV)/2 as avg_inventory_value\n",
    "from demo.Inventory t1\n",
    "where t1.SDate in ('20170801','20170831')\n",
    "group by month(t1.SDate)\n",
    ") t4 \n",
    "on t3.mmonth = t4.mmonth;\n",
    "''')\n",
    "#sql = text(sql)\n",
    "df = pd.read_sql_query(sql, engine)\n",
    "df.head()"
   ]
  },
  {
   "cell_type": "code",
   "execution_count": null,
   "metadata": {},
   "outputs": [],
   "source": []
  }
 ],
 "metadata": {
  "kernelspec": {
   "display_name": "Python 3",
   "language": "python",
   "name": "python3"
  },
  "language_info": {
   "codemirror_mode": {
    "name": "ipython",
    "version": 3
   },
   "file_extension": ".py",
   "mimetype": "text/x-python",
   "name": "python",
   "nbconvert_exporter": "python",
   "pygments_lexer": "ipython3",
   "version": "3.6.4"
  },
  "varInspector": {
   "cols": {
    "lenName": 16,
    "lenType": 16,
    "lenVar": 40
   },
   "kernels_config": {
    "python": {
     "delete_cmd_postfix": "",
     "delete_cmd_prefix": "del ",
     "library": "var_list.py",
     "varRefreshCmd": "print(var_dic_list())"
    },
    "r": {
     "delete_cmd_postfix": ") ",
     "delete_cmd_prefix": "rm(",
     "library": "var_list.r",
     "varRefreshCmd": "cat(var_dic_list()) "
    }
   },
   "types_to_exclude": [
    "module",
    "function",
    "builtin_function_or_method",
    "instance",
    "_Feature"
   ],
   "window_display": false
  }
 },
 "nbformat": 4,
 "nbformat_minor": 2
}
