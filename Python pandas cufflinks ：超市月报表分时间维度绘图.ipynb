{
 "cells": [
  {
   "cell_type": "markdown",
   "metadata": {},
   "source": [
    "**作业题：**\n",
    "1.\t计算2017年4月每日的销售额、客流量、客单价，并用图表形式展现\n",
    "2.\t计算2017年4月中周一至周日的销售额、客流量、客单价，并用图表形式展现\n",
    "3.\t随机选取2017年4月中的一天，计算一天中不同小时的销售额、客流量、客单价，并用图表形式展现"
   ]
  },
  {
   "cell_type": "markdown",
   "metadata": {},
   "source": [
    "**题目说明：**\n",
    "- 销售额 = 售价 乘 销量 = [\"Price\"] 乘 [\"Qty\"]\n",
    "- 客流量 = 订单量（客流量用订单量代替）\n",
    "- 客单价 = 销售额/客流量\n",
    "\n",
    "**业务背景：**\n",
    "- 通过第一节我们已经判断出了17年4月各指标发展情况的好坏，作为数据分析师，不管业务出现好或者坏，都要去追寻为什么？在追寻为什么的时候，就可以结合业务具体去看是因为哪方面的变化，引起了某一段时间内整体指标的变化。\n",
    "\n",
    "- 这一节选择时间维度去看一下17年4月不同时间维度各指标的变化情况。\n",
    "\n",
    "\n",
    "**计算逻辑说明：**\n",
    "1.\t分日的各指标计算类似于分月的各指标计算，只不过这里需要将时间转化为日维度的数据，然后用日期去做透视表就可以算出每一天的各指标情况。\n",
    "2.\t分周、分小时与分日的计算逻辑一致，需要分别把时间转化为周维度、以及小时维度。"
   ]
  },
  {
   "cell_type": "markdown",
   "metadata": {},
   "source": [
    "# 导入相关库"
   ]
  },
  {
   "cell_type": "code",
   "execution_count": 1,
   "metadata": {
    "ExecuteTime": {
     "end_time": "2019-07-17T09:03:28.445846Z",
     "start_time": "2019-07-17T09:03:26.171887Z"
    }
   },
   "outputs": [],
   "source": [
    "%matplotlib inline\n",
    "import pandas as pd\n",
    "import numpy as np\n",
    "import matplotlib.pyplot as plt\n",
    "from dateutil.parser import parse\n",
    "import cufflinks\n",
    "import plotly.offline as py_offline\n",
    "import cufflinks as cf\n",
    "import pandas as pd\n",
    "import numpy as np\n",
    "import matplotlib as mpl\n",
    "import matplotlib.pyplot as plt\n",
    "import plotly.graph_objs as go\n",
    "plt.rcParams[\"font.sans-serif\"]='SimHei'#解决中文乱码\n",
    "plt.rcParams['axes.unicode_minus'] = False#解决负号无法正常显示的问题"
   ]
  },
  {
   "cell_type": "markdown",
   "metadata": {},
   "source": [
    "# 导入数据 "
   ]
  },
  {
   "cell_type": "code",
   "execution_count": null,
   "metadata": {},
   "outputs": [],
   "source": []
  },
  {
   "cell_type": "code",
   "execution_count": 2,
   "metadata": {
    "ExecuteTime": {
     "end_time": "2019-07-17T09:03:29.887987Z",
     "start_time": "2019-07-17T09:03:28.474731Z"
    }
   },
   "outputs": [
    {
     "data": {
      "text/html": [
       "<div>\n",
       "<style scoped>\n",
       "    .dataframe tbody tr th:only-of-type {\n",
       "        vertical-align: middle;\n",
       "    }\n",
       "\n",
       "    .dataframe tbody tr th {\n",
       "        vertical-align: top;\n",
       "    }\n",
       "\n",
       "    .dataframe thead th {\n",
       "        text-align: right;\n",
       "    }\n",
       "</style>\n",
       "<table border=\"1\" class=\"dataframe\">\n",
       "  <thead>\n",
       "    <tr style=\"text-align: right;\">\n",
       "      <th></th>\n",
       "      <th>GoodsID</th>\n",
       "      <th>CateID</th>\n",
       "      <th>Cost</th>\n",
       "      <th>Price</th>\n",
       "      <th>Qty</th>\n",
       "      <th>shopID</th>\n",
       "      <th>SDate</th>\n",
       "      <th>STime</th>\n",
       "      <th>SheetID</th>\n",
       "      <th>CashValue</th>\n",
       "    </tr>\n",
       "  </thead>\n",
       "  <tbody>\n",
       "    <tr>\n",
       "      <th>0</th>\n",
       "      <td>30006206</td>\n",
       "      <td>915000003</td>\n",
       "      <td>20.673643</td>\n",
       "      <td>25.23</td>\n",
       "      <td>0.328</td>\n",
       "      <td>CDLG</td>\n",
       "      <td>20170103</td>\n",
       "      <td>2017-01-03 09:56:55</td>\n",
       "      <td>20170103CDLG000210052759</td>\n",
       "      <td>56.453</td>\n",
       "    </tr>\n",
       "    <tr>\n",
       "      <th>1</th>\n",
       "      <td>30163281</td>\n",
       "      <td>914010000</td>\n",
       "      <td>1.724210</td>\n",
       "      <td>2.00</td>\n",
       "      <td>2.000</td>\n",
       "      <td>CDLG</td>\n",
       "      <td>20170103</td>\n",
       "      <td>2017-01-03 09:56:55</td>\n",
       "      <td>20170103CDLG000210052759</td>\n",
       "      <td>56.453</td>\n",
       "    </tr>\n",
       "    <tr>\n",
       "      <th>2</th>\n",
       "      <td>30200518</td>\n",
       "      <td>922000000</td>\n",
       "      <td>16.344857</td>\n",
       "      <td>19.62</td>\n",
       "      <td>0.230</td>\n",
       "      <td>CDLG</td>\n",
       "      <td>20170103</td>\n",
       "      <td>2017-01-03 09:56:55</td>\n",
       "      <td>20170103CDLG000210052759</td>\n",
       "      <td>56.453</td>\n",
       "    </tr>\n",
       "    <tr>\n",
       "      <th>3</th>\n",
       "      <td>29989105</td>\n",
       "      <td>922000000</td>\n",
       "      <td>1.971475</td>\n",
       "      <td>2.80</td>\n",
       "      <td>2.044</td>\n",
       "      <td>CDLG</td>\n",
       "      <td>20170103</td>\n",
       "      <td>2017-01-03 09:56:55</td>\n",
       "      <td>20170103CDLG000210052759</td>\n",
       "      <td>56.453</td>\n",
       "    </tr>\n",
       "    <tr>\n",
       "      <th>4</th>\n",
       "      <td>30179558</td>\n",
       "      <td>915000100</td>\n",
       "      <td>34.219740</td>\n",
       "      <td>47.41</td>\n",
       "      <td>0.226</td>\n",
       "      <td>CDLG</td>\n",
       "      <td>20170103</td>\n",
       "      <td>2017-01-03 09:56:55</td>\n",
       "      <td>20170103CDLG000210052759</td>\n",
       "      <td>56.453</td>\n",
       "    </tr>\n",
       "  </tbody>\n",
       "</table>\n",
       "</div>"
      ],
      "text/plain": [
       "    GoodsID     CateID       Cost  Price    Qty shopID     SDate  \\\n",
       "0  30006206  915000003  20.673643  25.23  0.328   CDLG  20170103   \n",
       "1  30163281  914010000   1.724210   2.00  2.000   CDLG  20170103   \n",
       "2  30200518  922000000  16.344857  19.62  0.230   CDLG  20170103   \n",
       "3  29989105  922000000   1.971475   2.80  2.044   CDLG  20170103   \n",
       "4  30179558  915000100  34.219740  47.41  0.226   CDLG  20170103   \n",
       "\n",
       "                STime                   SheetID  CashValue  \n",
       "0 2017-01-03 09:56:55  20170103CDLG000210052759     56.453  \n",
       "1 2017-01-03 09:56:55  20170103CDLG000210052759     56.453  \n",
       "2 2017-01-03 09:56:55  20170103CDLG000210052759     56.453  \n",
       "3 2017-01-03 09:56:55  20170103CDLG000210052759     56.453  \n",
       "4 2017-01-03 09:56:55  20170103CDLG000210052759     56.453  "
      ]
     },
     "execution_count": 2,
     "metadata": {},
     "output_type": "execute_result"
    }
   ],
   "source": [
    "data_2017 = pd.read_csv(r\"2017年1月&2017年4月数据.csv\",parse_dates = [\"STime\"])\n",
    "data_2017.head()"
   ]
  },
  {
   "cell_type": "code",
   "execution_count": 3,
   "metadata": {
    "ExecuteTime": {
     "end_time": "2019-07-17T09:03:30.225051Z",
     "start_time": "2019-07-17T09:03:29.902914Z"
    }
   },
   "outputs": [
    {
     "name": "stdout",
     "output_type": "stream",
     "text": [
      "<class 'pandas.core.frame.DataFrame'>\n",
      "RangeIndex: 897232 entries, 0 to 897231\n",
      "Data columns (total 10 columns):\n",
      "GoodsID      897232 non-null int64\n",
      "CateID       897232 non-null int64\n",
      "Cost         896550 non-null float64\n",
      "Price        897232 non-null float64\n",
      "Qty          897232 non-null float64\n",
      "shopID       897232 non-null object\n",
      "SDate        897232 non-null int64\n",
      "STime        897232 non-null datetime64[ns]\n",
      "SheetID      897232 non-null object\n",
      "CashValue    897232 non-null float64\n",
      "dtypes: datetime64[ns](1), float64(4), int64(3), object(2)\n",
      "memory usage: 68.5+ MB\n"
     ]
    }
   ],
   "source": [
    "data_2017.info()"
   ]
  },
  {
   "cell_type": "code",
   "execution_count": 4,
   "metadata": {
    "ExecuteTime": {
     "end_time": "2019-07-17T09:03:31.907553Z",
     "start_time": "2019-07-17T09:03:30.242006Z"
    }
   },
   "outputs": [
    {
     "data": {
      "text/html": [
       "<div>\n",
       "<style scoped>\n",
       "    .dataframe tbody tr th:only-of-type {\n",
       "        vertical-align: middle;\n",
       "    }\n",
       "\n",
       "    .dataframe tbody tr th {\n",
       "        vertical-align: top;\n",
       "    }\n",
       "\n",
       "    .dataframe thead th {\n",
       "        text-align: right;\n",
       "    }\n",
       "</style>\n",
       "<table border=\"1\" class=\"dataframe\">\n",
       "  <thead>\n",
       "    <tr style=\"text-align: right;\">\n",
       "      <th></th>\n",
       "      <th>GoodsID</th>\n",
       "      <th>CateID</th>\n",
       "      <th>Cost</th>\n",
       "      <th>Price</th>\n",
       "      <th>Qty</th>\n",
       "      <th>shopID</th>\n",
       "      <th>SDate</th>\n",
       "      <th>STime</th>\n",
       "      <th>SheetID</th>\n",
       "      <th>CashValue</th>\n",
       "    </tr>\n",
       "  </thead>\n",
       "  <tbody>\n",
       "    <tr>\n",
       "      <th>0</th>\n",
       "      <td>29989301</td>\n",
       "      <td>925090000</td>\n",
       "      <td>17.048322</td>\n",
       "      <td>17.59</td>\n",
       "      <td>0.522</td>\n",
       "      <td>CDLG</td>\n",
       "      <td>20160101</td>\n",
       "      <td>2016-01-01 07:02:01</td>\n",
       "      <td>20160101CDLGP00110000001</td>\n",
       "      <td>44.321</td>\n",
       "    </tr>\n",
       "    <tr>\n",
       "      <th>1</th>\n",
       "      <td>29989287</td>\n",
       "      <td>925090000</td>\n",
       "      <td>0.000000</td>\n",
       "      <td>28.02</td>\n",
       "      <td>0.809</td>\n",
       "      <td>CDLG</td>\n",
       "      <td>20160101</td>\n",
       "      <td>2016-01-01 07:02:01</td>\n",
       "      <td>20160101CDLGP00110000001</td>\n",
       "      <td>44.321</td>\n",
       "    </tr>\n",
       "    <tr>\n",
       "      <th>2</th>\n",
       "      <td>29989302</td>\n",
       "      <td>925090000</td>\n",
       "      <td>26.800070</td>\n",
       "      <td>27.65</td>\n",
       "      <td>0.451</td>\n",
       "      <td>CDLG</td>\n",
       "      <td>20160101</td>\n",
       "      <td>2016-01-01 07:02:01</td>\n",
       "      <td>20160101CDLGP00110000001</td>\n",
       "      <td>44.321</td>\n",
       "    </tr>\n",
       "    <tr>\n",
       "      <th>3</th>\n",
       "      <td>30144186</td>\n",
       "      <td>912060303</td>\n",
       "      <td>49.620000</td>\n",
       "      <td>49.62</td>\n",
       "      <td>0.318</td>\n",
       "      <td>CDLG</td>\n",
       "      <td>20160101</td>\n",
       "      <td>2016-01-01 07:03:14</td>\n",
       "      <td>20160101CDLGP00110000002</td>\n",
       "      <td>15.779</td>\n",
       "    </tr>\n",
       "    <tr>\n",
       "      <th>4</th>\n",
       "      <td>29989073</td>\n",
       "      <td>922000201</td>\n",
       "      <td>2.314974</td>\n",
       "      <td>3.61</td>\n",
       "      <td>0.326</td>\n",
       "      <td>CDLG</td>\n",
       "      <td>20160101</td>\n",
       "      <td>2016-01-01 07:04:05</td>\n",
       "      <td>20160101CDLGP00110000003</td>\n",
       "      <td>4.715</td>\n",
       "    </tr>\n",
       "  </tbody>\n",
       "</table>\n",
       "</div>"
      ],
      "text/plain": [
       "    GoodsID     CateID       Cost  Price    Qty shopID     SDate  \\\n",
       "0  29989301  925090000  17.048322  17.59  0.522   CDLG  20160101   \n",
       "1  29989287  925090000   0.000000  28.02  0.809   CDLG  20160101   \n",
       "2  29989302  925090000  26.800070  27.65  0.451   CDLG  20160101   \n",
       "3  30144186  912060303  49.620000  49.62  0.318   CDLG  20160101   \n",
       "4  29989073  922000201   2.314974   3.61  0.326   CDLG  20160101   \n",
       "\n",
       "                STime                   SheetID  CashValue  \n",
       "0 2016-01-01 07:02:01  20160101CDLGP00110000001     44.321  \n",
       "1 2016-01-01 07:02:01  20160101CDLGP00110000001     44.321  \n",
       "2 2016-01-01 07:02:01  20160101CDLGP00110000001     44.321  \n",
       "3 2016-01-01 07:03:14  20160101CDLGP00110000002     15.779  \n",
       "4 2016-01-01 07:04:05  20160101CDLGP00110000003      4.715  "
      ]
     },
     "execution_count": 4,
     "metadata": {},
     "output_type": "execute_result"
    }
   ],
   "source": [
    "data_2016 = pd.read_csv(r\"2016年1月&20164月数据.csv\",parse_dates = [\"STime\"])\n",
    "data_2016.head()"
   ]
  },
  {
   "cell_type": "code",
   "execution_count": 5,
   "metadata": {
    "ExecuteTime": {
     "end_time": "2019-07-17T09:03:32.217731Z",
     "start_time": "2019-07-17T09:03:31.923510Z"
    }
   },
   "outputs": [
    {
     "name": "stdout",
     "output_type": "stream",
     "text": [
      "<class 'pandas.core.frame.DataFrame'>\n",
      "RangeIndex: 1116447 entries, 0 to 1116446\n",
      "Data columns (total 10 columns):\n",
      "GoodsID      1116447 non-null int64\n",
      "CateID       1116447 non-null int64\n",
      "Cost         1114288 non-null float64\n",
      "Price        1116447 non-null float64\n",
      "Qty          1116447 non-null float64\n",
      "shopID       1116447 non-null object\n",
      "SDate        1116447 non-null int64\n",
      "STime        1116447 non-null datetime64[ns]\n",
      "SheetID      1116447 non-null object\n",
      "CashValue    1116447 non-null float64\n",
      "dtypes: datetime64[ns](1), float64(4), int64(3), object(2)\n",
      "memory usage: 85.2+ MB\n"
     ]
    }
   ],
   "source": [
    "data_2016.info()"
   ]
  },
  {
   "cell_type": "code",
   "execution_count": 6,
   "metadata": {
    "ExecuteTime": {
     "end_time": "2019-07-17T09:03:33.014593Z",
     "start_time": "2019-07-17T09:03:32.225702Z"
    }
   },
   "outputs": [
    {
     "data": {
      "text/plain": [
       "(1067302, 10)"
      ]
     },
     "execution_count": 6,
     "metadata": {},
     "output_type": "execute_result"
    }
   ],
   "source": [
    "data_2016.drop_duplicates().shape"
   ]
  },
  {
   "cell_type": "code",
   "execution_count": 7,
   "metadata": {
    "ExecuteTime": {
     "end_time": "2019-07-17T09:03:33.649895Z",
     "start_time": "2019-07-17T09:03:33.027561Z"
    }
   },
   "outputs": [
    {
     "data": {
      "text/plain": [
       "(855620, 10)"
      ]
     },
     "execution_count": 7,
     "metadata": {},
     "output_type": "execute_result"
    }
   ],
   "source": [
    "data_2017.drop_duplicates().shape"
   ]
  },
  {
   "cell_type": "code",
   "execution_count": 8,
   "metadata": {
    "ExecuteTime": {
     "end_time": "2019-07-17T09:03:34.829911Z",
     "start_time": "2019-07-17T09:03:33.663857Z"
    }
   },
   "outputs": [],
   "source": [
    "data_2016 = data_2016.drop_duplicates()\n",
    "data_2017 = data_2017.drop_duplicates()"
   ]
  },
  {
   "cell_type": "code",
   "execution_count": 9,
   "metadata": {
    "ExecuteTime": {
     "end_time": "2019-07-17T09:03:34.853714Z",
     "start_time": "2019-07-17T09:03:34.850684Z"
    }
   },
   "outputs": [
    {
     "data": {
      "text/plain": [
       "(1067302, 10)"
      ]
     },
     "execution_count": 9,
     "metadata": {},
     "output_type": "execute_result"
    }
   ],
   "source": [
    "data_2016.shape"
   ]
  },
  {
   "cell_type": "code",
   "execution_count": 10,
   "metadata": {
    "ExecuteTime": {
     "end_time": "2019-07-17T09:03:34.888587Z",
     "start_time": "2019-07-17T09:03:34.884594Z"
    }
   },
   "outputs": [
    {
     "data": {
      "text/plain": [
       "(855620, 10)"
      ]
     },
     "execution_count": 10,
     "metadata": {},
     "output_type": "execute_result"
    }
   ],
   "source": [
    "data_2017.shape"
   ]
  },
  {
   "cell_type": "markdown",
   "metadata": {},
   "source": [
    "# 数据预处理"
   ]
  },
  {
   "cell_type": "code",
   "execution_count": 11,
   "metadata": {
    "ExecuteTime": {
     "end_time": "2019-07-17T09:04:32.998227Z",
     "start_time": "2019-07-17T09:03:34.939449Z"
    }
   },
   "outputs": [],
   "source": [
    "data_2016[\"date\"] = [parse(str(time)) for time in data_2016[\"SDate\"]]\n",
    "data_2017[\"date\"] = [parse(str(time)) for time in data_2017[\"SDate\"]]"
   ]
  },
  {
   "cell_type": "code",
   "execution_count": 12,
   "metadata": {
    "ExecuteTime": {
     "end_time": "2019-07-17T09:04:36.542813Z",
     "start_time": "2019-07-17T09:04:33.023159Z"
    }
   },
   "outputs": [],
   "source": [
    "data_2016[\"月份\"] = [time.month for time in data_2016[\"date\"]]\n",
    "data_2017[\"月份\"] = [time.month for time in data_2017[\"date\"]]"
   ]
  },
  {
   "cell_type": "code",
   "execution_count": 13,
   "metadata": {
    "ExecuteTime": {
     "end_time": "2019-07-17T09:04:36.581655Z",
     "start_time": "2019-07-17T09:04:36.557744Z"
    }
   },
   "outputs": [
    {
     "data": {
      "text/plain": [
       "array([1, 4], dtype=int64)"
      ]
     },
     "execution_count": 13,
     "metadata": {},
     "output_type": "execute_result"
    }
   ],
   "source": [
    "data_2017[\"月份\"].unique()"
   ]
  },
  {
   "cell_type": "code",
   "execution_count": 14,
   "metadata": {
    "ExecuteTime": {
     "end_time": "2019-07-17T09:04:37.171068Z",
     "start_time": "2019-07-17T09:04:36.605581Z"
    }
   },
   "outputs": [
    {
     "data": {
      "text/plain": [
       "array([1, 4], dtype=int64)"
      ]
     },
     "execution_count": 14,
     "metadata": {},
     "output_type": "execute_result"
    }
   ],
   "source": [
    "data_2016[\"月份\"].unique()"
   ]
  },
  {
   "cell_type": "markdown",
   "metadata": {},
   "source": [
    "# 分日趋势图"
   ]
  },
  {
   "cell_type": "code",
   "execution_count": 15,
   "metadata": {
    "ExecuteTime": {
     "end_time": "2019-07-17T09:04:37.303713Z",
     "start_time": "2019-07-17T09:04:37.190018Z"
    }
   },
   "outputs": [
    {
     "data": {
      "text/html": [
       "<div>\n",
       "<style scoped>\n",
       "    .dataframe tbody tr th:only-of-type {\n",
       "        vertical-align: middle;\n",
       "    }\n",
       "\n",
       "    .dataframe tbody tr th {\n",
       "        vertical-align: top;\n",
       "    }\n",
       "\n",
       "    .dataframe thead th {\n",
       "        text-align: right;\n",
       "    }\n",
       "</style>\n",
       "<table border=\"1\" class=\"dataframe\">\n",
       "  <thead>\n",
       "    <tr style=\"text-align: right;\">\n",
       "      <th></th>\n",
       "      <th>GoodsID</th>\n",
       "      <th>CateID</th>\n",
       "      <th>Cost</th>\n",
       "      <th>Price</th>\n",
       "      <th>Qty</th>\n",
       "      <th>shopID</th>\n",
       "      <th>SDate</th>\n",
       "      <th>STime</th>\n",
       "      <th>SheetID</th>\n",
       "      <th>CashValue</th>\n",
       "      <th>date</th>\n",
       "      <th>月份</th>\n",
       "    </tr>\n",
       "  </thead>\n",
       "  <tbody>\n",
       "    <tr>\n",
       "      <th>493644</th>\n",
       "      <td>30089347</td>\n",
       "      <td>910030000</td>\n",
       "      <td>2.370000</td>\n",
       "      <td>2.62</td>\n",
       "      <td>7.000</td>\n",
       "      <td>CDLG</td>\n",
       "      <td>20170405</td>\n",
       "      <td>2017-04-05 18:20:35</td>\n",
       "      <td>20170405CDLG000310112461</td>\n",
       "      <td>18.340</td>\n",
       "      <td>2017-04-05</td>\n",
       "      <td>4</td>\n",
       "    </tr>\n",
       "    <tr>\n",
       "      <th>493645</th>\n",
       "      <td>30020269</td>\n",
       "      <td>923000101</td>\n",
       "      <td>7.636254</td>\n",
       "      <td>10.80</td>\n",
       "      <td>1.064</td>\n",
       "      <td>CDLG</td>\n",
       "      <td>20170405</td>\n",
       "      <td>2017-04-05 18:20:57</td>\n",
       "      <td>20170405CDLG000310112462</td>\n",
       "      <td>11.496</td>\n",
       "      <td>2017-04-05</td>\n",
       "      <td>4</td>\n",
       "    </tr>\n",
       "    <tr>\n",
       "      <th>493646</th>\n",
       "      <td>30006266</td>\n",
       "      <td>914100000</td>\n",
       "      <td>9.020000</td>\n",
       "      <td>9.12</td>\n",
       "      <td>1.000</td>\n",
       "      <td>CDLG</td>\n",
       "      <td>20170405</td>\n",
       "      <td>2017-04-05 18:21:43</td>\n",
       "      <td>20170405CDLG000310112463</td>\n",
       "      <td>35.200</td>\n",
       "      <td>2017-04-05</td>\n",
       "      <td>4</td>\n",
       "    </tr>\n",
       "    <tr>\n",
       "      <th>493647</th>\n",
       "      <td>30166320</td>\n",
       "      <td>936010000</td>\n",
       "      <td>5.208750</td>\n",
       "      <td>6.52</td>\n",
       "      <td>1.000</td>\n",
       "      <td>CDLG</td>\n",
       "      <td>20170405</td>\n",
       "      <td>2017-04-05 18:21:43</td>\n",
       "      <td>20170405CDLG000310112463</td>\n",
       "      <td>35.200</td>\n",
       "      <td>2017-04-05</td>\n",
       "      <td>4</td>\n",
       "    </tr>\n",
       "    <tr>\n",
       "      <th>493651</th>\n",
       "      <td>29989058</td>\n",
       "      <td>922000001</td>\n",
       "      <td>0.525031</td>\n",
       "      <td>0.58</td>\n",
       "      <td>2.414</td>\n",
       "      <td>CDLG</td>\n",
       "      <td>20170405</td>\n",
       "      <td>2017-04-05 18:22:22</td>\n",
       "      <td>20170405CDLG000310112464</td>\n",
       "      <td>47.322</td>\n",
       "      <td>2017-04-05</td>\n",
       "      <td>4</td>\n",
       "    </tr>\n",
       "  </tbody>\n",
       "</table>\n",
       "</div>"
      ],
      "text/plain": [
       "         GoodsID     CateID      Cost  Price    Qty shopID     SDate  \\\n",
       "493644  30089347  910030000  2.370000   2.62  7.000   CDLG  20170405   \n",
       "493645  30020269  923000101  7.636254  10.80  1.064   CDLG  20170405   \n",
       "493646  30006266  914100000  9.020000   9.12  1.000   CDLG  20170405   \n",
       "493647  30166320  936010000  5.208750   6.52  1.000   CDLG  20170405   \n",
       "493651  29989058  922000001  0.525031   0.58  2.414   CDLG  20170405   \n",
       "\n",
       "                     STime                   SheetID  CashValue       date  月份  \n",
       "493644 2017-04-05 18:20:35  20170405CDLG000310112461     18.340 2017-04-05   4  \n",
       "493645 2017-04-05 18:20:57  20170405CDLG000310112462     11.496 2017-04-05   4  \n",
       "493646 2017-04-05 18:21:43  20170405CDLG000310112463     35.200 2017-04-05   4  \n",
       "493647 2017-04-05 18:21:43  20170405CDLG000310112463     35.200 2017-04-05   4  \n",
       "493651 2017-04-05 18:22:22  20170405CDLG000310112464     47.322 2017-04-05   4  "
      ]
     },
     "execution_count": 15,
     "metadata": {},
     "output_type": "execute_result"
    }
   ],
   "source": [
    "April_data = data_2017[data_2017[\"月份\"] == 4]\n",
    "April_data.head()"
   ]
  },
  {
   "cell_type": "code",
   "execution_count": 16,
   "metadata": {
    "ExecuteTime": {
     "end_time": "2019-07-17T09:04:37.403447Z",
     "start_time": "2019-07-17T09:04:37.345602Z"
    }
   },
   "outputs": [],
   "source": [
    "April_data[\"sale_sum\"] = (April_data[\"Price\"]*April_data[\"Qty\"])"
   ]
  },
  {
   "cell_type": "code",
   "execution_count": 17,
   "metadata": {
    "ExecuteTime": {
     "end_time": "2019-07-17T09:04:37.451320Z",
     "start_time": "2019-07-17T09:04:37.415415Z"
    }
   },
   "outputs": [
    {
     "data": {
      "text/html": [
       "<div>\n",
       "<style scoped>\n",
       "    .dataframe tbody tr th:only-of-type {\n",
       "        vertical-align: middle;\n",
       "    }\n",
       "\n",
       "    .dataframe tbody tr th {\n",
       "        vertical-align: top;\n",
       "    }\n",
       "\n",
       "    .dataframe thead th {\n",
       "        text-align: right;\n",
       "    }\n",
       "</style>\n",
       "<table border=\"1\" class=\"dataframe\">\n",
       "  <thead>\n",
       "    <tr style=\"text-align: right;\">\n",
       "      <th></th>\n",
       "      <th>GoodsID</th>\n",
       "      <th>CateID</th>\n",
       "      <th>Cost</th>\n",
       "      <th>Price</th>\n",
       "      <th>Qty</th>\n",
       "      <th>shopID</th>\n",
       "      <th>SDate</th>\n",
       "      <th>STime</th>\n",
       "      <th>SheetID</th>\n",
       "      <th>CashValue</th>\n",
       "      <th>date</th>\n",
       "      <th>月份</th>\n",
       "      <th>sale_sum</th>\n",
       "    </tr>\n",
       "  </thead>\n",
       "  <tbody>\n",
       "    <tr>\n",
       "      <th>493644</th>\n",
       "      <td>30089347</td>\n",
       "      <td>910030000</td>\n",
       "      <td>2.370000</td>\n",
       "      <td>2.62</td>\n",
       "      <td>7.000</td>\n",
       "      <td>CDLG</td>\n",
       "      <td>20170405</td>\n",
       "      <td>2017-04-05 18:20:35</td>\n",
       "      <td>20170405CDLG000310112461</td>\n",
       "      <td>18.340</td>\n",
       "      <td>2017-04-05</td>\n",
       "      <td>4</td>\n",
       "      <td>18.34000</td>\n",
       "    </tr>\n",
       "    <tr>\n",
       "      <th>493645</th>\n",
       "      <td>30020269</td>\n",
       "      <td>923000101</td>\n",
       "      <td>7.636254</td>\n",
       "      <td>10.80</td>\n",
       "      <td>1.064</td>\n",
       "      <td>CDLG</td>\n",
       "      <td>20170405</td>\n",
       "      <td>2017-04-05 18:20:57</td>\n",
       "      <td>20170405CDLG000310112462</td>\n",
       "      <td>11.496</td>\n",
       "      <td>2017-04-05</td>\n",
       "      <td>4</td>\n",
       "      <td>11.49120</td>\n",
       "    </tr>\n",
       "    <tr>\n",
       "      <th>493646</th>\n",
       "      <td>30006266</td>\n",
       "      <td>914100000</td>\n",
       "      <td>9.020000</td>\n",
       "      <td>9.12</td>\n",
       "      <td>1.000</td>\n",
       "      <td>CDLG</td>\n",
       "      <td>20170405</td>\n",
       "      <td>2017-04-05 18:21:43</td>\n",
       "      <td>20170405CDLG000310112463</td>\n",
       "      <td>35.200</td>\n",
       "      <td>2017-04-05</td>\n",
       "      <td>4</td>\n",
       "      <td>9.12000</td>\n",
       "    </tr>\n",
       "    <tr>\n",
       "      <th>493647</th>\n",
       "      <td>30166320</td>\n",
       "      <td>936010000</td>\n",
       "      <td>5.208750</td>\n",
       "      <td>6.52</td>\n",
       "      <td>1.000</td>\n",
       "      <td>CDLG</td>\n",
       "      <td>20170405</td>\n",
       "      <td>2017-04-05 18:21:43</td>\n",
       "      <td>20170405CDLG000310112463</td>\n",
       "      <td>35.200</td>\n",
       "      <td>2017-04-05</td>\n",
       "      <td>4</td>\n",
       "      <td>6.52000</td>\n",
       "    </tr>\n",
       "    <tr>\n",
       "      <th>493651</th>\n",
       "      <td>29989058</td>\n",
       "      <td>922000001</td>\n",
       "      <td>0.525031</td>\n",
       "      <td>0.58</td>\n",
       "      <td>2.414</td>\n",
       "      <td>CDLG</td>\n",
       "      <td>20170405</td>\n",
       "      <td>2017-04-05 18:22:22</td>\n",
       "      <td>20170405CDLG000310112464</td>\n",
       "      <td>47.322</td>\n",
       "      <td>2017-04-05</td>\n",
       "      <td>4</td>\n",
       "      <td>1.40012</td>\n",
       "    </tr>\n",
       "  </tbody>\n",
       "</table>\n",
       "</div>"
      ],
      "text/plain": [
       "         GoodsID     CateID      Cost  Price    Qty shopID     SDate  \\\n",
       "493644  30089347  910030000  2.370000   2.62  7.000   CDLG  20170405   \n",
       "493645  30020269  923000101  7.636254  10.80  1.064   CDLG  20170405   \n",
       "493646  30006266  914100000  9.020000   9.12  1.000   CDLG  20170405   \n",
       "493647  30166320  936010000  5.208750   6.52  1.000   CDLG  20170405   \n",
       "493651  29989058  922000001  0.525031   0.58  2.414   CDLG  20170405   \n",
       "\n",
       "                     STime                   SheetID  CashValue       date  \\\n",
       "493644 2017-04-05 18:20:35  20170405CDLG000310112461     18.340 2017-04-05   \n",
       "493645 2017-04-05 18:20:57  20170405CDLG000310112462     11.496 2017-04-05   \n",
       "493646 2017-04-05 18:21:43  20170405CDLG000310112463     35.200 2017-04-05   \n",
       "493647 2017-04-05 18:21:43  20170405CDLG000310112463     35.200 2017-04-05   \n",
       "493651 2017-04-05 18:22:22  20170405CDLG000310112464     47.322 2017-04-05   \n",
       "\n",
       "        月份  sale_sum  \n",
       "493644   4  18.34000  \n",
       "493645   4  11.49120  \n",
       "493646   4   9.12000  \n",
       "493647   4   6.52000  \n",
       "493651   4   1.40012  "
      ]
     },
     "execution_count": 17,
     "metadata": {},
     "output_type": "execute_result"
    }
   ],
   "source": [
    "April_data.head()"
   ]
  },
  {
   "cell_type": "code",
   "execution_count": 18,
   "metadata": {
    "ExecuteTime": {
     "end_time": "2019-07-17T09:04:37.573991Z",
     "start_time": "2019-07-17T09:04:37.485228Z"
    },
    "scrolled": true
   },
   "outputs": [
    {
     "data": {
      "text/plain": [
       "SDate\n",
       "20170401    111186.69693\n",
       "20170402    114319.63170\n",
       "20170403    115252.22685\n",
       "20170404    106454.93157\n",
       "20170405     83312.88254\n",
       "20170406     88225.14987\n",
       "20170407     76980.41585\n",
       "20170408    105624.61177\n",
       "20170409    127797.29675\n",
       "20170410    124677.88441\n",
       "20170411     85856.45188\n",
       "20170412     85086.95909\n",
       "20170413     87074.74940\n",
       "20170414     93280.58419\n",
       "20170415    107475.81662\n",
       "20170416    120999.10343\n",
       "20170417     79201.68166\n",
       "20170418     98905.82294\n",
       "20170419     63741.90135\n",
       "20170420    102592.43128\n",
       "20170421     78569.74341\n",
       "20170422    128930.39142\n",
       "20170423    126883.93038\n",
       "20170424     91634.51527\n",
       "20170425    127137.58165\n",
       "20170426     89379.87373\n",
       "20170427     83603.32458\n",
       "20170428     97561.90740\n",
       "20170429    116873.16467\n",
       "20170430    122573.60531\n",
       "Name: sale_sum, dtype: float64"
      ]
     },
     "execution_count": 18,
     "metadata": {},
     "output_type": "execute_result"
    }
   ],
   "source": [
    "April_data.groupby(\"SDate\")[\"sale_sum\"].sum()"
   ]
  },
  {
   "cell_type": "code",
   "execution_count": 19,
   "metadata": {
    "ExecuteTime": {
     "end_time": "2019-07-17T09:04:38.452842Z",
     "start_time": "2019-07-17T09:04:37.596930Z"
    }
   },
   "outputs": [
    {
     "data": {
      "text/html": [
       "        <script type=\"text/javascript\">\n",
       "        window.PlotlyConfig = {MathJaxConfig: 'local'};\n",
       "        if (window.MathJax) {MathJax.Hub.Config({SVG: {font: \"STIX-Web\"}});}\n",
       "        if (typeof require !== 'undefined') {\n",
       "        require.undef(\"plotly\");\n",
       "        requirejs.config({\n",
       "            paths: {\n",
       "                'plotly': ['https://cdn.plot.ly/plotly-latest.min']\n",
       "            }\n",
       "        });\n",
       "        require(['plotly'], function(Plotly) {\n",
       "            window._Plotly = Plotly;\n",
       "        });\n",
       "        }\n",
       "        </script>\n",
       "        "
      ]
     },
     "metadata": {},
     "output_type": "display_data"
    }
   ],
   "source": [
    "grouped_sale_sum = April_data.copy().groupby(\"SDate\")[\"sale_sum\"].sum()\n",
    "#grouped_sale_sum.plot(title = \"四月销售额分日趋势图\")\n",
    "\n",
    "%matplotlib inline\n",
    "# set figure size\n",
    "mpl.rcParams['figure.figsize']=[15,12]\n",
    "# set figure style\n",
    "plt.style.use('ggplot')\n",
    "# plotly layout\n",
    "layout=go.Layout(\n",
    "    autosize=True,\n",
    "    margin=go.layout.Margin(\n",
    "        l=20,\n",
    "        r=20,\n",
    "        t=40,\n",
    "        b=20,\n",
    "        pad=10),\n",
    "    template='ggplot2'\n",
    ")\n",
    "py_offline.init_notebook_mode(connected=True)"
   ]
  },
  {
   "cell_type": "code",
   "execution_count": 20,
   "metadata": {
    "ExecuteTime": {
     "end_time": "2019-07-17T09:04:38.475781Z",
     "start_time": "2019-07-17T09:04:38.463839Z"
    }
   },
   "outputs": [
    {
     "data": {
      "text/plain": [
       "SDate\n",
       "20170401    111186.69693\n",
       "20170402    114319.63170\n",
       "20170403    115252.22685\n",
       "Name: sale_sum, dtype: float64"
      ]
     },
     "execution_count": 20,
     "metadata": {},
     "output_type": "execute_result"
    }
   ],
   "source": [
    "grouped_sale_sum.shape\n",
    "grouped_sale_sum.head(3)\n"
   ]
  },
  {
   "cell_type": "code",
   "execution_count": 21,
   "metadata": {
    "ExecuteTime": {
     "end_time": "2019-07-17T09:04:38.676248Z",
     "start_time": "2019-07-17T09:04:38.499716Z"
    }
   },
   "outputs": [],
   "source": [
    "import arrow\n",
    "time_day= []\n",
    "for each_day in list(grouped_sale_sum.index.values):\n",
    "    time_day.append(arrow.get(str(each_day),'YYYYMMDD').format('YYYY-MM-DD '))\n",
    "#time_day\n",
    "grouped_sale_sum.index = pd.DatetimeIndex(time_day)"
   ]
  },
  {
   "cell_type": "code",
   "execution_count": 22,
   "metadata": {
    "ExecuteTime": {
     "end_time": "2019-07-17T09:04:38.822852Z",
     "start_time": "2019-07-17T09:04:38.791936Z"
    }
   },
   "outputs": [],
   "source": [
    "#grouped_sale_sum"
   ]
  },
  {
   "cell_type": "code",
   "execution_count": 23,
   "metadata": {
    "ExecuteTime": {
     "end_time": "2019-07-17T09:04:39.068196Z",
     "start_time": "2019-07-17T09:04:38.855764Z"
    }
   },
   "outputs": [
    {
     "data": {
      "application/vnd.plotly.v1+json": {
       "config": {
        "linkText": "Export to plot.ly",
        "plotlyServerURL": "https://plot.ly",
        "showLink": false
       },
       "data": [
        {
         "line": {
          "color": "rgba(226, 74, 51, 1.0)",
          "dash": "solid",
          "shape": "linear",
          "width": 1.3
         },
         "mode": "lines",
         "name": "sale_sum",
         "text": "",
         "type": "scatter",
         "uid": "c0815dae-c6f5-4c6d-9d44-7defc6b88185",
         "x": [
          "2017-04-01",
          "2017-04-02",
          "2017-04-03",
          "2017-04-04",
          "2017-04-05",
          "2017-04-06",
          "2017-04-07",
          "2017-04-08",
          "2017-04-09",
          "2017-04-10",
          "2017-04-11",
          "2017-04-12",
          "2017-04-13",
          "2017-04-14",
          "2017-04-15",
          "2017-04-16",
          "2017-04-17",
          "2017-04-18",
          "2017-04-19",
          "2017-04-20",
          "2017-04-21",
          "2017-04-22",
          "2017-04-23",
          "2017-04-24",
          "2017-04-25",
          "2017-04-26",
          "2017-04-27",
          "2017-04-28",
          "2017-04-29",
          "2017-04-30"
         ],
         "y": [
          111186.6969300016,
          114319.63170000147,
          115252.22685000143,
          106454.93157000098,
          83312.88254000072,
          88225.14987000008,
          76980.4158499995,
          105624.61177000115,
          127797.29675000183,
          124677.88441000147,
          85856.45188000004,
          85086.9590900007,
          87074.74940000019,
          93280.58419000043,
          107475.81662000097,
          120999.10343000107,
          79201.68166,
          98905.8229400006,
          63741.901349999716,
          102592.43128000115,
          78569.74341000005,
          128930.39142000214,
          126883.93038000212,
          91634.5152700004,
          127137.58165000191,
          89379.87373000066,
          83603.32457999978,
          97561.907400001,
          116873.16467000057,
          122573.60531000217
         ]
        }
       ],
       "layout": {
        "legend": {
         "bgcolor": "#FFFFFF",
         "font": {
          "color": "#666666"
         }
        },
        "paper_bgcolor": "#FFFFFF",
        "plot_bgcolor": "#E5E5E5",
        "title": {
         "font": {
          "color": "#151516"
         },
         "text": "四月销售额分日趋势图"
        },
        "xaxis": {
         "gridcolor": "#F6F6F6",
         "showgrid": true,
         "tickfont": {
          "color": "#666666"
         },
         "title": {
          "font": {
           "color": "#666666"
          },
          "text": "Sdate"
         },
         "zerolinecolor": "#F6F6F6"
        },
        "yaxis": {
         "gridcolor": "#F6F6F6",
         "showgrid": true,
         "tickfont": {
          "color": "#666666"
         },
         "title": {
          "font": {
           "color": "#666666"
          },
          "text": "sale_sum Value"
         },
         "zerolinecolor": "#F6F6F6"
        }
       }
      },
      "text/html": [
       "<div>\n",
       "        \n",
       "        \n",
       "            <div id=\"97e8b303-6bcb-4333-a491-bdfc4b4ef376\" class=\"plotly-graph-div\" style=\"height:525px; width:100%;\"></div>\n",
       "            <script type=\"text/javascript\">\n",
       "                require([\"plotly\"], function(Plotly) {\n",
       "                    window.PLOTLYENV=window.PLOTLYENV || {};\n",
       "                    window.PLOTLYENV.BASE_URL='https://plot.ly';\n",
       "                    \n",
       "                if (document.getElementById(\"97e8b303-6bcb-4333-a491-bdfc4b4ef376\")) {\n",
       "                    Plotly.newPlot(\n",
       "                        '97e8b303-6bcb-4333-a491-bdfc4b4ef376',\n",
       "                        [{\"line\": {\"color\": \"rgba(226, 74, 51, 1.0)\", \"dash\": \"solid\", \"shape\": \"linear\", \"width\": 1.3}, \"mode\": \"lines\", \"name\": \"sale_sum\", \"text\": \"\", \"type\": \"scatter\", \"uid\": \"c0815dae-c6f5-4c6d-9d44-7defc6b88185\", \"x\": [\"2017-04-01\", \"2017-04-02\", \"2017-04-03\", \"2017-04-04\", \"2017-04-05\", \"2017-04-06\", \"2017-04-07\", \"2017-04-08\", \"2017-04-09\", \"2017-04-10\", \"2017-04-11\", \"2017-04-12\", \"2017-04-13\", \"2017-04-14\", \"2017-04-15\", \"2017-04-16\", \"2017-04-17\", \"2017-04-18\", \"2017-04-19\", \"2017-04-20\", \"2017-04-21\", \"2017-04-22\", \"2017-04-23\", \"2017-04-24\", \"2017-04-25\", \"2017-04-26\", \"2017-04-27\", \"2017-04-28\", \"2017-04-29\", \"2017-04-30\"], \"y\": [111186.6969300016, 114319.63170000147, 115252.22685000143, 106454.93157000098, 83312.88254000072, 88225.14987000008, 76980.4158499995, 105624.61177000115, 127797.29675000183, 124677.88441000147, 85856.45188000004, 85086.9590900007, 87074.74940000019, 93280.58419000043, 107475.81662000097, 120999.10343000107, 79201.68166, 98905.8229400006, 63741.901349999716, 102592.43128000115, 78569.74341000005, 128930.39142000214, 126883.93038000212, 91634.5152700004, 127137.58165000191, 89379.87373000066, 83603.32457999978, 97561.907400001, 116873.16467000057, 122573.60531000217]}],\n",
       "                        {\"legend\": {\"bgcolor\": \"#FFFFFF\", \"font\": {\"color\": \"#666666\"}}, \"paper_bgcolor\": \"#FFFFFF\", \"plot_bgcolor\": \"#E5E5E5\", \"title\": {\"font\": {\"color\": \"#151516\"}, \"text\": \"\\u56db\\u6708\\u9500\\u552e\\u989d\\u5206\\u65e5\\u8d8b\\u52bf\\u56fe\"}, \"xaxis\": {\"gridcolor\": \"#F6F6F6\", \"showgrid\": true, \"tickfont\": {\"color\": \"#666666\"}, \"title\": {\"font\": {\"color\": \"#666666\"}, \"text\": \"Sdate\"}, \"zerolinecolor\": \"#F6F6F6\"}, \"yaxis\": {\"gridcolor\": \"#F6F6F6\", \"showgrid\": true, \"tickfont\": {\"color\": \"#666666\"}, \"title\": {\"font\": {\"color\": \"#666666\"}, \"text\": \"sale_sum Value\"}, \"zerolinecolor\": \"#F6F6F6\"}},\n",
       "                        {\"showLink\": false, \"linkText\": \"Export to plot.ly\", \"plotlyServerURL\": \"https://plot.ly\", \"responsive\": true}\n",
       "                    ).then(function(){\n",
       "                            \n",
       "var gd = document.getElementById('97e8b303-6bcb-4333-a491-bdfc4b4ef376');\n",
       "var x = new MutationObserver(function (mutations, observer) {{\n",
       "        var display = window.getComputedStyle(gd).display;\n",
       "        if (!display || display === 'none') {{\n",
       "            console.log([gd, 'removed!']);\n",
       "            Plotly.purge(gd);\n",
       "            observer.disconnect();\n",
       "        }}\n",
       "}});\n",
       "\n",
       "// Listen for the removal of the full notebook cells\n",
       "var notebookContainer = gd.closest('#notebook-container');\n",
       "if (notebookContainer) {{\n",
       "    x.observe(notebookContainer, {childList: true});\n",
       "}}\n",
       "\n",
       "// Listen for the clearing of the current output cell\n",
       "var outputEl = gd.closest('.output');\n",
       "if (outputEl) {{\n",
       "    x.observe(outputEl, {childList: true});\n",
       "}}\n",
       "\n",
       "                        })\n",
       "                };\n",
       "                });\n",
       "            </script>\n",
       "        </div>"
      ]
     },
     "metadata": {},
     "output_type": "display_data"
    }
   ],
   "source": [
    "py_offline.iplot(grouped_sale_sum.iplot(asFigure=True,\n",
    "                          title='四月销售额分日趋势图',\n",
    "                          xTitle='Sdate',\n",
    "                          yTitle='sale_sum Value',\n",
    "                          theme='ggplot'))"
   ]
  },
  {
   "cell_type": "code",
   "execution_count": 24,
   "metadata": {
    "ExecuteTime": {
     "end_time": "2019-07-17T09:04:39.368394Z",
     "start_time": "2019-07-17T09:04:39.086469Z"
    }
   },
   "outputs": [
    {
     "data": {
      "application/vnd.plotly.v1+json": {
       "config": {
        "linkText": "Export to plot.ly",
        "plotlyServerURL": "https://plot.ly",
        "showLink": false
       },
       "data": [
        {
         "line": {
          "color": "rgba(226, 74, 51, 1.0)",
          "dash": "solid",
          "shape": "linear",
          "width": 1.3
         },
         "mode": "lines",
         "name": "SheetID",
         "text": "",
         "type": "scatter",
         "uid": "5303ccdf-5e6f-4607-8a71-396e49de55a1",
         "x": [
          "2017-04-01",
          "2017-04-02",
          "2017-04-03",
          "2017-04-04",
          "2017-04-05",
          "2017-04-06",
          "2017-04-07",
          "2017-04-08",
          "2017-04-09",
          "2017-04-10",
          "2017-04-11",
          "2017-04-12",
          "2017-04-13",
          "2017-04-14",
          "2017-04-15",
          "2017-04-16",
          "2017-04-17",
          "2017-04-18",
          "2017-04-19",
          "2017-04-20",
          "2017-04-21",
          "2017-04-22",
          "2017-04-23",
          "2017-04-24",
          "2017-04-25",
          "2017-04-26",
          "2017-04-27",
          "2017-04-28",
          "2017-04-29",
          "2017-04-30"
         ],
         "y": [
          3390,
          3406,
          3348,
          3197,
          2591,
          2722,
          2484,
          3067,
          3657,
          3448,
          2609,
          2990,
          2919,
          2886,
          3283,
          3452,
          2541,
          2917,
          2126,
          3131,
          2584,
          3641,
          3678,
          2900,
          3569,
          2474,
          2784,
          3091,
          3345,
          3601
         ]
        }
       ],
       "layout": {
        "legend": {
         "bgcolor": "#FFFFFF",
         "font": {
          "color": "#666666"
         }
        },
        "paper_bgcolor": "#FFFFFF",
        "plot_bgcolor": "#E5E5E5",
        "title": {
         "font": {
          "color": "#151516"
         },
         "text": "四月客流分日趋势图"
        },
        "xaxis": {
         "gridcolor": "#F6F6F6",
         "showgrid": true,
         "tickfont": {
          "color": "#666666"
         },
         "title": {
          "font": {
           "color": "#666666"
          },
          "text": "Sdate"
         },
         "zerolinecolor": "#F6F6F6"
        },
        "yaxis": {
         "gridcolor": "#F6F6F6",
         "showgrid": true,
         "tickfont": {
          "color": "#666666"
         },
         "title": {
          "font": {
           "color": "#666666"
          },
          "text": " Value"
         },
         "zerolinecolor": "#F6F6F6"
        }
       }
      },
      "text/html": [
       "<div>\n",
       "        \n",
       "        \n",
       "            <div id=\"d0d77c10-699d-49fe-95e6-cfd0f4b3d61c\" class=\"plotly-graph-div\" style=\"height:525px; width:100%;\"></div>\n",
       "            <script type=\"text/javascript\">\n",
       "                require([\"plotly\"], function(Plotly) {\n",
       "                    window.PLOTLYENV=window.PLOTLYENV || {};\n",
       "                    window.PLOTLYENV.BASE_URL='https://plot.ly';\n",
       "                    \n",
       "                if (document.getElementById(\"d0d77c10-699d-49fe-95e6-cfd0f4b3d61c\")) {\n",
       "                    Plotly.newPlot(\n",
       "                        'd0d77c10-699d-49fe-95e6-cfd0f4b3d61c',\n",
       "                        [{\"line\": {\"color\": \"rgba(226, 74, 51, 1.0)\", \"dash\": \"solid\", \"shape\": \"linear\", \"width\": 1.3}, \"mode\": \"lines\", \"name\": \"SheetID\", \"text\": \"\", \"type\": \"scatter\", \"uid\": \"5303ccdf-5e6f-4607-8a71-396e49de55a1\", \"x\": [\"2017-04-01\", \"2017-04-02\", \"2017-04-03\", \"2017-04-04\", \"2017-04-05\", \"2017-04-06\", \"2017-04-07\", \"2017-04-08\", \"2017-04-09\", \"2017-04-10\", \"2017-04-11\", \"2017-04-12\", \"2017-04-13\", \"2017-04-14\", \"2017-04-15\", \"2017-04-16\", \"2017-04-17\", \"2017-04-18\", \"2017-04-19\", \"2017-04-20\", \"2017-04-21\", \"2017-04-22\", \"2017-04-23\", \"2017-04-24\", \"2017-04-25\", \"2017-04-26\", \"2017-04-27\", \"2017-04-28\", \"2017-04-29\", \"2017-04-30\"], \"y\": [3390, 3406, 3348, 3197, 2591, 2722, 2484, 3067, 3657, 3448, 2609, 2990, 2919, 2886, 3283, 3452, 2541, 2917, 2126, 3131, 2584, 3641, 3678, 2900, 3569, 2474, 2784, 3091, 3345, 3601]}],\n",
       "                        {\"legend\": {\"bgcolor\": \"#FFFFFF\", \"font\": {\"color\": \"#666666\"}}, \"paper_bgcolor\": \"#FFFFFF\", \"plot_bgcolor\": \"#E5E5E5\", \"title\": {\"font\": {\"color\": \"#151516\"}, \"text\": \"\\u56db\\u6708\\u5ba2\\u6d41\\u5206\\u65e5\\u8d8b\\u52bf\\u56fe\"}, \"xaxis\": {\"gridcolor\": \"#F6F6F6\", \"showgrid\": true, \"tickfont\": {\"color\": \"#666666\"}, \"title\": {\"font\": {\"color\": \"#666666\"}, \"text\": \"Sdate\"}, \"zerolinecolor\": \"#F6F6F6\"}, \"yaxis\": {\"gridcolor\": \"#F6F6F6\", \"showgrid\": true, \"tickfont\": {\"color\": \"#666666\"}, \"title\": {\"font\": {\"color\": \"#666666\"}, \"text\": \" Value\"}, \"zerolinecolor\": \"#F6F6F6\"}},\n",
       "                        {\"showLink\": false, \"linkText\": \"Export to plot.ly\", \"plotlyServerURL\": \"https://plot.ly\", \"responsive\": true}\n",
       "                    ).then(function(){\n",
       "                            \n",
       "var gd = document.getElementById('d0d77c10-699d-49fe-95e6-cfd0f4b3d61c');\n",
       "var x = new MutationObserver(function (mutations, observer) {{\n",
       "        var display = window.getComputedStyle(gd).display;\n",
       "        if (!display || display === 'none') {{\n",
       "            console.log([gd, 'removed!']);\n",
       "            Plotly.purge(gd);\n",
       "            observer.disconnect();\n",
       "        }}\n",
       "}});\n",
       "\n",
       "// Listen for the removal of the full notebook cells\n",
       "var notebookContainer = gd.closest('#notebook-container');\n",
       "if (notebookContainer) {{\n",
       "    x.observe(notebookContainer, {childList: true});\n",
       "}}\n",
       "\n",
       "// Listen for the clearing of the current output cell\n",
       "var outputEl = gd.closest('.output');\n",
       "if (outputEl) {{\n",
       "    x.observe(outputEl, {childList: true});\n",
       "}}\n",
       "\n",
       "                        })\n",
       "                };\n",
       "                });\n",
       "            </script>\n",
       "        </div>"
      ]
     },
     "metadata": {},
     "output_type": "display_data"
    }
   ],
   "source": [
    "grouped_traffic = April_data[[\"SDate\",\"SheetID\"]].drop_duplicates().groupby(\"SDate\")[\"SheetID\"].count()\n",
    "#grouped_traffic.plot(title = \"四月客流量分日趋势图\")\n",
    "time_day= []\n",
    "for each_day in list(grouped_traffic.index.values):\n",
    "    time_day.append(arrow.get(str(each_day),'YYYYMMDD').format('YYYY-MM-DD '))\n",
    "#time_day\n",
    "grouped_traffic.index = pd.DatetimeIndex(time_day)\n",
    "py_offline.iplot(grouped_traffic .iplot(asFigure=True,\n",
    "                          title='四月客流分日趋势图',\n",
    "                          xTitle='Sdate',\n",
    "                          yTitle=' Value',\n",
    "                          theme='ggplot'))\n",
    "#grouped_traffic.plot(title = \"四月客流量分日趋势图\")"
   ]
  },
  {
   "cell_type": "code",
   "execution_count": 25,
   "metadata": {
    "ExecuteTime": {
     "end_time": "2019-07-17T09:04:39.635597Z",
     "start_time": "2019-07-17T09:04:39.384352Z"
    }
   },
   "outputs": [
    {
     "data": {
      "application/vnd.plotly.v1+json": {
       "config": {
        "linkText": "Export to plot.ly",
        "plotlyServerURL": "https://plot.ly",
        "showLink": false
       },
       "data": [
        {
         "line": {
          "color": "rgba(226, 74, 51, 1.0)",
          "dash": "solid",
          "shape": "linear",
          "width": 1.3
         },
         "mode": "lines",
         "name": "None",
         "text": "",
         "type": "scatter",
         "uid": "6baa1fa1-f3c8-4b1f-a3ea-9925e0086210",
         "x": [
          "2017-04-01",
          "2017-04-02",
          "2017-04-03",
          "2017-04-04",
          "2017-04-05",
          "2017-04-06",
          "2017-04-07",
          "2017-04-08",
          "2017-04-09",
          "2017-04-10",
          "2017-04-11",
          "2017-04-12",
          "2017-04-13",
          "2017-04-14",
          "2017-04-15",
          "2017-04-16",
          "2017-04-17",
          "2017-04-18",
          "2017-04-19",
          "2017-04-20",
          "2017-04-21",
          "2017-04-22",
          "2017-04-23",
          "2017-04-24",
          "2017-04-25",
          "2017-04-26",
          "2017-04-27",
          "2017-04-28",
          "2017-04-29",
          "2017-04-30"
         ],
         "y": [
          32.798435672566846,
          33.56419016441617,
          34.424201568100784,
          33.298383350015946,
          32.15472116557341,
          32.41188459588541,
          30.99050557568418,
          34.43906480926024,
          34.9459384057976,
          36.1594792372394,
          32.90780064392489,
          28.45717695317749,
          29.830335525865088,
          32.32175474358989,
          32.73707481571763,
          35.05188396002348,
          31.16949297914207,
          33.90669281453569,
          29.982079656632038,
          32.76666601085952,
          30.406247449690422,
          35.410708986542744,
          34.49807786296958,
          31.59810871379324,
          35.6227463295046,
          36.12767733629776,
          30.029929806034403,
          31.563218181818506,
          34.939660588938885,
          34.03876848375511
         ]
        }
       ],
       "layout": {
        "legend": {
         "bgcolor": "#FFFFFF",
         "font": {
          "color": "#666666"
         }
        },
        "paper_bgcolor": "#FFFFFF",
        "plot_bgcolor": "#E5E5E5",
        "title": {
         "font": {
          "color": "#151516"
         },
         "text": "四月客单价日趋势图"
        },
        "xaxis": {
         "gridcolor": "#F6F6F6",
         "showgrid": true,
         "tickfont": {
          "color": "#666666"
         },
         "title": {
          "font": {
           "color": "#666666"
          },
          "text": "Sdate"
         },
         "zerolinecolor": "#F6F6F6"
        },
        "yaxis": {
         "gridcolor": "#F6F6F6",
         "showgrid": true,
         "tickfont": {
          "color": "#666666"
         },
         "title": {
          "font": {
           "color": "#666666"
          },
          "text": " Value"
         },
         "zerolinecolor": "#F6F6F6"
        }
       }
      },
      "text/html": [
       "<div>\n",
       "        \n",
       "        \n",
       "            <div id=\"30b0f22c-ddfc-444a-aaaf-7b81d70f0eb8\" class=\"plotly-graph-div\" style=\"height:525px; width:100%;\"></div>\n",
       "            <script type=\"text/javascript\">\n",
       "                require([\"plotly\"], function(Plotly) {\n",
       "                    window.PLOTLYENV=window.PLOTLYENV || {};\n",
       "                    window.PLOTLYENV.BASE_URL='https://plot.ly';\n",
       "                    \n",
       "                if (document.getElementById(\"30b0f22c-ddfc-444a-aaaf-7b81d70f0eb8\")) {\n",
       "                    Plotly.newPlot(\n",
       "                        '30b0f22c-ddfc-444a-aaaf-7b81d70f0eb8',\n",
       "                        [{\"line\": {\"color\": \"rgba(226, 74, 51, 1.0)\", \"dash\": \"solid\", \"shape\": \"linear\", \"width\": 1.3}, \"mode\": \"lines\", \"name\": \"None\", \"text\": \"\", \"type\": \"scatter\", \"uid\": \"6baa1fa1-f3c8-4b1f-a3ea-9925e0086210\", \"x\": [\"2017-04-01\", \"2017-04-02\", \"2017-04-03\", \"2017-04-04\", \"2017-04-05\", \"2017-04-06\", \"2017-04-07\", \"2017-04-08\", \"2017-04-09\", \"2017-04-10\", \"2017-04-11\", \"2017-04-12\", \"2017-04-13\", \"2017-04-14\", \"2017-04-15\", \"2017-04-16\", \"2017-04-17\", \"2017-04-18\", \"2017-04-19\", \"2017-04-20\", \"2017-04-21\", \"2017-04-22\", \"2017-04-23\", \"2017-04-24\", \"2017-04-25\", \"2017-04-26\", \"2017-04-27\", \"2017-04-28\", \"2017-04-29\", \"2017-04-30\"], \"y\": [32.798435672566846, 33.56419016441617, 34.424201568100784, 33.298383350015946, 32.15472116557341, 32.41188459588541, 30.99050557568418, 34.43906480926024, 34.9459384057976, 36.1594792372394, 32.90780064392489, 28.45717695317749, 29.830335525865088, 32.32175474358989, 32.73707481571763, 35.05188396002348, 31.16949297914207, 33.90669281453569, 29.982079656632038, 32.76666601085952, 30.406247449690422, 35.410708986542744, 34.49807786296958, 31.59810871379324, 35.6227463295046, 36.12767733629776, 30.029929806034403, 31.563218181818506, 34.939660588938885, 34.03876848375511]}],\n",
       "                        {\"legend\": {\"bgcolor\": \"#FFFFFF\", \"font\": {\"color\": \"#666666\"}}, \"paper_bgcolor\": \"#FFFFFF\", \"plot_bgcolor\": \"#E5E5E5\", \"title\": {\"font\": {\"color\": \"#151516\"}, \"text\": \"\\u56db\\u6708\\u5ba2\\u5355\\u4ef7\\u65e5\\u8d8b\\u52bf\\u56fe\"}, \"xaxis\": {\"gridcolor\": \"#F6F6F6\", \"showgrid\": true, \"tickfont\": {\"color\": \"#666666\"}, \"title\": {\"font\": {\"color\": \"#666666\"}, \"text\": \"Sdate\"}, \"zerolinecolor\": \"#F6F6F6\"}, \"yaxis\": {\"gridcolor\": \"#F6F6F6\", \"showgrid\": true, \"tickfont\": {\"color\": \"#666666\"}, \"title\": {\"font\": {\"color\": \"#666666\"}, \"text\": \" Value\"}, \"zerolinecolor\": \"#F6F6F6\"}},\n",
       "                        {\"showLink\": false, \"linkText\": \"Export to plot.ly\", \"plotlyServerURL\": \"https://plot.ly\", \"responsive\": true}\n",
       "                    ).then(function(){\n",
       "                            \n",
       "var gd = document.getElementById('30b0f22c-ddfc-444a-aaaf-7b81d70f0eb8');\n",
       "var x = new MutationObserver(function (mutations, observer) {{\n",
       "        var display = window.getComputedStyle(gd).display;\n",
       "        if (!display || display === 'none') {{\n",
       "            console.log([gd, 'removed!']);\n",
       "            Plotly.purge(gd);\n",
       "            observer.disconnect();\n",
       "        }}\n",
       "}});\n",
       "\n",
       "// Listen for the removal of the full notebook cells\n",
       "var notebookContainer = gd.closest('#notebook-container');\n",
       "if (notebookContainer) {{\n",
       "    x.observe(notebookContainer, {childList: true});\n",
       "}}\n",
       "\n",
       "// Listen for the clearing of the current output cell\n",
       "var outputEl = gd.closest('.output');\n",
       "if (outputEl) {{\n",
       "    x.observe(outputEl, {childList: true});\n",
       "}}\n",
       "\n",
       "                        })\n",
       "                };\n",
       "                });\n",
       "            </script>\n",
       "        </div>"
      ]
     },
     "metadata": {},
     "output_type": "display_data"
    }
   ],
   "source": [
    "grouped_price = (grouped_sale_sum/grouped_traffic)\n",
    "#grouped_price.plot(title = \"四月客单价分日趋势图\")\n",
    "#time_day\n",
    "py_offline.iplot(grouped_price.iplot(asFigure=True,\n",
    "                          title='四月客单价日趋势图',\n",
    "                          xTitle='Sdate',\n",
    "                          yTitle=' Value',\n",
    "                          theme='ggplot'))"
   ]
  },
  {
   "cell_type": "markdown",
   "metadata": {},
   "source": [
    "# 分周数据"
   ]
  },
  {
   "cell_type": "code",
   "execution_count": 26,
   "metadata": {
    "ExecuteTime": {
     "end_time": "2019-07-17T09:04:40.539078Z",
     "start_time": "2019-07-17T09:04:39.658956Z"
    }
   },
   "outputs": [],
   "source": [
    "April_data[\"weeknum\"] = [time.weekday()+1 for time in April_data[\"STime\"]]"
   ]
  },
  {
   "cell_type": "code",
   "execution_count": 27,
   "metadata": {
    "ExecuteTime": {
     "end_time": "2019-07-17T09:04:40.578972Z",
     "start_time": "2019-07-17T09:04:40.554037Z"
    }
   },
   "outputs": [
    {
     "data": {
      "text/html": [
       "<div>\n",
       "<style scoped>\n",
       "    .dataframe tbody tr th:only-of-type {\n",
       "        vertical-align: middle;\n",
       "    }\n",
       "\n",
       "    .dataframe tbody tr th {\n",
       "        vertical-align: top;\n",
       "    }\n",
       "\n",
       "    .dataframe thead th {\n",
       "        text-align: right;\n",
       "    }\n",
       "</style>\n",
       "<table border=\"1\" class=\"dataframe\">\n",
       "  <thead>\n",
       "    <tr style=\"text-align: right;\">\n",
       "      <th></th>\n",
       "      <th>GoodsID</th>\n",
       "      <th>CateID</th>\n",
       "      <th>Cost</th>\n",
       "      <th>Price</th>\n",
       "      <th>Qty</th>\n",
       "      <th>shopID</th>\n",
       "      <th>SDate</th>\n",
       "      <th>STime</th>\n",
       "      <th>SheetID</th>\n",
       "      <th>CashValue</th>\n",
       "      <th>date</th>\n",
       "      <th>月份</th>\n",
       "      <th>sale_sum</th>\n",
       "      <th>weeknum</th>\n",
       "    </tr>\n",
       "  </thead>\n",
       "  <tbody>\n",
       "    <tr>\n",
       "      <th>493644</th>\n",
       "      <td>30089347</td>\n",
       "      <td>910030000</td>\n",
       "      <td>2.370000</td>\n",
       "      <td>2.62</td>\n",
       "      <td>7.000</td>\n",
       "      <td>CDLG</td>\n",
       "      <td>20170405</td>\n",
       "      <td>2017-04-05 18:20:35</td>\n",
       "      <td>20170405CDLG000310112461</td>\n",
       "      <td>18.340</td>\n",
       "      <td>2017-04-05</td>\n",
       "      <td>4</td>\n",
       "      <td>18.34000</td>\n",
       "      <td>3</td>\n",
       "    </tr>\n",
       "    <tr>\n",
       "      <th>493645</th>\n",
       "      <td>30020269</td>\n",
       "      <td>923000101</td>\n",
       "      <td>7.636254</td>\n",
       "      <td>10.80</td>\n",
       "      <td>1.064</td>\n",
       "      <td>CDLG</td>\n",
       "      <td>20170405</td>\n",
       "      <td>2017-04-05 18:20:57</td>\n",
       "      <td>20170405CDLG000310112462</td>\n",
       "      <td>11.496</td>\n",
       "      <td>2017-04-05</td>\n",
       "      <td>4</td>\n",
       "      <td>11.49120</td>\n",
       "      <td>3</td>\n",
       "    </tr>\n",
       "    <tr>\n",
       "      <th>493646</th>\n",
       "      <td>30006266</td>\n",
       "      <td>914100000</td>\n",
       "      <td>9.020000</td>\n",
       "      <td>9.12</td>\n",
       "      <td>1.000</td>\n",
       "      <td>CDLG</td>\n",
       "      <td>20170405</td>\n",
       "      <td>2017-04-05 18:21:43</td>\n",
       "      <td>20170405CDLG000310112463</td>\n",
       "      <td>35.200</td>\n",
       "      <td>2017-04-05</td>\n",
       "      <td>4</td>\n",
       "      <td>9.12000</td>\n",
       "      <td>3</td>\n",
       "    </tr>\n",
       "    <tr>\n",
       "      <th>493647</th>\n",
       "      <td>30166320</td>\n",
       "      <td>936010000</td>\n",
       "      <td>5.208750</td>\n",
       "      <td>6.52</td>\n",
       "      <td>1.000</td>\n",
       "      <td>CDLG</td>\n",
       "      <td>20170405</td>\n",
       "      <td>2017-04-05 18:21:43</td>\n",
       "      <td>20170405CDLG000310112463</td>\n",
       "      <td>35.200</td>\n",
       "      <td>2017-04-05</td>\n",
       "      <td>4</td>\n",
       "      <td>6.52000</td>\n",
       "      <td>3</td>\n",
       "    </tr>\n",
       "    <tr>\n",
       "      <th>493651</th>\n",
       "      <td>29989058</td>\n",
       "      <td>922000001</td>\n",
       "      <td>0.525031</td>\n",
       "      <td>0.58</td>\n",
       "      <td>2.414</td>\n",
       "      <td>CDLG</td>\n",
       "      <td>20170405</td>\n",
       "      <td>2017-04-05 18:22:22</td>\n",
       "      <td>20170405CDLG000310112464</td>\n",
       "      <td>47.322</td>\n",
       "      <td>2017-04-05</td>\n",
       "      <td>4</td>\n",
       "      <td>1.40012</td>\n",
       "      <td>3</td>\n",
       "    </tr>\n",
       "  </tbody>\n",
       "</table>\n",
       "</div>"
      ],
      "text/plain": [
       "         GoodsID     CateID      Cost  Price    Qty shopID     SDate  \\\n",
       "493644  30089347  910030000  2.370000   2.62  7.000   CDLG  20170405   \n",
       "493645  30020269  923000101  7.636254  10.80  1.064   CDLG  20170405   \n",
       "493646  30006266  914100000  9.020000   9.12  1.000   CDLG  20170405   \n",
       "493647  30166320  936010000  5.208750   6.52  1.000   CDLG  20170405   \n",
       "493651  29989058  922000001  0.525031   0.58  2.414   CDLG  20170405   \n",
       "\n",
       "                     STime                   SheetID  CashValue       date  \\\n",
       "493644 2017-04-05 18:20:35  20170405CDLG000310112461     18.340 2017-04-05   \n",
       "493645 2017-04-05 18:20:57  20170405CDLG000310112462     11.496 2017-04-05   \n",
       "493646 2017-04-05 18:21:43  20170405CDLG000310112463     35.200 2017-04-05   \n",
       "493647 2017-04-05 18:21:43  20170405CDLG000310112463     35.200 2017-04-05   \n",
       "493651 2017-04-05 18:22:22  20170405CDLG000310112464     47.322 2017-04-05   \n",
       "\n",
       "        月份  sale_sum  weeknum  \n",
       "493644   4  18.34000        3  \n",
       "493645   4  11.49120        3  \n",
       "493646   4   9.12000        3  \n",
       "493647   4   6.52000        3  \n",
       "493651   4   1.40012        3  "
      ]
     },
     "execution_count": 27,
     "metadata": {},
     "output_type": "execute_result"
    }
   ],
   "source": [
    "April_data.head()"
   ]
  },
  {
   "cell_type": "code",
   "execution_count": 28,
   "metadata": {
    "ExecuteTime": {
     "end_time": "2019-07-17T09:04:40.955007Z",
     "start_time": "2019-07-17T09:04:40.586950Z"
    }
   },
   "outputs": [
    {
     "data": {
      "text/plain": [
       "<matplotlib.axes._subplots.AxesSubplot at 0x192231a7710>"
      ]
     },
     "execution_count": 28,
     "metadata": {},
     "output_type": "execute_result"
    },
    {
     "data": {
      "image/png": "[encoded data removed]",
      "text/plain": [
       "<Figure size 1080x864 with 1 Axes>"
      ]
     },
     "metadata": {},
     "output_type": "display_data"
    }
   ],
   "source": [
    "week_sale = April_data.copy().groupby(\"weeknum\")[\"sale_sum\"].sum()\n",
    "week_sale.plot(title = \"分周销售额\")"
   ]
  },
  {
   "cell_type": "code",
   "execution_count": 29,
   "metadata": {
    "ExecuteTime": {
     "end_time": "2019-07-17T09:04:41.335947Z",
     "start_time": "2019-07-17T09:04:41.017797Z"
    }
   },
   "outputs": [
    {
     "data": {
      "text/plain": [
       "<matplotlib.axes._subplots.AxesSubplot at 0x19220c23ac8>"
      ]
     },
     "execution_count": 29,
     "metadata": {},
     "output_type": "execute_result"
    },
    {
     "data": {
      "image/png": "[encoded data removed]",
      "text/plain": [
       "<Figure size 1080x864 with 1 Axes>"
      ]
     },
     "metadata": {},
     "output_type": "display_data"
    }
   ],
   "source": [
    "week_traffic = April_data.copy()[[\"SheetID\",\"weeknum\"]].groupby(\"weeknum\")[\"SheetID\"].count()\n",
    "week_traffic.plot(title = \"分周客流量\")"
   ]
  },
  {
   "cell_type": "code",
   "execution_count": 30,
   "metadata": {
    "ExecuteTime": {
     "end_time": "2019-07-17T09:04:41.665067Z",
     "start_time": "2019-07-17T09:04:41.418756Z"
    }
   },
   "outputs": [
    {
     "data": {
      "text/plain": [
       "<matplotlib.axes._subplots.AxesSubplot at 0x19223135ac8>"
      ]
     },
     "execution_count": 30,
     "metadata": {},
     "output_type": "execute_result"
    },
    {
     "data": {
      "image/png": "[encoded data removed]",
      "text/plain": [
       "<Figure size 1080x864 with 1 Axes>"
      ]
     },
     "metadata": {},
     "output_type": "display_data"
    }
   ],
   "source": [
    "week_price = week_sale/week_traffic\n",
    "week_price.plot(title = \"分周客单价\")"
   ]
  },
  {
   "cell_type": "markdown",
   "metadata": {},
   "source": [
    "# 分小时数据"
   ]
  },
  {
   "cell_type": "code",
   "execution_count": 31,
   "metadata": {
    "ExecuteTime": {
     "end_time": "2019-07-17T09:04:41.782804Z",
     "start_time": "2019-07-17T09:04:41.747846Z"
    }
   },
   "outputs": [],
   "source": [
    "April_day = April_data[April_data[\"SDate\"] == 20170430]"
   ]
  },
  {
   "cell_type": "code",
   "execution_count": 32,
   "metadata": {
    "ExecuteTime": {
     "end_time": "2019-07-17T09:04:42.286432Z",
     "start_time": "2019-07-17T09:04:41.803741Z"
    }
   },
   "outputs": [],
   "source": [
    "April_day[\"hour\"] = [int(str(time)[11:13]) for time in April_day[\"STime\"]]"
   ]
  },
  {
   "cell_type": "code",
   "execution_count": 33,
   "metadata": {
    "ExecuteTime": {
     "end_time": "2019-07-17T09:04:42.585642Z",
     "start_time": "2019-07-17T09:04:42.321312Z"
    }
   },
   "outputs": [
    {
     "data": {
      "text/plain": [
       "<matplotlib.axes._subplots.AxesSubplot at 0x192232d89b0>"
      ]
     },
     "execution_count": 33,
     "metadata": {},
     "output_type": "execute_result"
    },
    {
     "data": {
      "image/png": "[encoded data removed]",
      "text/plain": [
       "<Figure size 1080x864 with 1 Axes>"
      ]
     },
     "metadata": {},
     "output_type": "display_data"
    }
   ],
   "source": [
    "day_sale = April_day.groupby(\"hour\")[\"sale_sum\"].sum()\n",
    "day_sale.plot(title = \"分小时销售额\")"
   ]
  },
  {
   "cell_type": "code",
   "execution_count": 34,
   "metadata": {
    "ExecuteTime": {
     "end_time": "2019-07-17T09:04:42.936667Z",
     "start_time": "2019-07-17T09:04:42.706284Z"
    }
   },
   "outputs": [
    {
     "data": {
      "text/plain": [
       "<matplotlib.axes._subplots.AxesSubplot at 0x1922308dc50>"
      ]
     },
     "execution_count": 34,
     "metadata": {},
     "output_type": "execute_result"
    },
    {
     "data": {
      "image/png": "[encoded data removed]",
      "text/plain": [
       "<Figure size 1080x864 with 1 Axes>"
      ]
     },
     "metadata": {},
     "output_type": "display_data"
    }
   ],
   "source": [
    "day_traffic = April_day[[\"SheetID\",\"hour\"]].groupby(\"hour\")[\"SheetID\"].count()\n",
    "day_traffic.plot(title = \"分小时客流量\")"
   ]
  },
  {
   "cell_type": "code",
   "execution_count": 35,
   "metadata": {
    "ExecuteTime": {
     "end_time": "2019-07-17T09:04:43.260801Z",
     "start_time": "2019-07-17T09:04:42.961600Z"
    }
   },
   "outputs": [
    {
     "data": {
      "text/plain": [
       "<matplotlib.axes._subplots.AxesSubplot at 0x1922311dda0>"
      ]
     },
     "execution_count": 35,
     "metadata": {},
     "output_type": "execute_result"
    },
    {
     "data": {
      "image/png": "[encoded data removed]",
      "text/plain": [
       "<Figure size 1080x864 with 1 Axes>"
      ]
     },
     "metadata": {},
     "output_type": "display_data"
    }
   ],
   "source": [
    "day_price = day_sale/day_traffic\n",
    "day_price.plot(title = \"分小时客单价\")"
   ]
  },
  {
   "cell_type": "code",
   "execution_count": null,
   "metadata": {},
   "outputs": [],
   "source": []
  },
  {
   "cell_type": "code",
   "execution_count": null,
   "metadata": {},
   "outputs": [],
   "source": []
  }
 ],
 "metadata": {
  "kernelspec": {
   "display_name": "Python 3",
   "language": "python",
   "name": "python3"
  },
  "language_info": {
   "codemirror_mode": {
    "name": "ipython",
    "version": 3
   },
   "file_extension": ".py",
   "mimetype": "text/x-python",
   "name": "python",
   "nbconvert_exporter": "python",
   "pygments_lexer": "ipython3",
   "version": "3.6.4"
  },
  "toc": {
   "base_numbering": 1,
   "nav_menu": {},
   "number_sections": true,
   "sideBar": true,
   "skip_h1_title": false,
   "title_cell": "Table of Contents",
   "title_sidebar": "Contents",
   "toc_cell": false,
   "toc_position": {},
   "toc_section_display": true,
   "toc_window_display": false
  },
  "varInspector": {
   "cols": {
    "lenName": 16,
    "lenType": 16,
    "lenVar": 40
   },
   "kernels_config": {
    "python": {
     "delete_cmd_postfix": "",
     "delete_cmd_prefix": "del ",
     "library": "var_list.py",
     "varRefreshCmd": "print(var_dic_list())"
    },
    "r": {
     "delete_cmd_postfix": ") ",
     "delete_cmd_prefix": "rm(",
     "library": "var_list.r",
     "varRefreshCmd": "cat(var_dic_list()) "
    }
   },
   "types_to_exclude": [
    "module",
    "function",
    "builtin_function_or_method",
    "instance",
    "_Feature"
   ],
   "window_display": false
  }
 },
 "nbformat": 4,
 "nbformat_minor": 2
}
