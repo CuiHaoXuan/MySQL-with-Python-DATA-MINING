{
 "cells": [
  {
   "cell_type": "code",
   "execution_count": 1,
   "metadata": {
    "ExecuteTime": {
     "end_time": "2019-09-18T02:26:07.479844Z",
     "start_time": "2019-09-18T02:26:07.457930Z"
    }
   },
   "outputs": [
    {
     "data": {
      "text/plain": [
       "'\\n  Pandas数据结构Series：基本概念及创建\\n\\n\"一维数组\"Serise\\n\\n'"
      ]
     },
     "execution_count": 1,
     "metadata": {},
     "output_type": "execute_result"
    }
   ],
   "source": [
    "'''\n",
    "  Pandas数据结构Series：基本概念及创建\n",
    "\n",
    "\"一维数组\"Serise\n",
    "\n",
    "'''"
   ]
  },
  {
   "cell_type": "code",
   "execution_count": 2,
   "metadata": {
    "ExecuteTime": {
     "end_time": "2019-09-18T02:26:09.536623Z",
     "start_time": "2019-09-18T02:26:09.130944Z"
    }
   },
   "outputs": [
    {
     "name": "stdout",
     "output_type": "stream",
     "text": [
      "0    0.274633\n",
      "1    0.027088\n",
      "2    0.740913\n",
      "3    0.727756\n",
      "4    0.082452\n",
      "dtype: float64\n",
      "<class 'pandas.core.series.Series'>\n",
      "RangeIndex(start=0, stop=5, step=1) <class 'pandas.core.indexes.range.RangeIndex'>\n",
      "[0.2746335  0.02708803 0.74091303 0.72775626 0.08245151] <class 'numpy.ndarray'>\n"
     ]
    }
   ],
   "source": [
    "# Series 数据结构\n",
    "# Series 是带有标签的一维数组，可以保存任何数据类型（整数，字符串，浮点数，Python对象等）,轴标签统称为索引\n",
    "\n",
    "import numpy as np\n",
    "import pandas as pd  \n",
    "# 导入numpy、pandas模块\n",
    "\n",
    "s = pd.Series(np.random.rand(5))\n",
    "print(s)\n",
    "print(type(s))\n",
    "# 查看数据、数据类型\n",
    "\n",
    "print(s.index,type(s.index))\n",
    "print(s.values,type(s.values))\n",
    "# .index查看series索引，类型为rangeindex\n",
    "# .values查看series值，类型是ndarray\n",
    "\n",
    "# 核心：series相比于ndarray，是一个自带索引index的数组 → 一维数组 + 对应索引\n",
    "# 所以当只看series的值的时候，就是一个ndarray\n",
    "# series和ndarray较相似，索引切片功能差别不大\n",
    "# series和dict相比，series更像一个有顺序的字典（dict本身不存在顺序），其索引原理与字典相似（一个用key，一个用index）"
   ]
  },
  {
   "cell_type": "code",
   "execution_count": 3,
   "metadata": {
    "ExecuteTime": {
     "end_time": "2019-09-18T02:26:12.383067Z",
     "start_time": "2019-09-18T02:26:12.342176Z"
    }
   },
   "outputs": [
    {
     "name": "stdout",
     "output_type": "stream",
     "text": [
      "a    1\n",
      "b    2\n",
      "c    3\n",
      "4    4\n",
      "5    5\n",
      "dtype: int64\n"
     ]
    }
   ],
   "source": [
    "# Series 创建方法一：由字典创建，字典的key就是index，values就是values\n",
    "\n",
    "dic = {'a':1 ,'b':2 , 'c':3, '4':4, '5':5}\n",
    "s = pd.Series(dic)\n",
    "print(s)\n",
    "# 注意：key肯定是字符串，假如values类型不止一个会怎么样？ → dic = {'a':1 ,'b':'hello' , 'c':3, '4':4, '5':5}"
   ]
  },
  {
   "cell_type": "code",
   "execution_count": 4,
   "metadata": {
    "ExecuteTime": {
     "end_time": "2019-09-18T02:26:14.159072Z",
     "start_time": "2019-09-18T02:26:14.135164Z"
    }
   },
   "outputs": [
    {
     "name": "stdout",
     "output_type": "stream",
     "text": [
      "[-1.76151736  0.08572088  1.53502394 -2.39410818  0.95548019]\n",
      "0   -1.761517\n",
      "1    0.085721\n",
      "2    1.535024\n",
      "3   -2.394108\n",
      "4    0.955480\n",
      "dtype: float64\n",
      "a     -1.76152\n",
      "b    0.0857209\n",
      "c      1.53502\n",
      "d     -2.39411\n",
      "e      0.95548\n",
      "dtype: object\n"
     ]
    }
   ],
   "source": [
    "# Series 创建方法二：由数组创建(一维数组)\n",
    "\n",
    "arr = np.random.randn(5)\n",
    "s = pd.Series(arr)\n",
    "print(arr)\n",
    "print(s)\n",
    "# 默认index是从0开始，步长为1的数字\n",
    "\n",
    "s = pd.Series(arr, index = ['a','b','c','d','e'],dtype = np.object)\n",
    "print(s)\n",
    "# index参数：设置index，长度保持一致\n",
    "# dtype参数：设置数值类型"
   ]
  },
  {
   "cell_type": "code",
   "execution_count": 5,
   "metadata": {
    "ExecuteTime": {
     "end_time": "2019-09-18T02:26:17.720959Z",
     "start_time": "2019-09-18T02:26:17.693057Z"
    }
   },
   "outputs": [
    {
     "name": "stdout",
     "output_type": "stream",
     "text": [
      "0    10\n",
      "1    10\n",
      "2    10\n",
      "3    10\n",
      "dtype: int64\n"
     ]
    }
   ],
   "source": [
    "# Series 创建方法三：由标量创建\n",
    "\n",
    "s = pd.Series(10, index = range(4))\n",
    "print(s)\n",
    "# 如果data是标量值，则必须提供索引。该值会重复，来匹配索引的长度"
   ]
  },
  {
   "cell_type": "code",
   "execution_count": 6,
   "metadata": {
    "ExecuteTime": {
     "end_time": "2019-09-18T02:26:18.434173Z",
     "start_time": "2019-09-18T02:26:18.411726Z"
    }
   },
   "outputs": [
    {
     "name": "stdout",
     "output_type": "stream",
     "text": [
      "0   -0.377959\n",
      "1    0.403464\n",
      "2   -0.443880\n",
      "3    0.669699\n",
      "4   -1.062724\n",
      "dtype: float64\n",
      "-----\n",
      "0   -1.333607\n",
      "1   -0.010209\n",
      "2    0.034947\n",
      "3   -0.817812\n",
      "4   -0.861802\n",
      "Name: test, dtype: float64\n",
      "None test <class 'str'>\n",
      "0   -1.333607\n",
      "1   -0.010209\n",
      "2    0.034947\n",
      "3   -0.817812\n",
      "4   -0.861802\n",
      "Name: hehehe, dtype: float64\n",
      "hehehe test\n"
     ]
    }
   ],
   "source": [
    "# Series 名称属性：name\n",
    "\n",
    "s1 = pd.Series(np.random.randn(5))\n",
    "print(s1)\n",
    "print('-----')\n",
    "s2 = pd.Series(np.random.randn(5),name = 'test')\n",
    "print(s2)\n",
    "print(s1.name, s2.name,type(s2.name))\n",
    "# name为Series的一个参数，创建一个数组的 名称\n",
    "# .name方法：输出数组的名称，输出格式为str，如果没用定义输出名称，输出为None\n",
    "\n",
    "s3 = s2.rename('hehehe')\n",
    "print(s3)\n",
    "print(s3.name, s2.name)\n",
    "# .rename()重命名一个数组的名称，并且新指向一个数组，原数组不变"
   ]
  },
  {
   "cell_type": "markdown",
   "metadata": {},
   "source": [
    "######## 本节课有作业，请查看 “课程作业.docx”  ########"
   ]
  },
  {
   "cell_type": "code",
   "execution_count": 7,
   "metadata": {
    "ExecuteTime": {
     "end_time": "2019-09-18T02:26:26.541101Z",
     "start_time": "2019-09-18T02:26:26.530923Z"
    }
   },
   "outputs": [
    {
     "data": {
      "text/plain": [
       "'\\n  Pandas数据结构Series：索引\\n\\n位置下标 / 标签索引 / 切片索引 / 布尔型索引\\n\\n'"
      ]
     },
     "execution_count": 7,
     "metadata": {},
     "output_type": "execute_result"
    }
   ],
   "source": [
    "'''\n",
    "  Pandas数据结构Series：索引\n",
    "\n",
    "位置下标 / 标签索引 / 切片索引 / 布尔型索引\n",
    "\n",
    "'''"
   ]
  },
  {
   "cell_type": "code",
   "execution_count": 8,
   "metadata": {
    "ExecuteTime": {
     "end_time": "2019-09-18T02:26:30.906310Z",
     "start_time": "2019-09-18T02:26:30.876454Z"
    }
   },
   "outputs": [
    {
     "name": "stdout",
     "output_type": "stream",
     "text": [
      "0    0.921188\n",
      "1    0.057369\n",
      "2    0.305981\n",
      "3    0.804276\n",
      "4    0.771608\n",
      "dtype: float64\n",
      "0.9211878469836418 <class 'numpy.float64'> float64\n",
      "0.9211878469836418 <class 'float'>\n"
     ]
    }
   ],
   "source": [
    "# 位置下标，类似序列\n",
    "\n",
    "s = pd.Series(np.random.rand(5))\n",
    "print(s)\n",
    "print(s[0],type(s[0]),s[0].dtype)\n",
    "print(float(s[0]),type(float(s[0])))\n",
    "#print(s[-1])\n",
    "# 位置下标从0开始\n",
    "# 输出结果为numpy.float格式，\n",
    "# 可以通过float()函数转换为python float格式\n",
    "# numpy.float与float占用字节不同\n",
    "# s[-1]结果如何？"
   ]
  },
  {
   "cell_type": "markdown",
   "metadata": {},
   "source": [
    "# 标签索引"
   ]
  },
  {
   "cell_type": "code",
   "execution_count": 9,
   "metadata": {
    "ExecuteTime": {
     "end_time": "2019-09-18T02:26:40.165385Z",
     "start_time": "2019-09-18T02:26:40.133473Z"
    }
   },
   "outputs": [
    {
     "name": "stdout",
     "output_type": "stream",
     "text": [
      "a    0.579849\n",
      "b    0.094840\n",
      "c    0.166595\n",
      "d    0.127791\n",
      "e    0.217417\n",
      "dtype: float64\n",
      "0.579849205901929 <class 'numpy.float64'> float64\n",
      "a    0.579849\n",
      "b    0.094840\n",
      "e    0.217417\n",
      "dtype: float64 <class 'pandas.core.series.Series'>\n"
     ]
    }
   ],
   "source": [
    "s = pd.Series(np.random.rand(5), index = ['a','b','c','d','e'])\n",
    "print(s)\n",
    "print(s['a'],type(s['a']),s['a'].dtype)\n",
    "# 方法类似下标索引，用[]表示，内写上index，注意index是字符串\n",
    "\n",
    "sci = s[['a','b','e']]\n",
    "print(sci,type(sci))\n",
    "# 如果需要选择多个标签的值，用[[]]来表示（相当于[]中包含一个列表）\n",
    "# 多标签索引结果是新的数组"
   ]
  },
  {
   "cell_type": "markdown",
   "metadata": {
    "code_folding": []
   },
   "source": [
    "# 切片索引"
   ]
  },
  {
   "cell_type": "code",
   "execution_count": 10,
   "metadata": {
    "ExecuteTime": {
     "end_time": "2019-09-18T02:27:49.985838Z",
     "start_time": "2019-09-18T02:27:49.945985Z"
    }
   },
   "outputs": [
    {
     "name": "stdout",
     "output_type": "stream",
     "text": [
      "1    0.412631\n",
      "2    0.475712\n",
      "3    0.076451\n",
      "dtype: float64 0.6848100943274417\n",
      "a    0.918924\n",
      "b    0.826289\n",
      "c    0.028397\n",
      "dtype: float64 0.028397393337698862\n",
      "a    0.918924\n",
      "b    0.826289\n",
      "c    0.028397\n",
      "dtype: float64 0.5216405813192984\n",
      "-----\n",
      "a    0.918924\n",
      "b    0.826289\n",
      "c    0.028397\n",
      "d    0.521641\n",
      "dtype: float64\n",
      "a    0.918924\n",
      "c    0.028397\n",
      "e    0.723235\n",
      "dtype: float64\n"
     ]
    }
   ],
   "source": [
    "s1 = pd.Series(np.random.rand(5))\n",
    "s2 = pd.Series(np.random.rand(5), index = ['a','b','c','d','e'])\n",
    "print(s1[1:4],s1[4])\n",
    "print(s2['a':'c'],s2['c'])\n",
    "print(s2[0:3],s2[3])\n",
    "print('-----')\n",
    "# 注意：用index做切片是末端包含\n",
    "\n",
    "print(s2[:-1])\n",
    "print(s2[::2])\n",
    "# 下标索引做切片，和list写法一样"
   ]
  },
  {
   "cell_type": "code",
   "execution_count": 11,
   "metadata": {
    "ExecuteTime": {
     "end_time": "2019-09-18T02:27:53.827821Z",
     "start_time": "2019-09-18T02:27:53.734930Z"
    }
   },
   "outputs": [
    {
     "name": "stdout",
     "output_type": "stream",
     "text": [
      "0    30.8483\n",
      "1    67.5465\n",
      "2    18.0083\n",
      "4       None\n",
      "dtype: object\n",
      "0    False\n",
      "1     True\n",
      "2    False\n",
      "4    False\n",
      "dtype: bool <class 'pandas.core.series.Series'> bool\n",
      "0    False\n",
      "1    False\n",
      "2    False\n",
      "4     True\n",
      "dtype: bool <class 'pandas.core.series.Series'> bool\n",
      "0     True\n",
      "1     True\n",
      "2     True\n",
      "4    False\n",
      "dtype: bool <class 'pandas.core.series.Series'> bool\n",
      "-----\n",
      "1    67.5465\n",
      "dtype: object\n",
      "0    30.8483\n",
      "1    67.5465\n",
      "2    18.0083\n",
      "dtype: object\n"
     ]
    }
   ],
   "source": [
    "# 布尔型索引\n",
    "\n",
    "s = pd.Series(np.random.rand(3)*100)\n",
    "s[4] = None  # 添加一个空值\n",
    "print(s)\n",
    "bs1 = s > 50\n",
    "bs2 = s.isnull()\n",
    "bs3 = s.notnull()\n",
    "print(bs1, type(bs1), bs1.dtype)\n",
    "print(bs2, type(bs2), bs2.dtype)\n",
    "print(bs3, type(bs3), bs3.dtype)\n",
    "print('-----')\n",
    "# 数组做判断之后，返回的是一个由布尔值组成的新的数组\n",
    "# .isnull() / .notnull() 判断是否为空值 (None代表空值，NaN代表有问题的数值，两个都会识别为空值)\n",
    "\n",
    "print(s[s > 50])\n",
    "print(s[bs3])\n",
    "# 布尔型索引方法：用[判断条件]表示，其中判断条件可以是 一个语句，或者是 一个布尔型数组！"
   ]
  },
  {
   "cell_type": "markdown",
   "metadata": {},
   "source": [
    "\n",
    "# Pandas数据结构Series：基本技巧\n",
    "\n",
    "数据查看 / 重新索引 / 对齐 / 添加、修改、删除值\n",
    "\n"
   ]
  },
  {
   "cell_type": "code",
   "execution_count": 12,
   "metadata": {
    "ExecuteTime": {
     "end_time": "2019-09-18T02:28:29.050849Z",
     "start_time": "2019-09-18T02:28:29.036883Z"
    }
   },
   "outputs": [],
   "source": [
    "# 数据查看"
   ]
  },
  {
   "cell_type": "code",
   "execution_count": 13,
   "metadata": {
    "ExecuteTime": {
     "end_time": "2019-09-18T02:28:30.820762Z",
     "start_time": "2019-09-18T02:28:30.806240Z"
    }
   },
   "outputs": [
    {
     "name": "stdout",
     "output_type": "stream",
     "text": [
      "0    0.142507\n",
      "1    0.765783\n",
      "2    0.063130\n",
      "3    0.573327\n",
      "4    0.985423\n",
      "5    0.567375\n",
      "6    0.748043\n",
      "7    0.950168\n",
      "8    0.729140\n",
      "9    0.773504\n",
      "dtype: float64\n",
      "45    0.541608\n",
      "46    0.112611\n",
      "47    0.395101\n",
      "48    0.805996\n",
      "49    0.837491\n",
      "dtype: float64\n"
     ]
    }
   ],
   "source": [
    "s = pd.Series(np.random.rand(50))\n",
    "print(s.head(10))\n",
    "print(s.tail())\n",
    "# .head()查看头部数据\n",
    "# .tail()查看尾部数据\n",
    "# 默认查看5条"
   ]
  },
  {
   "cell_type": "markdown",
   "metadata": {},
   "source": [
    "# 重新索引reindex\n",
    "# .reindex将会根据索引重新排序，如果当前索引不存在，则引入缺失值"
   ]
  },
  {
   "cell_type": "code",
   "execution_count": 11,
   "metadata": {},
   "outputs": [
    {
     "name": "stdout",
     "output_type": "stream",
     "text": [
      "a    0.343718\n",
      "b    0.322228\n",
      "c    0.746720\n",
      "dtype: float64\n",
      "c    0.746720\n",
      "b    0.322228\n",
      "a    0.343718\n",
      "d         NaN\n",
      "dtype: float64\n",
      "c    0.746720\n",
      "b    0.322228\n",
      "a    0.343718\n",
      "d    0.000000\n",
      "dtype: float64\n"
     ]
    }
   ],
   "source": [
    "s = pd.Series(np.random.rand(3), index = ['a','b','c'])\n",
    "print(s)\n",
    "s1 = s.reindex(['c','b','a','d'])\n",
    "print(s1)\n",
    "# .reindex()中也是写列表\n",
    "# 这里'd'索引不存在，所以值为NaN\n",
    "\n",
    "s2 = s.reindex(['c','b','a','d'], fill_value = 0)\n",
    "print(s2)\n",
    "# fill_value参数：填充缺失值的值"
   ]
  },
  {
   "cell_type": "markdown",
   "metadata": {},
   "source": [
    "# Series对齐"
   ]
  },
  {
   "cell_type": "code",
   "execution_count": 14,
   "metadata": {
    "ExecuteTime": {
     "end_time": "2019-09-18T02:29:00.247319Z",
     "start_time": "2019-09-18T02:29:00.186944Z"
    }
   },
   "outputs": [
    {
     "name": "stdout",
     "output_type": "stream",
     "text": [
      "Jack     0.264243\n",
      "Marry    0.019366\n",
      "Tom      0.361962\n",
      "dtype: float64\n",
      "Wang     0.903765\n",
      "Jack     0.518231\n",
      "Marry    0.608944\n",
      "dtype: float64\n",
      "Jack     0.782474\n",
      "Marry    0.628310\n",
      "Tom           NaN\n",
      "Wang          NaN\n",
      "dtype: float64\n"
     ]
    }
   ],
   "source": [
    "s1 = pd.Series(np.random.rand(3), index = ['Jack','Marry','Tom'])\n",
    "s2 = pd.Series(np.random.rand(3), index = ['Wang','Jack','Marry'])\n",
    "print(s1)\n",
    "print(s2)\n",
    "print(s1+s2)\n",
    "# Series 和 ndarray 之间的主要区别是，Series 上的操作会根据标签自动对齐\n",
    "# index顺序不会影响数值计算，以标签来计算\n",
    "# 空值和任何值计算结果扔为空值"
   ]
  },
  {
   "cell_type": "markdown",
   "metadata": {},
   "source": [
    "# 删除：.drop"
   ]
  },
  {
   "cell_type": "code",
   "execution_count": 15,
   "metadata": {
    "ExecuteTime": {
     "end_time": "2019-09-18T02:29:11.309352Z",
     "start_time": "2019-09-18T02:29:11.288428Z"
    }
   },
   "outputs": [
    {
     "name": "stdout",
     "output_type": "stream",
     "text": [
      "n    0.761640\n",
      "g    0.354833\n",
      "j    0.099333\n",
      "u    0.344041\n",
      "r    0.783690\n",
      "dtype: float64\n",
      "g    0.354833\n",
      "j    0.099333\n",
      "u    0.344041\n",
      "r    0.783690\n",
      "dtype: float64\n",
      "n    0.761640\n",
      "u    0.344041\n",
      "r    0.783690\n",
      "dtype: float64\n",
      "n    0.761640\n",
      "g    0.354833\n",
      "j    0.099333\n",
      "u    0.344041\n",
      "r    0.783690\n",
      "dtype: float64\n"
     ]
    }
   ],
   "source": [
    "s = pd.Series(np.random.rand(5), index = list('ngjur'))\n",
    "print(s)\n",
    "s1 = s.drop('n')\n",
    "s2 = s.drop(['g','j'])\n",
    "print(s1)\n",
    "print(s2)\n",
    "print(s)\n",
    "# drop 删除元素之后返回副本(inplace=False)"
   ]
  },
  {
   "cell_type": "markdown",
   "metadata": {},
   "source": [
    "# 添加"
   ]
  },
  {
   "cell_type": "code",
   "execution_count": 16,
   "metadata": {
    "ExecuteTime": {
     "end_time": "2019-09-18T02:29:19.930951Z",
     "start_time": "2019-09-18T02:29:19.901060Z"
    }
   },
   "outputs": [
    {
     "name": "stdout",
     "output_type": "stream",
     "text": [
      "0    0.760846\n",
      "1    0.538608\n",
      "2    0.866485\n",
      "3    0.988791\n",
      "4    0.238893\n",
      "dtype: float64\n",
      "n    0.472108\n",
      "g    0.024497\n",
      "j    0.638192\n",
      "u    0.989907\n",
      "r    0.762401\n",
      "dtype: float64\n",
      "0      0.760846\n",
      "1      0.538608\n",
      "2      0.866485\n",
      "3      0.988791\n",
      "4      0.238893\n",
      "5    100.000000\n",
      "dtype: float64\n",
      "n      0.472108\n",
      "g      0.024497\n",
      "j      0.638192\n",
      "u      0.989907\n",
      "r      0.762401\n",
      "a    100.000000\n",
      "dtype: float64\n",
      "-----\n",
      "0      0.760846\n",
      "1      0.538608\n",
      "2      0.866485\n",
      "3      0.988791\n",
      "4      0.238893\n",
      "5    100.000000\n",
      "n      0.472108\n",
      "g      0.024497\n",
      "j      0.638192\n",
      "u      0.989907\n",
      "r      0.762401\n",
      "a    100.000000\n",
      "dtype: float64\n",
      "0      0.760846\n",
      "1      0.538608\n",
      "2      0.866485\n",
      "3      0.988791\n",
      "4      0.238893\n",
      "5    100.000000\n",
      "dtype: float64\n"
     ]
    }
   ],
   "source": [
    "s1 = pd.Series(np.random.rand(5))\n",
    "s2 = pd.Series(np.random.rand(5), index = list('ngjur'))\n",
    "print(s1)\n",
    "print(s2)\n",
    "s1[5] = 100\n",
    "s2['a'] = 100\n",
    "print(s1)\n",
    "print(s2)\n",
    "print('-----')\n",
    "# 直接通过下标索引/标签index添加值\n",
    "\n",
    "s3 = s1.append(s2)\n",
    "print(s3)\n",
    "print(s1)\n",
    "# 通过.append方法，直接添加一个数组\n",
    "# .append方法生成一个新的数组，不改变之前的数组"
   ]
  },
  {
   "cell_type": "markdown",
   "metadata": {},
   "source": [
    "# 修改"
   ]
  },
  {
   "cell_type": "code",
   "execution_count": 17,
   "metadata": {
    "ExecuteTime": {
     "end_time": "2019-09-18T02:30:00.894383Z",
     "start_time": "2019-09-18T02:30:00.868452Z"
    }
   },
   "outputs": [
    {
     "name": "stdout",
     "output_type": "stream",
     "text": [
      "a    0.009389\n",
      "b    0.513802\n",
      "c    0.454657\n",
      "dtype: float64\n",
      "a    100.0\n",
      "b    200.0\n",
      "c    200.0\n",
      "dtype: float64\n"
     ]
    }
   ],
   "source": [
    "s = pd.Series(np.random.rand(3), index = ['a','b','c'])\n",
    "print(s)\n",
    "s['a'] = 100\n",
    "s[['b','c']] = 200\n",
    "print(s)\n",
    "# 通过索引直接修改，类似序列"
   ]
  },
  {
   "cell_type": "code",
   "execution_count": null,
   "metadata": {
    "collapsed": true
   },
   "outputs": [],
   "source": [
    "'''\n",
    "  Pandas数据结构Dataframe：基本概念及创建\n",
    "\n",
    "\"二维数组\"Dataframe：是一个表格型的数据结构，包含一组有序的列，其列的值类型可以是数值、字符串、布尔值等。\n",
    "\n",
    "Dataframe中的数据以一个或多个二维块存放，不是列表、字典或一维数组结构。\n",
    "\n",
    "'''"
   ]
  },
  {
   "cell_type": "markdown",
   "metadata": {},
   "source": [
    "# Dataframe 数据结构\n",
    "# Dataframe是一个表格型的数据结构，“带有标签的二维数组”。\n",
    "# Dataframe带有index（行标签）和columns（列标签）"
   ]
  },
  {
   "cell_type": "code",
   "execution_count": 18,
   "metadata": {
    "ExecuteTime": {
     "end_time": "2019-09-18T02:32:56.251493Z",
     "start_time": "2019-09-18T02:32:56.188128Z"
    }
   },
   "outputs": [
    {
     "name": "stdout",
     "output_type": "stream",
     "text": [
      "   name  age gender\n",
      "0  Jack   18      m\n",
      "1   Tom   19      m\n",
      "2  Mary   20      w\n",
      "<class 'pandas.core.frame.DataFrame'>\n",
      "RangeIndex(start=0, stop=3, step=1) \n",
      "该数据类型为： <class 'pandas.core.indexes.range.RangeIndex'>\n",
      "Index(['name', 'age', 'gender'], dtype='object') \n",
      "该数据类型为： <class 'pandas.core.indexes.base.Index'>\n",
      "[['Jack' 18 'm']\n",
      " ['Tom' 19 'm']\n",
      " ['Mary' 20 'w']] \n",
      "该数据类型为： <class 'numpy.ndarray'>\n"
     ]
    }
   ],
   "source": [
    "data = {'name':['Jack','Tom','Mary'],\n",
    "        'age':[18,19,20],\n",
    "       'gender':['m','m','w']}\n",
    "frame = pd.DataFrame(data)\n",
    "print(frame)  \n",
    "print(type(frame))\n",
    "print(frame.index,'\\n该数据类型为：',type(frame.index))\n",
    "print(frame.columns,'\\n该数据类型为：',type(frame.columns))\n",
    "print(frame.values,'\\n该数据类型为：',type(frame.values))\n",
    "# 查看数据，数据类型为dataframe\n",
    "# .index查看行标签\n",
    "# .columns查看列标签\n",
    "# .values查看值，数据类型为ndarray"
   ]
  },
  {
   "cell_type": "code",
   "execution_count": 19,
   "metadata": {
    "ExecuteTime": {
     "end_time": "2019-09-18T02:33:02.178945Z",
     "start_time": "2019-09-18T02:33:02.113014Z"
    }
   },
   "outputs": [
    {
     "name": "stdout",
     "output_type": "stream",
     "text": [
      "{'a': [1, 2, 3], 'b': [3, 4, 5], 'c': [5, 6, 7]}\n",
      "{'one': array([0.0384718 , 0.6653177 , 0.94933419]), 'two': array([0.53479309, 0.04287774, 0.36126689])}\n",
      "   a  b  c\n",
      "0  1  3  5\n",
      "1  2  4  6\n",
      "2  3  5  7\n",
      "        one       two\n",
      "0  0.038472  0.534793\n",
      "1  0.665318  0.042878\n",
      "2  0.949334  0.361267\n",
      "   b  c  a    d\n",
      "0  3  5  1  NaN\n",
      "1  4  6  2  NaN\n",
      "2  5  7  3  NaN\n",
      "   b  c\n",
      "0  3  5\n",
      "1  4  6\n",
      "2  5  7\n",
      "         one       two\n",
      "f1  0.038472  0.534793\n",
      "f2  0.665318  0.042878\n",
      "f3  0.949334  0.361267\n"
     ]
    }
   ],
   "source": [
    "# Dataframe 创建方法一：由数组/list组成的字典\n",
    "# 创建方法:pandas.Dataframe()\n",
    "\n",
    "data1 = {'a':[1,2,3],\n",
    "        'b':[3,4,5],\n",
    "        'c':[5,6,7]}\n",
    "data2 = {'one':np.random.rand(3),\n",
    "        'two':np.random.rand(3)}   # 这里如果尝试  'two':np.random.rand(4) 会怎么样？\n",
    "print(data1)\n",
    "print(data2)\n",
    "df1 = pd.DataFrame(data1)\n",
    "df2 = pd.DataFrame(data2)\n",
    "print(df1)\n",
    "print(df2)\n",
    "# 由数组/list组成的字典 创建Dataframe，columns为字典key，index为默认数字标签\n",
    "# 字典的值的长度必须保持一致！\n",
    "\n",
    "df1 = pd.DataFrame(data1, columns = ['b','c','a','d'])\n",
    "print(df1)\n",
    "df1 = pd.DataFrame(data1, columns = ['b','c'])\n",
    "print(df1)\n",
    "# columns参数：可以重新指定列的顺序，格式为list，如果现有数据中没有该列（比如'd'），则产生NaN值\n",
    "# 如果columns重新指定时候，列的数量可以少于原数据\n",
    "\n",
    "df2 = pd.DataFrame(data2, index = ['f1','f2','f3'])  # 这里如果尝试  index = ['f1','f2','f3','f4'] 会怎么样？\n",
    "print(df2)\n",
    "# index参数：重新定义index，格式为list，长度必须保持一致"
   ]
  },
  {
   "cell_type": "code",
   "execution_count": 20,
   "metadata": {
    "ExecuteTime": {
     "end_time": "2019-09-18T02:33:03.165248Z",
     "start_time": "2019-09-18T02:33:02.954156Z"
    }
   },
   "outputs": [
    {
     "name": "stdout",
     "output_type": "stream",
     "text": [
      "{'one': 0    0.790110\n",
      "1    0.705537\n",
      "dtype: float64, 'two': 0    0.056584\n",
      "1    0.044357\n",
      "2    0.484218\n",
      "dtype: float64}\n",
      "{'one': a    0.390852\n",
      "b    0.873329\n",
      "dtype: float64, 'two': a    0.413571\n",
      "b    0.750063\n",
      "c    0.971076\n",
      "dtype: float64}\n",
      "        one       two\n",
      "0  0.790110  0.056584\n",
      "1  0.705537  0.044357\n",
      "2       NaN  0.484218\n",
      "        one       two\n",
      "a  0.390852  0.413571\n",
      "b  0.873329  0.750063\n",
      "c       NaN  0.971076\n"
     ]
    }
   ],
   "source": [
    "# Dataframe 创建方法二：由Series组成的字典\n",
    "\n",
    "data1 = {'one':pd.Series(np.random.rand(2)),\n",
    "        'two':pd.Series(np.random.rand(3))}  # 没有设置index的Series\n",
    "data2 = {'one':pd.Series(np.random.rand(2), index = ['a','b']),\n",
    "        'two':pd.Series(np.random.rand(3),index = ['a','b','c'])}  # 设置了index的Series\n",
    "print(data1)\n",
    "print(data2)\n",
    "df1 = pd.DataFrame(data1)\n",
    "df2 = pd.DataFrame(data2)\n",
    "print(df1)\n",
    "print(df2)\n",
    "# 由Seris组成的字典 创建Dataframe，columns为字典key，index为Series的标签（如果Series没有指定标签，则是默认数字标签）\n",
    "# Series可以长度不一样，生成的Dataframe会出现NaN值"
   ]
  },
  {
   "cell_type": "code",
   "execution_count": 21,
   "metadata": {
    "ExecuteTime": {
     "end_time": "2019-09-18T02:33:07.302483Z",
     "start_time": "2019-09-18T02:33:07.286565Z"
    }
   },
   "outputs": [
    {
     "name": "stdout",
     "output_type": "stream",
     "text": [
      "[[0.64343081 0.74344553 0.34992974]\n",
      " [0.85659705 0.20472347 0.37155523]\n",
      " [0.13800881 0.99185814 0.59388968]]\n",
      "          0         1         2\n",
      "0  0.643431  0.743446  0.349930\n",
      "1  0.856597  0.204723  0.371555\n",
      "2  0.138009  0.991858  0.593890\n",
      "        one       two     three\n",
      "a  0.643431  0.743446  0.349930\n",
      "b  0.856597  0.204723  0.371555\n",
      "c  0.138009  0.991858  0.593890\n"
     ]
    }
   ],
   "source": [
    "# Dataframe 创建方法三：通过二维数组直接创建\n",
    "\n",
    "ar = np.random.rand(9).reshape(3,3)\n",
    "print(ar)\n",
    "df1 = pd.DataFrame(ar)\n",
    "df2 = pd.DataFrame(ar, index = ['a', 'b', 'c'], columns = ['one','two','three'])  # 可以尝试一下index或columns长度不等于已有数组的情况\n",
    "print(df1)\n",
    "print(df2)\n",
    "# 通过二维数组直接创建Dataframe，得到一样形状的结果数据，如果不指定index和columns，两者均返回默认数字格式\n",
    "# index和colunms指定长度与原数组保持一致"
   ]
  },
  {
   "cell_type": "code",
   "execution_count": 22,
   "metadata": {
    "ExecuteTime": {
     "end_time": "2019-09-18T02:33:07.946304Z",
     "start_time": "2019-09-18T02:33:07.913394Z"
    }
   },
   "outputs": [
    {
     "name": "stdout",
     "output_type": "stream",
     "text": [
      "[{'one': 1, 'two': 2}, {'one': 5, 'two': 10, 'three': 20}]\n",
      "   one  three  two\n",
      "0    1    NaN    2\n",
      "1    5   20.0   10\n",
      "   one  three  two\n",
      "a    1    NaN    2\n",
      "b    5   20.0   10\n",
      "   one  two\n",
      "0    1    2\n",
      "1    5   10\n"
     ]
    }
   ],
   "source": [
    "# Dataframe 创建方法四：由字典组成的列表\n",
    "\n",
    "data = [{'one': 1, 'two': 2}, {'one': 5, 'two': 10, 'three': 20}]\n",
    "print(data)\n",
    "df1 = pd.DataFrame(data)\n",
    "df2 = pd.DataFrame(data, index = ['a','b'])\n",
    "df3 = pd.DataFrame(data, columns = ['one','two'])\n",
    "print(df1)\n",
    "print(df2)\n",
    "print(df3)\n",
    "# 由字典组成的列表创建Dataframe，columns为字典的key，index不做指定则为默认数组标签\n",
    "# colunms和index参数分别重新指定相应列及行标签"
   ]
  },
  {
   "cell_type": "code",
   "execution_count": 23,
   "metadata": {
    "ExecuteTime": {
     "end_time": "2019-09-18T02:33:08.715649Z",
     "start_time": "2019-09-18T02:33:08.671803Z"
    }
   },
   "outputs": [
    {
     "name": "stdout",
     "output_type": "stream",
     "text": [
      "         Jack  Marry   Tom\n",
      "art        78     92   NaN\n",
      "english    89     95  67.0\n",
      "math       90     82  78.0\n",
      "         Jack   Tom  Bob\n",
      "art        78   NaN  NaN\n",
      "english    89  67.0  NaN\n",
      "math       90  78.0  NaN\n",
      "   Jack  Marry  Tom\n",
      "a   NaN    NaN  NaN\n",
      "b   NaN    NaN  NaN\n",
      "c   NaN    NaN  NaN\n"
     ]
    }
   ],
   "source": [
    "# Dataframe 创建方法五：由字典组成的字典\n",
    "\n",
    "data = {'Jack':{'math':90,'english':89,'art':78},\n",
    "       'Marry':{'math':82,'english':95,'art':92},\n",
    "       'Tom':{'math':78,'english':67}}\n",
    "df1 = pd.DataFrame(data)\n",
    "print(df1)\n",
    "# 由字典组成的字典创建Dataframe，columns为字典的key，index为子字典的key\n",
    "\n",
    "df2 = pd.DataFrame(data, columns = ['Jack','Tom','Bob'])\n",
    "df3 = pd.DataFrame(data, index = ['a','b','c'])\n",
    "print(df2)\n",
    "print(df3)\n",
    "# columns参数可以增加和减少现有列，如出现新的列，值为NaN\n",
    "# index在这里和之前不同，并不能改变原有index，如果指向新的标签，值为NaN （非常重要！）"
   ]
  },
  {
   "cell_type": "markdown",
   "metadata": {},
   "source": [
    "######## 本节课有作业，请查看 “课程作业.docx”  ########"
   ]
  },
  {
   "cell_type": "code",
   "execution_count": 25,
   "metadata": {
    "ExecuteTime": {
     "end_time": "2019-09-18T02:33:20.394173Z",
     "start_time": "2019-09-18T02:33:20.383202Z"
    }
   },
   "outputs": [
    {
     "data": {
      "text/plain": [
       "'\\n  Pandas数据结构Dataframe：索引\\n\\nDataframe既有行索引也有列索引，可以被看做由Series组成的字典（共用一个索引）\\n\\n选择列 / 选择行 / 切片 / 布尔判断\\n\\n'"
      ]
     },
     "execution_count": 25,
     "metadata": {},
     "output_type": "execute_result"
    }
   ],
   "source": [
    "'''\n",
    "  Pandas数据结构Dataframe：索引\n",
    "\n",
    "Dataframe既有行索引也有列索引，可以被看做由Series组成的字典（共用一个索引）\n",
    "\n",
    "选择列 / 选择行 / 切片 / 布尔判断\n",
    "\n",
    "'''"
   ]
  },
  {
   "cell_type": "code",
   "execution_count": 26,
   "metadata": {
    "ExecuteTime": {
     "end_time": "2019-09-18T02:33:21.255766Z",
     "start_time": "2019-09-18T02:33:21.187946Z"
    }
   },
   "outputs": [
    {
     "name": "stdout",
     "output_type": "stream",
     "text": [
      "               a          b          c          d\n",
      "one    27.102588  55.016088  18.298997  57.537931\n",
      "two    27.478457   4.184768  77.225882  29.451187\n",
      "three  13.588859  96.593578  55.492887   8.960075\n",
      "one      27.102588\n",
      "two      27.478457\n",
      "three    13.588859\n",
      "Name: a, dtype: float64 <class 'pandas.core.series.Series'>\n",
      "               a          c\n",
      "one    27.102588  18.298997\n",
      "two    27.478457  77.225882\n",
      "three  13.588859  55.492887 <class 'pandas.core.frame.DataFrame'>\n",
      "-----\n",
      "               a          c\n",
      "one    27.102588  18.298997\n",
      "two    27.478457  77.225882\n",
      "three  13.588859  55.492887 <class 'pandas.core.series.Series'>\n",
      "a    27.102588\n",
      "b    55.016088\n",
      "c    18.298997\n",
      "d    57.537931\n",
      "Name: one, dtype: float64 <class 'pandas.core.frame.DataFrame'>\n"
     ]
    }
   ],
   "source": [
    "# 选择行与列\n",
    "\n",
    "df = pd.DataFrame(np.random.rand(12).reshape(3,4)*100,\n",
    "                   index = ['one','two','three'],\n",
    "                   columns = ['a','b','c','d'])\n",
    "print(df)\n",
    "\n",
    "data1 = df['a']\n",
    "data2 = df[['a','c']]\n",
    "print(data1,type(data1))\n",
    "print(data2,type(data2))\n",
    "print('-----')\n",
    "# 按照列名选择列，只选择一列输出Series，选择多列输出Dataframe\n",
    "\n",
    "data3 = df.loc['one']\n",
    "data4 = df.loc[['one','two']]\n",
    "print(data2,type(data3))\n",
    "print(data3,type(data4))\n",
    "# 按照index选择行，只选择一行输出Series，选择多行输出Dataframe"
   ]
  },
  {
   "cell_type": "code",
   "execution_count": 27,
   "metadata": {
    "ExecuteTime": {
     "end_time": "2019-09-18T02:33:25.064042Z",
     "start_time": "2019-09-18T02:33:24.991954Z"
    }
   },
   "outputs": [
    {
     "name": "stdout",
     "output_type": "stream",
     "text": [
      "               a          b          c          d\n",
      "one    32.023318  66.392753  54.991025  94.399300\n",
      "two    88.291954  78.414416   6.958661  50.405210\n",
      "three  99.275124  43.694212  41.967380  61.167538\n",
      "-----\n",
      "one      32.023318\n",
      "two      88.291954\n",
      "three    99.275124\n",
      "Name: a, dtype: float64\n",
      "               b          c\n",
      "one    66.392753  54.991025\n",
      "two    78.414416   6.958661\n",
      "three  43.694212  41.967380\n",
      "             a          b          c        d\n",
      "one  32.023318  66.392753  54.991025  94.3993 <class 'pandas.core.frame.DataFrame'>\n"
     ]
    }
   ],
   "source": [
    "# df[] - 选择列\n",
    "# 一般用于选择列，也可以选择行\n",
    "\n",
    "df = pd.DataFrame(np.random.rand(12).reshape(3,4)*100,\n",
    "                   index = ['one','two','three'],\n",
    "                   columns = ['a','b','c','d'])\n",
    "print(df)\n",
    "print('-----')\n",
    "\n",
    "data1 = df['a']\n",
    "data2 = df[['b','c']]  # 尝试输入 data2 = df[['b','c','e']]\n",
    "print(data1)\n",
    "print(data2)\n",
    "# df[]默认选择列，[]中写列名（所以一般数据colunms都会单独制定，不会用默认数字列名，以免和index冲突）\n",
    "# 单选列为Series，print结果为Series格式\n",
    "# 多选列为Dataframe，print结果为Dataframe格式\n",
    "\n",
    "data3 = df[:1]\n",
    "#data3 = df[0]\n",
    "#data3 = df['one']\n",
    "print(data3,type(data3))\n",
    "# df[]中为数字时，默认选择行，且只能进行切片的选择，不能单独选择（df[0]）\n",
    "# 输出结果为Dataframe，即便只选择一行\n",
    "# df[]不能通过索引标签名来选择行(df['one'])\n",
    "\n",
    "# 核心笔记：df[col]一般用于选择列，[]中写列名"
   ]
  },
  {
   "cell_type": "code",
   "execution_count": 28,
   "metadata": {
    "ExecuteTime": {
     "end_time": "2019-09-18T02:33:28.179481Z",
     "start_time": "2019-09-18T02:33:28.089685Z"
    }
   },
   "outputs": [
    {
     "name": "stdout",
     "output_type": "stream",
     "text": [
      "               a          b          c          d\n",
      "one    11.439625  38.474443  85.678543  20.283588\n",
      "two    41.606821  53.477218  99.381604   9.735220\n",
      "three   7.655123  36.420659  93.354775  55.016975\n",
      "four   17.433581  76.071798  63.911467  42.178640\n",
      "           a          b          c          d\n",
      "0  64.382500   0.766265  19.649840  42.129944\n",
      "1  38.251911  76.020620  26.407974  69.658396\n",
      "2  61.172837  47.909481  90.967046  35.483411\n",
      "3  17.389274   0.450201  44.072374  12.687948\n",
      "-----\n",
      "a    11.439625\n",
      "b    38.474443\n",
      "c    85.678543\n",
      "d    20.283588\n",
      "Name: one, dtype: float64\n",
      "a    38.251911\n",
      "b    76.020620\n",
      "c    26.407974\n",
      "d    69.658396\n",
      "Name: 1, dtype: float64\n",
      "单标签索引\n",
      "-----\n",
      "               a          b          c          d\n",
      "two    41.606821  53.477218  99.381604   9.735220\n",
      "three   7.655123  36.420659  93.354775  55.016975\n",
      "five         NaN        NaN        NaN        NaN\n",
      "           a          b          c          d\n",
      "3  17.389274   0.450201  44.072374  12.687948\n",
      "2  61.172837  47.909481  90.967046  35.483411\n",
      "1  38.251911  76.020620  26.407974  69.658396\n",
      "多标签索引\n",
      "-----\n",
      "               a          b          c          d\n",
      "one    11.439625  38.474443  85.678543  20.283588\n",
      "two    41.606821  53.477218  99.381604   9.735220\n",
      "three   7.655123  36.420659  93.354775  55.016975\n",
      "           a          b          c          d\n",
      "1  38.251911  76.020620  26.407974  69.658396\n",
      "2  61.172837  47.909481  90.967046  35.483411\n",
      "3  17.389274   0.450201  44.072374  12.687948\n",
      "切片索引\n"
     ]
    },
    {
     "name": "stderr",
     "output_type": "stream",
     "text": [
      "C:\\Users\\lining\\Anaconda3\\lib\\site-packages\\ipykernel_launcher.py:19: FutureWarning: \n",
      "Passing list-likes to .loc or [] with any missing label will raise\n",
      "KeyError in the future, you can use .reindex() as an alternative.\n",
      "\n",
      "See the documentation here:\n",
      "https://pandas.pydata.org/pandas-docs/stable/indexing.html#deprecate-loc-reindex-listlike\n"
     ]
    }
   ],
   "source": [
    "# df.loc[] - 按index选择行\n",
    "\n",
    "df1 = pd.DataFrame(np.random.rand(16).reshape(4,4)*100,\n",
    "                   index = ['one','two','three','four'],\n",
    "                   columns = ['a','b','c','d'])\n",
    "df2 = pd.DataFrame(np.random.rand(16).reshape(4,4)*100,\n",
    "                   columns = ['a','b','c','d'])\n",
    "print(df1)\n",
    "print(df2)\n",
    "print('-----')\n",
    "\n",
    "data1 = df1.loc['one']\n",
    "data2 = df2.loc[1]\n",
    "print(data1)\n",
    "print(data2)\n",
    "print('单标签索引\\n-----')\n",
    "# 单个标签索引，返回Series\n",
    "\n",
    "data3 = df1.loc[['two','three','five']]\n",
    "data4 = df2.loc[[3,2,1]]\n",
    "print(data3)\n",
    "print(data4)\n",
    "print('多标签索引\\n-----')\n",
    "# 多个标签索引，如果标签不存在，则返回NaN\n",
    "# 顺序可变\n",
    "\n",
    "data5 = df1.loc['one':'three']\n",
    "data6 = df2.loc[1:3]\n",
    "print(data5)\n",
    "print(data6)\n",
    "print('切片索引')\n",
    "# 可以做切片对象\n",
    "# 末端包含\n",
    "\n",
    "# 核心笔记：df.loc[label]主要针对index选择行，同时支持指定index，及默认数字index"
   ]
  },
  {
   "cell_type": "code",
   "execution_count": 29,
   "metadata": {
    "ExecuteTime": {
     "end_time": "2019-09-18T02:33:32.035992Z",
     "start_time": "2019-09-18T02:33:31.966221Z"
    }
   },
   "outputs": [
    {
     "name": "stdout",
     "output_type": "stream",
     "text": [
      "               a          b          c          d\n",
      "one    14.374950  12.898661  72.664476  53.281486\n",
      "two    57.784044  37.760717  51.145927  35.727519\n",
      "three  50.404849  18.410103   7.274479  84.752144\n",
      "four   17.611261  63.797377  79.196739  10.529926\n",
      "------\n",
      "a    14.374950\n",
      "b    12.898661\n",
      "c    72.664476\n",
      "d    53.281486\n",
      "Name: one, dtype: float64\n",
      "a    17.611261\n",
      "b    63.797377\n",
      "c    79.196739\n",
      "d    10.529926\n",
      "Name: four, dtype: float64\n",
      "单位置索引\n",
      "-----\n",
      "               a          b          c          d\n",
      "one    14.374950  12.898661  72.664476  53.281486\n",
      "three  50.404849  18.410103   7.274479  84.752144\n",
      "               a          b          c          d\n",
      "four   17.611261  63.797377  79.196739  10.529926\n",
      "three  50.404849  18.410103   7.274479  84.752144\n",
      "two    57.784044  37.760717  51.145927  35.727519\n",
      "多位置索引\n",
      "-----\n",
      "               a          b          c          d\n",
      "two    57.784044  37.760717  51.145927  35.727519\n",
      "three  50.404849  18.410103   7.274479  84.752144\n",
      "               a          b          c          d\n",
      "one    14.374950  12.898661  72.664476  53.281486\n",
      "three  50.404849  18.410103   7.274479  84.752144\n",
      "切片索引\n"
     ]
    }
   ],
   "source": [
    "# df.iloc[] - 按照整数位置（从轴的0到length-1）选择行\n",
    "# 类似list的索引，其顺序就是dataframe的整数位置，从0开始计\n",
    "\n",
    "df = pd.DataFrame(np.random.rand(16).reshape(4,4)*100,\n",
    "                   index = ['one','two','three','four'],\n",
    "                   columns = ['a','b','c','d'])\n",
    "print(df)\n",
    "print('------')\n",
    "\n",
    "print(df.iloc[0])\n",
    "print(df.iloc[-1])\n",
    "#print(df.iloc[4])\n",
    "print('单位置索引\\n-----')\n",
    "# 单位置索引\n",
    "# 和loc索引不同，不能索引超出数据行数的整数位置\n",
    "\n",
    "print(df.iloc[[0,2]])\n",
    "print(df.iloc[[3,2,1]])\n",
    "print('多位置索引\\n-----')\n",
    "# 多位置索引\n",
    "# 顺序可变\n",
    "\n",
    "print(df.iloc[1:3])\n",
    "print(df.iloc[::2])\n",
    "print('切片索引')\n",
    "# 切片索引\n",
    "# 末端不包含"
   ]
  },
  {
   "cell_type": "code",
   "execution_count": 30,
   "metadata": {
    "ExecuteTime": {
     "end_time": "2019-09-18T02:33:33.337968Z",
     "start_time": "2019-09-18T02:33:32.674780Z"
    }
   },
   "outputs": [
    {
     "name": "stdout",
     "output_type": "stream",
     "text": [
      "               a          b          c          d\n",
      "one    14.798183  50.598427  74.929171  74.977586\n",
      "two     7.901001  59.572391  93.767445  94.280981\n",
      "three  72.275262  75.562211  88.192266  89.388781\n",
      "four   78.750357   3.919763  46.751116  13.555495\n",
      "------\n",
      "           a      b      c      d\n",
      "one     True  False  False  False\n",
      "two     True  False  False  False\n",
      "three  False  False  False  False\n",
      "four   False   True  False   True <class 'pandas.core.frame.DataFrame'>\n",
      "               a         b   c          d\n",
      "one    14.798183       NaN NaN        NaN\n",
      "two     7.901001       NaN NaN        NaN\n",
      "three        NaN       NaN NaN        NaN\n",
      "four         NaN  3.919763 NaN  13.555495\n",
      "------\n",
      "one      False\n",
      "two      False\n",
      "three     True\n",
      "four      True\n",
      "Name: a, dtype: bool <class 'pandas.core.series.Series'>\n",
      "               a          b          c          d\n",
      "three  72.275262  75.562211  88.192266  89.388781\n",
      "four   78.750357   3.919763  46.751116  13.555495\n",
      "------\n",
      "           a      b\n",
      "one    False   True\n",
      "two    False   True\n",
      "three   True   True\n",
      "four    True  False <class 'pandas.core.frame.DataFrame'>\n",
      "               a          b   c   d\n",
      "one          NaN  50.598427 NaN NaN\n",
      "two          NaN  59.572391 NaN NaN\n",
      "three  72.275262  75.562211 NaN NaN\n",
      "four   78.750357        NaN NaN NaN\n",
      "------\n",
      "           a      b      c      d\n",
      "one     True  False  False  False\n",
      "three  False  False  False  False <class 'pandas.core.frame.DataFrame'>\n",
      "               a   b   c   d\n",
      "one    14.798183 NaN NaN NaN\n",
      "two          NaN NaN NaN NaN\n",
      "three        NaN NaN NaN NaN\n",
      "four         NaN NaN NaN NaN\n",
      "------\n"
     ]
    }
   ],
   "source": [
    "# 布尔型索引\n",
    "# 和Series原理相同\n",
    "\n",
    "df = pd.DataFrame(np.random.rand(16).reshape(4,4)*100,\n",
    "                   index = ['one','two','three','four'],\n",
    "                   columns = ['a','b','c','d'])\n",
    "print(df)\n",
    "print('------')\n",
    "\n",
    "b1 = df < 20\n",
    "print(b1,type(b1))\n",
    "print(df[b1])  # 也可以书写为 df[df < 20]\n",
    "print('------')\n",
    "# 不做索引则会对数据每个值进行判断\n",
    "# 索引结果保留 所有数据：True返回原数据，False返回值为NaN\n",
    "\n",
    "b2 = df['a'] > 50\n",
    "print(b2,type(b2))\n",
    "print(df[b2])  # 也可以书写为 df[df['a'] > 50]\n",
    "print('------')\n",
    "# 单列做判断\n",
    "# 索引结果保留 单列判断为True的行数据，包括其他列\n",
    "\n",
    "b3 = df[['a','b']] > 50\n",
    "print(b3,type(b3))\n",
    "print(df[b3])  # 也可以书写为 df[df[['a','b']] > 50]\n",
    "print('------')\n",
    "# 多列做判断\n",
    "# 索引结果保留 所有数据：True返回原数据，False返回值为NaN\n",
    "\n",
    "b4 = df.loc[['one','three']] < 50\n",
    "print(b4,type(b4))\n",
    "print(df[b4])  # 也可以书写为 df[df.loc[['one','three']] < 50]\n",
    "print('------')\n",
    "# 多行做判断\n",
    "# 索引结果保留 所有数据：True返回原数据，False返回值为NaN"
   ]
  },
  {
   "cell_type": "code",
   "execution_count": 31,
   "metadata": {
    "ExecuteTime": {
     "end_time": "2019-09-18T02:33:34.449006Z",
     "start_time": "2019-09-18T02:33:34.404133Z"
    }
   },
   "outputs": [
    {
     "name": "stdout",
     "output_type": "stream",
     "text": [
      "               a          b          c          d\n",
      "one    42.066085  34.269436  50.227096  87.833031\n",
      "two     5.126629   5.220618   4.057605  57.065539\n",
      "three  70.383083  39.951888  39.191646  25.078917\n",
      "four   62.665905   5.621919  62.914165  75.622443\n",
      "------\n",
      "one      42.066085\n",
      "three    70.383083\n",
      "Name: a, dtype: float64\n",
      "               b          c          d\n",
      "one    34.269436  50.227096  87.833031\n",
      "three  39.951888  39.191646  25.078917\n",
      "             a          b          c          d\n",
      "one  42.066085  34.269436  50.227096  87.833031\n",
      "two   5.126629   5.220618   4.057605  57.065539\n"
     ]
    }
   ],
   "source": [
    "# 多重索引：比如同时索引行和列\n",
    "# 先选择列再选择行 —— 相当于对于一个数据，先筛选字段，再选择数据量\n",
    "\n",
    "df = pd.DataFrame(np.random.rand(16).reshape(4,4)*100,\n",
    "                   index = ['one','two','three','four'],\n",
    "                   columns = ['a','b','c','d'])\n",
    "print(df)\n",
    "print('------')\n",
    "\n",
    "print(df['a'].loc[['one','three']])   # 选择a列的one，three行\n",
    "print(df[['b','c','d']].iloc[::2])   # 选择b，c，d列的one，three行\n",
    "print(df[df['a'] < 50].iloc[:2])   # 选择满足判断索引的前两行数据"
   ]
  },
  {
   "cell_type": "markdown",
   "metadata": {
    "collapsed": true
   },
   "source": [
    "\n",
    "# Pandas数据结构Dataframe：基本技巧\n",
    "\n",
    "数据查看、转置 / 添加、修改、删除值 / 对齐 / 排序\n",
    "\n"
   ]
  },
  {
   "cell_type": "code",
   "execution_count": 32,
   "metadata": {
    "ExecuteTime": {
     "end_time": "2019-09-18T02:34:04.436263Z",
     "start_time": "2019-09-18T02:34:04.414809Z"
    }
   },
   "outputs": [
    {
     "name": "stdout",
     "output_type": "stream",
     "text": [
      "           a          b\n",
      "0  55.476405  40.971968\n",
      "1  83.260972  56.676432\n",
      "           a          b\n",
      "3   7.887153  10.314109\n",
      "4  98.283099  99.246910\n",
      "5  22.641191  69.671869\n",
      "6  89.814092  37.635709\n",
      "7  71.700969  73.509548\n",
      "           0          1          2          3          4          5  \\\n",
      "a  55.476405  83.260972  20.241482   7.887153  98.283099  22.641191   \n",
      "b  40.971968  56.676432  18.565531  10.314109  99.246910  69.671869   \n",
      "\n",
      "           6          7  \n",
      "a  89.814092  71.700969  \n",
      "b  37.635709  73.509548  \n"
     ]
    }
   ],
   "source": [
    "# 数据查看、转置\n",
    "\n",
    "df = pd.DataFrame(np.random.rand(16).reshape(8,2)*100,\n",
    "                   columns = ['a','b'])\n",
    "print(df.head(2))\n",
    "print(df.tail())\n",
    "# .head()查看头部数据\n",
    "# .tail()查看尾部数据\n",
    "# 默认查看5条\n",
    "\n",
    "print(df.T)\n",
    "# .T 转置"
   ]
  },
  {
   "cell_type": "code",
   "execution_count": 33,
   "metadata": {
    "ExecuteTime": {
     "end_time": "2019-09-18T02:34:07.190198Z",
     "start_time": "2019-09-18T02:34:07.144350Z"
    }
   },
   "outputs": [
    {
     "name": "stdout",
     "output_type": "stream",
     "text": [
      "           a          b          c          d\n",
      "0  85.038979  65.572556  51.145145  34.644079\n",
      "1   0.085217  74.921693  61.276828   9.323654\n",
      "2  94.094191  44.810711  87.263173  22.613038\n",
      "3   0.069781   5.079777  69.106410  96.638975\n",
      "           a          b          c          d   e\n",
      "0  85.038979  65.572556  51.145145  34.644079  10\n",
      "1   0.085217  74.921693  61.276828   9.323654  10\n",
      "2  94.094191  44.810711  87.263173  22.613038  10\n",
      "3   0.069781   5.079777  69.106410  96.638975  10\n",
      "4  20.000000  20.000000  20.000000  20.000000  20\n",
      "     a          b    c          d   e\n",
      "0  100  65.572556  100  34.644079  20\n",
      "1  100  74.921693  100   9.323654  20\n",
      "2  100  44.810711  100  22.613038  20\n",
      "3  100   5.079777  100  96.638975  20\n",
      "4  100  20.000000  100  20.000000  20\n"
     ]
    }
   ],
   "source": [
    "# 添加与修改\n",
    "\n",
    "df = pd.DataFrame(np.random.rand(16).reshape(4,4)*100,\n",
    "                   columns = ['a','b','c','d'])\n",
    "print(df)\n",
    "\n",
    "df['e'] = 10\n",
    "df.loc[4] = 20\n",
    "print(df)\n",
    "# 新增列/行并赋值\n",
    "\n",
    "df['e'] = 20\n",
    "df[['a','c']] = 100\n",
    "print(df)\n",
    "# 索引后直接修改值"
   ]
  },
  {
   "cell_type": "code",
   "execution_count": 34,
   "metadata": {
    "ExecuteTime": {
     "end_time": "2019-09-18T02:34:15.772643Z",
     "start_time": "2019-09-18T02:34:15.733223Z"
    },
    "code_folding": [
     2
    ]
   },
   "outputs": [
    {
     "name": "stdout",
     "output_type": "stream",
     "text": [
      "           a          b          c          d\n",
      "0  96.173370  24.901381  23.882765  84.804300\n",
      "1  38.485892   7.634906  43.595414  28.118539\n",
      "2  74.288492  50.373417  14.069038  97.162235\n",
      "3  59.042783  64.992190  57.231293  47.724596\n",
      "           b          c          d\n",
      "0  24.901381  23.882765  84.804300\n",
      "1   7.634906  43.595414  28.118539\n",
      "2  50.373417  14.069038  97.162235\n",
      "3  64.992190  57.231293  47.724596\n",
      "-----\n",
      "           b          c          d\n",
      "1   7.634906  43.595414  28.118539\n",
      "2  50.373417  14.069038  97.162235\n",
      "3  64.992190  57.231293  47.724596\n",
      "           b          c          d\n",
      "0  24.901381  23.882765  84.804300\n",
      "3  64.992190  57.231293  47.724596\n",
      "           b          c          d\n",
      "0  24.901381  23.882765  84.804300\n",
      "1   7.634906  43.595414  28.118539\n",
      "2  50.373417  14.069038  97.162235\n",
      "3  64.992190  57.231293  47.724596\n",
      "-----\n",
      "           b          c\n",
      "0  24.901381  23.882765\n",
      "1   7.634906  43.595414\n",
      "2  50.373417  14.069038\n",
      "3  64.992190  57.231293\n",
      "           b          c          d\n",
      "0  24.901381  23.882765  84.804300\n",
      "1   7.634906  43.595414  28.118539\n",
      "2  50.373417  14.069038  97.162235\n",
      "3  64.992190  57.231293  47.724596\n"
     ]
    }
   ],
   "source": [
    "# 删除  del / drop()\n",
    "\n",
    "df = pd.DataFrame(np.random.rand(16).reshape(4,4)*100,\n",
    "                   columns = ['a','b','c','d'])\n",
    "print(df)\n",
    "\n",
    "del df['a']\n",
    "print(df)\n",
    "print('-----')\n",
    "# del语句 - 删除列\n",
    "\n",
    "print(df.drop(0))\n",
    "print(df.drop([1,2]))\n",
    "print(df)\n",
    "print('-----')\n",
    "# drop()删除行，inplace=False → 删除后生成新的数据，不改变原数据\n",
    "\n",
    "print(df.drop(['d'], axis = 1))\n",
    "print(df)\n",
    "# drop()删除列，需要加上axis = 1，inplace=False → 删除后生成新的数据，不改变原数据"
   ]
  },
  {
   "cell_type": "code",
   "execution_count": 35,
   "metadata": {
    "ExecuteTime": {
     "end_time": "2019-09-18T02:34:20.465964Z",
     "start_time": "2019-09-18T02:34:20.439033Z"
    }
   },
   "outputs": [
    {
     "name": "stdout",
     "output_type": "stream",
     "text": [
      "          A         B         C   D\n",
      "0  2.480580 -0.343517 -0.787847 NaN\n",
      "1 -1.074450  3.112357 -0.533424 NaN\n",
      "2  2.313615  0.586448  1.466141 NaN\n",
      "3  0.594268  1.838796  0.483567 NaN\n",
      "4  0.737102  0.411889  1.682819 NaN\n",
      "5 -2.374852 -0.587586  1.203573 NaN\n",
      "6  1.370279  2.114276 -2.609208 NaN\n",
      "7       NaN       NaN       NaN NaN\n",
      "8       NaN       NaN       NaN NaN\n",
      "9       NaN       NaN       NaN NaN\n"
     ]
    }
   ],
   "source": [
    "# 对齐\n",
    "\n",
    "df1 = pd.DataFrame(np.random.randn(10, 4), columns=['A', 'B', 'C', 'D'])\n",
    "df2 = pd.DataFrame(np.random.randn(7, 3), columns=['A', 'B', 'C'])\n",
    "print(df1 + df2)\n",
    "# DataFrame对象之间的数据自动按照列和索引（行标签）对齐"
   ]
  },
  {
   "cell_type": "markdown",
   "metadata": {},
   "source": [
    "# 排序1 - 按值排序 .sort_values\n",
    "# 同样适用于Series"
   ]
  },
  {
   "cell_type": "code",
   "execution_count": 36,
   "metadata": {
    "ExecuteTime": {
     "end_time": "2019-09-18T02:35:54.320458Z",
     "start_time": "2019-09-18T02:35:54.253668Z"
    }
   },
   "outputs": [
    {
     "name": "stdout",
     "output_type": "stream",
     "text": [
      "           a          b          c          d\n",
      "0  10.095656  45.058360  23.284886  19.671192\n",
      "1  14.301625  28.059585  37.628356  63.036633\n",
      "2  23.272329   7.518881  26.265445  38.387268\n",
      "3  73.603482  66.363089  17.231375  16.343005\n",
      "           a          b          c          d\n",
      "0  10.095656  45.058360  23.284886  19.671192\n",
      "1  14.301625  28.059585  37.628356  63.036633\n",
      "2  23.272329   7.518881  26.265445  38.387268\n",
      "3  73.603482  66.363089  17.231375  16.343005\n",
      "           a          b          c          d\n",
      "3  73.603482  66.363089  17.231375  16.343005\n",
      "2  23.272329   7.518881  26.265445  38.387268\n",
      "1  14.301625  28.059585  37.628356  63.036633\n",
      "0  10.095656  45.058360  23.284886  19.671192\n",
      "------\n",
      "   a  b  c\n",
      "0  1  0  8\n",
      "1  1  1  7\n",
      "2  1  2  6\n",
      "3  1  3  5\n",
      "4  2  4  4\n",
      "5  2  5  3\n",
      "6  2  6  2\n",
      "7  2  7  1\n",
      "   a  b  c\n",
      "3  1  3  5\n",
      "2  1  2  6\n",
      "1  1  1  7\n",
      "0  1  0  8\n",
      "7  2  7  1\n",
      "6  2  6  2\n",
      "5  2  5  3\n",
      "4  2  4  4\n"
     ]
    }
   ],
   "source": [
    "df1 = pd.DataFrame(np.random.rand(16).reshape(4,4)*100,\n",
    "                   columns = ['a','b','c','d'])\n",
    "print(df1)\n",
    "print(df1.sort_values(['a'], ascending = True))  # 升序\n",
    "print(df1.sort_values(['a'], ascending = False))  # 降序\n",
    "print('------')\n",
    "# ascending参数：设置升序降序，默认升序\n",
    "# 单列排序\n",
    "\n",
    "df2 = pd.DataFrame({'a':[1,1,1,1,2,2,2,2],\n",
    "                  'b':list(range(8)),\n",
    "                  'c':list(range(8,0,-1))})\n",
    "print(df2)\n",
    "print(df2.sort_values(['a','c']))\n",
    "# 多列排序，按列顺序排序"
   ]
  },
  {
   "cell_type": "code",
   "execution_count": 37,
   "metadata": {
    "ExecuteTime": {
     "end_time": "2019-09-18T02:35:55.050469Z",
     "start_time": "2019-09-18T02:35:55.026526Z"
    }
   },
   "outputs": [
    {
     "name": "stdout",
     "output_type": "stream",
     "text": [
      "           a          b          c          d\n",
      "5  33.420896  35.865215  83.861260  76.179755\n",
      "4  81.166787  18.140757  81.612623  28.379205\n",
      "3  41.963750  50.087474  70.866704  67.844560\n",
      "2   2.008249  57.012160  40.214268  30.885631\n",
      "           a          b          c          d\n",
      "2   2.008249  57.012160  40.214268  30.885631\n",
      "3  41.963750  50.087474  70.866704  67.844560\n",
      "4  81.166787  18.140757  81.612623  28.379205\n",
      "5  33.420896  35.865215  83.861260  76.179755\n",
      "           a          b          c          d\n",
      "h  74.245035  93.673981  77.493237   2.662557\n",
      "s  61.330664   5.921842  88.925381  77.757054\n",
      "x  17.428191  17.319782  80.160156   9.011157\n",
      "g  68.826058  99.527348  79.802760  12.750415\n",
      "           a          b          c          d\n",
      "g  68.826058  99.527348  79.802760  12.750415\n",
      "h  74.245035  93.673981  77.493237   2.662557\n",
      "s  61.330664   5.921842  88.925381  77.757054\n",
      "x  17.428191  17.319782  80.160156   9.011157\n"
     ]
    }
   ],
   "source": [
    "# 排序2 - 索引排序 .sort_index\n",
    "\n",
    "df1 = pd.DataFrame(np.random.rand(16).reshape(4,4)*100,\n",
    "                  index = [5,4,3,2],\n",
    "                   columns = ['a','b','c','d'])\n",
    "df2 = pd.DataFrame(np.random.rand(16).reshape(4,4)*100,\n",
    "                  index = ['h','s','x','g'],\n",
    "                   columns = ['a','b','c','d'])\n",
    "print(df1)\n",
    "print(df1.sort_index())\n",
    "print(df2)\n",
    "print(df2.sort_index())\n",
    "# 按照index排序\n",
    "# 默认 ascending=True, inplace=False"
   ]
  },
  {
   "cell_type": "code",
   "execution_count": null,
   "metadata": {},
   "outputs": [],
   "source": []
  },
  {
   "cell_type": "code",
   "execution_count": null,
   "metadata": {},
   "outputs": [],
   "source": []
  }
 ],
 "metadata": {
  "anaconda-cloud": {},
  "kernelspec": {
   "display_name": "Python 3",
   "language": "python",
   "name": "python3"
  },
  "language_info": {
   "codemirror_mode": {
    "name": "ipython",
    "version": 3
   },
   "file_extension": ".py",
   "mimetype": "text/x-python",
   "name": "python",
   "nbconvert_exporter": "python",
   "pygments_lexer": "ipython3",
   "version": "3.6.4"
  },
  "varInspector": {
   "cols": {
    "lenName": 16,
    "lenType": 16,
    "lenVar": 40
   },
   "kernels_config": {
    "python": {
     "delete_cmd_postfix": "",
     "delete_cmd_prefix": "del ",
     "library": "var_list.py",
     "varRefreshCmd": "print(var_dic_list())"
    },
    "r": {
     "delete_cmd_postfix": ") ",
     "delete_cmd_prefix": "rm(",
     "library": "var_list.r",
     "varRefreshCmd": "cat(var_dic_list()) "
    }
   },
   "types_to_exclude": [
    "module",
    "function",
    "builtin_function_or_method",
    "instance",
    "_Feature"
   ],
   "window_display": false
  }
 },
 "nbformat": 4,
 "nbformat_minor": 1
}
