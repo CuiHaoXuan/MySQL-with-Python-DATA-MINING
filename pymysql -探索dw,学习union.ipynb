{
 "cells": [
  {
   "cell_type": "markdown",
   "metadata": {},
   "source": [
    "# MySQL UNION 操作符用于连接两个以上的 SELECT 语句的结果组合到一个结果集合中。多个 SELECT 语句会删除重复的数据。\n",
    "\n",
    "请注意，UNION 内部的 SELECT 语句必须拥有相同数量的列。列也必须拥有相似的数据类型。同时，每条 SELECT 语句中的列的顺序必须相同\n",
    "http://www.w3school.com.cn/sql/sql_union.asp"
   ]
  },
  {
   "cell_type": "code",
   "execution_count": null,
   "metadata": {},
   "outputs": [],
   "source": []
  },
  {
   "cell_type": "code",
   "execution_count": 9,
   "metadata": {
    "ExecuteTime": {
     "end_time": "2019-07-18T12:30:08.090384Z",
     "start_time": "2019-07-18T12:30:07.277348Z"
    },
    "scrolled": true
   },
   "outputs": [
    {
     "data": {
      "text/html": [
       "<div>\n",
       "<style scoped>\n",
       "    .dataframe tbody tr th:only-of-type {\n",
       "        vertical-align: middle;\n",
       "    }\n",
       "\n",
       "    .dataframe tbody tr th {\n",
       "        vertical-align: top;\n",
       "    }\n",
       "\n",
       "    .dataframe thead th {\n",
       "        text-align: right;\n",
       "    }\n",
       "</style>\n",
       "<table border=\"1\" class=\"dataframe\">\n",
       "  <thead>\n",
       "    <tr style=\"text-align: right;\">\n",
       "      <th></th>\n",
       "      <th>Tables_in_dw</th>\n",
       "    </tr>\n",
       "  </thead>\n",
       "  <tbody>\n",
       "    <tr>\n",
       "      <th>0</th>\n",
       "      <td>dim_category</td>\n",
       "    </tr>\n",
       "    <tr>\n",
       "      <th>1</th>\n",
       "      <td>dim_date</td>\n",
       "    </tr>\n",
       "    <tr>\n",
       "      <th>2</th>\n",
       "      <td>dim_goods</td>\n",
       "    </tr>\n",
       "    <tr>\n",
       "      <th>3</th>\n",
       "      <td>dim_member</td>\n",
       "    </tr>\n",
       "    <tr>\n",
       "      <th>4</th>\n",
       "      <td>dim_shop</td>\n",
       "    </tr>\n",
       "  </tbody>\n",
       "</table>\n",
       "</div>"
      ],
      "text/plain": [
       "   Tables_in_dw\n",
       "0  dim_category\n",
       "1      dim_date\n",
       "2     dim_goods\n",
       "3    dim_member\n",
       "4      dim_shop"
      ]
     },
     "execution_count": 9,
     "metadata": {},
     "output_type": "execute_result"
    }
   ],
   "source": [
    "from sqlalchemy import create_engine\n",
    "import pandas as pd\n",
    "from sqlalchemy import text \n",
    "engine=create_engine('mysql+pymysql://ACCOUNT:PASSWORE@IP:3306/dw')\n",
    "sql = \"show tables\" \n",
    "df = pd.read_sql_query(sql, engine)\n",
    "df.head()"
   ]
  },
  {
   "cell_type": "markdown",
   "metadata": {
    "ExecuteTime": {
     "end_time": "2019-07-18T12:23:06.294112Z",
     "start_time": "2019-07-18T12:23:06.291149Z"
    }
   },
   "source": [
    "# 或者"
   ]
  },
  {
   "cell_type": "code",
   "execution_count": 10,
   "metadata": {
    "ExecuteTime": {
     "end_time": "2019-07-18T12:30:08.772068Z",
     "start_time": "2019-07-18T12:30:08.483215Z"
    }
   },
   "outputs": [
    {
     "name": "stdout",
     "output_type": "stream",
     "text": [
      "result2: (('dim_category',), ('dim_date',), ('dim_goods',), ('dim_member',), ('dim_shop',), ('fct_sales',), ('fct_sales_item',))\n"
     ]
    }
   ],
   "source": [
    "import pymysql\n",
    "# 打开数据库连接\n",
    "db = pymysql.connect(\"118.190.201.131\",\"account\",\"PASSWORD\",\"dw\" ) #,\"\n",
    "# 使用 cursor() 方法创建一个游标对象 cursor\n",
    "cursor = db.cursor()\n",
    "# 使用 execute() 方法执行 SQL，如果表存在则删除\n",
    "sql_2=\"SHOW TABLES\"\n",
    "cursor.execute(sql_2)\n",
    "result2=cursor.fetchall()\n",
    "print('result2:',result2) \n",
    "# 关闭数据库连接\n",
    "db.close()"
   ]
  },
  {
   "cell_type": "code",
   "execution_count": null,
   "metadata": {},
   "outputs": [],
   "source": []
  },
  {
   "cell_type": "markdown",
   "metadata": {},
   "source": [
    "/*\n",
    "* 多表操作之：表的行合并\n",
    "* 用 union\n",
    "* 1、合并的表的列数必须是一致，也就是合并的列数相同\n",
    "* 2、union 与 union all 对二个查询结果合并的时候，如果有结果有重复，union 会把重复\n",
    "的值 删除 ；\n",
    "* 3、union 与 union all "
   ]
  },
  {
   "cell_type": "code",
   "execution_count": 12,
   "metadata": {
    "ExecuteTime": {
     "end_time": "2019-07-18T12:30:30.622452Z",
     "start_time": "2019-07-18T12:30:29.543773Z"
    }
   },
   "outputs": [
    {
     "data": {
      "text/html": [
       "<div>\n",
       "<style scoped>\n",
       "    .dataframe tbody tr th:only-of-type {\n",
       "        vertical-align: middle;\n",
       "    }\n",
       "\n",
       "    .dataframe tbody tr th {\n",
       "        vertical-align: top;\n",
       "    }\n",
       "\n",
       "    .dataframe thead th {\n",
       "        text-align: right;\n",
       "    }\n",
       "</style>\n",
       "<table border=\"1\" class=\"dataframe\">\n",
       "  <thead>\n",
       "    <tr style=\"text-align: right;\">\n",
       "      <th></th>\n",
       "      <th>week_day</th>\n",
       "      <th>sales_money</th>\n",
       "      <th>order_number</th>\n",
       "      <th>member_number</th>\n",
       "      <th>order_rate</th>\n",
       "    </tr>\n",
       "  </thead>\n",
       "  <tbody>\n",
       "    <tr>\n",
       "      <th>0</th>\n",
       "      <td>Friday</td>\n",
       "      <td>96602.58</td>\n",
       "      <td>1739</td>\n",
       "      <td>827</td>\n",
       "      <td>0.1172</td>\n",
       "    </tr>\n",
       "    <tr>\n",
       "      <th>1</th>\n",
       "      <td>Monday</td>\n",
       "      <td>236153.77</td>\n",
       "      <td>4231</td>\n",
       "      <td>1637</td>\n",
       "      <td>0.2851</td>\n",
       "    </tr>\n",
       "    <tr>\n",
       "      <th>2</th>\n",
       "      <td>Saturday</td>\n",
       "      <td>145862.13</td>\n",
       "      <td>1988</td>\n",
       "      <td>871</td>\n",
       "      <td>0.1340</td>\n",
       "    </tr>\n",
       "    <tr>\n",
       "      <th>3</th>\n",
       "      <td>Sunday</td>\n",
       "      <td>128228.18</td>\n",
       "      <td>2016</td>\n",
       "      <td>926</td>\n",
       "      <td>0.1358</td>\n",
       "    </tr>\n",
       "    <tr>\n",
       "      <th>4</th>\n",
       "      <td>Thursday</td>\n",
       "      <td>116434.51</td>\n",
       "      <td>1805</td>\n",
       "      <td>802</td>\n",
       "      <td>0.1216</td>\n",
       "    </tr>\n",
       "  </tbody>\n",
       "</table>\n",
       "</div>"
      ],
      "text/plain": [
       "   week_day  sales_money  order_number  member_number  order_rate\n",
       "0    Friday     96602.58          1739            827      0.1172\n",
       "1    Monday    236153.77          4231           1637      0.2851\n",
       "2  Saturday    145862.13          1988            871      0.1340\n",
       "3    Sunday    128228.18          2016            926      0.1358\n",
       "4  Thursday    116434.51          1805            802      0.1216"
      ]
     },
     "execution_count": 12,
     "metadata": {},
     "output_type": "execute_result"
    }
   ],
   "source": [
    "sql=text('''\n",
    "-- 统计 20170703-20170710 周内每天及本周累计销售金额、订单量、会员数、订单占比\n",
    "select date_format(dimDateID,'%W') as week_day\n",
    ",sum(AMT) as sales_money\n",
    ",count(distinct salesID) as order_number\n",
    ",count(distinct dimMemberID) as member_number\n",
    ",count(distinct salesID)/(select count(distinct salesID) from dw.fct_sales\n",
    "where dimDateID between '20170703' and '20170710')\n",
    "as order_rate\n",
    "from dw.fct_sales\n",
    "where dimDateID between '20170703' and '20170710'\n",
    "group by date_format(dimDateID,'%W')\n",
    "''')\n",
    "df = pd.read_sql_query(sql, engine)\n",
    "df.head()"
   ]
  },
  {
   "cell_type": "code",
   "execution_count": 17,
   "metadata": {
    "ExecuteTime": {
     "end_time": "2019-07-18T13:10:44.312386Z",
     "start_time": "2019-07-18T13:10:44.169649Z"
    }
   },
   "outputs": [
    {
     "data": {
      "text/html": [
       "<div>\n",
       "<style scoped>\n",
       "    .dataframe tbody tr th:only-of-type {\n",
       "        vertical-align: middle;\n",
       "    }\n",
       "\n",
       "    .dataframe tbody tr th {\n",
       "        vertical-align: top;\n",
       "    }\n",
       "\n",
       "    .dataframe thead th {\n",
       "        text-align: right;\n",
       "    }\n",
       "</style>\n",
       "<table border=\"1\" class=\"dataframe\">\n",
       "  <thead>\n",
       "    <tr style=\"text-align: right;\">\n",
       "      <th></th>\n",
       "      <th>sales_money</th>\n",
       "      <th>order_number</th>\n",
       "      <th>member_number</th>\n",
       "    </tr>\n",
       "  </thead>\n",
       "  <tbody>\n",
       "    <tr>\n",
       "      <th>0</th>\n",
       "      <td>888178.6</td>\n",
       "      <td>14840</td>\n",
       "      <td>4188</td>\n",
       "    </tr>\n",
       "  </tbody>\n",
       "</table>\n",
       "</div>"
      ],
      "text/plain": [
       "   sales_money  order_number  member_number\n",
       "0     888178.6         14840           4188"
      ]
     },
     "execution_count": 17,
     "metadata": {},
     "output_type": "execute_result"
    }
   ],
   "source": [
    "sql=text('''\n",
    "select sum(AMT) as sales_money\n",
    ",count(distinct salesID) as order_number\n",
    ",count(distinct dimMemberID) as member_number\n",
    "from dw.fct_sales\n",
    "where dimDateID between '20170703' and '20170710';\n",
    "''')\n",
    "df = pd.read_sql_query(sql, engine)\n",
    "df"
   ]
  },
  {
   "cell_type": "code",
   "execution_count": 16,
   "metadata": {
    "ExecuteTime": {
     "end_time": "2019-07-18T13:10:29.352534Z",
     "start_time": "2019-07-18T13:10:29.152874Z"
    }
   },
   "outputs": [
    {
     "data": {
      "text/html": [
       "<div>\n",
       "<style scoped>\n",
       "    .dataframe tbody tr th:only-of-type {\n",
       "        vertical-align: middle;\n",
       "    }\n",
       "\n",
       "    .dataframe tbody tr th {\n",
       "        vertical-align: top;\n",
       "    }\n",
       "\n",
       "    .dataframe thead th {\n",
       "        text-align: right;\n",
       "    }\n",
       "</style>\n",
       "<table border=\"1\" class=\"dataframe\">\n",
       "  <thead>\n",
       "    <tr style=\"text-align: right;\">\n",
       "      <th></th>\n",
       "      <th>week_day</th>\n",
       "      <th>sales_money</th>\n",
       "      <th>order_number</th>\n",
       "      <th>member_number</th>\n",
       "      <th>order_rate</th>\n",
       "    </tr>\n",
       "  </thead>\n",
       "  <tbody>\n",
       "    <tr>\n",
       "      <th>0</th>\n",
       "      <td>Friday</td>\n",
       "      <td>96602.58</td>\n",
       "      <td>1739</td>\n",
       "      <td>827</td>\n",
       "      <td>0.117183288</td>\n",
       "    </tr>\n",
       "    <tr>\n",
       "      <th>1</th>\n",
       "      <td>Monday</td>\n",
       "      <td>123386.19</td>\n",
       "      <td>2183</td>\n",
       "      <td>939</td>\n",
       "      <td>0.147102425</td>\n",
       "    </tr>\n",
       "    <tr>\n",
       "      <th>2</th>\n",
       "      <td>Saturday</td>\n",
       "      <td>145862.13</td>\n",
       "      <td>1988</td>\n",
       "      <td>871</td>\n",
       "      <td>0.133962264</td>\n",
       "    </tr>\n",
       "    <tr>\n",
       "      <th>3</th>\n",
       "      <td>Sunday</td>\n",
       "      <td>128228.18</td>\n",
       "      <td>2016</td>\n",
       "      <td>926</td>\n",
       "      <td>0.135849056</td>\n",
       "    </tr>\n",
       "    <tr>\n",
       "      <th>4</th>\n",
       "      <td>Thursday</td>\n",
       "      <td>116434.51</td>\n",
       "      <td>1805</td>\n",
       "      <td>802</td>\n",
       "      <td>0.121630727</td>\n",
       "    </tr>\n",
       "    <tr>\n",
       "      <th>5</th>\n",
       "      <td>Tuesday</td>\n",
       "      <td>63387.56</td>\n",
       "      <td>1201</td>\n",
       "      <td>612</td>\n",
       "      <td>0.080929919</td>\n",
       "    </tr>\n",
       "    <tr>\n",
       "      <th>6</th>\n",
       "      <td>Wednesday</td>\n",
       "      <td>101509.87</td>\n",
       "      <td>1860</td>\n",
       "      <td>886</td>\n",
       "      <td>0.125336927</td>\n",
       "    </tr>\n",
       "    <tr>\n",
       "      <th>7</th>\n",
       "      <td>27</td>\n",
       "      <td>775411.02</td>\n",
       "      <td>12792</td>\n",
       "      <td>3828</td>\n",
       "      <td>100%</td>\n",
       "    </tr>\n",
       "  </tbody>\n",
       "</table>\n",
       "</div>"
      ],
      "text/plain": [
       "    week_day  sales_money  order_number  member_number   order_rate\n",
       "0     Friday     96602.58          1739            827  0.117183288\n",
       "1     Monday    123386.19          2183            939  0.147102425\n",
       "2   Saturday    145862.13          1988            871  0.133962264\n",
       "3     Sunday    128228.18          2016            926  0.135849056\n",
       "4   Thursday    116434.51          1805            802  0.121630727\n",
       "5    Tuesday     63387.56          1201            612  0.080929919\n",
       "6  Wednesday    101509.87          1860            886  0.125336927\n",
       "7         27    775411.02         12792           3828         100%"
      ]
     },
     "execution_count": 16,
     "metadata": {},
     "output_type": "execute_result"
    }
   ],
   "source": [
    "#---- 用 union 合并在一起\n",
    "sql=text('''\n",
    "select date_format(dimDateID,'%W') as week_day\n",
    ",sum(AMT) as sales_money\n",
    ",count(distinct salesID) as order_number\n",
    ",count(distinct dimMemberID) as member_number\n",
    ",count(distinct salesID)/(select count(distinct salesID) from dw.fct_sales\n",
    "where dimDateID between '20170703' and '20170710')\n",
    "as order_rate\n",
    "from dw.fct_sales\n",
    "where dimDateID between '20170703' and '20170709'\n",
    "group by date_format(dimDateID,'%W')\n",
    "union\n",
    "select week(dimDateID,1) as week_1\n",
    ",sum(AMT) as sales_money\n",
    ",count(distinct salesID) as order_number\n",
    ",count(distinct dimMemberID) as member_number\n",
    ",'100%' as total\n",
    "from dw.fct_sales\n",
    "where dimDateID between '20170703' and '20170709'\n",
    "group by week(dimDateID,1);\n",
    "''')\n",
    "df = pd.read_sql_query(sql, engine)\n",
    "df"
   ]
  },
  {
   "cell_type": "code",
   "execution_count": 18,
   "metadata": {
    "ExecuteTime": {
     "end_time": "2019-07-18T13:11:45.814444Z",
     "start_time": "2019-07-18T13:11:45.614398Z"
    }
   },
   "outputs": [
    {
     "data": {
      "text/html": [
       "<div>\n",
       "<style scoped>\n",
       "    .dataframe tbody tr th:only-of-type {\n",
       "        vertical-align: middle;\n",
       "    }\n",
       "\n",
       "    .dataframe tbody tr th {\n",
       "        vertical-align: top;\n",
       "    }\n",
       "\n",
       "    .dataframe thead th {\n",
       "        text-align: right;\n",
       "    }\n",
       "</style>\n",
       "<table border=\"1\" class=\"dataframe\">\n",
       "  <thead>\n",
       "    <tr style=\"text-align: right;\">\n",
       "      <th></th>\n",
       "      <th>week_day</th>\n",
       "      <th>sales_money</th>\n",
       "      <th>order_number</th>\n",
       "      <th>member_number</th>\n",
       "      <th>order_rate</th>\n",
       "    </tr>\n",
       "  </thead>\n",
       "  <tbody>\n",
       "    <tr>\n",
       "      <th>0</th>\n",
       "      <td>Friday</td>\n",
       "      <td>96602.58</td>\n",
       "      <td>1739</td>\n",
       "      <td>827</td>\n",
       "      <td>0.117183288</td>\n",
       "    </tr>\n",
       "    <tr>\n",
       "      <th>1</th>\n",
       "      <td>Monday</td>\n",
       "      <td>123386.19</td>\n",
       "      <td>2183</td>\n",
       "      <td>939</td>\n",
       "      <td>0.147102425</td>\n",
       "    </tr>\n",
       "    <tr>\n",
       "      <th>2</th>\n",
       "      <td>Saturday</td>\n",
       "      <td>145862.13</td>\n",
       "      <td>1988</td>\n",
       "      <td>871</td>\n",
       "      <td>0.133962264</td>\n",
       "    </tr>\n",
       "    <tr>\n",
       "      <th>3</th>\n",
       "      <td>Sunday</td>\n",
       "      <td>128228.18</td>\n",
       "      <td>2016</td>\n",
       "      <td>926</td>\n",
       "      <td>0.135849056</td>\n",
       "    </tr>\n",
       "    <tr>\n",
       "      <th>4</th>\n",
       "      <td>Thursday</td>\n",
       "      <td>116434.51</td>\n",
       "      <td>1805</td>\n",
       "      <td>802</td>\n",
       "      <td>0.121630727</td>\n",
       "    </tr>\n",
       "    <tr>\n",
       "      <th>5</th>\n",
       "      <td>Tuesday</td>\n",
       "      <td>63387.56</td>\n",
       "      <td>1201</td>\n",
       "      <td>612</td>\n",
       "      <td>0.080929919</td>\n",
       "    </tr>\n",
       "    <tr>\n",
       "      <th>6</th>\n",
       "      <td>Wednesday</td>\n",
       "      <td>101509.87</td>\n",
       "      <td>1860</td>\n",
       "      <td>886</td>\n",
       "      <td>0.125336927</td>\n",
       "    </tr>\n",
       "    <tr>\n",
       "      <th>7</th>\n",
       "      <td>27</td>\n",
       "      <td>775411.02</td>\n",
       "      <td>12792</td>\n",
       "      <td>3828</td>\n",
       "      <td>100%</td>\n",
       "    </tr>\n",
       "  </tbody>\n",
       "</table>\n",
       "</div>"
      ],
      "text/plain": [
       "    week_day  sales_money  order_number  member_number   order_rate\n",
       "0     Friday     96602.58          1739            827  0.117183288\n",
       "1     Monday    123386.19          2183            939  0.147102425\n",
       "2   Saturday    145862.13          1988            871  0.133962264\n",
       "3     Sunday    128228.18          2016            926  0.135849056\n",
       "4   Thursday    116434.51          1805            802  0.121630727\n",
       "5    Tuesday     63387.56          1201            612  0.080929919\n",
       "6  Wednesday    101509.87          1860            886  0.125336927\n",
       "7         27    775411.02         12792           3828         100%"
      ]
     },
     "execution_count": 18,
     "metadata": {},
     "output_type": "execute_result"
    }
   ],
   "source": [
    "#---- 用 union all 合并在一起\n",
    "sql=text('''\n",
    "select date_format(dimDateID,'%W') as week_day\n",
    ",sum(AMT) as sales_money\n",
    ",count(distinct salesID) as order_number\n",
    ",count(distinct dimMemberID) as member_number\n",
    ",count(distinct salesID)/(select count(distinct salesID) from dw.fct_sales\n",
    "where dimDateID between '20170703' and '20170710')\n",
    "as order_rate\n",
    "from dw.fct_sales\n",
    "where dimDateID between '20170703' and '20170709'\n",
    "group by date_format(dimDateID,'%W')\n",
    "union all\n",
    "select week(dimDateID,1) as week_1\n",
    ",sum(AMT) as sales_money\n",
    ",count(distinct salesID) as order_number\n",
    ",count(distinct dimMemberID) as member_number\n",
    ",'100%' as total\n",
    "from dw.fct_sales\n",
    "where dimDateID between '20170703' and '20170709'\n",
    "group by week(dimDateID,1);\n",
    "''')\n",
    "df = pd.read_sql_query(sql, engine)\n",
    "df"
   ]
  },
  {
   "cell_type": "code",
   "execution_count": null,
   "metadata": {},
   "outputs": [],
   "source": []
  }
 ],
 "metadata": {
  "kernelspec": {
   "display_name": "Python 3",
   "language": "python",
   "name": "python3"
  },
  "language_info": {
   "codemirror_mode": {
    "name": "ipython",
    "version": 3
   },
   "file_extension": ".py",
   "mimetype": "text/x-python",
   "name": "python",
   "nbconvert_exporter": "python",
   "pygments_lexer": "ipython3",
   "version": "3.6.4"
  },
  "varInspector": {
   "cols": {
    "lenName": 16,
    "lenType": 16,
    "lenVar": 40
   },
   "kernels_config": {
    "python": {
     "delete_cmd_postfix": "",
     "delete_cmd_prefix": "del ",
     "library": "var_list.py",
     "varRefreshCmd": "print(var_dic_list())"
    },
    "r": {
     "delete_cmd_postfix": ") ",
     "delete_cmd_prefix": "rm(",
     "library": "var_list.r",
     "varRefreshCmd": "cat(var_dic_list()) "
    }
   },
   "types_to_exclude": [
    "module",
    "function",
    "builtin_function_or_method",
    "instance",
    "_Feature"
   ],
   "window_display": false
  }
 },
 "nbformat": 4,
 "nbformat_minor": 2
}
