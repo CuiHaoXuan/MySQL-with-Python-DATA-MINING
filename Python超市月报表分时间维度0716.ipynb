{
 "cells": [
  {
   "cell_type": "markdown",
   "metadata": {},
   "source": [
    "**作业题：**\n",
    "1.\t计算2017年4月每日的销售额、客流量、客单价，并用图表形式展现\n",
    "2.\t计算2017年4月中周一至周日的销售额、客流量、客单价，并用图表形式展现\n",
    "3.\t随机选取2017年4月中的一天，计算一天中不同小时的销售额、客流量、客单价，并用图表形式展现"
   ]
  },
  {
   "cell_type": "markdown",
   "metadata": {},
   "source": [
    "**题目说明：**\n",
    "- 销售额 = 售价 乘 销量 = [\"Price\"] 乘 [\"Qty\"]\n",
    "- 客流量 = 订单量（客流量用订单量代替）\n",
    "- 客单价 = 销售额/客流量\n",
    "\n",
    "**业务背景：**\n",
    "- 通过第一节我们已经判断出了17年4月各指标发展情况的好坏，作为数据分析师，不管业务出现好或者坏，都要去追寻为什么？在追寻为什么的时候，就可以结合业务具体去看是因为哪方面的变化，引起了某一段时间内整体指标的变化。\n",
    "\n",
    "- 这一节选择时间维度去看一下17年4月不同时间维度各指标的变化情况。\n",
    "\n",
    "\n",
    "**计算逻辑说明：**\n",
    "1.\t分日的各指标计算类似于分月的各指标计算，只不过这里需要将时间转化为日维度的数据，然后用日期去做透视表就可以算出每一天的各指标情况。\n",
    "2.\t分周、分小时与分日的计算逻辑一致，需要分别把时间转化为周维度、以及小时维度。"
   ]
  },
  {
   "cell_type": "markdown",
   "metadata": {},
   "source": [
    "# 导入相关库"
   ]
  },
  {
   "cell_type": "code",
   "execution_count": 37,
   "metadata": {
    "ExecuteTime": {
     "end_time": "2019-07-16T13:41:04.886345Z",
     "start_time": "2019-07-16T13:41:04.855427Z"
    }
   },
   "outputs": [],
   "source": [
    "%matplotlib inline\n",
    "import pandas as pd\n",
    "import numpy as np\n",
    "import matplotlib.pyplot as plt\n",
    "from dateutil.parser import parse\n",
    "plt.rcParams[\"font.sans-serif\"]='SimHei'#解决中文乱码\n",
    "plt.rcParams['axes.unicode_minus'] = False#解决负号无法正常显示的问题"
   ]
  },
  {
   "cell_type": "markdown",
   "metadata": {},
   "source": [
    "# 导入数据 "
   ]
  },
  {
   "cell_type": "code",
   "execution_count": 40,
   "metadata": {
    "ExecuteTime": {
     "end_time": "2019-07-16T13:41:16.835368Z",
     "start_time": "2019-07-16T13:41:16.828345Z"
    }
   },
   "outputs": [],
   "source": [
    "#help(pd.read_csv)"
   ]
  },
  {
   "cell_type": "code",
   "execution_count": 39,
   "metadata": {
    "ExecuteTime": {
     "end_time": "2019-07-16T13:41:12.692436Z",
     "start_time": "2019-07-16T13:41:12.365311Z"
    }
   },
   "outputs": [
    {
     "data": {
      "text/html": [
       "<div>\n",
       "<style scoped>\n",
       "    .dataframe tbody tr th:only-of-type {\n",
       "        vertical-align: middle;\n",
       "    }\n",
       "\n",
       "    .dataframe tbody tr th {\n",
       "        vertical-align: top;\n",
       "    }\n",
       "\n",
       "    .dataframe thead th {\n",
       "        text-align: right;\n",
       "    }\n",
       "</style>\n",
       "<table border=\"1\" class=\"dataframe\">\n",
       "  <thead>\n",
       "    <tr style=\"text-align: right;\">\n",
       "      <th></th>\n",
       "      <th>salesID</th>\n",
       "      <th>salesNo</th>\n",
       "      <th>dimDateID</th>\n",
       "      <th>dimShopID</th>\n",
       "      <th>dimMemberID</th>\n",
       "      <th>QTY</th>\n",
       "      <th>AMT</th>\n",
       "      <th>pAMT</th>\n",
       "      <th>mpAMT</th>\n",
       "      <th>updateTime</th>\n",
       "    </tr>\n",
       "  </thead>\n",
       "  <tbody>\n",
       "    <tr>\n",
       "      <th>178330</th>\n",
       "      <td>178331</td>\n",
       "      <td>34131068003752</td>\n",
       "      <td>2017-08-30</td>\n",
       "      <td>34</td>\n",
       "      <td>0</td>\n",
       "      <td>2.00</td>\n",
       "      <td>6.26</td>\n",
       "      <td>0.0</td>\n",
       "      <td>0.0</td>\n",
       "      <td>2017-09-09 10:24:16</td>\n",
       "    </tr>\n",
       "    <tr>\n",
       "      <th>178331</th>\n",
       "      <td>178332</td>\n",
       "      <td>34131068003753</td>\n",
       "      <td>2017-08-30</td>\n",
       "      <td>33</td>\n",
       "      <td>0</td>\n",
       "      <td>4.00</td>\n",
       "      <td>14.40</td>\n",
       "      <td>0.0</td>\n",
       "      <td>0.0</td>\n",
       "      <td>2017-09-09 10:24:16</td>\n",
       "    </tr>\n",
       "    <tr>\n",
       "      <th>178332</th>\n",
       "      <td>178333</td>\n",
       "      <td>34131068003754</td>\n",
       "      <td>2017-08-30</td>\n",
       "      <td>34</td>\n",
       "      <td>0</td>\n",
       "      <td>2.00</td>\n",
       "      <td>99.80</td>\n",
       "      <td>0.0</td>\n",
       "      <td>0.0</td>\n",
       "      <td>2017-09-09 10:24:16</td>\n",
       "    </tr>\n",
       "    <tr>\n",
       "      <th>178333</th>\n",
       "      <td>178334</td>\n",
       "      <td>34131068003755</td>\n",
       "      <td>2017-08-30</td>\n",
       "      <td>33</td>\n",
       "      <td>0</td>\n",
       "      <td>2.00</td>\n",
       "      <td>324.00</td>\n",
       "      <td>0.0</td>\n",
       "      <td>0.0</td>\n",
       "      <td>2017-09-09 10:24:16</td>\n",
       "    </tr>\n",
       "    <tr>\n",
       "      <th>178334</th>\n",
       "      <td>178335</td>\n",
       "      <td>34131068003756</td>\n",
       "      <td>2017-08-30</td>\n",
       "      <td>34</td>\n",
       "      <td>0</td>\n",
       "      <td>4.14</td>\n",
       "      <td>36.50</td>\n",
       "      <td>0.0</td>\n",
       "      <td>0.0</td>\n",
       "      <td>2017-09-09 10:24:16</td>\n",
       "    </tr>\n",
       "    <tr>\n",
       "      <th>178335</th>\n",
       "      <td>178336</td>\n",
       "      <td>34131068003757</td>\n",
       "      <td>2017-08-30</td>\n",
       "      <td>33</td>\n",
       "      <td>0</td>\n",
       "      <td>2.00</td>\n",
       "      <td>6.26</td>\n",
       "      <td>0.0</td>\n",
       "      <td>0.0</td>\n",
       "      <td>2017-09-09 10:24:16</td>\n",
       "    </tr>\n",
       "    <tr>\n",
       "      <th>178336</th>\n",
       "      <td>178337</td>\n",
       "      <td>34131068003758</td>\n",
       "      <td>2017-08-30</td>\n",
       "      <td>34</td>\n",
       "      <td>0</td>\n",
       "      <td>1.00</td>\n",
       "      <td>82.80</td>\n",
       "      <td>0.0</td>\n",
       "      <td>0.0</td>\n",
       "      <td>2017-09-09 10:24:16</td>\n",
       "    </tr>\n",
       "    <tr>\n",
       "      <th>178337</th>\n",
       "      <td>178338</td>\n",
       "      <td>34131068003759</td>\n",
       "      <td>2017-08-30</td>\n",
       "      <td>33</td>\n",
       "      <td>0</td>\n",
       "      <td>1.00</td>\n",
       "      <td>35.53</td>\n",
       "      <td>0.0</td>\n",
       "      <td>0.0</td>\n",
       "      <td>2017-09-09 10:24:16</td>\n",
       "    </tr>\n",
       "    <tr>\n",
       "      <th>178338</th>\n",
       "      <td>178339</td>\n",
       "      <td>34131068003760</td>\n",
       "      <td>2017-08-30</td>\n",
       "      <td>34</td>\n",
       "      <td>0</td>\n",
       "      <td>1.00</td>\n",
       "      <td>18.90</td>\n",
       "      <td>0.0</td>\n",
       "      <td>0.0</td>\n",
       "      <td>2017-09-09 10:24:16</td>\n",
       "    </tr>\n",
       "    <tr>\n",
       "      <th>178339</th>\n",
       "      <td>178340</td>\n",
       "      <td>34131068003761</td>\n",
       "      <td>2017-08-30</td>\n",
       "      <td>33</td>\n",
       "      <td>0</td>\n",
       "      <td>2.00</td>\n",
       "      <td>7.20</td>\n",
       "      <td>0.0</td>\n",
       "      <td>0.0</td>\n",
       "      <td>2017-09-09 10:24:16</td>\n",
       "    </tr>\n",
       "    <tr>\n",
       "      <th>178340</th>\n",
       "      <td>178341</td>\n",
       "      <td>34131068003762</td>\n",
       "      <td>2017-08-30</td>\n",
       "      <td>34</td>\n",
       "      <td>0</td>\n",
       "      <td>1.00</td>\n",
       "      <td>42.90</td>\n",
       "      <td>0.0</td>\n",
       "      <td>0.0</td>\n",
       "      <td>2017-09-09 10:24:16</td>\n",
       "    </tr>\n",
       "    <tr>\n",
       "      <th>178341</th>\n",
       "      <td>178342</td>\n",
       "      <td>34131068003763</td>\n",
       "      <td>2017-08-30</td>\n",
       "      <td>33</td>\n",
       "      <td>0</td>\n",
       "      <td>1.00</td>\n",
       "      <td>29.99</td>\n",
       "      <td>0.0</td>\n",
       "      <td>0.0</td>\n",
       "      <td>2017-09-09 10:24:16</td>\n",
       "    </tr>\n",
       "    <tr>\n",
       "      <th>178342</th>\n",
       "      <td>178343</td>\n",
       "      <td>34131068003764</td>\n",
       "      <td>2017-08-30</td>\n",
       "      <td>34</td>\n",
       "      <td>0</td>\n",
       "      <td>0.78</td>\n",
       "      <td>13.10</td>\n",
       "      <td>0.0</td>\n",
       "      <td>0.0</td>\n",
       "      <td>2017-09-09 10:24:16</td>\n",
       "    </tr>\n",
       "  </tbody>\n",
       "</table>\n",
       "</div>"
      ],
      "text/plain": [
       "        salesID         salesNo  dimDateID  dimShopID  dimMemberID   QTY  \\\n",
       "178330   178331  34131068003752 2017-08-30         34            0  2.00   \n",
       "178331   178332  34131068003753 2017-08-30         33            0  4.00   \n",
       "178332   178333  34131068003754 2017-08-30         34            0  2.00   \n",
       "178333   178334  34131068003755 2017-08-30         33            0  2.00   \n",
       "178334   178335  34131068003756 2017-08-30         34            0  4.14   \n",
       "178335   178336  34131068003757 2017-08-30         33            0  2.00   \n",
       "178336   178337  34131068003758 2017-08-30         34            0  1.00   \n",
       "178337   178338  34131068003759 2017-08-30         33            0  1.00   \n",
       "178338   178339  34131068003760 2017-08-30         34            0  1.00   \n",
       "178339   178340  34131068003761 2017-08-30         33            0  2.00   \n",
       "178340   178341  34131068003762 2017-08-30         34            0  1.00   \n",
       "178341   178342  34131068003763 2017-08-30         33            0  1.00   \n",
       "178342   178343  34131068003764 2017-08-30         34            0  0.78   \n",
       "\n",
       "           AMT  pAMT  mpAMT           updateTime  \n",
       "178330    6.26   0.0    0.0  2017-09-09 10:24:16  \n",
       "178331   14.40   0.0    0.0  2017-09-09 10:24:16  \n",
       "178332   99.80   0.0    0.0  2017-09-09 10:24:16  \n",
       "178333  324.00   0.0    0.0  2017-09-09 10:24:16  \n",
       "178334   36.50   0.0    0.0  2017-09-09 10:24:16  \n",
       "178335    6.26   0.0    0.0  2017-09-09 10:24:16  \n",
       "178336   82.80   0.0    0.0  2017-09-09 10:24:16  \n",
       "178337   35.53   0.0    0.0  2017-09-09 10:24:16  \n",
       "178338   18.90   0.0    0.0  2017-09-09 10:24:16  \n",
       "178339    7.20   0.0    0.0  2017-09-09 10:24:16  \n",
       "178340   42.90   0.0    0.0  2017-09-09 10:24:16  \n",
       "178341   29.99   0.0    0.0  2017-09-09 10:24:16  \n",
       "178342   13.10   0.0    0.0  2017-09-09 10:24:16  "
      ]
     },
     "execution_count": 39,
     "metadata": {},
     "output_type": "execute_result"
    }
   ],
   "source": [
    "#pwd ,parse_dates = [\"dimDateID\"]\n",
    "data_fct_sales = pd.read_csv(r\"C:\\\\Users\\\\lining\\\\Desktop\\\\myjob\\\\My_SQL\\\\零售fct_sales.csv\",index_col=0,parse_dates = [\"dimDateID\"])\n",
    "data_fct_sales.tail(13)"
   ]
  },
  {
   "cell_type": "code",
   "execution_count": 15,
   "metadata": {
    "ExecuteTime": {
     "end_time": "2019-07-16T12:55:35.076034Z",
     "start_time": "2019-07-16T12:55:34.960629Z"
    }
   },
   "outputs": [
    {
     "data": {
      "text/html": [
       "<div>\n",
       "<style scoped>\n",
       "    .dataframe tbody tr th:only-of-type {\n",
       "        vertical-align: middle;\n",
       "    }\n",
       "\n",
       "    .dataframe tbody tr th {\n",
       "        vertical-align: top;\n",
       "    }\n",
       "\n",
       "    .dataframe thead th {\n",
       "        text-align: right;\n",
       "    }\n",
       "</style>\n",
       "<table border=\"1\" class=\"dataframe\">\n",
       "  <thead>\n",
       "    <tr style=\"text-align: right;\">\n",
       "      <th></th>\n",
       "      <th>dimGoodsID</th>\n",
       "      <th>categoryID1</th>\n",
       "      <th>categoryName1</th>\n",
       "      <th>categoryID2</th>\n",
       "      <th>categoryName2</th>\n",
       "      <th>categoryID3</th>\n",
       "      <th>categoryName3</th>\n",
       "      <th>categoryID4</th>\n",
       "      <th>categoryName4</th>\n",
       "      <th>branName</th>\n",
       "      <th>name</th>\n",
       "    </tr>\n",
       "  </thead>\n",
       "  <tbody>\n",
       "    <tr>\n",
       "      <th>25856</th>\n",
       "      <td>9640482</td>\n",
       "      <td>96</td>\n",
       "      <td>烟酒纯鲜奶</td>\n",
       "      <td>96</td>\n",
       "      <td>酒</td>\n",
       "      <td>4</td>\n",
       "      <td>礼盒酒</td>\n",
       "      <td>2</td>\n",
       "      <td>礼盒装普通白酒</td>\n",
       "      <td>NaN</td>\n",
       "      <td>清明用品(布花)2213</td>\n",
       "    </tr>\n",
       "    <tr>\n",
       "      <th>25857</th>\n",
       "      <td>9640483</td>\n",
       "      <td>96</td>\n",
       "      <td>烟酒纯鲜奶</td>\n",
       "      <td>96</td>\n",
       "      <td>酒</td>\n",
       "      <td>4</td>\n",
       "      <td>礼盒酒</td>\n",
       "      <td>2</td>\n",
       "      <td>礼盒装普通白酒</td>\n",
       "      <td>NaN</td>\n",
       "      <td>清明用品(布花)2214</td>\n",
       "    </tr>\n",
       "    <tr>\n",
       "      <th>25858</th>\n",
       "      <td>9640484</td>\n",
       "      <td>96</td>\n",
       "      <td>烟酒纯鲜奶</td>\n",
       "      <td>96</td>\n",
       "      <td>酒</td>\n",
       "      <td>4</td>\n",
       "      <td>礼盒酒</td>\n",
       "      <td>2</td>\n",
       "      <td>礼盒装普通白酒</td>\n",
       "      <td>NaN</td>\n",
       "      <td>清明用品(布花)2215</td>\n",
       "    </tr>\n",
       "  </tbody>\n",
       "</table>\n",
       "</div>"
      ],
      "text/plain": [
       "       dimGoodsID  categoryID1 categoryName1  categoryID2 categoryName2  \\\n",
       "25856     9640482           96         烟酒纯鲜奶           96             酒   \n",
       "25857     9640483           96         烟酒纯鲜奶           96             酒   \n",
       "25858     9640484           96         烟酒纯鲜奶           96             酒   \n",
       "\n",
       "       categoryID3 categoryName3  categoryID4 categoryName4 branName  \\\n",
       "25856            4           礼盒酒            2       礼盒装普通白酒      NaN   \n",
       "25857            4           礼盒酒            2       礼盒装普通白酒      NaN   \n",
       "25858            4           礼盒酒            2       礼盒装普通白酒      NaN   \n",
       "\n",
       "               name  \n",
       "25856  清明用品(布花)2213  \n",
       "25857  清明用品(布花)2214  \n",
       "25858  清明用品(布花)2215  "
      ]
     },
     "execution_count": 15,
     "metadata": {},
     "output_type": "execute_result"
    }
   ],
   "source": [
    "#,parse_dates = [\"dimDateID\"]\n",
    "data_dim_goods = pd.read_csv(r\"C:\\\\Users\\\\lining\\\\Desktop\\\\myjob\\\\My_SQL\\\\零售dim_goods.csv\",index_col=0)\n",
    "data_dim_goods.tail(3)"
   ]
  },
  {
   "cell_type": "code",
   "execution_count": 28,
   "metadata": {
    "ExecuteTime": {
     "end_time": "2019-07-16T13:29:33.980569Z",
     "start_time": "2019-07-16T13:29:33.045962Z"
    }
   },
   "outputs": [
    {
     "data": {
      "text/html": [
       "<div>\n",
       "<style scoped>\n",
       "    .dataframe tbody tr th:only-of-type {\n",
       "        vertical-align: middle;\n",
       "    }\n",
       "\n",
       "    .dataframe tbody tr th {\n",
       "        vertical-align: top;\n",
       "    }\n",
       "\n",
       "    .dataframe thead th {\n",
       "        text-align: right;\n",
       "    }\n",
       "</style>\n",
       "<table border=\"1\" class=\"dataframe\">\n",
       "  <thead>\n",
       "    <tr style=\"text-align: right;\">\n",
       "      <th></th>\n",
       "      <th>id</th>\n",
       "      <th>salesID</th>\n",
       "      <th>salesNo</th>\n",
       "      <th>dimDateID</th>\n",
       "      <th>dimShopID</th>\n",
       "      <th>goodsID</th>\n",
       "      <th>QTY</th>\n",
       "      <th>AMT</th>\n",
       "      <th>pAMT</th>\n",
       "      <th>mpAMT</th>\n",
       "      <th>updateTime</th>\n",
       "    </tr>\n",
       "  </thead>\n",
       "  <tbody>\n",
       "    <tr>\n",
       "      <th>647616</th>\n",
       "      <td>647617</td>\n",
       "      <td>178341</td>\n",
       "      <td>34131068003762</td>\n",
       "      <td>2017-08-30</td>\n",
       "      <td>34</td>\n",
       "      <td>9541278</td>\n",
       "      <td>1.00</td>\n",
       "      <td>42.90</td>\n",
       "      <td>0.0</td>\n",
       "      <td>0.0</td>\n",
       "      <td>2017-09-09 02:24:25</td>\n",
       "    </tr>\n",
       "    <tr>\n",
       "      <th>647617</th>\n",
       "      <td>647618</td>\n",
       "      <td>178342</td>\n",
       "      <td>34131068003763</td>\n",
       "      <td>2017-08-30</td>\n",
       "      <td>33</td>\n",
       "      <td>5110667</td>\n",
       "      <td>1.00</td>\n",
       "      <td>29.99</td>\n",
       "      <td>0.0</td>\n",
       "      <td>0.0</td>\n",
       "      <td>2017-09-09 02:24:25</td>\n",
       "    </tr>\n",
       "    <tr>\n",
       "      <th>647618</th>\n",
       "      <td>647619</td>\n",
       "      <td>178343</td>\n",
       "      <td>34131068003764</td>\n",
       "      <td>2017-08-30</td>\n",
       "      <td>34</td>\n",
       "      <td>5611552</td>\n",
       "      <td>0.78</td>\n",
       "      <td>13.10</td>\n",
       "      <td>0.0</td>\n",
       "      <td>0.0</td>\n",
       "      <td>2017-09-09 02:24:25</td>\n",
       "    </tr>\n",
       "  </tbody>\n",
       "</table>\n",
       "</div>"
      ],
      "text/plain": [
       "            id  salesID         salesNo  dimDateID  dimShopID  goodsID   QTY  \\\n",
       "647616  647617   178341  34131068003762 2017-08-30         34  9541278  1.00   \n",
       "647617  647618   178342  34131068003763 2017-08-30         33  5110667  1.00   \n",
       "647618  647619   178343  34131068003764 2017-08-30         34  5611552  0.78   \n",
       "\n",
       "          AMT  pAMT  mpAMT           updateTime  \n",
       "647616  42.90   0.0    0.0  2017-09-09 02:24:25  \n",
       "647617  29.99   0.0    0.0  2017-09-09 02:24:25  \n",
       "647618  13.10   0.0    0.0  2017-09-09 02:24:25  "
      ]
     },
     "execution_count": 28,
     "metadata": {},
     "output_type": "execute_result"
    }
   ],
   "source": [
    "#,parse_dates = [\"dimDateID\"]\n",
    "data_fct_sales_item = pd.read_csv(r\"C:\\\\Users\\\\lining\\\\Desktop\\\\myjob\\\\My_SQL\\\\零售fct_sales_item.csv\",\n",
    "                                  index_col=0,parse_dates = [\"dimDateID\"]) #,\"updateTime\"]\n",
    "data_fct_sales_item.tail(3)"
   ]
  },
  {
   "cell_type": "code",
   "execution_count": 29,
   "metadata": {
    "ExecuteTime": {
     "end_time": "2019-07-16T13:29:35.802771Z",
     "start_time": "2019-07-16T13:29:35.626242Z"
    }
   },
   "outputs": [
    {
     "name": "stdout",
     "output_type": "stream",
     "text": [
      "<class 'pandas.core.frame.DataFrame'>\n",
      "Int64Index: 647619 entries, 0 to 647618\n",
      "Data columns (total 11 columns):\n",
      "id            647619 non-null int64\n",
      "salesID       647619 non-null int64\n",
      "salesNo       647619 non-null int64\n",
      "dimDateID     647619 non-null datetime64[ns]\n",
      "dimShopID     647619 non-null int64\n",
      "goodsID       647619 non-null int64\n",
      "QTY           647619 non-null float64\n",
      "AMT           647619 non-null float64\n",
      "pAMT          647619 non-null float64\n",
      "mpAMT         647619 non-null float64\n",
      "updateTime    647619 non-null object\n",
      "dtypes: datetime64[ns](1), float64(4), int64(5), object(1)\n",
      "memory usage: 59.3+ MB\n"
     ]
    }
   ],
   "source": [
    "data_fct_sales_item.info()   # 注意dimDateID 变成了 datetime64 类型数据"
   ]
  },
  {
   "cell_type": "code",
   "execution_count": 30,
   "metadata": {
    "ExecuteTime": {
     "end_time": "2019-07-16T13:29:37.209476Z",
     "start_time": "2019-07-16T13:29:37.199501Z"
    }
   },
   "outputs": [
    {
     "data": {
      "text/plain": [
       "(647619, 11)"
      ]
     },
     "execution_count": 30,
     "metadata": {},
     "output_type": "execute_result"
    }
   ],
   "source": [
    "data_fct_sales_item.shape"
   ]
  },
  {
   "cell_type": "code",
   "execution_count": 31,
   "metadata": {
    "ExecuteTime": {
     "end_time": "2019-07-16T13:29:40.242399Z",
     "start_time": "2019-07-16T13:29:39.775094Z"
    }
   },
   "outputs": [
    {
     "data": {
      "text/plain": [
       "(647619, 11)"
      ]
     },
     "execution_count": 31,
     "metadata": {},
     "output_type": "execute_result"
    }
   ],
   "source": [
    "data_fct_sales_item.drop_duplicates().shape"
   ]
  },
  {
   "cell_type": "markdown",
   "metadata": {},
   "source": [
    "# 数据预处理"
   ]
  },
  {
   "cell_type": "code",
   "execution_count": 32,
   "metadata": {
    "ExecuteTime": {
     "end_time": "2019-07-16T13:36:30.812122Z",
     "start_time": "2019-07-16T13:35:25.406024Z"
    }
   },
   "outputs": [],
   "source": [
    "data_fct_sales_item[\"date\"] = [parse(str(time)) for time in data_fct_sales_item[\"dimDateID\"]]\n",
    "data_fct_sales[\"date\"] = [parse(str(time)) for time in data_fct_sales[\"dimDateID\"]]"
   ]
  },
  {
   "cell_type": "code",
   "execution_count": 33,
   "metadata": {
    "ExecuteTime": {
     "end_time": "2019-07-16T13:36:48.062155Z",
     "start_time": "2019-07-16T13:36:48.033234Z"
    }
   },
   "outputs": [
    {
     "data": {
      "text/html": [
       "<div>\n",
       "<style scoped>\n",
       "    .dataframe tbody tr th:only-of-type {\n",
       "        vertical-align: middle;\n",
       "    }\n",
       "\n",
       "    .dataframe tbody tr th {\n",
       "        vertical-align: top;\n",
       "    }\n",
       "\n",
       "    .dataframe thead th {\n",
       "        text-align: right;\n",
       "    }\n",
       "</style>\n",
       "<table border=\"1\" class=\"dataframe\">\n",
       "  <thead>\n",
       "    <tr style=\"text-align: right;\">\n",
       "      <th></th>\n",
       "      <th>salesID</th>\n",
       "      <th>salesNo</th>\n",
       "      <th>dimDateID</th>\n",
       "      <th>dimShopID</th>\n",
       "      <th>dimMemberID</th>\n",
       "      <th>QTY</th>\n",
       "      <th>AMT</th>\n",
       "      <th>pAMT</th>\n",
       "      <th>mpAMT</th>\n",
       "      <th>updateTime</th>\n",
       "      <th>date</th>\n",
       "    </tr>\n",
       "  </thead>\n",
       "  <tbody>\n",
       "    <tr>\n",
       "      <th>0</th>\n",
       "      <td>1</td>\n",
       "      <td>34131002542176</td>\n",
       "      <td>2017-06-02</td>\n",
       "      <td>33</td>\n",
       "      <td>4821</td>\n",
       "      <td>1.000</td>\n",
       "      <td>7.99</td>\n",
       "      <td>0.0</td>\n",
       "      <td>0.210</td>\n",
       "      <td>2017-09-09 10:24:16</td>\n",
       "      <td>2017-06-02</td>\n",
       "    </tr>\n",
       "    <tr>\n",
       "      <th>1</th>\n",
       "      <td>2</td>\n",
       "      <td>34131002542177</td>\n",
       "      <td>2017-06-02</td>\n",
       "      <td>34</td>\n",
       "      <td>1730</td>\n",
       "      <td>1.000</td>\n",
       "      <td>227.00</td>\n",
       "      <td>0.0</td>\n",
       "      <td>12.000</td>\n",
       "      <td>2017-09-09 10:24:16</td>\n",
       "      <td>2017-06-02</td>\n",
       "    </tr>\n",
       "    <tr>\n",
       "      <th>2</th>\n",
       "      <td>3</td>\n",
       "      <td>34131002542178</td>\n",
       "      <td>2017-06-02</td>\n",
       "      <td>33</td>\n",
       "      <td>513</td>\n",
       "      <td>5.046</td>\n",
       "      <td>75.64</td>\n",
       "      <td>0.0</td>\n",
       "      <td>3.022</td>\n",
       "      <td>2017-09-09 10:24:16</td>\n",
       "      <td>2017-06-02</td>\n",
       "    </tr>\n",
       "  </tbody>\n",
       "</table>\n",
       "</div>"
      ],
      "text/plain": [
       "   salesID         salesNo  dimDateID  dimShopID  dimMemberID    QTY     AMT  \\\n",
       "0        1  34131002542176 2017-06-02         33         4821  1.000    7.99   \n",
       "1        2  34131002542177 2017-06-02         34         1730  1.000  227.00   \n",
       "2        3  34131002542178 2017-06-02         33          513  5.046   75.64   \n",
       "\n",
       "   pAMT   mpAMT           updateTime       date  \n",
       "0   0.0   0.210  2017-09-09 10:24:16 2017-06-02  \n",
       "1   0.0  12.000  2017-09-09 10:24:16 2017-06-02  \n",
       "2   0.0   3.022  2017-09-09 10:24:16 2017-06-02  "
      ]
     },
     "execution_count": 33,
     "metadata": {},
     "output_type": "execute_result"
    }
   ],
   "source": [
    "data_fct_sales.head(3)"
   ]
  },
  {
   "cell_type": "code",
   "execution_count": 36,
   "metadata": {
    "ExecuteTime": {
     "end_time": "2019-07-16T13:39:56.539579Z",
     "start_time": "2019-07-16T13:39:55.087166Z"
    }
   },
   "outputs": [],
   "source": [
    "data_fct_sales_item[\"月份\"] = [time.month for time in data_fct_sales_item[\"dimDateID\"]]\n",
    "data_fct_sales[\"月份\"] = [time.month for time in data_fct_sales[\"dimDateID\"]]\n",
    "#data_2017[\"月份\"] = [time.month for time in data_2017[\"date\"]]"
   ]
  },
  {
   "cell_type": "code",
   "execution_count": 41,
   "metadata": {
    "ExecuteTime": {
     "end_time": "2019-07-16T13:45:15.896628Z",
     "start_time": "2019-07-16T13:45:15.877641Z"
    }
   },
   "outputs": [
    {
     "data": {
      "text/plain": [
       "array([6, 7, 8], dtype=int64)"
      ]
     },
     "execution_count": 41,
     "metadata": {},
     "output_type": "execute_result"
    }
   ],
   "source": [
    "data_fct_sales_item[\"月份\"] .unique()"
   ]
  },
  {
   "cell_type": "code",
   "execution_count": 42,
   "metadata": {
    "ExecuteTime": {
     "end_time": "2019-07-16T15:47:11.686315Z",
     "start_time": "2019-07-16T15:47:11.645424Z"
    }
   },
   "outputs": [
    {
     "data": {
      "text/html": [
       "<div>\n",
       "<style scoped>\n",
       "    .dataframe tbody tr th:only-of-type {\n",
       "        vertical-align: middle;\n",
       "    }\n",
       "\n",
       "    .dataframe tbody tr th {\n",
       "        vertical-align: top;\n",
       "    }\n",
       "\n",
       "    .dataframe thead th {\n",
       "        text-align: right;\n",
       "    }\n",
       "</style>\n",
       "<table border=\"1\" class=\"dataframe\">\n",
       "  <thead>\n",
       "    <tr style=\"text-align: right;\">\n",
       "      <th></th>\n",
       "      <th>id</th>\n",
       "      <th>salesID</th>\n",
       "      <th>salesNo</th>\n",
       "      <th>dimDateID</th>\n",
       "      <th>dimShopID</th>\n",
       "      <th>goodsID</th>\n",
       "      <th>QTY</th>\n",
       "      <th>AMT</th>\n",
       "      <th>pAMT</th>\n",
       "      <th>mpAMT</th>\n",
       "      <th>updateTime</th>\n",
       "      <th>date</th>\n",
       "      <th>月份</th>\n",
       "    </tr>\n",
       "  </thead>\n",
       "  <tbody>\n",
       "    <tr>\n",
       "      <th>0</th>\n",
       "      <td>1</td>\n",
       "      <td>1</td>\n",
       "      <td>34131002542176</td>\n",
       "      <td>2017-06-02</td>\n",
       "      <td>33</td>\n",
       "      <td>5130942</td>\n",
       "      <td>1.0</td>\n",
       "      <td>7.99</td>\n",
       "      <td>0.0</td>\n",
       "      <td>0.21</td>\n",
       "      <td>2017-09-09 02:24:25</td>\n",
       "      <td>2017-06-02</td>\n",
       "      <td>6</td>\n",
       "    </tr>\n",
       "    <tr>\n",
       "      <th>1</th>\n",
       "      <td>2</td>\n",
       "      <td>2</td>\n",
       "      <td>34131002542177</td>\n",
       "      <td>2017-06-02</td>\n",
       "      <td>34</td>\n",
       "      <td>7116060</td>\n",
       "      <td>1.0</td>\n",
       "      <td>227.00</td>\n",
       "      <td>0.0</td>\n",
       "      <td>12.00</td>\n",
       "      <td>2017-09-09 02:24:25</td>\n",
       "      <td>2017-06-02</td>\n",
       "      <td>6</td>\n",
       "    </tr>\n",
       "    <tr>\n",
       "      <th>2</th>\n",
       "      <td>3</td>\n",
       "      <td>3</td>\n",
       "      <td>34131002542178</td>\n",
       "      <td>2017-06-02</td>\n",
       "      <td>33</td>\n",
       "      <td>5621350</td>\n",
       "      <td>4.0</td>\n",
       "      <td>38.00</td>\n",
       "      <td>0.0</td>\n",
       "      <td>1.96</td>\n",
       "      <td>2017-09-09 02:24:25</td>\n",
       "      <td>2017-06-02</td>\n",
       "      <td>6</td>\n",
       "    </tr>\n",
       "  </tbody>\n",
       "</table>\n",
       "</div>"
      ],
      "text/plain": [
       "   id  salesID         salesNo  dimDateID  dimShopID  goodsID  QTY     AMT  \\\n",
       "0   1        1  34131002542176 2017-06-02         33  5130942  1.0    7.99   \n",
       "1   2        2  34131002542177 2017-06-02         34  7116060  1.0  227.00   \n",
       "2   3        3  34131002542178 2017-06-02         33  5621350  4.0   38.00   \n",
       "\n",
       "   pAMT  mpAMT           updateTime       date  月份  \n",
       "0   0.0   0.21  2017-09-09 02:24:25 2017-06-02   6  \n",
       "1   0.0  12.00  2017-09-09 02:24:25 2017-06-02   6  \n",
       "2   0.0   1.96  2017-09-09 02:24:25 2017-06-02   6  "
      ]
     },
     "execution_count": 42,
     "metadata": {},
     "output_type": "execute_result"
    }
   ],
   "source": [
    "data_fct_sales_item.head(3)"
   ]
  },
  {
   "cell_type": "code",
   "execution_count": 46,
   "metadata": {
    "ExecuteTime": {
     "end_time": "2019-07-16T15:48:16.779808Z",
     "start_time": "2019-07-16T15:48:16.763817Z"
    }
   },
   "outputs": [
    {
     "data": {
      "text/html": [
       "<div>\n",
       "<style scoped>\n",
       "    .dataframe tbody tr th:only-of-type {\n",
       "        vertical-align: middle;\n",
       "    }\n",
       "\n",
       "    .dataframe tbody tr th {\n",
       "        vertical-align: top;\n",
       "    }\n",
       "\n",
       "    .dataframe thead th {\n",
       "        text-align: right;\n",
       "    }\n",
       "</style>\n",
       "<table border=\"1\" class=\"dataframe\">\n",
       "  <thead>\n",
       "    <tr style=\"text-align: right;\">\n",
       "      <th></th>\n",
       "      <th>id</th>\n",
       "      <th>salesID</th>\n",
       "      <th>salesNo</th>\n",
       "      <th>dimDateID</th>\n",
       "      <th>dimShopID</th>\n",
       "      <th>goodsID</th>\n",
       "      <th>QTY</th>\n",
       "      <th>AMT</th>\n",
       "      <th>pAMT</th>\n",
       "      <th>mpAMT</th>\n",
       "      <th>updateTime</th>\n",
       "      <th>date</th>\n",
       "      <th>月份</th>\n",
       "    </tr>\n",
       "  </thead>\n",
       "  <tbody>\n",
       "    <tr>\n",
       "      <th>647616</th>\n",
       "      <td>647617</td>\n",
       "      <td>178341</td>\n",
       "      <td>34131068003762</td>\n",
       "      <td>2017-08-30</td>\n",
       "      <td>34</td>\n",
       "      <td>9541278</td>\n",
       "      <td>1.00</td>\n",
       "      <td>42.90</td>\n",
       "      <td>0.0</td>\n",
       "      <td>0.0</td>\n",
       "      <td>2017-09-09 02:24:25</td>\n",
       "      <td>2017-08-30</td>\n",
       "      <td>8</td>\n",
       "    </tr>\n",
       "    <tr>\n",
       "      <th>647617</th>\n",
       "      <td>647618</td>\n",
       "      <td>178342</td>\n",
       "      <td>34131068003763</td>\n",
       "      <td>2017-08-30</td>\n",
       "      <td>33</td>\n",
       "      <td>5110667</td>\n",
       "      <td>1.00</td>\n",
       "      <td>29.99</td>\n",
       "      <td>0.0</td>\n",
       "      <td>0.0</td>\n",
       "      <td>2017-09-09 02:24:25</td>\n",
       "      <td>2017-08-30</td>\n",
       "      <td>8</td>\n",
       "    </tr>\n",
       "    <tr>\n",
       "      <th>647618</th>\n",
       "      <td>647619</td>\n",
       "      <td>178343</td>\n",
       "      <td>34131068003764</td>\n",
       "      <td>2017-08-30</td>\n",
       "      <td>34</td>\n",
       "      <td>5611552</td>\n",
       "      <td>0.78</td>\n",
       "      <td>13.10</td>\n",
       "      <td>0.0</td>\n",
       "      <td>0.0</td>\n",
       "      <td>2017-09-09 02:24:25</td>\n",
       "      <td>2017-08-30</td>\n",
       "      <td>8</td>\n",
       "    </tr>\n",
       "  </tbody>\n",
       "</table>\n",
       "</div>"
      ],
      "text/plain": [
       "            id  salesID         salesNo  dimDateID  dimShopID  goodsID   QTY  \\\n",
       "647616  647617   178341  34131068003762 2017-08-30         34  9541278  1.00   \n",
       "647617  647618   178342  34131068003763 2017-08-30         33  5110667  1.00   \n",
       "647618  647619   178343  34131068003764 2017-08-30         34  5611552  0.78   \n",
       "\n",
       "          AMT  pAMT  mpAMT           updateTime       date  月份  \n",
       "647616  42.90   0.0    0.0  2017-09-09 02:24:25 2017-08-30   8  \n",
       "647617  29.99   0.0    0.0  2017-09-09 02:24:25 2017-08-30   8  \n",
       "647618  13.10   0.0    0.0  2017-09-09 02:24:25 2017-08-30   8  "
      ]
     },
     "execution_count": 46,
     "metadata": {},
     "output_type": "execute_result"
    }
   ],
   "source": [
    "data_fct_sales_item.tail(3)"
   ]
  },
  {
   "cell_type": "markdown",
   "metadata": {},
   "source": [
    "# 分日趋势图"
   ]
  },
  {
   "cell_type": "markdown",
   "metadata": {},
   "source": [
    "# 分析6月"
   ]
  },
  {
   "cell_type": "code",
   "execution_count": 47,
   "metadata": {
    "ExecuteTime": {
     "end_time": "2019-07-16T15:48:30.367968Z",
     "start_time": "2019-07-16T15:48:30.318103Z"
    }
   },
   "outputs": [
    {
     "data": {
      "text/html": [
       "<div>\n",
       "<style scoped>\n",
       "    .dataframe tbody tr th:only-of-type {\n",
       "        vertical-align: middle;\n",
       "    }\n",
       "\n",
       "    .dataframe tbody tr th {\n",
       "        vertical-align: top;\n",
       "    }\n",
       "\n",
       "    .dataframe thead th {\n",
       "        text-align: right;\n",
       "    }\n",
       "</style>\n",
       "<table border=\"1\" class=\"dataframe\">\n",
       "  <thead>\n",
       "    <tr style=\"text-align: right;\">\n",
       "      <th></th>\n",
       "      <th>id</th>\n",
       "      <th>salesID</th>\n",
       "      <th>salesNo</th>\n",
       "      <th>dimDateID</th>\n",
       "      <th>dimShopID</th>\n",
       "      <th>goodsID</th>\n",
       "      <th>QTY</th>\n",
       "      <th>AMT</th>\n",
       "      <th>pAMT</th>\n",
       "      <th>mpAMT</th>\n",
       "      <th>updateTime</th>\n",
       "      <th>date</th>\n",
       "      <th>月份</th>\n",
       "    </tr>\n",
       "  </thead>\n",
       "  <tbody>\n",
       "    <tr>\n",
       "      <th>0</th>\n",
       "      <td>1</td>\n",
       "      <td>1</td>\n",
       "      <td>34131002542176</td>\n",
       "      <td>2017-06-02</td>\n",
       "      <td>33</td>\n",
       "      <td>5130942</td>\n",
       "      <td>1.000</td>\n",
       "      <td>7.99</td>\n",
       "      <td>0.0</td>\n",
       "      <td>0.2100</td>\n",
       "      <td>2017-09-09 02:24:25</td>\n",
       "      <td>2017-06-02</td>\n",
       "      <td>6</td>\n",
       "    </tr>\n",
       "    <tr>\n",
       "      <th>1</th>\n",
       "      <td>2</td>\n",
       "      <td>2</td>\n",
       "      <td>34131002542177</td>\n",
       "      <td>2017-06-02</td>\n",
       "      <td>34</td>\n",
       "      <td>7116060</td>\n",
       "      <td>1.000</td>\n",
       "      <td>227.00</td>\n",
       "      <td>0.0</td>\n",
       "      <td>12.0000</td>\n",
       "      <td>2017-09-09 02:24:25</td>\n",
       "      <td>2017-06-02</td>\n",
       "      <td>6</td>\n",
       "    </tr>\n",
       "    <tr>\n",
       "      <th>2</th>\n",
       "      <td>3</td>\n",
       "      <td>3</td>\n",
       "      <td>34131002542178</td>\n",
       "      <td>2017-06-02</td>\n",
       "      <td>33</td>\n",
       "      <td>5621350</td>\n",
       "      <td>4.000</td>\n",
       "      <td>38.00</td>\n",
       "      <td>0.0</td>\n",
       "      <td>1.9600</td>\n",
       "      <td>2017-09-09 02:24:25</td>\n",
       "      <td>2017-06-02</td>\n",
       "      <td>6</td>\n",
       "    </tr>\n",
       "    <tr>\n",
       "      <th>3</th>\n",
       "      <td>4</td>\n",
       "      <td>3</td>\n",
       "      <td>34131002542178</td>\n",
       "      <td>2017-06-02</td>\n",
       "      <td>33</td>\n",
       "      <td>5613232</td>\n",
       "      <td>1.046</td>\n",
       "      <td>37.64</td>\n",
       "      <td>0.0</td>\n",
       "      <td>1.0620</td>\n",
       "      <td>2017-09-09 02:24:25</td>\n",
       "      <td>2017-06-02</td>\n",
       "      <td>6</td>\n",
       "    </tr>\n",
       "    <tr>\n",
       "      <th>4</th>\n",
       "      <td>5</td>\n",
       "      <td>4</td>\n",
       "      <td>34131002542179</td>\n",
       "      <td>2017-06-02</td>\n",
       "      <td>34</td>\n",
       "      <td>1170812</td>\n",
       "      <td>1.000</td>\n",
       "      <td>19.80</td>\n",
       "      <td>0.0</td>\n",
       "      <td>1.1000</td>\n",
       "      <td>2017-09-09 02:24:25</td>\n",
       "      <td>2017-06-02</td>\n",
       "      <td>6</td>\n",
       "    </tr>\n",
       "    <tr>\n",
       "      <th>5</th>\n",
       "      <td>6</td>\n",
       "      <td>4</td>\n",
       "      <td>34131002542179</td>\n",
       "      <td>2017-06-02</td>\n",
       "      <td>34</td>\n",
       "      <td>5660081</td>\n",
       "      <td>0.422</td>\n",
       "      <td>21.02</td>\n",
       "      <td>0.0</td>\n",
       "      <td>1.5992</td>\n",
       "      <td>2017-09-09 02:24:25</td>\n",
       "      <td>2017-06-02</td>\n",
       "      <td>6</td>\n",
       "    </tr>\n",
       "    <tr>\n",
       "      <th>6</th>\n",
       "      <td>7</td>\n",
       "      <td>5</td>\n",
       "      <td>34131002542180</td>\n",
       "      <td>2017-06-02</td>\n",
       "      <td>34</td>\n",
       "      <td>6610605</td>\n",
       "      <td>4.000</td>\n",
       "      <td>39.96</td>\n",
       "      <td>0.0</td>\n",
       "      <td>3.6400</td>\n",
       "      <td>2017-09-09 02:24:25</td>\n",
       "      <td>2017-06-02</td>\n",
       "      <td>6</td>\n",
       "    </tr>\n",
       "    <tr>\n",
       "      <th>7</th>\n",
       "      <td>8</td>\n",
       "      <td>5</td>\n",
       "      <td>34131002542180</td>\n",
       "      <td>2017-06-02</td>\n",
       "      <td>34</td>\n",
       "      <td>6220304</td>\n",
       "      <td>3.000</td>\n",
       "      <td>29.97</td>\n",
       "      <td>0.0</td>\n",
       "      <td>1.8300</td>\n",
       "      <td>2017-09-09 02:24:25</td>\n",
       "      <td>2017-06-02</td>\n",
       "      <td>6</td>\n",
       "    </tr>\n",
       "  </tbody>\n",
       "</table>\n",
       "</div>"
      ],
      "text/plain": [
       "   id  salesID         salesNo  dimDateID  dimShopID  goodsID    QTY     AMT  \\\n",
       "0   1        1  34131002542176 2017-06-02         33  5130942  1.000    7.99   \n",
       "1   2        2  34131002542177 2017-06-02         34  7116060  1.000  227.00   \n",
       "2   3        3  34131002542178 2017-06-02         33  5621350  4.000   38.00   \n",
       "3   4        3  34131002542178 2017-06-02         33  5613232  1.046   37.64   \n",
       "4   5        4  34131002542179 2017-06-02         34  1170812  1.000   19.80   \n",
       "5   6        4  34131002542179 2017-06-02         34  5660081  0.422   21.02   \n",
       "6   7        5  34131002542180 2017-06-02         34  6610605  4.000   39.96   \n",
       "7   8        5  34131002542180 2017-06-02         34  6220304  3.000   29.97   \n",
       "\n",
       "   pAMT    mpAMT           updateTime       date  月份  \n",
       "0   0.0   0.2100  2017-09-09 02:24:25 2017-06-02   6  \n",
       "1   0.0  12.0000  2017-09-09 02:24:25 2017-06-02   6  \n",
       "2   0.0   1.9600  2017-09-09 02:24:25 2017-06-02   6  \n",
       "3   0.0   1.0620  2017-09-09 02:24:25 2017-06-02   6  \n",
       "4   0.0   1.1000  2017-09-09 02:24:25 2017-06-02   6  \n",
       "5   0.0   1.5992  2017-09-09 02:24:25 2017-06-02   6  \n",
       "6   0.0   3.6400  2017-09-09 02:24:25 2017-06-02   6  \n",
       "7   0.0   1.8300  2017-09-09 02:24:25 2017-06-02   6  "
      ]
     },
     "execution_count": 47,
     "metadata": {},
     "output_type": "execute_result"
    }
   ],
   "source": [
    "April_data = data_fct_sales_item[data_fct_sales_item[\"月份\"] == 6]\n",
    "April_data.head(8)"
   ]
  },
  {
   "cell_type": "code",
   "execution_count": 50,
   "metadata": {
    "ExecuteTime": {
     "end_time": "2019-07-16T15:51:49.936398Z",
     "start_time": "2019-07-16T15:51:49.713748Z"
    }
   },
   "outputs": [
    {
     "name": "stderr",
     "output_type": "stream",
     "text": [
      "C:\\Users\\lining\\Anaconda3\\lib\\site-packages\\ipykernel_launcher.py:1: SettingWithCopyWarning: \n",
      "A value is trying to be set on a copy of a slice from a DataFrame.\n",
      "Try using .loc[row_indexer,col_indexer] = value instead\n",
      "\n",
      "See the caveats in the documentation: http://pandas.pydata.org/pandas-docs/stable/indexing.html#indexing-view-versus-copy\n",
      "  \"\"\"Entry point for launching an IPython kernel.\n"
     ]
    }
   ],
   "source": [
    "April_data[\"sale_sum\"] = (April_data[\"AMT\"]*April_data[\"QTY\"])"
   ]
  },
  {
   "cell_type": "code",
   "execution_count": 51,
   "metadata": {
    "ExecuteTime": {
     "end_time": "2019-07-16T15:58:48.468556Z",
     "start_time": "2019-07-16T15:58:48.441627Z"
    }
   },
   "outputs": [
    {
     "data": {
      "text/html": [
       "<div>\n",
       "<style scoped>\n",
       "    .dataframe tbody tr th:only-of-type {\n",
       "        vertical-align: middle;\n",
       "    }\n",
       "\n",
       "    .dataframe tbody tr th {\n",
       "        vertical-align: top;\n",
       "    }\n",
       "\n",
       "    .dataframe thead th {\n",
       "        text-align: right;\n",
       "    }\n",
       "</style>\n",
       "<table border=\"1\" class=\"dataframe\">\n",
       "  <thead>\n",
       "    <tr style=\"text-align: right;\">\n",
       "      <th></th>\n",
       "      <th>id</th>\n",
       "      <th>salesID</th>\n",
       "      <th>salesNo</th>\n",
       "      <th>dimDateID</th>\n",
       "      <th>dimShopID</th>\n",
       "      <th>goodsID</th>\n",
       "      <th>QTY</th>\n",
       "      <th>AMT</th>\n",
       "      <th>pAMT</th>\n",
       "      <th>mpAMT</th>\n",
       "      <th>updateTime</th>\n",
       "      <th>date</th>\n",
       "      <th>月份</th>\n",
       "      <th>sale_sum</th>\n",
       "    </tr>\n",
       "  </thead>\n",
       "  <tbody>\n",
       "    <tr>\n",
       "      <th>0</th>\n",
       "      <td>1</td>\n",
       "      <td>1</td>\n",
       "      <td>34131002542176</td>\n",
       "      <td>2017-06-02</td>\n",
       "      <td>33</td>\n",
       "      <td>5130942</td>\n",
       "      <td>1.000</td>\n",
       "      <td>7.99</td>\n",
       "      <td>0.0</td>\n",
       "      <td>0.210</td>\n",
       "      <td>2017-09-09 02:24:25</td>\n",
       "      <td>2017-06-02</td>\n",
       "      <td>6</td>\n",
       "      <td>7.99000</td>\n",
       "    </tr>\n",
       "    <tr>\n",
       "      <th>1</th>\n",
       "      <td>2</td>\n",
       "      <td>2</td>\n",
       "      <td>34131002542177</td>\n",
       "      <td>2017-06-02</td>\n",
       "      <td>34</td>\n",
       "      <td>7116060</td>\n",
       "      <td>1.000</td>\n",
       "      <td>227.00</td>\n",
       "      <td>0.0</td>\n",
       "      <td>12.000</td>\n",
       "      <td>2017-09-09 02:24:25</td>\n",
       "      <td>2017-06-02</td>\n",
       "      <td>6</td>\n",
       "      <td>227.00000</td>\n",
       "    </tr>\n",
       "    <tr>\n",
       "      <th>2</th>\n",
       "      <td>3</td>\n",
       "      <td>3</td>\n",
       "      <td>34131002542178</td>\n",
       "      <td>2017-06-02</td>\n",
       "      <td>33</td>\n",
       "      <td>5621350</td>\n",
       "      <td>4.000</td>\n",
       "      <td>38.00</td>\n",
       "      <td>0.0</td>\n",
       "      <td>1.960</td>\n",
       "      <td>2017-09-09 02:24:25</td>\n",
       "      <td>2017-06-02</td>\n",
       "      <td>6</td>\n",
       "      <td>152.00000</td>\n",
       "    </tr>\n",
       "    <tr>\n",
       "      <th>3</th>\n",
       "      <td>4</td>\n",
       "      <td>3</td>\n",
       "      <td>34131002542178</td>\n",
       "      <td>2017-06-02</td>\n",
       "      <td>33</td>\n",
       "      <td>5613232</td>\n",
       "      <td>1.046</td>\n",
       "      <td>37.64</td>\n",
       "      <td>0.0</td>\n",
       "      <td>1.062</td>\n",
       "      <td>2017-09-09 02:24:25</td>\n",
       "      <td>2017-06-02</td>\n",
       "      <td>6</td>\n",
       "      <td>39.37144</td>\n",
       "    </tr>\n",
       "    <tr>\n",
       "      <th>4</th>\n",
       "      <td>5</td>\n",
       "      <td>4</td>\n",
       "      <td>34131002542179</td>\n",
       "      <td>2017-06-02</td>\n",
       "      <td>34</td>\n",
       "      <td>1170812</td>\n",
       "      <td>1.000</td>\n",
       "      <td>19.80</td>\n",
       "      <td>0.0</td>\n",
       "      <td>1.100</td>\n",
       "      <td>2017-09-09 02:24:25</td>\n",
       "      <td>2017-06-02</td>\n",
       "      <td>6</td>\n",
       "      <td>19.80000</td>\n",
       "    </tr>\n",
       "  </tbody>\n",
       "</table>\n",
       "</div>"
      ],
      "text/plain": [
       "   id  salesID         salesNo  dimDateID  dimShopID  goodsID    QTY     AMT  \\\n",
       "0   1        1  34131002542176 2017-06-02         33  5130942  1.000    7.99   \n",
       "1   2        2  34131002542177 2017-06-02         34  7116060  1.000  227.00   \n",
       "2   3        3  34131002542178 2017-06-02         33  5621350  4.000   38.00   \n",
       "3   4        3  34131002542178 2017-06-02         33  5613232  1.046   37.64   \n",
       "4   5        4  34131002542179 2017-06-02         34  1170812  1.000   19.80   \n",
       "\n",
       "   pAMT   mpAMT           updateTime       date  月份   sale_sum  \n",
       "0   0.0   0.210  2017-09-09 02:24:25 2017-06-02   6    7.99000  \n",
       "1   0.0  12.000  2017-09-09 02:24:25 2017-06-02   6  227.00000  \n",
       "2   0.0   1.960  2017-09-09 02:24:25 2017-06-02   6  152.00000  \n",
       "3   0.0   1.062  2017-09-09 02:24:25 2017-06-02   6   39.37144  \n",
       "4   0.0   1.100  2017-09-09 02:24:25 2017-06-02   6   19.80000  "
      ]
     },
     "execution_count": 51,
     "metadata": {},
     "output_type": "execute_result"
    }
   ],
   "source": [
    "April_data.head()"
   ]
  },
  {
   "cell_type": "code",
   "execution_count": 53,
   "metadata": {
    "ExecuteTime": {
     "end_time": "2019-07-16T16:01:37.641385Z",
     "start_time": "2019-07-16T16:01:37.614451Z"
    },
    "scrolled": true
   },
   "outputs": [
    {
     "data": {
      "text/plain": [
       "dimDateID\n",
       "2017-06-02    8.711680e+05\n",
       "2017-06-03    9.892923e+05\n",
       "2017-06-04    4.604221e+06\n",
       "Name: sale_sum, dtype: float64"
      ]
     },
     "execution_count": 53,
     "metadata": {},
     "output_type": "execute_result"
    }
   ],
   "source": [
    "April_data.groupby(\"dimDateID\")[\"sale_sum\"].sum().head(3)"
   ]
  },
  {
   "cell_type": "code",
   "execution_count": 56,
   "metadata": {
    "ExecuteTime": {
     "end_time": "2019-07-16T16:33:02.448339Z",
     "start_time": "2019-07-16T16:33:02.403459Z"
    }
   },
   "outputs": [
    {
     "data": {
      "text/html": [
       "<div>\n",
       "<style scoped>\n",
       "    .dataframe tbody tr th:only-of-type {\n",
       "        vertical-align: middle;\n",
       "    }\n",
       "\n",
       "    .dataframe tbody tr th {\n",
       "        vertical-align: top;\n",
       "    }\n",
       "\n",
       "    .dataframe thead th {\n",
       "        text-align: right;\n",
       "    }\n",
       "</style>\n",
       "<table border=\"1\" class=\"dataframe\">\n",
       "  <thead>\n",
       "    <tr style=\"text-align: right;\">\n",
       "      <th></th>\n",
       "      <th>sale_sum</th>\n",
       "      <th>AMT</th>\n",
       "    </tr>\n",
       "    <tr>\n",
       "      <th>dimDateID</th>\n",
       "      <th></th>\n",
       "      <th></th>\n",
       "    </tr>\n",
       "  </thead>\n",
       "  <tbody>\n",
       "    <tr>\n",
       "      <th>2017-06-02</th>\n",
       "      <td>8.711680e+05</td>\n",
       "      <td>220955.97</td>\n",
       "    </tr>\n",
       "    <tr>\n",
       "      <th>2017-06-03</th>\n",
       "      <td>9.892923e+05</td>\n",
       "      <td>241180.33</td>\n",
       "    </tr>\n",
       "    <tr>\n",
       "      <th>2017-06-04</th>\n",
       "      <td>4.604221e+06</td>\n",
       "      <td>258930.19</td>\n",
       "    </tr>\n",
       "  </tbody>\n",
       "</table>\n",
       "</div>"
      ],
      "text/plain": [
       "                sale_sum        AMT\n",
       "dimDateID                          \n",
       "2017-06-02  8.711680e+05  220955.97\n",
       "2017-06-03  9.892923e+05  241180.33\n",
       "2017-06-04  4.604221e+06  258930.19"
      ]
     },
     "execution_count": 56,
     "metadata": {},
     "output_type": "execute_result"
    }
   ],
   "source": [
    "April_data.groupby(\"dimDateID\")[[\"sale_sum\",\"AMT\"]].sum().head(3)"
   ]
  },
  {
   "cell_type": "code",
   "execution_count": 55,
   "metadata": {
    "ExecuteTime": {
     "end_time": "2019-07-16T16:03:46.234688Z",
     "start_time": "2019-07-16T16:03:45.688115Z"
    }
   },
   "outputs": [
    {
     "data": {
      "text/plain": [
       "<matplotlib.axes._subplots.AxesSubplot at 0x19f02fabf60>"
      ]
     },
     "execution_count": 55,
     "metadata": {},
     "output_type": "execute_result"
    },
    {
     "data": {
      "image/png": "[encoded data removed]",
      "text/plain": [
       "<Figure size 432x288 with 1 Axes>"
      ]
     },
     "metadata": {},
     "output_type": "display_data"
    }
   ],
   "source": [
    "grouped_sale_sum = April_data.copy().groupby(\"dimDateID\")[\"sale_sum\"].sum()\n",
    "grouped_sale_sum.plot(title = \"6月销售额分日趋势图\")"
   ]
  },
  {
   "cell_type": "code",
   "execution_count": 58,
   "metadata": {
    "ExecuteTime": {
     "end_time": "2019-07-16T16:36:53.869273Z",
     "start_time": "2019-07-16T16:36:53.552545Z"
    }
   },
   "outputs": [
    {
     "data": {
      "text/plain": [
       "<matplotlib.axes._subplots.AxesSubplot at 0x19f048528d0>"
      ]
     },
     "execution_count": 58,
     "metadata": {},
     "output_type": "execute_result"
    },
    {
     "data": {
      "image/png": "[encoded data removed]",
      "text/plain": [
       "<Figure size 432x288 with 1 Axes>"
      ]
     },
     "metadata": {},
     "output_type": "display_data"
    }
   ],
   "source": [
    "grouped_traffic = April_data[[\"dimDateID\",\"goodsID\"]].drop_duplicates().groupby(\"dimDateID\")[\"goodsID\"].count()\n",
    "grouped_traffic.plot(title = \"6月货流量分日趋势图\")"
   ]
  },
  {
   "cell_type": "code",
   "execution_count": 59,
   "metadata": {
    "ExecuteTime": {
     "end_time": "2019-07-16T16:40:45.969808Z",
     "start_time": "2019-07-16T16:40:45.365423Z"
    }
   },
   "outputs": [
    {
     "data": {
      "text/plain": [
       "<matplotlib.axes._subplots.AxesSubplot at 0x19f05faa1d0>"
      ]
     },
     "execution_count": 59,
     "metadata": {},
     "output_type": "execute_result"
    },
    {
     "data": {
      "image/png": "[encoded data removed]",
      "text/plain": [
       "<Figure size 432x288 with 1 Axes>"
      ]
     },
     "metadata": {},
     "output_type": "display_data"
    }
   ],
   "source": [
    "grouped_price = (grouped_sale_sum/grouped_traffic)\n",
    "grouped_price.plot(title = \"四月货物单价分日趋势图\")"
   ]
  },
  {
   "cell_type": "markdown",
   "metadata": {},
   "source": [
    "# 分周数据"
   ]
  },
  {
   "cell_type": "code",
   "execution_count": 60,
   "metadata": {
    "ExecuteTime": {
     "end_time": "2019-07-16T16:41:17.786897Z",
     "start_time": "2019-07-16T16:41:15.417561Z"
    }
   },
   "outputs": [
    {
     "name": "stderr",
     "output_type": "stream",
     "text": [
      "C:\\Users\\lining\\Anaconda3\\lib\\site-packages\\ipykernel_launcher.py:1: SettingWithCopyWarning: \n",
      "A value is trying to be set on a copy of a slice from a DataFrame.\n",
      "Try using .loc[row_indexer,col_indexer] = value instead\n",
      "\n",
      "See the caveats in the documentation: http://pandas.pydata.org/pandas-docs/stable/indexing.html#indexing-view-versus-copy\n",
      "  \"\"\"Entry point for launching an IPython kernel.\n"
     ]
    }
   ],
   "source": [
    "April_data[\"weeknum\"] = [time.weekday()+1 for time in April_data[\"dimDateID\"]]"
   ]
  },
  {
   "cell_type": "code",
   "execution_count": 61,
   "metadata": {
    "ExecuteTime": {
     "end_time": "2019-07-16T16:41:25.320812Z",
     "start_time": "2019-07-16T16:41:25.290891Z"
    }
   },
   "outputs": [
    {
     "data": {
      "text/html": [
       "<div>\n",
       "<style scoped>\n",
       "    .dataframe tbody tr th:only-of-type {\n",
       "        vertical-align: middle;\n",
       "    }\n",
       "\n",
       "    .dataframe tbody tr th {\n",
       "        vertical-align: top;\n",
       "    }\n",
       "\n",
       "    .dataframe thead th {\n",
       "        text-align: right;\n",
       "    }\n",
       "</style>\n",
       "<table border=\"1\" class=\"dataframe\">\n",
       "  <thead>\n",
       "    <tr style=\"text-align: right;\">\n",
       "      <th></th>\n",
       "      <th>id</th>\n",
       "      <th>salesID</th>\n",
       "      <th>salesNo</th>\n",
       "      <th>dimDateID</th>\n",
       "      <th>dimShopID</th>\n",
       "      <th>goodsID</th>\n",
       "      <th>QTY</th>\n",
       "      <th>AMT</th>\n",
       "      <th>pAMT</th>\n",
       "      <th>mpAMT</th>\n",
       "      <th>updateTime</th>\n",
       "      <th>date</th>\n",
       "      <th>月份</th>\n",
       "      <th>sale_sum</th>\n",
       "      <th>weeknum</th>\n",
       "    </tr>\n",
       "  </thead>\n",
       "  <tbody>\n",
       "    <tr>\n",
       "      <th>0</th>\n",
       "      <td>1</td>\n",
       "      <td>1</td>\n",
       "      <td>34131002542176</td>\n",
       "      <td>2017-06-02</td>\n",
       "      <td>33</td>\n",
       "      <td>5130942</td>\n",
       "      <td>1.000</td>\n",
       "      <td>7.99</td>\n",
       "      <td>0.0</td>\n",
       "      <td>0.210</td>\n",
       "      <td>2017-09-09 02:24:25</td>\n",
       "      <td>2017-06-02</td>\n",
       "      <td>6</td>\n",
       "      <td>7.99000</td>\n",
       "      <td>5</td>\n",
       "    </tr>\n",
       "    <tr>\n",
       "      <th>1</th>\n",
       "      <td>2</td>\n",
       "      <td>2</td>\n",
       "      <td>34131002542177</td>\n",
       "      <td>2017-06-02</td>\n",
       "      <td>34</td>\n",
       "      <td>7116060</td>\n",
       "      <td>1.000</td>\n",
       "      <td>227.00</td>\n",
       "      <td>0.0</td>\n",
       "      <td>12.000</td>\n",
       "      <td>2017-09-09 02:24:25</td>\n",
       "      <td>2017-06-02</td>\n",
       "      <td>6</td>\n",
       "      <td>227.00000</td>\n",
       "      <td>5</td>\n",
       "    </tr>\n",
       "    <tr>\n",
       "      <th>2</th>\n",
       "      <td>3</td>\n",
       "      <td>3</td>\n",
       "      <td>34131002542178</td>\n",
       "      <td>2017-06-02</td>\n",
       "      <td>33</td>\n",
       "      <td>5621350</td>\n",
       "      <td>4.000</td>\n",
       "      <td>38.00</td>\n",
       "      <td>0.0</td>\n",
       "      <td>1.960</td>\n",
       "      <td>2017-09-09 02:24:25</td>\n",
       "      <td>2017-06-02</td>\n",
       "      <td>6</td>\n",
       "      <td>152.00000</td>\n",
       "      <td>5</td>\n",
       "    </tr>\n",
       "    <tr>\n",
       "      <th>3</th>\n",
       "      <td>4</td>\n",
       "      <td>3</td>\n",
       "      <td>34131002542178</td>\n",
       "      <td>2017-06-02</td>\n",
       "      <td>33</td>\n",
       "      <td>5613232</td>\n",
       "      <td>1.046</td>\n",
       "      <td>37.64</td>\n",
       "      <td>0.0</td>\n",
       "      <td>1.062</td>\n",
       "      <td>2017-09-09 02:24:25</td>\n",
       "      <td>2017-06-02</td>\n",
       "      <td>6</td>\n",
       "      <td>39.37144</td>\n",
       "      <td>5</td>\n",
       "    </tr>\n",
       "  </tbody>\n",
       "</table>\n",
       "</div>"
      ],
      "text/plain": [
       "   id  salesID         salesNo  dimDateID  dimShopID  goodsID    QTY     AMT  \\\n",
       "0   1        1  34131002542176 2017-06-02         33  5130942  1.000    7.99   \n",
       "1   2        2  34131002542177 2017-06-02         34  7116060  1.000  227.00   \n",
       "2   3        3  34131002542178 2017-06-02         33  5621350  4.000   38.00   \n",
       "3   4        3  34131002542178 2017-06-02         33  5613232  1.046   37.64   \n",
       "\n",
       "   pAMT   mpAMT           updateTime       date  月份   sale_sum  weeknum  \n",
       "0   0.0   0.210  2017-09-09 02:24:25 2017-06-02   6    7.99000        5  \n",
       "1   0.0  12.000  2017-09-09 02:24:25 2017-06-02   6  227.00000        5  \n",
       "2   0.0   1.960  2017-09-09 02:24:25 2017-06-02   6  152.00000        5  \n",
       "3   0.0   1.062  2017-09-09 02:24:25 2017-06-02   6   39.37144        5  "
      ]
     },
     "execution_count": 61,
     "metadata": {},
     "output_type": "execute_result"
    }
   ],
   "source": [
    "April_data.head(4)"
   ]
  },
  {
   "cell_type": "code",
   "execution_count": 62,
   "metadata": {
    "ExecuteTime": {
     "end_time": "2019-07-16T16:46:36.019780Z",
     "start_time": "2019-07-16T16:46:35.586936Z"
    }
   },
   "outputs": [
    {
     "data": {
      "text/plain": [
       "<matplotlib.axes._subplots.AxesSubplot at 0x19f05f3bc50>"
      ]
     },
     "execution_count": 62,
     "metadata": {},
     "output_type": "execute_result"
    },
    {
     "data": {
      "image/png": "[encoded data removed]",
      "text/plain": [
       "<Figure size 432x288 with 1 Axes>"
      ]
     },
     "metadata": {},
     "output_type": "display_data"
    }
   ],
   "source": [
    "week_sale = April_data.copy().groupby(\"weeknum\")[\"sale_sum\"].sum()\n",
    "week_sale.plot(title = \"分周销售额\")"
   ]
  },
  {
   "cell_type": "code",
   "execution_count": 63,
   "metadata": {
    "ExecuteTime": {
     "end_time": "2019-07-16T16:47:13.799063Z",
     "start_time": "2019-07-16T16:47:13.047867Z"
    }
   },
   "outputs": [
    {
     "data": {
      "text/plain": [
       "<matplotlib.axes._subplots.AxesSubplot at 0x19f08c70940>"
      ]
     },
     "execution_count": 63,
     "metadata": {},
     "output_type": "execute_result"
    },
    {
     "data": {
      "image/png": "[encoded data removed]",
      "text/plain": [
       "<Figure size 432x288 with 1 Axes>"
      ]
     },
     "metadata": {},
     "output_type": "display_data"
    }
   ],
   "source": [
    "week_traffic = April_data.copy()[[\"goodsID\",\"weeknum\"]].groupby(\"weeknum\")[\"goodsID\"].count()\n",
    "week_traffic.plot(title = \"分周货流量\")"
   ]
  },
  {
   "cell_type": "code",
   "execution_count": 64,
   "metadata": {
    "ExecuteTime": {
     "end_time": "2019-07-16T16:48:47.599758Z",
     "start_time": "2019-07-16T16:48:47.025252Z"
    }
   },
   "outputs": [
    {
     "data": {
      "text/plain": [
       "<matplotlib.axes._subplots.AxesSubplot at 0x19f08cbf080>"
      ]
     },
     "execution_count": 64,
     "metadata": {},
     "output_type": "execute_result"
    },
    {
     "data": {
      "image/png": "[encoded data removed]",
      "text/plain": [
       "<Figure size 432x288 with 1 Axes>"
      ]
     },
     "metadata": {},
     "output_type": "display_data"
    }
   ],
   "source": [
    "week_price = week_sale/week_traffic\n",
    "week_price.plot(title = \"分周货单价\")"
   ]
  }
 ],
 "metadata": {
  "kernelspec": {
   "display_name": "Python 3",
   "language": "python",
   "name": "python3"
  },
  "language_info": {
   "codemirror_mode": {
    "name": "ipython",
    "version": 3
   },
   "file_extension": ".py",
   "mimetype": "text/x-python",
   "name": "python",
   "nbconvert_exporter": "python",
   "pygments_lexer": "ipython3",
   "version": "3.6.4"
  },
  "toc": {
   "base_numbering": 1,
   "nav_menu": {},
   "number_sections": true,
   "sideBar": true,
   "skip_h1_title": false,
   "title_cell": "Table of Contents",
   "title_sidebar": "Contents",
   "toc_cell": false,
   "toc_position": {},
   "toc_section_display": true,
   "toc_window_display": false
  },
  "varInspector": {
   "cols": {
    "lenName": 16,
    "lenType": 16,
    "lenVar": 40
   },
   "kernels_config": {
    "python": {
     "delete_cmd_postfix": "",
     "delete_cmd_prefix": "del ",
     "library": "var_list.py",
     "varRefreshCmd": "print(var_dic_list())"
    },
    "r": {
     "delete_cmd_postfix": ") ",
     "delete_cmd_prefix": "rm(",
     "library": "var_list.r",
     "varRefreshCmd": "cat(var_dic_list()) "
    }
   },
   "types_to_exclude": [
    "module",
    "function",
    "builtin_function_or_method",
    "instance",
    "_Feature"
   ],
   "window_display": false
  }
 },
 "nbformat": 4,
 "nbformat_minor": 2
}
